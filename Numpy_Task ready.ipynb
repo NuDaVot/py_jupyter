{
 "cells": [
  {
   "cell_type": "markdown",
   "id": "a88fb37b",
   "metadata": {},
   "source": [
    "Импорт библеотеки \n"
   ]
  },
  {
   "cell_type": "code",
   "execution_count": 1,
   "id": "206bb643",
   "metadata": {},
   "outputs": [],
   "source": [
    "import numpy as np"
   ]
  },
  {
   "cell_type": "markdown",
   "id": "b1dc3a38",
   "metadata": {},
   "source": [
    "Создать массви начало 0 коней 10 шаг 1\n"
   ]
  },
  {
   "cell_type": "code",
   "execution_count": 2,
   "id": "e9e46bea",
   "metadata": {},
   "outputs": [],
   "source": [
    "matrix = np.arange(0, 10, 1)"
   ]
  },
  {
   "cell_type": "code",
   "execution_count": 3,
   "id": "40718a6a",
   "metadata": {},
   "outputs": [
    {
     "data": {
      "text/plain": [
       "array([0, 1, 2, 3, 4, 5, 6, 7, 8, 9])"
      ]
     },
     "execution_count": 3,
     "metadata": {},
     "output_type": "execute_result"
    }
   ],
   "source": [
    "matrix"
   ]
  },
  {
   "cell_type": "markdown",
   "id": "4c47a114",
   "metadata": {},
   "source": [
    "Cоздать массив начало 1 конец 20 шаг 2 \n"
   ]
  },
  {
   "cell_type": "code",
   "execution_count": 4,
   "id": "bf23864a",
   "metadata": {},
   "outputs": [
    {
     "data": {
      "text/plain": [
       "array([ 1,  3,  5,  7,  9, 11, 13, 15, 17, 19])"
      ]
     },
     "execution_count": 4,
     "metadata": {},
     "output_type": "execute_result"
    }
   ],
   "source": [
    "np.arange(1, 20, 2)"
   ]
  },
  {
   "cell_type": "markdown",
   "id": "f294bf07",
   "metadata": {},
   "source": [
    "Нулевой массви из 12 чисел \n"
   ]
  },
  {
   "cell_type": "code",
   "execution_count": 5,
   "id": "88dca400",
   "metadata": {},
   "outputs": [
    {
     "data": {
      "text/plain": [
       "array([0., 0., 0., 0., 0., 0., 0., 0., 0., 0., 0., 0.])"
      ]
     },
     "execution_count": 5,
     "metadata": {},
     "output_type": "execute_result"
    }
   ],
   "source": [
    "np.zeros(12)"
   ]
  },
  {
   "cell_type": "markdown",
   "id": "2969ea3d",
   "metadata": {},
   "source": [
    "Единичный массив 5х4"
   ]
  },
  {
   "cell_type": "code",
   "execution_count": 8,
   "id": "f3ad1840",
   "metadata": {},
   "outputs": [
    {
     "data": {
      "text/plain": [
       "array([[1., 1., 1., 1.],\n",
       "       [1., 1., 1., 1.],\n",
       "       [1., 1., 1., 1.],\n",
       "       [1., 1., 1., 1.],\n",
       "       [1., 1., 1., 1.]])"
      ]
     },
     "execution_count": 8,
     "metadata": {},
     "output_type": "execute_result"
    }
   ],
   "source": [
    "np.ones((5, 4))"
   ]
  },
  {
   "cell_type": "markdown",
   "id": "1f0daa27",
   "metadata": {},
   "source": [
    "Равномернораспредленный из 5, по отрезку 3 и 7"
   ]
  },
  {
   "cell_type": "code",
   "execution_count": 10,
   "id": "4c61b933",
   "metadata": {},
   "outputs": [
    {
     "data": {
      "text/plain": [
       "array([3., 4., 5., 6., 7.])"
      ]
     },
     "execution_count": 10,
     "metadata": {},
     "output_type": "execute_result"
    }
   ],
   "source": [
    "np.linspace(3, 7, 5)"
   ]
  },
  {
   "cell_type": "markdown",
   "id": "06b13126",
   "metadata": {},
   "source": [
    "Создать список из 9 распределенных чисел отрезка [3:7] и запихгуть в массив 3х3 "
   ]
  },
  {
   "cell_type": "code",
   "execution_count": 14,
   "id": "e7e8862f",
   "metadata": {},
   "outputs": [
    {
     "data": {
      "text/plain": [
       "array([[3. , 3.5, 4. ],\n",
       "       [4.5, 5. , 5.5],\n",
       "       [6. , 6.5, 7. ]])"
      ]
     },
     "execution_count": 14,
     "metadata": {},
     "output_type": "execute_result"
    }
   ],
   "source": [
    "matrix = np.linspace(3,7, 9).reshape(3, 3)\n",
    "matrix"
   ]
  },
  {
   "cell_type": "markdown",
   "id": "b38d0ca1",
   "metadata": {},
   "source": [
    "Cоздать список из 10 рандомных чисел от 1 до 100"
   ]
  },
  {
   "cell_type": "code",
   "execution_count": 15,
   "id": "22914be7",
   "metadata": {},
   "outputs": [],
   "source": [
    "matrix = np.random.randint(1, 100, 10)"
   ]
  },
  {
   "cell_type": "code",
   "execution_count": 16,
   "id": "76593304",
   "metadata": {},
   "outputs": [
    {
     "data": {
      "text/plain": [
       "array([40, 43, 86, 55, 70, 29, 89, 41, 15, 81])"
      ]
     },
     "execution_count": 16,
     "metadata": {},
     "output_type": "execute_result"
    }
   ],
   "source": [
    "matrix"
   ]
  },
  {
   "cell_type": "markdown",
   "id": "ea51df5c",
   "metadata": {},
   "source": [
    "Выбрать максимальное их списка"
   ]
  },
  {
   "cell_type": "code",
   "execution_count": 20,
   "id": "b947daa6",
   "metadata": {},
   "outputs": [],
   "source": [
    "martix_number = np.max(matrix)"
   ]
  },
  {
   "cell_type": "code",
   "execution_count": 22,
   "id": "63f04bbf",
   "metadata": {},
   "outputs": [
    {
     "data": {
      "text/plain": [
       "89"
      ]
     },
     "execution_count": 22,
     "metadata": {},
     "output_type": "execute_result"
    }
   ],
   "source": [
    "martix_number"
   ]
  },
  {
   "cell_type": "markdown",
   "id": "92cfa8d2",
   "metadata": {},
   "source": [
    "Cоздать список из 10 рандомных чисел от 1 до 20"
   ]
  },
  {
   "cell_type": "code",
   "execution_count": 24,
   "id": "f046c8a8",
   "metadata": {},
   "outputs": [
    {
     "data": {
      "text/plain": [
       "array([ 9,  4, 17, 17, 18, 17, 16, 12,  6, 16])"
      ]
     },
     "execution_count": 24,
     "metadata": {},
     "output_type": "execute_result"
    }
   ],
   "source": [
    "matrix = np.random.randint(1, 20, 10)\n",
    "matrix"
   ]
  },
  {
   "cell_type": "markdown",
   "id": "e1d67700",
   "metadata": {},
   "source": [
    "Выаолнить срез массива от 1-го элемента до 6-го не включительно"
   ]
  },
  {
   "cell_type": "code",
   "execution_count": 28,
   "id": "47ff2e06",
   "metadata": {},
   "outputs": [
    {
     "data": {
      "text/plain": [
       "array([ 4, 17, 17, 18, 17])"
      ]
     },
     "execution_count": 28,
     "metadata": {},
     "output_type": "execute_result"
    }
   ],
   "source": [
    "matrix_a = matrix[1:6]\n",
    "matrix_a"
   ]
  },
  {
   "cell_type": "markdown",
   "id": "c7db177a",
   "metadata": {},
   "source": [
    "Создайте двумерный массив, состоящий из случайных целых чисел из диапазона от 3 до 11, в котором 4 строки и 3 столбца."
   ]
  },
  {
   "cell_type": "code",
   "execution_count": 33,
   "id": "4880b5df",
   "metadata": {},
   "outputs": [
    {
     "data": {
      "text/plain": [
       "array([[ 5,  5, 10],\n",
       "       [ 5,  9,  6],\n",
       "       [ 8,  8,  4],\n",
       "       [ 9,  3,  6]])"
      ]
     },
     "execution_count": 33,
     "metadata": {},
     "output_type": "execute_result"
    }
   ],
   "source": [
    "matrix = np.random.randint(3, 11, 12).reshape(4,3)\n",
    "matrix "
   ]
  },
  {
   "cell_type": "markdown",
   "id": "aa9c1ac8",
   "metadata": {},
   "source": [
    "Создаем матрици а из исходно путем среза "
   ]
  },
  {
   "cell_type": "code",
   "execution_count": 40,
   "id": "88bbe6ed",
   "metadata": {},
   "outputs": [
    {
     "name": "stdout",
     "output_type": "stream",
     "text": [
      "[[ 5  5 10]\n",
      " [ 5  9  6]\n",
      " [ 8  8  4]\n",
      " [ 9  3  6]]\n",
      "[[5 9]\n",
      " [8 8]]\n"
     ]
    }
   ],
   "source": [
    "matrix_a = matrix[1:3 , :2]\n",
    "print(matrix)\n",
    "print(matrix_a)"
   ]
  },
  {
   "cell_type": "markdown",
   "id": "e72f9f07",
   "metadata": {},
   "source": [
    "создаем массив, ипользуя случаные значения от 0 до 9 не включительно, и запихиваем с матрицу 4х6"
   ]
  },
  {
   "cell_type": "code",
   "execution_count": 41,
   "id": "c30d7c24",
   "metadata": {},
   "outputs": [
    {
     "data": {
      "text/plain": [
       "array([[6, 6, 7, 1, 0, 1],\n",
       "       [4, 8, 2, 4, 3, 3],\n",
       "       [0, 4, 5, 3, 4, 0],\n",
       "       [3, 8, 6, 5, 0, 2]])"
      ]
     },
     "execution_count": 41,
     "metadata": {},
     "output_type": "execute_result"
    }
   ],
   "source": [
    "matrix = np.random.randint(0, 9, 24).reshape(4, 6)\n",
    "matrix "
   ]
  },
  {
   "cell_type": "markdown",
   "id": "f1241e7a",
   "metadata": {},
   "source": [
    "Создаем список А из слаженного массива используя списочные вырожения "
   ]
  },
  {
   "cell_type": "code",
   "execution_count": 46,
   "id": "af8bc78f",
   "metadata": {},
   "outputs": [
    {
     "name": "stdout",
     "output_type": "stream",
     "text": [
      "[[6 6 7 1 0 1]\n",
      " [4 8 2 4 3 3]\n",
      " [0 4 5 3 4 0]\n",
      " [3 8 6 5 0 2]]\n",
      "[6, 6, 7, 4, 8, 4, 4, 5, 4, 8, 6, 5]\n"
     ]
    }
   ],
   "source": [
    "matrix_a = [i for i in matrix.flatten() if i > 3]\n",
    "print(matrix)\n",
    "print(matrix_a)"
   ]
  },
  {
   "cell_type": "markdown",
   "id": "e2f0c10a",
   "metadata": {},
   "source": [
    "Создаем маасив, ипользуя случаные значения от 0 до 20 не включительно"
   ]
  },
  {
   "cell_type": "code",
   "execution_count": 53,
   "id": "0dca0f82",
   "metadata": {},
   "outputs": [
    {
     "name": "stdout",
     "output_type": "stream",
     "text": [
      "[6 4 1 2 3 1 4 5 8 1]\n"
     ]
    }
   ],
   "source": [
    "matrix = np.random.randint(0, 9, 10)\n",
    "print(matrix)"
   ]
  },
  {
   "cell_type": "markdown",
   "id": "c9371e64",
   "metadata": {},
   "source": [
    "Cоздайте массив, состоящий из 10 элементов, начиная с 2"
   ]
  },
  {
   "cell_type": "code",
   "execution_count": 54,
   "id": "6768ca8a",
   "metadata": {},
   "outputs": [
    {
     "name": "stdout",
     "output_type": "stream",
     "text": [
      "[ 2  3  4  5  6  7  8  9 10 11]\n"
     ]
    }
   ],
   "source": [
    "matrix_a = np.arange(2, 12)\n",
    "print(matrix_a)"
   ]
  },
  {
   "cell_type": "markdown",
   "id": "b2a20897",
   "metadata": {},
   "source": [
    "Сумма этих маассивов "
   ]
  },
  {
   "cell_type": "code",
   "execution_count": 55,
   "id": "fa12fa17",
   "metadata": {},
   "outputs": [
    {
     "name": "stdout",
     "output_type": "stream",
     "text": [
      "[ 8  7  5  7  9  8 12 14 18 12]\n"
     ]
    }
   ],
   "source": [
    "print(matrix + matrix_a)"
   ]
  },
  {
   "cell_type": "markdown",
   "id": "d881e432",
   "metadata": {},
   "source": [
    "Массив, состоящий из 7 случайных целых чисел из диапазона от 0 до 9"
   ]
  },
  {
   "cell_type": "code",
   "execution_count": 57,
   "id": "c7c5cfb2",
   "metadata": {},
   "outputs": [
    {
     "name": "stdout",
     "output_type": "stream",
     "text": [
      "[3 4 6 8 4 7 2]\n"
     ]
    }
   ],
   "source": [
    "matrix = np.random.randint(0, 9, 7)\n",
    "print(matrix)"
   ]
  },
  {
   "cell_type": "markdown",
   "id": "f85f4a42",
   "metadata": {},
   "source": [
    "Создайте новый массив, состоящий из 7 элементов первого массива, увеличенных в 3 раза"
   ]
  },
  {
   "cell_type": "code",
   "execution_count": 58,
   "id": "233b0f4f",
   "metadata": {},
   "outputs": [
    {
     "name": "stdout",
     "output_type": "stream",
     "text": [
      "[ 9 12 18 24 12 21  6]\n"
     ]
    }
   ],
   "source": [
    "matrix3 = matrix * 3\n",
    "print(matrix3)"
   ]
  },
  {
   "cell_type": "markdown",
   "id": "dd6984d5",
   "metadata": {},
   "source": [
    "Создайте массив, состоящий из квадратных корней 20 элементов по порядку, начиная с 7"
   ]
  },
  {
   "cell_type": "code",
   "execution_count": 63,
   "id": "3d16d52d",
   "metadata": {},
   "outputs": [
    {
     "name": "stdout",
     "output_type": "stream",
     "text": [
      "[2.64575131 2.82842712 3.         3.16227766 3.31662479 3.46410162\n",
      " 3.60555128 3.74165739 3.87298335 4.         4.12310563 4.24264069\n",
      " 4.35889894 4.47213595 4.58257569 4.69041576 4.79583152 4.89897949\n",
      " 5.         5.09901951]\n"
     ]
    }
   ],
   "source": [
    "matrix = np.sqrt(np.arange(7,27))\n",
    "print(matrix)"
   ]
  },
  {
   "cell_type": "markdown",
   "id": "6e2a16d8",
   "metadata": {},
   "source": [
    "Произведение матриц x * y и y * x"
   ]
  },
  {
   "cell_type": "code",
   "execution_count": 68,
   "id": "a9c4a39b",
   "metadata": {},
   "outputs": [
    {
     "data": {
      "text/plain": [
       "array([8, 5])"
      ]
     },
     "execution_count": 68,
     "metadata": {},
     "output_type": "execute_result"
    }
   ],
   "source": [
    "x = np.array([1,2])\n",
    "y = np.array([[4, 1], [2, 2]])\n",
    "x @ y"
   ]
  },
  {
   "cell_type": "code",
   "execution_count": 70,
   "id": "98e7f89c",
   "metadata": {},
   "outputs": [
    {
     "data": {
      "text/plain": [
       "array([6, 6])"
      ]
     },
     "execution_count": 70,
     "metadata": {},
     "output_type": "execute_result"
    }
   ],
   "source": [
    "y @ x"
   ]
  },
  {
   "cell_type": "code",
   "execution_count": 71,
   "id": "6fad7c95",
   "metadata": {},
   "outputs": [],
   "source": [
    "x = np.array([[1, 0], \n",
    "              [0, 1]])\n",
    "\n",
    "y = np.array([[4, 1], \n",
    "              [2, 2], \n",
    "              [1, 1]])"
   ]
  },
  {
   "cell_type": "code",
   "execution_count": 73,
   "id": "ec97cbcc",
   "metadata": {},
   "outputs": [
    {
     "data": {
      "text/plain": [
       "array([[4, 1],\n",
       "       [2, 2],\n",
       "       [1, 1]])"
      ]
     },
     "execution_count": 73,
     "metadata": {},
     "output_type": "execute_result"
    }
   ],
   "source": [
    "y @ x"
   ]
  },
  {
   "cell_type": "markdown",
   "id": "4e530eb4",
   "metadata": {},
   "source": [
    "Массив, состоящий из 10 случайных целых чисел из диапазона от 0 до 9"
   ]
  },
  {
   "cell_type": "code",
   "execution_count": 75,
   "id": "d8a3c49e",
   "metadata": {},
   "outputs": [
    {
     "name": "stdout",
     "output_type": "stream",
     "text": [
      "[5 1 5 8 4 3 5 2 8 4]\n"
     ]
    }
   ],
   "source": [
    "matrix = np.random.randint(0, 9, 10)\n",
    "print(matrix)"
   ]
  },
  {
   "cell_type": "markdown",
   "id": "212786bd",
   "metadata": {},
   "source": [
    " Если элемент x меньше 3, замените его на 3. И если элемент x больше 7, замените его на 7."
   ]
  },
  {
   "cell_type": "code",
   "execution_count": 90,
   "id": "104c1b9f",
   "metadata": {},
   "outputs": [
    {
     "name": "stdout",
     "output_type": "stream",
     "text": [
      "[5 3 5 7 4 3 5 3 7 4]\n"
     ]
    }
   ],
   "source": [
    "matrix_a = np.arange(0, 10)\n",
    "for i in range(0, 10):\n",
    "    if matrix[i] < 3: \n",
    "        matrix_a[i] = 3\n",
    "    elif matrix[i] > 7:\n",
    "        matrix_a[i] = 7\n",
    "    else:\n",
    "        matrix_a[i] = matrix[i]\n",
    "print(matrix_a)"
   ]
  },
  {
   "cell_type": "markdown",
   "id": "dc7fec57",
   "metadata": {},
   "source": [
    "Создайте массив"
   ]
  },
  {
   "cell_type": "code",
   "execution_count": 91,
   "id": "7fadb246",
   "metadata": {},
   "outputs": [],
   "source": [
    "x = np.array([1, 3, 0, -1, -3])"
   ]
  },
  {
   "cell_type": "markdown",
   "id": "596208f7",
   "metadata": {},
   "source": [
    "Вычислите поэлементно знак x (sign x)."
   ]
  },
  {
   "cell_type": "code",
   "execution_count": 93,
   "id": "70295ac1",
   "metadata": {},
   "outputs": [
    {
     "data": {
      "text/plain": [
       "array([ 1,  1,  0, -1, -1])"
      ]
     },
     "execution_count": 93,
     "metadata": {},
     "output_type": "execute_result"
    }
   ],
   "source": [
    "np.sign(x)"
   ]
  },
  {
   "cell_type": "markdown",
   "id": "3716fba7",
   "metadata": {},
   "source": [
    "Дана матрица"
   ]
  },
  {
   "cell_type": "code",
   "execution_count": 123,
   "id": "000f699d",
   "metadata": {},
   "outputs": [
    {
     "data": {
      "text/plain": [
       "array([9, 7])"
      ]
     },
     "execution_count": 123,
     "metadata": {},
     "output_type": "execute_result"
    }
   ],
   "source": [
    "M = np.array([[0, 5, 9, 8, 2], \n",
    "              [3, 7, 4, 1, 6]])\n",
    "np.max(M, axis=1)"
   ]
  },
  {
   "cell_type": "code",
   "execution_count": 124,
   "id": "ac289868",
   "metadata": {},
   "outputs": [
    {
     "data": {
      "text/plain": [
       "array([2, 1], dtype=int64)"
      ]
     },
     "execution_count": 124,
     "metadata": {},
     "output_type": "execute_result"
    }
   ],
   "source": [
    "np.argmax(M, axis=1)"
   ]
  },
  {
   "cell_type": "code",
   "execution_count": 125,
   "id": "31440ccd",
   "metadata": {},
   "outputs": [
    {
     "data": {
      "text/plain": [
       "array([0, 1])"
      ]
     },
     "execution_count": 125,
     "metadata": {},
     "output_type": "execute_result"
    }
   ],
   "source": [
    "np.min(M, axis=1)"
   ]
  },
  {
   "cell_type": "code",
   "execution_count": 129,
   "id": "50b8a28a",
   "metadata": {},
   "outputs": [
    {
     "data": {
      "text/plain": [
       "array([0, 3], dtype=int64)"
      ]
     },
     "execution_count": 129,
     "metadata": {},
     "output_type": "execute_result"
    }
   ],
   "source": [
    "np.argmin(M, axis=1)"
   ]
  },
  {
   "cell_type": "code",
   "execution_count": 126,
   "id": "f26db53c",
   "metadata": {},
   "outputs": [
    {
     "data": {
      "text/plain": [
       "array([3, 7, 9, 8, 6])"
      ]
     },
     "execution_count": 126,
     "metadata": {},
     "output_type": "execute_result"
    }
   ],
   "source": [
    "np.max(M, axis=0)"
   ]
  },
  {
   "cell_type": "code",
   "execution_count": 127,
   "id": "05c5340e",
   "metadata": {},
   "outputs": [
    {
     "data": {
      "text/plain": [
       "array([1, 1, 0, 0, 1], dtype=int64)"
      ]
     },
     "execution_count": 127,
     "metadata": {},
     "output_type": "execute_result"
    }
   ],
   "source": [
    "np.argmax(M, axis=0)"
   ]
  },
  {
   "cell_type": "code",
   "execution_count": 128,
   "id": "2529c5f6",
   "metadata": {},
   "outputs": [
    {
     "data": {
      "text/plain": [
       "array([0, 5, 4, 1, 2])"
      ]
     },
     "execution_count": 128,
     "metadata": {},
     "output_type": "execute_result"
    }
   ],
   "source": [
    "np.min(M, axis=0)"
   ]
  },
  {
   "cell_type": "code",
   "execution_count": 131,
   "id": "dcb4da2a",
   "metadata": {},
   "outputs": [
    {
     "data": {
      "text/plain": [
       "array([0, 0, 1, 1, 0], dtype=int64)"
      ]
     },
     "execution_count": 131,
     "metadata": {},
     "output_type": "execute_result"
    }
   ],
   "source": [
    "np.argmin(M, axis=0)"
   ]
  },
  {
   "cell_type": "code",
   "execution_count": 135,
   "id": "8798eedd",
   "metadata": {},
   "outputs": [
    {
     "data": {
      "text/plain": [
       "array([[1, 2, 3],\n",
       "       [4, 5, 6],\n",
       "       [7, 8, 9]])"
      ]
     },
     "execution_count": 135,
     "metadata": {},
     "output_type": "execute_result"
    }
   ],
   "source": [
    "matrix = np.arange(1, 10).reshape(3, 3)\n",
    "matrix"
   ]
  },
  {
   "cell_type": "code",
   "execution_count": 140,
   "id": "d5c68d34",
   "metadata": {},
   "outputs": [
    {
     "name": "stdout",
     "output_type": "stream",
     "text": [
      "5.0\n",
      "5.0\n",
      "2.581988897471611\n",
      "6.666666666666667\n"
     ]
    }
   ],
   "source": [
    "print(np.mean(matrix))\n",
    "print(np.median(matrix))\n",
    "print(np.std(matrix))\n",
    "print(np.var(matrix))"
   ]
  }
 ],
 "metadata": {
  "kernelspec": {
   "display_name": "Python 3 (ipykernel)",
   "language": "python",
   "name": "python3"
  },
  "language_info": {
   "codemirror_mode": {
    "name": "ipython",
    "version": 3
   },
   "file_extension": ".py",
   "mimetype": "text/x-python",
   "name": "python",
   "nbconvert_exporter": "python",
   "pygments_lexer": "ipython3",
   "version": "3.10.10"
  }
 },
 "nbformat": 4,
 "nbformat_minor": 5
}
