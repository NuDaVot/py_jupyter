{
 "cells": [
  {
   "cell_type": "code",
   "execution_count": 1,
   "id": "70df789f",
   "metadata": {},
   "outputs": [],
   "source": [
    "from bs4 import BeautifulSoup as bs \n",
    "import requests \n",
    "import pandas as pd "
   ]
  },
  {
   "cell_type": "code",
   "execution_count": 2,
   "id": "c23f6f4a",
   "metadata": {},
   "outputs": [],
   "source": [
    "url= \"https://habr.com/ru/all\"\n",
    "page = requests.get(url)"
   ]
  },
  {
   "cell_type": "code",
   "execution_count": 5,
   "id": "0fc50ec6",
   "metadata": {},
   "outputs": [],
   "source": [
    "sour = bs(page.text, \"html.parser\")"
   ]
  },
  {
   "cell_type": "code",
   "execution_count": 48,
   "id": "ecb28f8d",
   "metadata": {},
   "outputs": [],
   "source": [
    "result_list = {\"title\": [], \"description\": [],\"namecompany\":[], \"rating\": [], \"field\": [], \"date\": []}"
   ]
  },
  {
   "cell_type": "code",
   "execution_count": 68,
   "id": "2e72cf02",
   "metadata": {},
   "outputs": [
    {
     "name": "stdout",
     "output_type": "stream",
     "text": [
      "<div class=\"tm-company-snippet__description\">Разработка динамических стратегий</div>\n",
      "None\n",
      "<div class=\"tm-company-snippet__description\">Ведущий разработчик решений для кибербезопасности</div>\n",
      "<div class=\"tm-company-snippet__description\">Виртуальные и выделенные серверы в ДЦ в Москве</div>\n",
      "<div class=\"tm-company-snippet__description\">Облачная платформа для разработчиков и бизнеса</div>\n",
      "None\n",
      "None\n",
      "None\n",
      "None\n",
      "<div class=\"tm-company-snippet__description\">Очень большой банк</div>\n",
      "<div class=\"tm-company-snippet__description\">Оборудование для автоматизации и мониторинга</div>\n",
      "None\n",
      "<div class=\"tm-company-snippet__description\">IT’s Tinkoff — просто о сложном</div>\n",
      "<div class=\"tm-company-snippet__description\">Экосистема цифровых сервисов</div>\n",
      "None\n",
      "<div class=\"tm-company-snippet__description\">IT-компания Nubes — провайдер облачных сервисов</div>\n",
      "None\n",
      "None\n",
      "None\n",
      "None\n"
     ]
    }
   ],
   "source": [
    "pagenum = 1\n",
    "for i in range(1):\n",
    "    url = 'https://habr.com/ru/all/page' + str(pagenum) + '/'\n",
    "    page = requests.get(url)\n",
    "    soup = bs(page.text, 'html.parser')\n",
    "    pages = soup.find_all('h2',class_ = 'tm-article-snippet__title')\n",
    "   \n",
    "    for i in pages:\n",
    "        fieldtext = \"\"\n",
    "        url = 'https://habr.com' + str(i.a.get('href'))\n",
    "        page = requests.get(url)\n",
    "        soup = bs(page.text, 'html.parser')\n",
    "#         text = soup.find_all(\"div\", class_ = \"article-formatted-body article-formatted-body article-formatted-body_version-1\")\n",
    "#         print(text)\n",
    "        name_company = soup.find('a', class_ = 'tm-company-snippet__title')\n",
    "        desc_company = soup.find('div', class_ = 'tm-company-snippet__description')\n",
    "        print(desc_company)\n",
    "        if(name_company is not None):\n",
    "            result_list['title'].append(i.text)\n",
    "            result_list['namecompany'].append(name_company.text)\n",
    "            result_list['description'].append(desc_company.text)\n",
    "            datepub = soup.find('span', class_ = 'tm-article-datetime-published')\n",
    "            result_list['date'].append(datepub.time['datetime'])\n",
    "            url = 'https://habr.com' + str(name_company.get('href'))\n",
    "            page = requests.get(url)\n",
    "            soup = bs(page.text, 'html.parser')\n",
    "            rating = soup.find('span', class_='tm-votes-lever__score-counter')\n",
    "            if(rating is None):\n",
    "                result_list['rating'].append('0')\n",
    "            else:\n",
    "                result_list['rating'].append((rating.text).strip())\n",
    "            field = soup.find_all('a', class_='tm-company-profile__categories-text')\n",
    "            for fields in field:\n",
    "                fieldtext = fieldtext + ((fields.text).strip()) + \" \"\n",
    "            fieldldtext = fieldtext.splitlines()\n",
    "            result_list['field'].append(''.join(str(e) for e in fieldtext))\n",
    "    pagenum = pagenum + 1"
   ]
  },
  {
   "cell_type": "code",
   "execution_count": null,
   "id": "342d44bc",
   "metadata": {},
   "outputs": [],
   "source": []
  },
  {
   "cell_type": "code",
   "execution_count": 50,
   "id": "1e985444",
   "metadata": {},
   "outputs": [],
   "source": [
    "df = pd.DataFrame(data = result_list)\n"
   ]
  },
  {
   "cell_type": "code",
   "execution_count": 51,
   "id": "d65490e4",
   "metadata": {},
   "outputs": [
    {
     "data": {
      "text/html": [
       "<div>\n",
       "<style scoped>\n",
       "    .dataframe tbody tr th:only-of-type {\n",
       "        vertical-align: middle;\n",
       "    }\n",
       "\n",
       "    .dataframe tbody tr th {\n",
       "        vertical-align: top;\n",
       "    }\n",
       "\n",
       "    .dataframe thead th {\n",
       "        text-align: right;\n",
       "    }\n",
       "</style>\n",
       "<table border=\"1\" class=\"dataframe\">\n",
       "  <thead>\n",
       "    <tr style=\"text-align: right;\">\n",
       "      <th></th>\n",
       "      <th>title</th>\n",
       "      <th>description</th>\n",
       "      <th>namecompany</th>\n",
       "      <th>rating</th>\n",
       "      <th>field</th>\n",
       "      <th>date</th>\n",
       "    </tr>\n",
       "  </thead>\n",
       "  <tbody>\n",
       "    <tr>\n",
       "      <th>0</th>\n",
       "      <td>Как я делал внутренний cookbook по тому, как п...</td>\n",
       "      <td>Очень большой банк</td>\n",
       "      <td>Газпромбанк</td>\n",
       "      <td>4.43</td>\n",
       "      <td>Программное обеспечение Электронная коммерция ...</td>\n",
       "      <td>2023-03-16T07:01:40.000Z</td>\n",
       "    </tr>\n",
       "    <tr>\n",
       "      <th>1</th>\n",
       "      <td>Цифровизация продуктового ритейла на примере м...</td>\n",
       "      <td>Оборудование для автоматизации и мониторинга</td>\n",
       "      <td>Wiren Board</td>\n",
       "      <td>151.29</td>\n",
       "      <td>Программное обеспечение Аппаратное обеспечение...</td>\n",
       "      <td>2023-03-16T07:00:02.000Z</td>\n",
       "    </tr>\n",
       "    <tr>\n",
       "      <th>2</th>\n",
       "      <td>Как мы делали редизайн писем, почему это было ...</td>\n",
       "      <td>IT’s Tinkoff — просто о сложном</td>\n",
       "      <td>TINKOFF</td>\n",
       "      <td>279.64</td>\n",
       "      <td>Программное обеспечение Электронная коммерция ...</td>\n",
       "      <td>2023-03-16T06:13:16.000Z</td>\n",
       "    </tr>\n",
       "    <tr>\n",
       "      <th>3</th>\n",
       "      <td>Как вместе идти к общим целям: Agile-практики ...</td>\n",
       "      <td>Экосистема цифровых сервисов</td>\n",
       "      <td>МТС</td>\n",
       "      <td>227.28</td>\n",
       "      <td>Связь и телекоммуникации Мобильные технологии ...</td>\n",
       "      <td>2023-03-16T06:00:01.000Z</td>\n",
       "    </tr>\n",
       "    <tr>\n",
       "      <th>4</th>\n",
       "      <td>Эволюция NGFW: тестируем новинку Sangfor NGAF</td>\n",
       "      <td>IT-компания Nubes — провайдер облачных сервисов</td>\n",
       "      <td>Nubes</td>\n",
       "      <td>52.03</td>\n",
       "      <td>Связь и телекоммуникации Домены и хостинг Инфо...</td>\n",
       "      <td>2023-03-16T05:19:49.000Z</td>\n",
       "    </tr>\n",
       "  </tbody>\n",
       "</table>\n",
       "</div>"
      ],
      "text/plain": [
       "                                               title  \\\n",
       "0  Как я делал внутренний cookbook по тому, как п...   \n",
       "1  Цифровизация продуктового ритейла на примере м...   \n",
       "2  Как мы делали редизайн писем, почему это было ...   \n",
       "3  Как вместе идти к общим целям: Agile-практики ...   \n",
       "4      Эволюция NGFW: тестируем новинку Sangfor NGAF   \n",
       "\n",
       "                                       description  namecompany  rating  \\\n",
       "0                               Очень большой банк  Газпромбанк    4.43   \n",
       "1     Оборудование для автоматизации и мониторинга  Wiren Board  151.29   \n",
       "2                  IT’s Tinkoff — просто о сложном      TINKOFF  279.64   \n",
       "3                     Экосистема цифровых сервисов          МТС  227.28   \n",
       "4  IT-компания Nubes — провайдер облачных сервисов        Nubes   52.03   \n",
       "\n",
       "                                               field                      date  \n",
       "0  Программное обеспечение Электронная коммерция ...  2023-03-16T07:01:40.000Z  \n",
       "1  Программное обеспечение Аппаратное обеспечение...  2023-03-16T07:00:02.000Z  \n",
       "2  Программное обеспечение Электронная коммерция ...  2023-03-16T06:13:16.000Z  \n",
       "3  Связь и телекоммуникации Мобильные технологии ...  2023-03-16T06:00:01.000Z  \n",
       "4  Связь и телекоммуникации Домены и хостинг Инфо...  2023-03-16T05:19:49.000Z  "
      ]
     },
     "execution_count": 51,
     "metadata": {},
     "output_type": "execute_result"
    }
   ],
   "source": [
    "df\n"
   ]
  },
  {
   "cell_type": "code",
   "execution_count": null,
   "id": "fd29ad6f",
   "metadata": {},
   "outputs": [],
   "source": []
  }
 ],
 "metadata": {
  "kernelspec": {
   "display_name": "Python 3 (ipykernel)",
   "language": "python",
   "name": "python3"
  },
  "language_info": {
   "codemirror_mode": {
    "name": "ipython",
    "version": 3
   },
   "file_extension": ".py",
   "mimetype": "text/x-python",
   "name": "python",
   "nbconvert_exporter": "python",
   "pygments_lexer": "ipython3",
   "version": "3.9.12"
  }
 },
 "nbformat": 4,
 "nbformat_minor": 5
}
