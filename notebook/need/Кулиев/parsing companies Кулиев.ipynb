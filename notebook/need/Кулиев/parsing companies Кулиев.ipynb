{
 "cells": [
  {
   "cell_type": "markdown",
   "id": "4767ec51",
   "metadata": {},
   "source": [
    "## 1.1 Парсинг данных"
   ]
  },
  {
   "cell_type": "markdown",
   "id": "94e8c44a",
   "metadata": {},
   "source": [
    "### 1.1.1 Парсинг данных, нужных нам компаний "
   ]
  },
  {
   "cell_type": "markdown",
   "id": "5b069a85",
   "metadata": {},
   "source": [
    "Установка нужных библиотек"
   ]
  },
  {
   "cell_type": "code",
   "execution_count": 1,
   "id": "a753acaf",
   "metadata": {},
   "outputs": [
    {
     "name": "stdout",
     "output_type": "stream",
     "text": [
      "Requirement already satisfied: PyMuPDF in c:\\users\\nudan\\anaconda3\\lib\\site-packages (1.21.1)\n",
      "Note: you may need to restart the kernel to use updated packages.\n"
     ]
    }
   ],
   "source": [
    "pip install PyMuPDF"
   ]
  },
  {
   "cell_type": "code",
   "execution_count": 2,
   "id": "5967a084",
   "metadata": {
    "scrolled": true
   },
   "outputs": [
    {
     "name": "stdout",
     "output_type": "stream",
     "text": [
      "Requirement already satisfied: fitz in c:\\users\\nudan\\anaconda3\\lib\\site-packages (0.0.1.dev2)\n",
      "Requirement already satisfied: pandas in c:\\users\\nudan\\anaconda3\\lib\\site-packages (from fitz) (1.4.2)\n",
      "Requirement already satisfied: nibabel in c:\\users\\nudan\\anaconda3\\lib\\site-packages (from fitz) (5.0.1)\n",
      "Requirement already satisfied: scipy in c:\\users\\nudan\\anaconda3\\lib\\site-packages (from fitz) (1.7.3)\n",
      "Requirement already satisfied: pyxnat in c:\\users\\nudan\\anaconda3\\lib\\site-packages (from fitz) (1.5)\n",
      "Requirement already satisfied: httplib2 in c:\\users\\nudan\\anaconda3\\lib\\site-packages (from fitz) (0.22.0)\n",
      "Requirement already satisfied: numpy in c:\\users\\nudan\\anaconda3\\lib\\site-packages (from fitz) (1.21.5)\n",
      "Requirement already satisfied: configobj in c:\\users\\nudan\\anaconda3\\lib\\site-packages (from fitz) (5.0.8)\n",
      "Requirement already satisfied: configparser in c:\\users\\nudan\\anaconda3\\lib\\site-packages (from fitz) (5.3.0)\n",
      "Requirement already satisfied: nipype in c:\\users\\nudan\\anaconda3\\lib\\site-packages (from fitz) (1.8.5)\n",
      "Requirement already satisfied: six in c:\\users\\nudan\\anaconda3\\lib\\site-packages (from configobj->fitz) (1.16.0)\n",
      "Requirement already satisfied: pyparsing!=3.0.0,!=3.0.1,!=3.0.2,!=3.0.3,<4,>=2.4.2 in c:\\users\\nudan\\anaconda3\\lib\\site-packages (from httplib2->fitz) (3.0.4)\n",
      "Requirement already satisfied: setuptools in c:\\users\\nudan\\anaconda3\\lib\\site-packages (from nibabel->fitz) (61.2.0)\n",
      "Requirement already satisfied: packaging>=17 in c:\\users\\nudan\\anaconda3\\lib\\site-packages (from nibabel->fitz) (21.3)\n",
      "Requirement already satisfied: rdflib>=5.0.0 in c:\\users\\nudan\\anaconda3\\lib\\site-packages (from nipype->fitz) (6.3.1)\n",
      "Requirement already satisfied: looseversion in c:\\users\\nudan\\anaconda3\\lib\\site-packages (from nipype->fitz) (1.1.2)\n",
      "Requirement already satisfied: filelock>=3.0.0 in c:\\users\\nudan\\anaconda3\\lib\\site-packages (from nipype->fitz) (3.6.0)\n",
      "Requirement already satisfied: etelemetry>=0.2.0 in c:\\users\\nudan\\anaconda3\\lib\\site-packages (from nipype->fitz) (0.3.0)\n",
      "Requirement already satisfied: pydot>=1.2.3 in c:\\users\\nudan\\anaconda3\\lib\\site-packages (from nipype->fitz) (1.4.2)\n",
      "Requirement already satisfied: python-dateutil>=2.2 in c:\\users\\nudan\\anaconda3\\lib\\site-packages (from nipype->fitz) (2.8.2)\n",
      "Requirement already satisfied: prov>=1.5.2 in c:\\users\\nudan\\anaconda3\\lib\\site-packages (from nipype->fitz) (2.0.0)\n",
      "Requirement already satisfied: click>=6.6.0 in c:\\users\\nudan\\anaconda3\\lib\\site-packages (from nipype->fitz) (8.0.4)\n",
      "Requirement already satisfied: networkx>=2.0 in c:\\users\\nudan\\anaconda3\\lib\\site-packages (from nipype->fitz) (2.7.1)\n",
      "Requirement already satisfied: traits!=5.0,<6.4,>=4.6 in c:\\users\\nudan\\anaconda3\\lib\\site-packages (from nipype->fitz) (6.3.2)\n",
      "Requirement already satisfied: simplejson>=3.8.0 in c:\\users\\nudan\\anaconda3\\lib\\site-packages (from nipype->fitz) (3.18.4)\n",
      "Requirement already satisfied: colorama in c:\\users\\nudan\\anaconda3\\lib\\site-packages (from click>=6.6.0->nipype->fitz) (0.4.4)\n",
      "Requirement already satisfied: requests in c:\\users\\nudan\\anaconda3\\lib\\site-packages (from etelemetry>=0.2.0->nipype->fitz) (2.27.1)\n",
      "Requirement already satisfied: ci-info>=0.2 in c:\\users\\nudan\\anaconda3\\lib\\site-packages (from etelemetry>=0.2.0->nipype->fitz) (0.3.0)\n",
      "Requirement already satisfied: lxml>=3.3.5 in c:\\users\\nudan\\anaconda3\\lib\\site-packages (from prov>=1.5.2->nipype->fitz) (4.8.0)\n",
      "Requirement already satisfied: isodate<0.7.0,>=0.6.0 in c:\\users\\nudan\\anaconda3\\lib\\site-packages (from rdflib>=5.0.0->nipype->fitz) (0.6.1)\n",
      "Requirement already satisfied: pytz>=2020.1 in c:\\users\\nudan\\anaconda3\\lib\\site-packages (from pandas->fitz) (2021.3)\n",
      "Requirement already satisfied: future>=0.16 in c:\\users\\nudan\\anaconda3\\lib\\site-packages (from pyxnat->fitz) (0.18.2)\n",
      "Requirement already satisfied: pathlib>=1.0 in c:\\users\\nudan\\anaconda3\\lib\\site-packages (from pyxnat->fitz) (1.0.1)\n",
      "Requirement already satisfied: certifi>=2017.4.17 in c:\\users\\nudan\\anaconda3\\lib\\site-packages (from requests->etelemetry>=0.2.0->nipype->fitz) (2021.10.8)\n",
      "Requirement already satisfied: idna<4,>=2.5 in c:\\users\\nudan\\anaconda3\\lib\\site-packages (from requests->etelemetry>=0.2.0->nipype->fitz) (3.3)\n",
      "Requirement already satisfied: charset-normalizer~=2.0.0 in c:\\users\\nudan\\anaconda3\\lib\\site-packages (from requests->etelemetry>=0.2.0->nipype->fitz) (2.0.4)\n",
      "Requirement already satisfied: urllib3<1.27,>=1.21.1 in c:\\users\\nudan\\anaconda3\\lib\\site-packages (from requests->etelemetry>=0.2.0->nipype->fitz) (1.26.9)\n",
      "Note: you may need to restart the kernel to use updated packages.\n"
     ]
    }
   ],
   "source": [
    "pip install fitz "
   ]
  },
  {
   "cell_type": "markdown",
   "id": "9d1f489f",
   "metadata": {},
   "source": [
    "Подключение библеотек"
   ]
  },
  {
   "cell_type": "code",
   "execution_count": 3,
   "id": "ef4a9bc1",
   "metadata": {},
   "outputs": [],
   "source": [
    "import glob \n",
    "import fitz \n",
    "import pandas as pd "
   ]
  },
  {
   "cell_type": "markdown",
   "id": "fa839ea8",
   "metadata": {},
   "source": [
    "Считываени всех нужных файлов "
   ]
  },
  {
   "cell_type": "code",
   "execution_count": 4,
   "id": "6dc8d5af",
   "metadata": {},
   "outputs": [],
   "source": [
    "all_documents = glob.glob(r\"C:\\Users\\nudan\\Спец курс\\Pdf parsing\\*.pdf\")"
   ]
  },
  {
   "cell_type": "markdown",
   "id": "3949c30f",
   "metadata": {},
   "source": [
    "Вывыто того, что считали "
   ]
  },
  {
   "cell_type": "code",
   "execution_count": 5,
   "id": "d175af87",
   "metadata": {
    "scrolled": true
   },
   "outputs": [
    {
     "name": "stdout",
     "output_type": "stream",
     "text": [
      "0: C:\\Users\\nudan\\Спец курс\\Pdf parsing\\Cocoapods,_Carthage,_SPM_как_выбрать_менеджер_зависимостей_в_iOS.pdf\n",
      "1: C:\\Users\\nudan\\Спец курс\\Pdf parsing\\imgonline-com-ua-site2pdfB28eKGLy6EjA.pdf\n",
      "2: C:\\Users\\nudan\\Спец курс\\Pdf parsing\\Быстрое начало работы с Gitlab CICD.pdf\n",
      "3: C:\\Users\\nudan\\Спец курс\\Pdf parsing\\Компании.pdf\n",
      "4: C:\\Users\\nudan\\Спец курс\\Pdf parsing\\Новые утечки.pdf\n",
      "5: C:\\Users\\nudan\\Спец курс\\Pdf parsing\\Почему Data Science не для вас.pdf\n"
     ]
    }
   ],
   "source": [
    "for i in range(len(all_documents)):\n",
    "    print(\"{0}: {1}\".format(i, all_documents[i]))"
   ]
  },
  {
   "cell_type": "markdown",
   "id": "bc7db2b9",
   "metadata": {},
   "source": [
    "Открытие и вывод нужного нам документа"
   ]
  },
  {
   "cell_type": "code",
   "execution_count": 6,
   "id": "1ed4241f",
   "metadata": {
    "scrolled": true
   },
   "outputs": [
    {
     "name": "stdout",
     "output_type": "stream",
     "text": [
      "Открытый документ:  Document('C:\\Users\\nudan\\Спец курс\\Pdf parsing\\Компании.pdf')\n",
      "Число страниц:  6\n",
      "RUVDS.com\n",
      "VDS/VPS-хостинг. Скидка 15% по коду HABR15\n",
      "Пишет в хабы:  Читальный зал,�DIY или Сделай сам,�Научно-популярное,�\n",
      "Электроника для начинающих,�Системное администрирование\n",
      "2393.91\n",
      "72K\n",
      "Selectel\n",
      "IT-инфраструктура для бизнеса\n",
      "Пишет в хабы:  Компьютерное железо,�Гаджеты,�IT-инфраструктура,�\n",
      "IT-компании,�Производство и разработка электроники\n",
      "1935.27\n",
      "40K\n",
      "Timeweb Cloud\n",
      "Облачная платформа для разработчиков и бизнеса\n",
      "Пишет в хабы:  Читальный зал,�Научно-популярное,�JavaScript,�\n",
      "DIY или Сделай сам,�История IT\n",
      "1542.55\n",
      "1.1K\n",
      "OTUS\n",
      "Цифровые навыки от ведущих экспертов\n",
      "Пишет в хабы:  Программирование,�Java,�Машинное обучение,�\n",
      "Тестирование веб-сервисов,�Python\n",
      "832.56\n",
      "103K\n",
      "Яндекс\n",
      "Как мы делаем Яндекс\n",
      "Добавить компанию\n",
      "Все потоки\n",
      "СТАТЬИ\n",
      "+64\n",
      "НОВОСТИ\n",
      "+50\n",
      "ХАБЫ\n",
      "АВТОРЫ\n",
      "КОМПАНИИ\n",
      "Название \n",
      "Рейтинг \n",
      "Подписчики\n",
      "КАК СТАТЬ АВТОРОМ\n",
      "Пишет в хабы:  Машинное обучение,�Open source,�\n",
      "Высокая производительность,�Программирование,�Интерфейсы\n",
      "721.53\n",
      "164K\n",
      "Open Data Science\n",
      "Крупнейшее русскоязычное Data Science сообщество\n",
      "Пишет в хабы:  Машинное обучение,�Искусственный интеллект,�\n",
      "Natural Language Processing,�Open source,�Big Data\n",
      "612.13\n",
      "9.6K\n",
      "ГК ЛАНИТ\n",
      "Ведущая многопрофильная группа ИТ-компаний в РФ\n",
      "Пишет в хабы:  Управление проектами,�Карьера в IT-индустрии,�\n",
      "Управление персоналом,�Машинное обучение,�Программирование\n",
      "569.92\n",
      "54K\n",
      "VK\n",
      "Технологии, которые объединяют\n",
      "Пишет в хабы:  Big Data,�Машинное обучение,�DevOps,�Tarantool,�\n",
      "Облачные сервисы\n",
      "536.95\n",
      "167K\n",
      "getmatch\n",
      "Рассказываем о том, как строить карьеру в IT\n",
      "Пишет в хабы:  Карьера в IT-индустрии,�Лайфхаки для гиков,�Читальный зал,�\n",
      "IT-эмиграция,�Урбанизм\n",
      "436.91\n",
      "953\n",
      "Wiren Board\n",
      "Оборудование для автоматизации и мониторинга\n",
      "Пишет в хабы:  Умный дом,�Интернет вещей,�Инженерные системы,�\n",
      "DIY или Сделай сам,�Компьютерное железо\n",
      "411.66\n",
      "353\n",
      "FirstVDS\n",
      "Виртуальные и выделенные серверы в ДЦ в Москве\n",
      "Пишет в хабы:  Научно-популярное,�Системное администрирование,�\n",
      "Читальный зал,�Информационная безопасность,�IT-инфраструктура\n",
      "398.02\n",
      "24K\n",
      "Конференции Олега Бунина (Онтико)\n",
      "Профессиональные конференции для IT-разработчиков\n",
      "Пишет в хабы:  Управление разработкой,�Конференции,�DevOps,�\n",
      "Управление проектами,�Карьера в IT-индустрии\n",
      "360.51\n",
      "58K\n",
      "AGIMA\n",
      "Крупнейший интегратор digital-решений\n",
      "Пишет в хабы:  Карьера в IT-индустрии,�Управление проектами,�\n",
      "Конференции,�Управление персоналом,�Управление продуктом\n",
      "336.45\n",
      "519\n",
      "Альфа-Банк\n",
      "Лучший мобильный банк по версии Markswebb\n",
      "Пишет в хабы:  Конференции,�Анализ и проектирование систем,�\n",
      "Машинное обучение,�JavaScript,�Карьера в IT-индустрии\n",
      "311.6\n",
      "24K\n",
      "Postgres Professional\n",
      "Разработчик СУБД Postgres Pro\n",
      "Пишет в хабы:  PostgreSQL,�SQL,�Администрирование баз данных,�\n",
      "Open source,�Хранение данных\n",
      "305.42\n",
      "76K\n",
      "Ozon Tech\n",
      "Стремимся делать лучший e-commerce в России\n",
      "Пишет в хабы:  Конференции,�Высокая производительность,�Go,�\n",
      "Тестирование веб-сервисов,�Программирование\n",
      "282.75\n",
      "28K\n",
      "TINKOFF\n",
      "IT’s Tinkoff — просто о сложном\n",
      "Пишет в хабы:  Разработка под Android,�Машинное обучение,�\n",
      "Тестирование IT-систем,�Разработка мобильных приложений,�Open source\n",
      "282.47\n",
      "40K\n",
      "Хабр Карьера\n",
      "Помогаем строить карьеру в IT\n",
      "Пишет в хабы:  Карьера в IT-индустрии,�Управление персоналом,�\n",
      "Исследования и прогнозы в IT,�Блог компании Хабр,�Финансы в IT\n",
      "280.33\n",
      "14K\n",
      "JUG Ru Group\n",
      "Конференции для Senior-разработчиков\n",
      "Пишет в хабы:  Конференции,�Java,�Тестирование IT-систем,�\n",
      "Разработка мобильных приложений,�JavaScript\n",
      "276.72\n",
      "41K\n",
      "Southbridge\n",
      "Обеспечиваем стабильную работу highload-проектов\n",
      "Пишет в хабы:  IT-инфраструктура,�DevOps,�Системное администрирование,�\n",
      "Карьера в IT-индустрии,�Программирование\n",
      "272.35\n",
      "47K\n",
      "1\n",
      "2\n",
      "3\n",
      "... 16\n",
      "17\n",
      "Ваш\n",
      "аккаунт\n",
      "Разделы\n",
      "Информация\n",
      "Услуги\n",
      "ФИЛЬТР\n",
      "Все\n",
      "323\n",
      "Web-development\n",
      "98\n",
      "Software\n",
      "180\n",
      "Hardware\n",
      "40\n",
      "Design and usability\n",
      "22\n",
      "Advertisement and marketing\n",
      "9\n",
      "Mass media\n",
      "5\n",
      "Consulting and support\n",
      "49\n",
      "HR\n",
      "9\n",
      "E-commerce\n",
      "41\n",
      "Non-profit organizations\n",
      "5\n",
      "Optimization\n",
      "9\n",
      "Producing multimedia content\n",
      "9\n",
      "Telecommunications\n",
      "54\n",
      "Domains and hosting\n",
      "17\n",
      "Search Engines\n",
      "9\n",
      "Mobile technologies\n",
      "72\n",
      "Web-services\n",
      "97\n",
      "Games and entertainment\n",
      "11\n",
      "Information Security\n",
      "47\n",
      "Войти\n",
      "Регистрация\n",
      "Публикации\n",
      "Новости\n",
      "Хабы\n",
      "Компании\n",
      "Авторы\n",
      "Песочница\n",
      "Устройство сайта\n",
      "Для авторов\n",
      "Для компаний\n",
      "Документы\n",
      "Соглашение\n",
      "Конфиденциальность\n",
      "Корпоративный блог\n",
      "Медийная реклама\n",
      "Нативные проекты\n",
      "Образовательные\n",
      "программы\n",
      "Стартапам\n",
      "Мегапроекты\n",
      "Настройка языка\n",
      "Техническая поддержка\n",
      "Вернуться на старую версию\n",
      "© 2006–2023, Habr\n",
      "\n"
     ]
    }
   ],
   "source": [
    "companies_path_doc = all_documents[3]\n",
    "companies_doc = fitz.open(companies_path_doc)\n",
    "print(\"Открытый документ: \", companies_doc)\n",
    "print(\"Число страниц: \",companies_doc.page_count)\n",
    "text = \"\"\n",
    "for page_doc in range(len(companies_doc)):\n",
    "    page = companies_doc.load_page(page_doc)\n",
    "    text += page.get_text(\"text\")\n",
    "text = text.split(\"\\n\")\n",
    "for i in text:\n",
    "    print(i)"
   ]
  },
  {
   "cell_type": "markdown",
   "id": "e250f44c",
   "metadata": {},
   "source": [
    "Видно, что в конце документа служебная, ненужная нам, информация"
   ]
  },
  {
   "cell_type": "code",
   "execution_count": 7,
   "id": "dee365be",
   "metadata": {},
   "outputs": [],
   "source": [
    "text = text[:text.index(\"1\")]"
   ]
  },
  {
   "cell_type": "markdown",
   "id": "6a216174",
   "metadata": {},
   "source": [
    "Нетрудно заметить, структура документа циклична (6), попробуем вывести названия компаний"
   ]
  },
  {
   "cell_type": "code",
   "execution_count": 8,
   "id": "d22ee461",
   "metadata": {
    "scrolled": true
   },
   "outputs": [
    {
     "name": "stdout",
     "output_type": "stream",
     "text": [
      "0 RUVDS.com\n",
      "6 Selectel\n",
      "12 Timeweb Cloud\n",
      "18 OTUS\n",
      "24 Яндекс\n",
      "30 НОВОСТИ\n",
      "36 Рейтинг \n",
      "42 164K\n",
      "48 9.6K\n",
      "54 54K\n",
      "60 167K\n",
      "66 953\n",
      "72 353\n",
      "78 24K\n",
      "84 58K\n",
      "90 519\n",
      "96 24K\n",
      "102 76K\n",
      "108 28K\n",
      "114 40K\n",
      "120 14K\n",
      "126 41K\n",
      "132 47K\n"
     ]
    }
   ],
   "source": [
    "for i in range(0, len(text), 6):\n",
    "    print(i, text[i])"
   ]
  },
  {
   "cell_type": "markdown",
   "id": "32302075",
   "metadata": {},
   "source": [
    "Что-то пошло не так, после кампании \"Яндекс\", ненужные строки, из шапки документа"
   ]
  },
  {
   "cell_type": "code",
   "execution_count": 9,
   "id": "4615dd91",
   "metadata": {
    "scrolled": false
   },
   "outputs": [
    {
     "name": "stdout",
     "output_type": "stream",
     "text": [
      "0 RUVDS.com\n",
      "6 Selectel\n",
      "12 Timeweb Cloud\n",
      "18 OTUS\n",
      "24 Яндекс\n",
      "30 Open Data Science\n",
      "36 ГК ЛАНИТ\n",
      "42 VK\n",
      "48 getmatch\n",
      "54 Wiren Board\n",
      "60 FirstVDS\n",
      "66 Конференции Олега Бунина (Онтико)\n",
      "72 AGIMA\n",
      "78 Альфа-Банк\n",
      "84 Postgres Professional\n",
      "90 Ozon Tech\n",
      "96 TINKOFF\n",
      "102 Хабр Карьера\n",
      "108 JUG Ru Group\n",
      "114 Southbridge\n"
     ]
    }
   ],
   "source": [
    "text = text[:26]  + text[39:]\n",
    "for i in range(0, len(text), 6):\n",
    "    print(i, text[i])"
   ]
  },
  {
   "cell_type": "markdown",
   "id": "b2897324",
   "metadata": {},
   "source": [
    "Все компании вывелись хорошо, можно создавать DataFrame "
   ]
  },
  {
   "cell_type": "markdown",
   "id": "472423d9",
   "metadata": {},
   "source": [
    "    name_company - назваение компании\n",
    "    description - описание компании\n",
    "    activity - сфера деятельности компании\n",
    "    rating - рейтинг компании"
   ]
  },
  {
   "cell_type": "code",
   "execution_count": 10,
   "id": "dffc7bbb",
   "metadata": {},
   "outputs": [],
   "source": [
    "company_columns = {\"name_company\":[], \"description\":[], \"activity\":[], \"rating\":[]}"
   ]
  },
  {
   "cell_type": "code",
   "execution_count": 11,
   "id": "0cfe8e2d",
   "metadata": {
    "scrolled": true
   },
   "outputs": [],
   "source": [
    "for i in range(0, len(text), 6):\n",
    "    company_columns[\"name_company\"].append(text[i])\n",
    "    company_columns[\"description\"].append(text[i+1])\n",
    "    company_columns[\"rating\"].append(text[i + 4])\n",
    "    # удаления в начаое строки патерна \"Пишет в хабы:\" и добавления второй строки \n",
    "    text_new = text[i+2][text[i+2].index(\":\")+1:] + text[i+3]\n",
    "    \n",
    "    # удаление неизвестный символов, перед описанием сферы деятельность\n",
    "    text_new = text_new.split(\",\")\n",
    "    text_new[0] = text_new[0] + \" \"\n",
    "    for i in range(1, len(text_new)):\n",
    "        text_new[i] = text_new[i][1:]\n",
    "    text_new = ''.join(text_new) \n",
    "    \n",
    "    company_columns[\"activity\"].append(text_new) "
   ]
  },
  {
   "cell_type": "code",
   "execution_count": 12,
   "id": "c15e4d54",
   "metadata": {
    "scrolled": true
   },
   "outputs": [
    {
     "data": {
      "text/html": [
       "<div>\n",
       "<style scoped>\n",
       "    .dataframe tbody tr th:only-of-type {\n",
       "        vertical-align: middle;\n",
       "    }\n",
       "\n",
       "    .dataframe tbody tr th {\n",
       "        vertical-align: top;\n",
       "    }\n",
       "\n",
       "    .dataframe thead th {\n",
       "        text-align: right;\n",
       "    }\n",
       "</style>\n",
       "<table border=\"1\" class=\"dataframe\">\n",
       "  <thead>\n",
       "    <tr style=\"text-align: right;\">\n",
       "      <th></th>\n",
       "      <th>name_company</th>\n",
       "      <th>description</th>\n",
       "      <th>activity</th>\n",
       "      <th>rating</th>\n",
       "    </tr>\n",
       "  </thead>\n",
       "  <tbody>\n",
       "    <tr>\n",
       "      <th>0</th>\n",
       "      <td>RUVDS.com</td>\n",
       "      <td>VDS/VPS-хостинг. Скидка 15% по коду HABR15</td>\n",
       "      <td>Читальный зал DIY или Сделай самНаучно-попул...</td>\n",
       "      <td>2393.91</td>\n",
       "    </tr>\n",
       "    <tr>\n",
       "      <th>1</th>\n",
       "      <td>Selectel</td>\n",
       "      <td>IT-инфраструктура для бизнеса</td>\n",
       "      <td>Компьютерное железо ГаджетыIT-инфраструктура...</td>\n",
       "      <td>1935.27</td>\n",
       "    </tr>\n",
       "    <tr>\n",
       "      <th>2</th>\n",
       "      <td>Timeweb Cloud</td>\n",
       "      <td>Облачная платформа для разработчиков и бизнеса</td>\n",
       "      <td>Читальный зал Научно-популярноеJavaScriptDIY...</td>\n",
       "      <td>1542.55</td>\n",
       "    </tr>\n",
       "    <tr>\n",
       "      <th>3</th>\n",
       "      <td>OTUS</td>\n",
       "      <td>Цифровые навыки от ведущих экспертов</td>\n",
       "      <td>Программирование JavaМашинное обучениеТестир...</td>\n",
       "      <td>832.56</td>\n",
       "    </tr>\n",
       "    <tr>\n",
       "      <th>4</th>\n",
       "      <td>Яндекс</td>\n",
       "      <td>Как мы делаем Яндекс</td>\n",
       "      <td>Машинное обучение Open sourceВысокая произво...</td>\n",
       "      <td>721.53</td>\n",
       "    </tr>\n",
       "    <tr>\n",
       "      <th>5</th>\n",
       "      <td>Open Data Science</td>\n",
       "      <td>Крупнейшее русскоязычное Data Science сообщество</td>\n",
       "      <td>Машинное обучение Искусственный интеллектNat...</td>\n",
       "      <td>612.13</td>\n",
       "    </tr>\n",
       "    <tr>\n",
       "      <th>6</th>\n",
       "      <td>ГК ЛАНИТ</td>\n",
       "      <td>Ведущая многопрофильная группа ИТ-компаний в РФ</td>\n",
       "      <td>Управление проектами Карьера в IT-индустрииУ...</td>\n",
       "      <td>569.92</td>\n",
       "    </tr>\n",
       "    <tr>\n",
       "      <th>7</th>\n",
       "      <td>VK</td>\n",
       "      <td>Технологии, которые объединяют</td>\n",
       "      <td>Big Data Машинное обучениеDevOpsTarantoolОбл...</td>\n",
       "      <td>536.95</td>\n",
       "    </tr>\n",
       "    <tr>\n",
       "      <th>8</th>\n",
       "      <td>getmatch</td>\n",
       "      <td>Рассказываем о том, как строить карьеру в IT</td>\n",
       "      <td>Карьера в IT-индустрии Лайфхаки для гиковЧит...</td>\n",
       "      <td>436.91</td>\n",
       "    </tr>\n",
       "    <tr>\n",
       "      <th>9</th>\n",
       "      <td>Wiren Board</td>\n",
       "      <td>Оборудование для автоматизации и мониторинга</td>\n",
       "      <td>Умный дом Интернет вещейИнженерные системыDI...</td>\n",
       "      <td>411.66</td>\n",
       "    </tr>\n",
       "    <tr>\n",
       "      <th>10</th>\n",
       "      <td>FirstVDS</td>\n",
       "      <td>Виртуальные и выделенные серверы в ДЦ в Москве</td>\n",
       "      <td>Научно-популярное Системное администрировани...</td>\n",
       "      <td>398.02</td>\n",
       "    </tr>\n",
       "    <tr>\n",
       "      <th>11</th>\n",
       "      <td>Конференции Олега Бунина (Онтико)</td>\n",
       "      <td>Профессиональные конференции для IT-разработчиков</td>\n",
       "      <td>Управление разработкой КонференцииDevOpsУпра...</td>\n",
       "      <td>360.51</td>\n",
       "    </tr>\n",
       "    <tr>\n",
       "      <th>12</th>\n",
       "      <td>AGIMA</td>\n",
       "      <td>Крупнейший интегратор digital-решений</td>\n",
       "      <td>Карьера в IT-индустрии Управление проектамиК...</td>\n",
       "      <td>336.45</td>\n",
       "    </tr>\n",
       "    <tr>\n",
       "      <th>13</th>\n",
       "      <td>Альфа-Банк</td>\n",
       "      <td>Лучший мобильный банк по версии Markswebb</td>\n",
       "      <td>Конференции Анализ и проектирование системМа...</td>\n",
       "      <td>311.6</td>\n",
       "    </tr>\n",
       "    <tr>\n",
       "      <th>14</th>\n",
       "      <td>Postgres Professional</td>\n",
       "      <td>Разработчик СУБД Postgres Pro</td>\n",
       "      <td>PostgreSQL SQLАдминистрирование баз данныхOp...</td>\n",
       "      <td>305.42</td>\n",
       "    </tr>\n",
       "    <tr>\n",
       "      <th>15</th>\n",
       "      <td>Ozon Tech</td>\n",
       "      <td>Стремимся делать лучший e-commerce в России</td>\n",
       "      <td>Конференции Высокая производительностьGoТест...</td>\n",
       "      <td>282.75</td>\n",
       "    </tr>\n",
       "    <tr>\n",
       "      <th>16</th>\n",
       "      <td>TINKOFF</td>\n",
       "      <td>IT’s Tinkoff — просто о сложном</td>\n",
       "      <td>Разработка под Android Машинное обучениеТест...</td>\n",
       "      <td>282.47</td>\n",
       "    </tr>\n",
       "    <tr>\n",
       "      <th>17</th>\n",
       "      <td>Хабр Карьера</td>\n",
       "      <td>Помогаем строить карьеру в IT</td>\n",
       "      <td>Карьера в IT-индустрии Управление персоналом...</td>\n",
       "      <td>280.33</td>\n",
       "    </tr>\n",
       "    <tr>\n",
       "      <th>18</th>\n",
       "      <td>JUG Ru Group</td>\n",
       "      <td>Конференции для Senior-разработчиков</td>\n",
       "      <td>Конференции JavaТестирование IT-системРазраб...</td>\n",
       "      <td>276.72</td>\n",
       "    </tr>\n",
       "    <tr>\n",
       "      <th>19</th>\n",
       "      <td>Southbridge</td>\n",
       "      <td>Обеспечиваем стабильную работу highload-проектов</td>\n",
       "      <td>IT-инфраструктура DevOpsСистемное администри...</td>\n",
       "      <td>272.35</td>\n",
       "    </tr>\n",
       "  </tbody>\n",
       "</table>\n",
       "</div>"
      ],
      "text/plain": [
       "                         name_company  \\\n",
       "0                           RUVDS.com   \n",
       "1                            Selectel   \n",
       "2                       Timeweb Cloud   \n",
       "3                                OTUS   \n",
       "4                              Яндекс   \n",
       "5                   Open Data Science   \n",
       "6                            ГК ЛАНИТ   \n",
       "7                                  VK   \n",
       "8                            getmatch   \n",
       "9                         Wiren Board   \n",
       "10                           FirstVDS   \n",
       "11  Конференции Олега Бунина (Онтико)   \n",
       "12                              AGIMA   \n",
       "13                         Альфа-Банк   \n",
       "14              Postgres Professional   \n",
       "15                          Ozon Tech   \n",
       "16                            TINKOFF   \n",
       "17                       Хабр Карьера   \n",
       "18                       JUG Ru Group   \n",
       "19                        Southbridge   \n",
       "\n",
       "                                          description  \\\n",
       "0          VDS/VPS-хостинг. Скидка 15% по коду HABR15   \n",
       "1                       IT-инфраструктура для бизнеса   \n",
       "2      Облачная платформа для разработчиков и бизнеса   \n",
       "3                Цифровые навыки от ведущих экспертов   \n",
       "4                                Как мы делаем Яндекс   \n",
       "5    Крупнейшее русскоязычное Data Science сообщество   \n",
       "6     Ведущая многопрофильная группа ИТ-компаний в РФ   \n",
       "7                      Технологии, которые объединяют   \n",
       "8        Рассказываем о том, как строить карьеру в IT   \n",
       "9        Оборудование для автоматизации и мониторинга   \n",
       "10     Виртуальные и выделенные серверы в ДЦ в Москве   \n",
       "11  Профессиональные конференции для IT-разработчиков   \n",
       "12              Крупнейший интегратор digital-решений   \n",
       "13          Лучший мобильный банк по версии Markswebb   \n",
       "14                      Разработчик СУБД Postgres Pro   \n",
       "15        Стремимся делать лучший e-commerce в России   \n",
       "16                    IT’s Tinkoff — просто о сложном   \n",
       "17                      Помогаем строить карьеру в IT   \n",
       "18               Конференции для Senior-разработчиков   \n",
       "19   Обеспечиваем стабильную работу highload-проектов   \n",
       "\n",
       "                                             activity   rating  \n",
       "0     Читальный зал DIY или Сделай самНаучно-попул...  2393.91  \n",
       "1     Компьютерное железо ГаджетыIT-инфраструктура...  1935.27  \n",
       "2     Читальный зал Научно-популярноеJavaScriptDIY...  1542.55  \n",
       "3     Программирование JavaМашинное обучениеТестир...   832.56  \n",
       "4     Машинное обучение Open sourceВысокая произво...   721.53  \n",
       "5     Машинное обучение Искусственный интеллектNat...   612.13  \n",
       "6     Управление проектами Карьера в IT-индустрииУ...   569.92  \n",
       "7     Big Data Машинное обучениеDevOpsTarantoolОбл...   536.95  \n",
       "8     Карьера в IT-индустрии Лайфхаки для гиковЧит...   436.91  \n",
       "9     Умный дом Интернет вещейИнженерные системыDI...   411.66  \n",
       "10    Научно-популярное Системное администрировани...   398.02  \n",
       "11    Управление разработкой КонференцииDevOpsУпра...   360.51  \n",
       "12    Карьера в IT-индустрии Управление проектамиК...   336.45  \n",
       "13    Конференции Анализ и проектирование системМа...    311.6  \n",
       "14    PostgreSQL SQLАдминистрирование баз данныхOp...   305.42  \n",
       "15    Конференции Высокая производительностьGoТест...   282.75  \n",
       "16    Разработка под Android Машинное обучениеТест...   282.47  \n",
       "17    Карьера в IT-индустрии Управление персоналом...   280.33  \n",
       "18    Конференции JavaТестирование IT-системРазраб...   276.72  \n",
       "19    IT-инфраструктура DevOpsСистемное администри...   272.35  "
      ]
     },
     "execution_count": 12,
     "metadata": {},
     "output_type": "execute_result"
    }
   ],
   "source": [
    "companies_df = pd.DataFrame(company_columns)\n",
    "companies_df"
   ]
  },
  {
   "cell_type": "markdown",
   "id": "a8c2e8dd",
   "metadata": {},
   "source": [
    "Сохранить в сsv формате"
   ]
  },
  {
   "cell_type": "code",
   "execution_count": 13,
   "id": "25044020",
   "metadata": {},
   "outputs": [],
   "source": [
    "file_name = \"Компании.csv\"\n",
    "companies_df.to_csv(file_name, encoding=\"utf-8-sig\")"
   ]
  },
  {
   "cell_type": "markdown",
   "id": "7996ee05",
   "metadata": {},
   "source": [
    "Мы получили фаид \"Компании.csv\" c все нужные нам компании с названием, описанием, сферы деятельности и рейтингом"
   ]
  },
  {
   "cell_type": "markdown",
   "id": "da5e2aa1",
   "metadata": {},
   "source": [
    " "
   ]
  },
  {
   "cell_type": "markdown",
   "id": "c6ad98c4",
   "metadata": {},
   "source": [
    "### 1.1.2 Парсинг статаей с веб-ресурсов "
   ]
  },
  {
   "cell_type": "markdown",
   "id": "9dc3a419",
   "metadata": {},
   "source": [
    "Подключение нужных библеотек"
   ]
  },
  {
   "cell_type": "code",
   "execution_count": 15,
   "id": "f7a659a1",
   "metadata": {},
   "outputs": [],
   "source": [
    "from bs4 import BeautifulSoup as bs\n",
    "import requests"
   ]
  },
  {
   "cell_type": "markdown",
   "id": "b444accc",
   "metadata": {},
   "source": [
    "Провека с оедение с главной сттарницей веб-ресурса \"habr.com\""
   ]
  },
  {
   "cell_type": "code",
   "execution_count": 23,
   "id": "f586d3c7",
   "metadata": {},
   "outputs": [
    {
     "name": "stdout",
     "output_type": "stream",
     "text": [
      "<Response [200]>\n"
     ]
    }
   ],
   "source": [
    "uri = \"https://habr.com/ru/all/\"\n",
    "page = requests.get(uri) \n",
    "print(page)"
   ]
  },
  {
   "cell_type": "markdown",
   "id": "085687f2",
   "metadata": {},
   "source": [
    "Создание DataFrame"
   ]
  },
  {
   "cell_type": "markdown",
   "id": "86c390fa",
   "metadata": {},
   "source": [
    "    name - назваение статьи \n",
    "    name_company - кампания-автор\n",
    "    date - дата пуьликации\n",
    "    note - текст статьи"
   ]
  },
  {
   "cell_type": "code",
   "execution_count": 35,
   "id": "0dfee29c",
   "metadata": {},
   "outputs": [],
   "source": [
    "article = {\"name\":[],\"name_company\":[], \"date\":[], \"note\":[]}"
   ]
  },
  {
   "cell_type": "code",
   "execution_count": 36,
   "id": "100896e1",
   "metadata": {},
   "outputs": [
    {
     "name": "stdout",
     "output_type": "stream",
     "text": [
      "Страница:  1 <Response [200]>\n",
      "    Мы взяли статью с странице:  https://habr.com/ru/company/first/blog/725806/\n",
      "    Мы взяли статью с странице:  https://habr.com/ru/company/southbridge/blog/725788/\n",
      "Страница:  2 <Response [200]>\n",
      "    Мы взяли статью с странице:  https://habr.com/ru/company/otus/blog/725424/\n"
     ]
    }
   ],
   "source": [
    "# пребор страниц Habr от первойдо третей \n",
    "for i in range(1, 3):\n",
    "    \n",
    "    # переход на i-ю страницу \n",
    "    uri_page = \"{0}page{1}/\".format(uri, i)\n",
    "    page = requests.get(uri_page)\n",
    "    print(\"Страница: \", i, page)\n",
    "    soup = bs(page.text,  'html.parser')\n",
    "    snippetsoup_name = soup.find_all('h2', class_='tm-title tm-title_h2')\n",
    "    \n",
    "    for i in snippetsoup_name:\n",
    "        \n",
    "        # переход на i-ю статью страници\n",
    "        uri_article = \"https://habr.com\" + str(i.a.get(\"href\"))\n",
    "        page_article = requests.get(uri_article)\n",
    "        \n",
    "        soup_article = bs(page_article.text,  'html.parser')\n",
    "        descriptions_article = soup_article.find_all('a', class_='tm-article-snippet__hubs-item-link')\n",
    "        \n",
    "        for description in descriptions_article:\n",
    "            for j in description.span.text.split():\n",
    "                # проверка на компанию-автора статьи\n",
    "                if (companies_df['name_company'].eq(j)).any():\n",
    "                    print(\"    Мы взяли статью с странице: \", uri_article)\n",
    "                    h1 = soup_article.find('h1', class_='tm-title tm-title_h1')\n",
    "                    article[\"name\"].append(h1.span.text)\n",
    "                    article[\"name_company\"].append(j)\n",
    "                    date = soup_article.find('span', class_='tm-article-datetime-published')\n",
    "                    article[\"date\"].append(date.time.get(\"title\"))\n",
    "                    time = soup_article.find('span', class_='tm-article-reading-time__label')\n",
    "                    # две реализачии HTML структуры документа\n",
    "                    try:\n",
    "                        note = soup_article.find('div', class_='article-formatted-body article-formatted-body article-formatted-body_version-1')\n",
    "                        article[\"note\"].append(note.div.text.replace(\"\\n\", \" \").replace(\"\\r\", \" \").replace(\"  \", \" \").replace(\"\\xa0\", \" \"))\n",
    "                    except:\n",
    "                        note = soup_article.find('div', class_='article-formatted-body article-formatted-body article-formatted-body_version-2')\n",
    "                        article[\"note\"].append(note.div.text.replace(\"\\n\", \" \").replace(\"\\r\", \" \").replace(\"  \", \" \").replace(\"\\xa0\", \" \"))\n",
    "                        \n",
    "                        "
   ]
  },
  {
   "cell_type": "code",
   "execution_count": 37,
   "id": "cee603ab",
   "metadata": {
    "scrolled": true
   },
   "outputs": [
    {
     "data": {
      "text/html": [
       "<div>\n",
       "<style scoped>\n",
       "    .dataframe tbody tr th:only-of-type {\n",
       "        vertical-align: middle;\n",
       "    }\n",
       "\n",
       "    .dataframe tbody tr th {\n",
       "        vertical-align: top;\n",
       "    }\n",
       "\n",
       "    .dataframe thead th {\n",
       "        text-align: right;\n",
       "    }\n",
       "</style>\n",
       "<table border=\"1\" class=\"dataframe\">\n",
       "  <thead>\n",
       "    <tr style=\"text-align: right;\">\n",
       "      <th></th>\n",
       "      <th>name</th>\n",
       "      <th>name_company</th>\n",
       "      <th>date</th>\n",
       "      <th>note</th>\n",
       "    </tr>\n",
       "  </thead>\n",
       "  <tbody>\n",
       "    <tr>\n",
       "      <th>0</th>\n",
       "      <td>Вселенная существовала и до Большого взрыва. У...</td>\n",
       "      <td>FirstVDS</td>\n",
       "      <td>2023-03-30, 10:44</td>\n",
       "      <td>Это только часть паззлаВ течение многих десяти...</td>\n",
       "    </tr>\n",
       "    <tr>\n",
       "      <th>1</th>\n",
       "      <td>44 совета по Ansible: рекомендации и Best Prac...</td>\n",
       "      <td>Southbridge</td>\n",
       "      <td>2023-03-30, 09:57</td>\n",
       "      <td>Ansible — один из наиболее часто используемых ...</td>\n",
       "    </tr>\n",
       "    <tr>\n",
       "      <th>2</th>\n",
       "      <td>Файловая система BTRFS</td>\n",
       "      <td>OTUS</td>\n",
       "      <td>2023-03-29, 17:03</td>\n",
       "      <td>Некоторое время назад мной была представлена с...</td>\n",
       "    </tr>\n",
       "  </tbody>\n",
       "</table>\n",
       "</div>"
      ],
      "text/plain": [
       "                                                name name_company  \\\n",
       "0  Вселенная существовала и до Большого взрыва. У...     FirstVDS   \n",
       "1  44 совета по Ansible: рекомендации и Best Prac...  Southbridge   \n",
       "2                             Файловая система BTRFS         OTUS   \n",
       "\n",
       "                date                                               note  \n",
       "0  2023-03-30, 10:44  Это только часть паззлаВ течение многих десяти...  \n",
       "1  2023-03-30, 09:57  Ansible — один из наиболее часто используемых ...  \n",
       "2  2023-03-29, 17:03  Некоторое время назад мной была представлена с...  "
      ]
     },
     "execution_count": 37,
     "metadata": {},
     "output_type": "execute_result"
    }
   ],
   "source": [
    "articles_df = pd.DataFrame(article)\n",
    "articles_df"
   ]
  },
  {
   "cell_type": "markdown",
   "id": "28525afe",
   "metadata": {},
   "source": [
    "Сохранить в сsv формате"
   ]
  },
  {
   "cell_type": "code",
   "execution_count": 29,
   "id": "073446f8",
   "metadata": {},
   "outputs": [],
   "source": [
    "file_name = \"Статьи.csv\"\n",
    "articles_df.to_csv(file_name, encoding=\"utf-8-sig\")"
   ]
  },
  {
   "cell_type": "markdown",
   "id": "69af65ff",
   "metadata": {},
   "source": [
    "Мы получили файл \"Статьи.csv\" cо статьями с сайта  habr.com - название, компания-автор, дата публикации, текст статиь "
   ]
  },
  {
   "cell_type": "markdown",
   "id": "5ea5173b",
   "metadata": {},
   "source": [
    "Соединение статей и описание компании"
   ]
  },
  {
   "cell_type": "code",
   "execution_count": 38,
   "id": "11021433",
   "metadata": {},
   "outputs": [],
   "source": [
    "df = articles_df.merge(companies_df, on='name_company', how='left')"
   ]
  },
  {
   "cell_type": "code",
   "execution_count": 39,
   "id": "2aee17bf",
   "metadata": {
    "scrolled": true
   },
   "outputs": [
    {
     "data": {
      "text/html": [
       "<div>\n",
       "<style scoped>\n",
       "    .dataframe tbody tr th:only-of-type {\n",
       "        vertical-align: middle;\n",
       "    }\n",
       "\n",
       "    .dataframe tbody tr th {\n",
       "        vertical-align: top;\n",
       "    }\n",
       "\n",
       "    .dataframe thead th {\n",
       "        text-align: right;\n",
       "    }\n",
       "</style>\n",
       "<table border=\"1\" class=\"dataframe\">\n",
       "  <thead>\n",
       "    <tr style=\"text-align: right;\">\n",
       "      <th></th>\n",
       "      <th>name</th>\n",
       "      <th>name_company</th>\n",
       "      <th>date</th>\n",
       "      <th>note</th>\n",
       "      <th>description</th>\n",
       "      <th>activity</th>\n",
       "      <th>rating</th>\n",
       "    </tr>\n",
       "  </thead>\n",
       "  <tbody>\n",
       "    <tr>\n",
       "      <th>0</th>\n",
       "      <td>Вселенная существовала и до Большого взрыва. У...</td>\n",
       "      <td>FirstVDS</td>\n",
       "      <td>2023-03-30, 10:44</td>\n",
       "      <td>Это только часть паззлаВ течение многих десяти...</td>\n",
       "      <td>Виртуальные и выделенные серверы в ДЦ в Москве</td>\n",
       "      <td>Научно-популярное Системное администрировани...</td>\n",
       "      <td>398.02</td>\n",
       "    </tr>\n",
       "    <tr>\n",
       "      <th>1</th>\n",
       "      <td>44 совета по Ansible: рекомендации и Best Prac...</td>\n",
       "      <td>Southbridge</td>\n",
       "      <td>2023-03-30, 09:57</td>\n",
       "      <td>Ansible — один из наиболее часто используемых ...</td>\n",
       "      <td>Обеспечиваем стабильную работу highload-проектов</td>\n",
       "      <td>IT-инфраструктура DevOpsСистемное администри...</td>\n",
       "      <td>272.35</td>\n",
       "    </tr>\n",
       "    <tr>\n",
       "      <th>2</th>\n",
       "      <td>Файловая система BTRFS</td>\n",
       "      <td>OTUS</td>\n",
       "      <td>2023-03-29, 17:03</td>\n",
       "      <td>Некоторое время назад мной была представлена с...</td>\n",
       "      <td>Цифровые навыки от ведущих экспертов</td>\n",
       "      <td>Программирование JavaМашинное обучениеТестир...</td>\n",
       "      <td>832.56</td>\n",
       "    </tr>\n",
       "  </tbody>\n",
       "</table>\n",
       "</div>"
      ],
      "text/plain": [
       "                                                name name_company  \\\n",
       "0  Вселенная существовала и до Большого взрыва. У...     FirstVDS   \n",
       "1  44 совета по Ansible: рекомендации и Best Prac...  Southbridge   \n",
       "2                             Файловая система BTRFS         OTUS   \n",
       "\n",
       "                date                                               note  \\\n",
       "0  2023-03-30, 10:44  Это только часть паззлаВ течение многих десяти...   \n",
       "1  2023-03-30, 09:57  Ansible — один из наиболее часто используемых ...   \n",
       "2  2023-03-29, 17:03  Некоторое время назад мной была представлена с...   \n",
       "\n",
       "                                        description  \\\n",
       "0    Виртуальные и выделенные серверы в ДЦ в Москве   \n",
       "1  Обеспечиваем стабильную работу highload-проектов   \n",
       "2              Цифровые навыки от ведущих экспертов   \n",
       "\n",
       "                                            activity  rating  \n",
       "0    Научно-популярное Системное администрировани...  398.02  \n",
       "1    IT-инфраструктура DevOpsСистемное администри...  272.35  \n",
       "2    Программирование JavaМашинное обучениеТестир...  832.56  "
      ]
     },
     "execution_count": 39,
     "metadata": {},
     "output_type": "execute_result"
    }
   ],
   "source": [
    "df"
   ]
  },
  {
   "cell_type": "markdown",
   "id": "c6449cb4",
   "metadata": {},
   "source": [
    "Сохранить в сsv формате"
   ]
  },
  {
   "cell_type": "code",
   "execution_count": 33,
   "id": "dfcabd18",
   "metadata": {},
   "outputs": [],
   "source": [
    "file_name = \"Компании и статии.csv\"\n",
    "df.to_csv(file_name, encoding=\"utf-8-sig\")"
   ]
  },
  {
   "cell_type": "markdown",
   "id": "62d72d69",
   "metadata": {},
   "source": [
    "Мы получили файл \"Компании и статии\" cо статьями с сайта habr.com и описание компаний "
   ]
  },
  {
   "cell_type": "markdown",
   "id": "25e1c01f",
   "metadata": {},
   "source": [
    "Вывод: Получили сырые данные сататей по наминированным компаниям с веб-ресурса habr.com"
   ]
  },
  {
   "cell_type": "markdown",
   "id": "c336afd6",
   "metadata": {},
   "source": [
    " "
   ]
  },
  {
   "cell_type": "markdown",
   "id": "fb7ee43b",
   "metadata": {},
   "source": [
    "## 1.2 Формироваение структуры набора данных"
   ]
  },
  {
   "cell_type": "markdown",
   "id": "f6efacd9",
   "metadata": {},
   "source": [
    "Из исходного набора данных,\n",
    "    считаю нужным убрать название статьи(name) так, как это не влияет на статью и копанию-автора ,\n",
    "    описание сататьи(description)  - она дает примерно понимае, сферы деятельности компании, куда точнее это определяет параметр(activity)\n",
    "и \n",
    "включить все остальные признаки такие как: \n",
    "    название компании(name_company) - то кому выдавать премию в случаи победы,\n",
    "    дату публикации(date) для отслеживания периода активности компаний или выдачи премии за определенный период работы, \n",
    "    текст статьи(activity) - поможет определить вклад компании в Рунет, \n",
    "    сфера деятельности(rating) - определит категории где публикуются компани"
   ]
  },
  {
   "cell_type": "code",
   "execution_count": null,
   "id": "e9bf846a",
   "metadata": {},
   "outputs": [],
   "source": [
    "import string\n",
    "import re\n",
    "import nltk\n",
    "from nltk.corpus import stopwords\n",
    "from nltk.stem import WordNetLemmatizer\n",
    "from nltk.tokenize import word_tokenize\n",
    "import pymorphy2"
   ]
  }
 ],
 "metadata": {
  "kernelspec": {
   "display_name": "Python 3 (ipykernel)",
   "language": "python",
   "name": "python3"
  },
  "language_info": {
   "codemirror_mode": {
    "name": "ipython",
    "version": 3
   },
   "file_extension": ".py",
   "mimetype": "text/x-python",
   "name": "python",
   "nbconvert_exporter": "python",
   "pygments_lexer": "ipython3",
   "version": "3.9.12"
  }
 },
 "nbformat": 4,
 "nbformat_minor": 5
}
