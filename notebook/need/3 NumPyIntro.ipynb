{
 "cells": [
  {
   "cell_type": "markdown",
   "id": "de925415",
   "metadata": {},
   "source": [
    "### Библиотека NumPy"
   ]
  },
  {
   "cell_type": "markdown",
   "id": "c99a9c68",
   "metadata": {},
   "source": [
    "Библиотека NumPy лежит в основе стека машинного обучения на Python и позволяет эффективно работать со структурами данных, часто используемыми в машинном самообучении: векторами, матрицами. "
   ]
  },
  {
   "cell_type": "code",
   "execution_count": 1,
   "id": "c41bff74",
   "metadata": {},
   "outputs": [],
   "source": [
    "import numpy as np"
   ]
  },
  {
   "cell_type": "markdown",
   "id": "3a998d9d",
   "metadata": {},
   "source": [
    "#### 1.1 Создание вектора"
   ]
  },
  {
   "cell_type": "code",
   "execution_count": 3,
   "id": "fb42b6ac",
   "metadata": {},
   "outputs": [],
   "source": [
    "# Создать вектор как строку\n",
    "vector_row = np.array([1, 2, 3])"
   ]
  },
  {
   "cell_type": "code",
   "execution_count": 4,
   "id": "0e805cd5",
   "metadata": {},
   "outputs": [
    {
     "data": {
      "text/plain": [
       "array([1, 2, 3])"
      ]
     },
     "execution_count": 4,
     "metadata": {},
     "output_type": "execute_result"
    }
   ],
   "source": [
    "vector_row"
   ]
  },
  {
   "cell_type": "code",
   "execution_count": 5,
   "id": "fec21c8c",
   "metadata": {},
   "outputs": [],
   "source": [
    "# Создать вектор как столбец\n",
    "vector_column = np.array([[1], [2], [3]])"
   ]
  },
  {
   "cell_type": "code",
   "execution_count": 6,
   "id": "368f9c11",
   "metadata": {},
   "outputs": [
    {
     "data": {
      "text/plain": [
       "array([[1],\n",
       "       [2],\n",
       "       [3]])"
      ]
     },
     "execution_count": 6,
     "metadata": {},
     "output_type": "execute_result"
    }
   ],
   "source": [
    "vector_column"
   ]
  },
  {
   "cell_type": "code",
   "execution_count": 11,
   "id": "61c719f6",
   "metadata": {},
   "outputs": [
    {
     "data": {
      "text/plain": [
       "array([0, 2, 4, 6, 8])"
      ]
     },
     "execution_count": 11,
     "metadata": {},
     "output_type": "execute_result"
    }
   ],
   "source": [
    "# Формирование вектора\n",
    "np.arange(0,10,2)"
   ]
  },
  {
   "cell_type": "code",
   "execution_count": 12,
   "id": "e23c82e0",
   "metadata": {},
   "outputs": [
    {
     "data": {
      "text/plain": [
       "array([0., 0., 0., 0., 0., 0., 0., 0., 0.])"
      ]
     },
     "execution_count": 12,
     "metadata": {},
     "output_type": "execute_result"
    }
   ],
   "source": [
    "# Вектор из нулевых элементов\n",
    "np.zeros(9)"
   ]
  },
  {
   "cell_type": "code",
   "execution_count": 13,
   "id": "cd4559cf",
   "metadata": {},
   "outputs": [
    {
     "data": {
      "text/plain": [
       "array([1., 1., 1., 1., 1.])"
      ]
     },
     "execution_count": 13,
     "metadata": {},
     "output_type": "execute_result"
    }
   ],
   "source": [
    "# Единичный вектор\n",
    "np.ones(5)"
   ]
  },
  {
   "cell_type": "code",
   "execution_count": 16,
   "id": "b551561f",
   "metadata": {},
   "outputs": [
    {
     "data": {
      "text/plain": [
       "array([ 0. ,  2.5,  5. ,  7.5, 10. ])"
      ]
     },
     "execution_count": 16,
     "metadata": {},
     "output_type": "execute_result"
    }
   ],
   "source": [
    "# Равномернораспределенный на отрезке вектор\n",
    "np.linspace(0, 10, 5)"
   ]
  },
  {
   "cell_type": "markdown",
   "id": "b6bef645",
   "metadata": {},
   "source": [
    "#### 1.2 Создание массива"
   ]
  },
  {
   "cell_type": "code",
   "execution_count": 7,
   "id": "ae4a10ba",
   "metadata": {},
   "outputs": [],
   "source": [
    "# Создать матрицу\n",
    "matrix = np.array([[1, 2], [1, 2 ], [1, 2]])"
   ]
  },
  {
   "cell_type": "code",
   "execution_count": 8,
   "id": "d8de6702",
   "metadata": {},
   "outputs": [
    {
     "data": {
      "text/plain": [
       "array([[1, 2],\n",
       "       [1, 2],\n",
       "       [1, 2]])"
      ]
     },
     "execution_count": 8,
     "metadata": {},
     "output_type": "execute_result"
    }
   ],
   "source": [
    "matrix"
   ]
  },
  {
   "cell_type": "code",
   "execution_count": 17,
   "id": "691e1f7a",
   "metadata": {},
   "outputs": [
    {
     "data": {
      "text/plain": [
       "array([[0., 0., 0.],\n",
       "       [0., 0., 0.]])"
      ]
     },
     "execution_count": 17,
     "metadata": {},
     "output_type": "execute_result"
    }
   ],
   "source": [
    "# Массив из нулевых элементов\n",
    "np.zeros((2,3))"
   ]
  },
  {
   "cell_type": "code",
   "execution_count": 18,
   "id": "6e1592d3",
   "metadata": {},
   "outputs": [
    {
     "data": {
      "text/plain": [
       "array([[1., 1.],\n",
       "       [1., 1.],\n",
       "       [1., 1.]])"
      ]
     },
     "execution_count": 18,
     "metadata": {},
     "output_type": "execute_result"
    }
   ],
   "source": [
    "# Единичный массив\n",
    "np.ones((3,2))"
   ]
  },
  {
   "cell_type": "code",
   "execution_count": 19,
   "id": "09a0c000",
   "metadata": {},
   "outputs": [
    {
     "data": {
      "text/plain": [
       "array([[1., 0., 0.],\n",
       "       [0., 1., 0.],\n",
       "       [0., 0., 1.]])"
      ]
     },
     "execution_count": 19,
     "metadata": {},
     "output_type": "execute_result"
    }
   ],
   "source": [
    "# Единичная диагональная матрица\n",
    "np.eye(3)"
   ]
  },
  {
   "cell_type": "markdown",
   "id": "e2b02f6f",
   "metadata": {},
   "source": [
    "#### 1.3. Генерирование случайных значений"
   ]
  },
  {
   "cell_type": "code",
   "execution_count": 20,
   "id": "aff05fa2",
   "metadata": {},
   "outputs": [],
   "source": [
    "# Задать начальное значение для генератора псевдослучайных чисел\n",
    "np.random.seed(0)"
   ]
  },
  {
   "cell_type": "code",
   "execution_count": 21,
   "id": "2d725747",
   "metadata": {},
   "outputs": [
    {
     "data": {
      "text/plain": [
       "array([0.5488135 , 0.71518937, 0.60276338])"
      ]
     },
     "execution_count": 21,
     "metadata": {},
     "output_type": "execute_result"
    }
   ],
   "source": [
    "# Сгенерировать три случайных вещественных числа между 0.0 и 1.0 \n",
    "np.random.random(3)"
   ]
  },
  {
   "cell_type": "code",
   "execution_count": 23,
   "id": "0ac28f66",
   "metadata": {},
   "outputs": [
    {
     "data": {
      "text/plain": [
       "array([[0.6235637 , 0.38438171, 0.29753461, 0.05671298],\n",
       "       [0.27265629, 0.47766512, 0.81216873, 0.47997717],\n",
       "       [0.3927848 , 0.83607876, 0.33739616, 0.64817187]])"
      ]
     },
     "execution_count": 23,
     "metadata": {},
     "output_type": "execute_result"
    }
   ],
   "source": [
    "np.random.rand(3, 4)"
   ]
  },
  {
   "cell_type": "code",
   "execution_count": 22,
   "id": "a4da2ba7",
   "metadata": {},
   "outputs": [
    {
     "data": {
      "text/plain": [
       "array([3, 7, 9])"
      ]
     },
     "execution_count": 22,
     "metadata": {},
     "output_type": "execute_result"
    }
   ],
   "source": [
    "# Сгенерировать три случайных целых числа между 1 и 10 \n",
    "np.random.randint(0, 11, 3)"
   ]
  },
  {
   "cell_type": "code",
   "execution_count": 24,
   "id": "1ff5d2d7",
   "metadata": {},
   "outputs": [
    {
     "data": {
      "text/plain": [
       "array([ 0.42837337, -0.12346315,  1.41437719, -0.12405066,  2.00815709,\n",
       "        0.22988654,  0.60489373])"
      ]
     },
     "execution_count": 24,
     "metadata": {},
     "output_type": "execute_result"
    }
   ],
   "source": [
    "# Сгенерировать нормальнораспределенный массив\n",
    "np.random.randn(7)"
   ]
  },
  {
   "cell_type": "code",
   "execution_count": 25,
   "id": "50401bd3",
   "metadata": {},
   "outputs": [
    {
     "data": {
      "text/plain": [
       "array([[ 1.62715982,  1.59456053,  0.23043417, -0.06491034],\n",
       "       [-0.96898025,  0.59124281, -0.7827755 , -0.44423283],\n",
       "       [-0.34518616, -0.88180055, -0.44265324, -0.5409163 ]])"
      ]
     },
     "execution_count": 25,
     "metadata": {},
     "output_type": "execute_result"
    }
   ],
   "source": [
    "np.random.randn(3, 4)"
   ]
  },
  {
   "cell_type": "code",
   "execution_count": 26,
   "id": "71ee105e",
   "metadata": {},
   "outputs": [
    {
     "data": {
      "text/plain": [
       "array([-1.32322737, -0.11279892,  0.90734594])"
      ]
     },
     "execution_count": 26,
     "metadata": {},
     "output_type": "execute_result"
    }
   ],
   "source": [
    "# Извлечь три числа из нормального распределения со средним, равным 0.0,\n",
    "# и стандартным отклонением, равным 1.0 \n",
    "np.random.normal(0.0, 1.0, 3)"
   ]
  },
  {
   "cell_type": "markdown",
   "id": "728ce20a",
   "metadata": {},
   "source": [
    "#### 1.4. Выбор элементов"
   ]
  },
  {
   "cell_type": "code",
   "execution_count": 27,
   "id": "e191b21a",
   "metadata": {},
   "outputs": [],
   "source": [
    "# Создать вектор-строку\n",
    "vector = np.array([1, 2, 3, 4, 5, 6])\n",
    "\n",
    "# Создать матрицу\n",
    "matrix = np.array([[1, 2, 3], \n",
    "                   [4, 5, 6],\n",
    "                   [7, 8, 9]])"
   ]
  },
  {
   "cell_type": "code",
   "execution_count": 28,
   "id": "fcd4308b",
   "metadata": {},
   "outputs": [
    {
     "data": {
      "text/plain": [
       "3"
      ]
     },
     "execution_count": 28,
     "metadata": {},
     "output_type": "execute_result"
    }
   ],
   "source": [
    "# Выбрать третий элемент вектора \n",
    "vector[2]"
   ]
  },
  {
   "cell_type": "code",
   "execution_count": 29,
   "id": "d835c0b9",
   "metadata": {},
   "outputs": [
    {
     "data": {
      "text/plain": [
       "5"
      ]
     },
     "execution_count": 29,
     "metadata": {},
     "output_type": "execute_result"
    }
   ],
   "source": [
    "# Выбрать элемент на второй строке, во втором столбце \n",
    "matrix[1, 1]"
   ]
  },
  {
   "cell_type": "code",
   "execution_count": 30,
   "id": "10b90b57",
   "metadata": {},
   "outputs": [
    {
     "data": {
      "text/plain": [
       "array([1, 2, 3, 4, 5, 6])"
      ]
     },
     "execution_count": 30,
     "metadata": {},
     "output_type": "execute_result"
    }
   ],
   "source": [
    "# Выбрать все элементы вектора \n",
    "vector[:]"
   ]
  },
  {
   "cell_type": "code",
   "execution_count": 31,
   "id": "6fc9f098",
   "metadata": {},
   "outputs": [
    {
     "data": {
      "text/plain": [
       "array([1, 2, 3])"
      ]
     },
     "execution_count": 31,
     "metadata": {},
     "output_type": "execute_result"
    }
   ],
   "source": [
    "# Выбрать все вплоть до третьего элемента включительно \n",
    "vector[:3]"
   ]
  },
  {
   "cell_type": "code",
   "execution_count": 32,
   "id": "c8d258fa",
   "metadata": {},
   "outputs": [
    {
     "data": {
      "text/plain": [
       "array([4, 5, 6])"
      ]
     },
     "execution_count": 32,
     "metadata": {},
     "output_type": "execute_result"
    }
   ],
   "source": [
    "# Выбрать все после третьего элемента \n",
    "vector[3:]"
   ]
  },
  {
   "cell_type": "code",
   "execution_count": 33,
   "id": "98574e7e",
   "metadata": {},
   "outputs": [
    {
     "data": {
      "text/plain": [
       "6"
      ]
     },
     "execution_count": 33,
     "metadata": {},
     "output_type": "execute_result"
    }
   ],
   "source": [
    "# Выбрать последний элемент \n",
    "vector[-1]"
   ]
  },
  {
   "cell_type": "code",
   "execution_count": 34,
   "id": "0c442f50",
   "metadata": {},
   "outputs": [
    {
     "data": {
      "text/plain": [
       "array([[1, 2, 3],\n",
       "       [4, 5, 6]])"
      ]
     },
     "execution_count": 34,
     "metadata": {},
     "output_type": "execute_result"
    }
   ],
   "source": [
    "# Выбрать первые две строки и все столбцы матрицы \n",
    "matrix[:2,:]"
   ]
  },
  {
   "cell_type": "code",
   "execution_count": 35,
   "id": "189495ee",
   "metadata": {},
   "outputs": [
    {
     "data": {
      "text/plain": [
       "array([[2],\n",
       "       [5],\n",
       "       [8]])"
      ]
     },
     "execution_count": 35,
     "metadata": {},
     "output_type": "execute_result"
    }
   ],
   "source": [
    "# Выбрать все строки и второй столбец \n",
    "matrix[:,1:2]"
   ]
  },
  {
   "cell_type": "markdown",
   "id": "c18e02e8",
   "metadata": {},
   "source": [
    "#### 1.5.  Описание матрицы"
   ]
  },
  {
   "cell_type": "code",
   "execution_count": 36,
   "id": "18be6ad1",
   "metadata": {},
   "outputs": [],
   "source": [
    "# Создать матрицу\n",
    "matrix = np.array([[1, 2, 3, 4],\n",
    "                   [5, 6, 7, 8],\n",
    "                   [9, 10, 11, 12]])"
   ]
  },
  {
   "cell_type": "code",
   "execution_count": 37,
   "id": "9e9a9e92",
   "metadata": {},
   "outputs": [
    {
     "data": {
      "text/plain": [
       "array([[ 1,  2,  3,  4],\n",
       "       [ 5,  6,  7,  8],\n",
       "       [ 9, 10, 11, 12]])"
      ]
     },
     "execution_count": 37,
     "metadata": {},
     "output_type": "execute_result"
    }
   ],
   "source": [
    "matrix"
   ]
  },
  {
   "cell_type": "code",
   "execution_count": 38,
   "id": "582f1de2",
   "metadata": {},
   "outputs": [
    {
     "data": {
      "text/plain": [
       "(3, 4)"
      ]
     },
     "execution_count": 38,
     "metadata": {},
     "output_type": "execute_result"
    }
   ],
   "source": [
    "# Взглянуть на количество строк и столбцов \n",
    "matrix.shape"
   ]
  },
  {
   "cell_type": "code",
   "execution_count": 39,
   "id": "18daf030",
   "metadata": {},
   "outputs": [
    {
     "data": {
      "text/plain": [
       "12"
      ]
     },
     "execution_count": 39,
     "metadata": {},
     "output_type": "execute_result"
    }
   ],
   "source": [
    "# Взглянуть на количество элементов (строки * столбцы) \n",
    "matrix.size"
   ]
  },
  {
   "cell_type": "code",
   "execution_count": 40,
   "id": "840e3559",
   "metadata": {},
   "outputs": [
    {
     "data": {
      "text/plain": [
       "2"
      ]
     },
     "execution_count": 40,
     "metadata": {},
     "output_type": "execute_result"
    }
   ],
   "source": [
    "# Взглянуть на количество размерностей \n",
    "matrix.ndim"
   ]
  },
  {
   "cell_type": "markdown",
   "id": "a8cd0b3f",
   "metadata": {},
   "source": [
    "#### 1.6.  Операции над массивами"
   ]
  },
  {
   "cell_type": "code",
   "execution_count": 41,
   "id": "390b9883",
   "metadata": {},
   "outputs": [],
   "source": [
    "# Создать матрицу\n",
    "matrix = np.array([[1, 2, 3, 4],\n",
    "                   [5, 6, 7, 8],\n",
    "                   [9, 10, 11, 12]])"
   ]
  },
  {
   "cell_type": "markdown",
   "id": "fd3de9d4",
   "metadata": {},
   "source": [
    "###### 1.6.1 Нахождение максимального и минимального элементов"
   ]
  },
  {
   "cell_type": "code",
   "execution_count": 42,
   "id": "3f961417",
   "metadata": {},
   "outputs": [
    {
     "data": {
      "text/plain": [
       "12"
      ]
     },
     "execution_count": 42,
     "metadata": {},
     "output_type": "execute_result"
    }
   ],
   "source": [
    "# Вернуть максимальный элемент \n",
    "np.max(matrix)"
   ]
  },
  {
   "cell_type": "code",
   "execution_count": 54,
   "id": "9a936c58",
   "metadata": {},
   "outputs": [
    {
     "data": {
      "text/plain": [
       "1"
      ]
     },
     "execution_count": 54,
     "metadata": {},
     "output_type": "execute_result"
    }
   ],
   "source": [
    "# Вернуть минимальный элемент \n",
    "matrix.min()"
   ]
  },
  {
   "cell_type": "code",
   "execution_count": 55,
   "id": "aafad9ba",
   "metadata": {},
   "outputs": [
    {
     "data": {
      "text/plain": [
       "11"
      ]
     },
     "execution_count": 55,
     "metadata": {},
     "output_type": "execute_result"
    }
   ],
   "source": [
    "# Вернуть индекс максимального элемента \n",
    "matrix.argmax()"
   ]
  },
  {
   "cell_type": "code",
   "execution_count": 44,
   "id": "a77915e9",
   "metadata": {},
   "outputs": [
    {
     "data": {
      "text/plain": [
       "array([ 9, 10, 11, 12])"
      ]
     },
     "execution_count": 44,
     "metadata": {},
     "output_type": "execute_result"
    }
   ],
   "source": [
    "# Найти максимальный элемент в каждом столбце \n",
    "np.max(matrix, axis=0)"
   ]
  },
  {
   "cell_type": "code",
   "execution_count": 46,
   "id": "262b152e",
   "metadata": {},
   "outputs": [
    {
     "data": {
      "text/plain": [
       "array([ 4,  8, 12])"
      ]
     },
     "execution_count": 46,
     "metadata": {},
     "output_type": "execute_result"
    }
   ],
   "source": [
    "# Найти максимальный элемент в каждой строке \n",
    "np.max(matrix, axis=1)"
   ]
  },
  {
   "cell_type": "markdown",
   "id": "8b7ddccf",
   "metadata": {},
   "source": [
    "###### 1.6.2 Вычисление среднего значения, дисперсии и стандартного отклонения"
   ]
  },
  {
   "cell_type": "code",
   "execution_count": 47,
   "id": "4e07dd61",
   "metadata": {},
   "outputs": [
    {
     "data": {
      "text/plain": [
       "6.5"
      ]
     },
     "execution_count": 47,
     "metadata": {},
     "output_type": "execute_result"
    }
   ],
   "source": [
    "# Вернуть среднее значение \n",
    "np.mean(matrix)"
   ]
  },
  {
   "cell_type": "code",
   "execution_count": 48,
   "id": "8b1039bb",
   "metadata": {},
   "outputs": [
    {
     "data": {
      "text/plain": [
       "11.916666666666666"
      ]
     },
     "execution_count": 48,
     "metadata": {},
     "output_type": "execute_result"
    }
   ],
   "source": [
    "# Вернуть дисперсию \n",
    "np.var(matrix)"
   ]
  },
  {
   "cell_type": "code",
   "execution_count": 50,
   "id": "ba0a01fa",
   "metadata": {},
   "outputs": [
    {
     "data": {
      "text/plain": [
       "3.452052529534663"
      ]
     },
     "execution_count": 50,
     "metadata": {},
     "output_type": "execute_result"
    }
   ],
   "source": [
    "# Вернуть стандартное отклонение \n",
    "np.std(matrix)"
   ]
  },
  {
   "cell_type": "code",
   "execution_count": 51,
   "id": "f7068b6c",
   "metadata": {},
   "outputs": [
    {
     "data": {
      "text/plain": [
       "array([5., 6., 7., 8.])"
      ]
     },
     "execution_count": 51,
     "metadata": {},
     "output_type": "execute_result"
    }
   ],
   "source": [
    "# Найти среднее значение в каждом столбце \n",
    "np.mean(matrix, axis=0)"
   ]
  },
  {
   "cell_type": "markdown",
   "id": "264fa179",
   "metadata": {},
   "source": [
    "###### 1.6.3 Реформирование массивов"
   ]
  },
  {
   "cell_type": "markdown",
   "id": "6d703cbe",
   "metadata": {},
   "source": [
    "Метод reshape позволяет реструктурировать массив так, что мы сохраняем те же самые данные и при этом организуем их как другое количество строк и столбцов.  Единственное требование состоит в том, чтобы формы исходной и новой матриц содержали одинаковое количество элементов (т.е. матрицы имели одинаковый размер). "
   ]
  },
  {
   "cell_type": "code",
   "execution_count": 71,
   "id": "da9baab7",
   "metadata": {},
   "outputs": [],
   "source": [
    "rand_arr = np.random.randint(0,10,20)"
   ]
  },
  {
   "cell_type": "code",
   "execution_count": 72,
   "id": "678edaaf",
   "metadata": {},
   "outputs": [
    {
     "data": {
      "text/plain": [
       "array([4, 4, 8, 4, 3, 7, 5, 5, 0, 1, 5, 9, 3, 0, 5, 0, 1, 2, 4, 2])"
      ]
     },
     "execution_count": 72,
     "metadata": {},
     "output_type": "execute_result"
    }
   ],
   "source": [
    "rand_arr"
   ]
  },
  {
   "cell_type": "code",
   "execution_count": 73,
   "id": "6d99a4e0",
   "metadata": {},
   "outputs": [],
   "source": [
    "matrix = rand_arr.reshape(4,5)"
   ]
  },
  {
   "cell_type": "code",
   "execution_count": 74,
   "id": "6687f34a",
   "metadata": {},
   "outputs": [
    {
     "data": {
      "text/plain": [
       "array([[4, 4, 8, 4, 3],\n",
       "       [7, 5, 5, 0, 1],\n",
       "       [5, 9, 3, 0, 5],\n",
       "       [0, 1, 2, 4, 2]])"
      ]
     },
     "execution_count": 74,
     "metadata": {},
     "output_type": "execute_result"
    }
   ],
   "source": [
    "matrix"
   ]
  },
  {
   "cell_type": "code",
   "execution_count": 75,
   "id": "851c9e7d",
   "metadata": {},
   "outputs": [
    {
     "data": {
      "text/plain": [
       "array([[4, 4, 8, 4],\n",
       "       [3, 7, 5, 5],\n",
       "       [0, 1, 5, 9],\n",
       "       [3, 0, 5, 0],\n",
       "       [1, 2, 4, 2]])"
      ]
     },
     "execution_count": 75,
     "metadata": {},
     "output_type": "execute_result"
    }
   ],
   "source": [
    "matrix.reshape(5, 4)"
   ]
  },
  {
   "cell_type": "markdown",
   "id": "e2a1ea0b",
   "metadata": {},
   "source": [
    "###### 1.6.4 Сглаживание матрицы"
   ]
  },
  {
   "cell_type": "markdown",
   "id": "5d5a0792",
   "metadata": {},
   "source": [
    "Mетод flatten представляет собой простой метод преобразования матрицы в одномерный массив."
   ]
  },
  {
   "cell_type": "code",
   "execution_count": 68,
   "id": "22fa29e6",
   "metadata": {},
   "outputs": [
    {
     "data": {
      "text/plain": [
       "array([8, 1, 1, 7, 9, 9, 3, 6, 7, 2, 0, 3, 5, 9, 4, 4, 6, 4, 4, 3])"
      ]
     },
     "execution_count": 68,
     "metadata": {},
     "output_type": "execute_result"
    }
   ],
   "source": [
    "# Сгладить матрицу \n",
    "matrix.flatten()"
   ]
  },
  {
   "cell_type": "code",
   "execution_count": 69,
   "id": "111033af",
   "metadata": {},
   "outputs": [
    {
     "data": {
      "text/plain": [
       "array([[8, 1, 1, 7, 9, 9, 3, 6, 7, 2, 0, 3, 5, 9, 4, 4, 6, 4, 4, 3]])"
      ]
     },
     "execution_count": 69,
     "metadata": {},
     "output_type": "execute_result"
    }
   ],
   "source": [
    "matrix.reshape(1, -1)"
   ]
  },
  {
   "cell_type": "markdown",
   "id": "ae0f04c3",
   "metadata": {},
   "source": [
    "###### 1.6.5 Транспонирование"
   ]
  },
  {
   "cell_type": "markdown",
   "id": "dc75c1d2",
   "metadata": {},
   "source": [
    "Транспонирование — это универсальная линейно-алгебраическая операция, в которой индексы столбцов и строк каждого элемента меняются местами"
   ]
  },
  {
   "cell_type": "code",
   "execution_count": 76,
   "id": "70b19b91",
   "metadata": {},
   "outputs": [
    {
     "data": {
      "text/plain": [
       "array([[4, 7, 5, 0],\n",
       "       [4, 5, 9, 1],\n",
       "       [8, 5, 3, 2],\n",
       "       [4, 0, 0, 4],\n",
       "       [3, 1, 5, 2]])"
      ]
     },
     "execution_count": 76,
     "metadata": {},
     "output_type": "execute_result"
    }
   ],
   "source": [
    "# Транспонировать матрицу \n",
    "matrix.T"
   ]
  },
  {
   "cell_type": "markdown",
   "id": "fdce767d",
   "metadata": {},
   "source": [
    "###### 1.6.6 Определитель матрицы"
   ]
  },
  {
   "cell_type": "code",
   "execution_count": 78,
   "id": "4b22ec0c",
   "metadata": {},
   "outputs": [],
   "source": [
    "matrix = np.array([[1, 2, 3],\n",
    "                   [2, 4, 6],\n",
    "                   [3, 8, 9]])"
   ]
  },
  {
   "cell_type": "code",
   "execution_count": 79,
   "id": "dd90d778",
   "metadata": {},
   "outputs": [
    {
     "data": {
      "text/plain": [
       "0.0"
      ]
     },
     "execution_count": 79,
     "metadata": {},
     "output_type": "execute_result"
    }
   ],
   "source": [
    "# Вернуть определитель матрицы\n",
    "np.linalg.det(matrix)"
   ]
  },
  {
   "cell_type": "code",
   "execution_count": 80,
   "id": "61548408",
   "metadata": {},
   "outputs": [
    {
     "data": {
      "text/plain": [
       "array([1, 4, 9])"
      ]
     },
     "execution_count": 80,
     "metadata": {},
     "output_type": "execute_result"
    }
   ],
   "source": [
    "# Вернуть диагональные элементы \n",
    "matrix.diagonal()"
   ]
  },
  {
   "cell_type": "code",
   "execution_count": 81,
   "id": "e4fc4408",
   "metadata": {},
   "outputs": [
    {
     "data": {
      "text/plain": [
       "14"
      ]
     },
     "execution_count": 81,
     "metadata": {},
     "output_type": "execute_result"
    }
   ],
   "source": [
    "# Вырнуть след матрицы - сумма элементов главной диагонали\n",
    "matrix.trace()"
   ]
  },
  {
   "cell_type": "code",
   "execution_count": 82,
   "id": "0e735918",
   "metadata": {},
   "outputs": [
    {
     "data": {
      "text/plain": [
       "14"
      ]
     },
     "execution_count": 82,
     "metadata": {},
     "output_type": "execute_result"
    }
   ],
   "source": [
    "# Вернуть диагональ и сумму ее элементов \n",
    "sum(matrix.diagonal())"
   ]
  },
  {
   "cell_type": "markdown",
   "id": "eebf4922",
   "metadata": {},
   "source": [
    "###### 1.6.7 Вычисление скалярных произведений"
   ]
  },
  {
   "cell_type": "code",
   "execution_count": 83,
   "id": "e6fe877d",
   "metadata": {},
   "outputs": [],
   "source": [
    "# Создать два вектора \n",
    "vector_a = np.array([1,2,3]) \n",
    "vector_b = np.array([4,5,6])"
   ]
  },
  {
   "cell_type": "code",
   "execution_count": 84,
   "id": "bc34ca07",
   "metadata": {},
   "outputs": [
    {
     "data": {
      "text/plain": [
       "32"
      ]
     },
     "execution_count": 84,
     "metadata": {},
     "output_type": "execute_result"
    }
   ],
   "source": [
    "# Вычислить скалярное произведение \n",
    "np.dot(vector_a, vector_b)"
   ]
  },
  {
   "cell_type": "markdown",
   "id": "f2d78dad",
   "metadata": {},
   "source": [
    "###### 1.6.8 Арифметические операции над матрицами"
   ]
  },
  {
   "cell_type": "code",
   "execution_count": 85,
   "id": "9476f374",
   "metadata": {},
   "outputs": [],
   "source": [
    "# Создать матрицу\n",
    "matrix_a = np.array([[1, 1, 1],\n",
    "                     [1, 1, 1],\n",
    "                     [1, 1, 2]])"
   ]
  },
  {
   "cell_type": "code",
   "execution_count": 86,
   "id": "0c5100d3",
   "metadata": {},
   "outputs": [],
   "source": [
    "# Создать матрицу\n",
    "matrix_b = np.array([[1, 3, 1],\n",
    "                     [1, 3, 1],\n",
    "                     [1, 3, 8]])"
   ]
  },
  {
   "cell_type": "code",
   "execution_count": 87,
   "id": "b8a55223",
   "metadata": {},
   "outputs": [
    {
     "data": {
      "text/plain": [
       "array([[ 2,  4,  2],\n",
       "       [ 2,  4,  2],\n",
       "       [ 2,  4, 10]])"
      ]
     },
     "execution_count": 87,
     "metadata": {},
     "output_type": "execute_result"
    }
   ],
   "source": [
    "# Сложить две матрицы\n",
    "np.add(matrix_a, matrix_b)"
   ]
  },
  {
   "cell_type": "code",
   "execution_count": 88,
   "id": "beb4f84f",
   "metadata": {},
   "outputs": [
    {
     "data": {
      "text/plain": [
       "array([[ 0, -2,  0],\n",
       "       [ 0, -2,  0],\n",
       "       [ 0, -2, -6]])"
      ]
     },
     "execution_count": 88,
     "metadata": {},
     "output_type": "execute_result"
    }
   ],
   "source": [
    "# Вычесть из одной матрицы другую \n",
    "np.subtract(matrix_a, matrix_b)"
   ]
  },
  {
   "cell_type": "code",
   "execution_count": 89,
   "id": "ce995ef5",
   "metadata": {},
   "outputs": [
    {
     "data": {
      "text/plain": [
       "array([[ 2,  4,  2],\n",
       "       [ 2,  4,  2],\n",
       "       [ 2,  4, 10]])"
      ]
     },
     "execution_count": 89,
     "metadata": {},
     "output_type": "execute_result"
    }
   ],
   "source": [
    "# Сложить две матрицы \n",
    "matrix_a + matrix_b"
   ]
  },
  {
   "cell_type": "code",
   "execution_count": 90,
   "id": "766795a6",
   "metadata": {},
   "outputs": [
    {
     "data": {
      "text/plain": [
       "array([[ 0, -2,  0],\n",
       "       [ 0, -2,  0],\n",
       "       [ 0, -2, -6]])"
      ]
     },
     "execution_count": 90,
     "metadata": {},
     "output_type": "execute_result"
    }
   ],
   "source": [
    "# Вычесть из одной матрицы другую \n",
    "matrix_a - matrix_b"
   ]
  },
  {
   "cell_type": "code",
   "execution_count": 91,
   "id": "caee1b79",
   "metadata": {},
   "outputs": [
    {
     "data": {
      "text/plain": [
       "array([[ 3,  9, 10],\n",
       "       [ 3,  9, 10],\n",
       "       [ 4, 12, 18]])"
      ]
     },
     "execution_count": 91,
     "metadata": {},
     "output_type": "execute_result"
    }
   ],
   "source": [
    "# Перемножить две матрицы \n",
    "np.dot(matrix_a, matrix_b)"
   ]
  },
  {
   "cell_type": "code",
   "execution_count": 93,
   "id": "60ee5545",
   "metadata": {},
   "outputs": [
    {
     "data": {
      "text/plain": [
       "array([[ 3,  9, 10],\n",
       "       [ 3,  9, 10],\n",
       "       [ 4, 12, 18]])"
      ]
     },
     "execution_count": 93,
     "metadata": {},
     "output_type": "execute_result"
    }
   ],
   "source": [
    "# Перемножить две матрицы \n",
    "matrix_a @ matrix_b"
   ]
  },
  {
   "cell_type": "code",
   "execution_count": 94,
   "id": "65b0fe0d",
   "metadata": {},
   "outputs": [],
   "source": [
    "# Создать матрицу \n",
    "matrix = np.array([[1, 4],\n",
    "                   [2, 5]])"
   ]
  },
  {
   "cell_type": "code",
   "execution_count": 95,
   "id": "47e2eae7",
   "metadata": {},
   "outputs": [
    {
     "data": {
      "text/plain": [
       "array([[-1.66666667,  1.33333333],\n",
       "       [ 0.66666667, -0.33333333]])"
      ]
     },
     "execution_count": 95,
     "metadata": {},
     "output_type": "execute_result"
    }
   ],
   "source": [
    "# Вычислить обратную матрицу \n",
    "np.linalg.inv(matrix)"
   ]
  },
  {
   "cell_type": "code",
   "execution_count": 96,
   "id": "15bcac26",
   "metadata": {},
   "outputs": [
    {
     "data": {
      "text/plain": [
       "array([[1.        , 2.        ],\n",
       "       [1.41421356, 2.23606798]])"
      ]
     },
     "execution_count": 96,
     "metadata": {},
     "output_type": "execute_result"
    }
   ],
   "source": [
    "np.sqrt(matrix)"
   ]
  },
  {
   "cell_type": "code",
   "execution_count": null,
   "id": "1e546a7a",
   "metadata": {},
   "outputs": [],
   "source": []
  }
 ],
 "metadata": {
  "kernelspec": {
   "display_name": "Python 3 (ipykernel)",
   "language": "python",
   "name": "python3"
  },
  "language_info": {
   "codemirror_mode": {
    "name": "ipython",
    "version": 3
   },
   "file_extension": ".py",
   "mimetype": "text/x-python",
   "name": "python",
   "nbconvert_exporter": "python",
   "pygments_lexer": "ipython3",
   "version": "3.10.10"
  }
 },
 "nbformat": 4,
 "nbformat_minor": 5
}
