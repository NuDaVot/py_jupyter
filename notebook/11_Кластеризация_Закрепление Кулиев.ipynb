{
 "cells": [
  {
   "cell_type": "code",
   "execution_count": 5,
   "id": "cf54c545",
   "metadata": {},
   "outputs": [],
   "source": [
    "import numpy as np\n",
    "import pandas as pd\n",
    "import matplotlib.pyplot as plt\n",
    "from sklearn import metrics\n",
    "from sklearn.cluster import KMeans"
   ]
  },
  {
   "cell_type": "code",
   "execution_count": 50,
   "id": "6a923f11",
   "metadata": {},
   "outputs": [],
   "source": [
    "X = pd.read_csv('10_Mall_Customers.csv')"
   ]
  },
  {
   "cell_type": "code",
   "execution_count": 51,
   "id": "f39e932e",
   "metadata": {},
   "outputs": [
    {
     "data": {
      "text/html": [
       "<div>\n",
       "<style scoped>\n",
       "    .dataframe tbody tr th:only-of-type {\n",
       "        vertical-align: middle;\n",
       "    }\n",
       "\n",
       "    .dataframe tbody tr th {\n",
       "        vertical-align: top;\n",
       "    }\n",
       "\n",
       "    .dataframe thead th {\n",
       "        text-align: right;\n",
       "    }\n",
       "</style>\n",
       "<table border=\"1\" class=\"dataframe\">\n",
       "  <thead>\n",
       "    <tr style=\"text-align: right;\">\n",
       "      <th></th>\n",
       "      <th>CustomerID</th>\n",
       "      <th>Genre</th>\n",
       "      <th>Age</th>\n",
       "      <th>Annual Income (k$)</th>\n",
       "      <th>Spending Score (1-100)</th>\n",
       "    </tr>\n",
       "  </thead>\n",
       "  <tbody>\n",
       "    <tr>\n",
       "      <th>0</th>\n",
       "      <td>1</td>\n",
       "      <td>Male</td>\n",
       "      <td>19</td>\n",
       "      <td>15</td>\n",
       "      <td>39</td>\n",
       "    </tr>\n",
       "    <tr>\n",
       "      <th>1</th>\n",
       "      <td>2</td>\n",
       "      <td>Male</td>\n",
       "      <td>21</td>\n",
       "      <td>15</td>\n",
       "      <td>81</td>\n",
       "    </tr>\n",
       "    <tr>\n",
       "      <th>2</th>\n",
       "      <td>3</td>\n",
       "      <td>Female</td>\n",
       "      <td>20</td>\n",
       "      <td>16</td>\n",
       "      <td>6</td>\n",
       "    </tr>\n",
       "    <tr>\n",
       "      <th>3</th>\n",
       "      <td>4</td>\n",
       "      <td>Female</td>\n",
       "      <td>23</td>\n",
       "      <td>16</td>\n",
       "      <td>77</td>\n",
       "    </tr>\n",
       "    <tr>\n",
       "      <th>4</th>\n",
       "      <td>5</td>\n",
       "      <td>Female</td>\n",
       "      <td>31</td>\n",
       "      <td>17</td>\n",
       "      <td>40</td>\n",
       "    </tr>\n",
       "  </tbody>\n",
       "</table>\n",
       "</div>"
      ],
      "text/plain": [
       "   CustomerID   Genre  Age  Annual Income (k$)  Spending Score (1-100)\n",
       "0           1    Male   19                  15                      39\n",
       "1           2    Male   21                  15                      81\n",
       "2           3  Female   20                  16                       6\n",
       "3           4  Female   23                  16                      77\n",
       "4           5  Female   31                  17                      40"
      ]
     },
     "execution_count": 51,
     "metadata": {},
     "output_type": "execute_result"
    }
   ],
   "source": [
    "X.head()"
   ]
  },
  {
   "cell_type": "code",
   "execution_count": 10,
   "id": "65ec79a4",
   "metadata": {},
   "outputs": [
    {
     "name": "stdout",
     "output_type": "stream",
     "text": [
      "<class 'pandas.core.frame.DataFrame'>\n",
      "RangeIndex: 200 entries, 0 to 199\n",
      "Data columns (total 5 columns):\n",
      " #   Column                  Non-Null Count  Dtype \n",
      "---  ------                  --------------  ----- \n",
      " 0   CustomerID              200 non-null    int64 \n",
      " 1   Genre                   200 non-null    object\n",
      " 2   Age                     200 non-null    int64 \n",
      " 3   Annual Income (k$)      200 non-null    int64 \n",
      " 4   Spending Score (1-100)  200 non-null    int64 \n",
      "dtypes: int64(4), object(1)\n",
      "memory usage: 7.9+ KB\n"
     ]
    }
   ],
   "source": [
    "X.info()"
   ]
  },
  {
   "cell_type": "code",
   "execution_count": 15,
   "id": "fe70f1f1",
   "metadata": {},
   "outputs": [],
   "source": [
    "X['Genre'].replace('Male', 0, inplace=True)\n",
    "X['Genre'].replace('Female', 1, inplace=True)"
   ]
  },
  {
   "cell_type": "markdown",
   "id": "b6ae52bc",
   "metadata": {},
   "source": [
    "Поменяли строки на числа "
   ]
  },
  {
   "cell_type": "code",
   "execution_count": 21,
   "id": "8b918050",
   "metadata": {},
   "outputs": [
    {
     "name": "stderr",
     "output_type": "stream",
     "text": [
      "C:\\Users\\nudan\\anaconda3\\lib\\site-packages\\sklearn\\cluster\\_kmeans.py:1036: UserWarning: KMeans is known to have a memory leak on Windows with MKL, when there are less chunks than available threads. You can avoid it by setting the environment variable OMP_NUM_THREADS=1.\n",
      "  warnings.warn(\n"
     ]
    },
    {
     "data": {
      "text/plain": [
       "Text(0, 0.5, 'WCSS')"
      ]
     },
     "execution_count": 21,
     "metadata": {},
     "output_type": "execute_result"
    },
    {
     "data": {
      "image/png": "[encoded data removed]",
      "text/plain": [
       "<Figure size 720x432 with 1 Axes>"
      ]
     },
     "metadata": {
      "needs_background": "light"
     },
     "output_type": "display_data"
    }
   ],
   "source": [
    "# импортируем нужный класс\n",
    "from sklearn.cluster import KMeans\n",
    " \n",
    "# создадим пустой список для записи показателя WCSS (нашей ошибки)\n",
    "wcss = []\n",
    " \n",
    "# воспользуемся новой для нас функцией range(), она возвращает последовательность чисел\n",
    "# в данном случае числа от 1 до 10\n",
    "for i in range(1, 11):\n",
    "    \n",
    "    # настроим параметры модели (подробнее об этом расскажу чуть дальше)\n",
    "    kmeans = KMeans(n_clusters = i, init = 'k-means++', max_iter = 300, n_init = 10, random_state = 42)\n",
    " \n",
    "    # обучим модель на наших данных с разным количеством кластеров\n",
    "    kmeans.fit(X)\n",
    " \n",
    "    # для каждого кластера рассчитаем ошибку (атрибут inertia_) и поместим в список\n",
    "    wcss.append(kmeans.inertia_)\n",
    " \n",
    "# зададим размер график\n",
    "plt.figure(figsize = (10,6))\n",
    "# передадим функции plot() последовательность кластеров и ошибку WCSS\n",
    "plt.plot(range(1, 11), wcss)\n",
    "# и добавим подписи\n",
    "plt.title('Выбор количества кластеров методом локтя')\n",
    "plt.xlabel('Количество кластеров')\n",
    "plt.ylabel('WCSS')"
   ]
  },
  {
   "cell_type": "code",
   "execution_count": null,
   "id": "1c3bc147",
   "metadata": {},
   "outputs": [],
   "source": [
    "метод лоактя: кластеры 4"
   ]
  },
  {
   "cell_type": "code",
   "execution_count": 25,
   "id": "4ca13234",
   "metadata": {},
   "outputs": [],
   "source": [
    "scores = []\n",
    "values = np.arange(2, 10)"
   ]
  },
  {
   "cell_type": "code",
   "execution_count": 26,
   "id": "f47f63ad",
   "metadata": {},
   "outputs": [
    {
     "name": "stdout",
     "output_type": "stream",
     "text": [
      "\n",
      "Number of clusters = 2\n",
      "Silhouette score = 0.4793049017423563\n",
      "\n",
      "Number of clusters = 3\n",
      "Silhouette score = 0.3766801400675223\n",
      "\n",
      "Number of clusters = 4\n",
      "Silhouette score = 0.42245261332521883\n",
      "\n",
      "Number of clusters = 5\n",
      "Silhouette score = 0.4129419301414886\n",
      "\n",
      "Number of clusters = 6\n",
      "Silhouette score = 0.409528091044574\n",
      "\n",
      "Number of clusters = 7\n",
      "Silhouette score = 0.400099295975502\n",
      "\n",
      "Number of clusters = 8\n",
      "Silhouette score = 0.40550215828085\n",
      "\n",
      "Number of clusters = 9\n",
      "Silhouette score = 0.40036251957599445\n"
     ]
    }
   ],
   "source": [
    "for num_clusters in values:\n",
    "    # Train the KMeans clustering model\n",
    "    kmeans = KMeans(init='k-means++', n_clusters=num_clusters, n_init=10)\n",
    "    kmeans.fit(X)\n",
    "    score = metrics.silhouette_score(X, kmeans.labels_, \n",
    "                metric='euclidean', sample_size=len(X))\n",
    "\n",
    "    print(\"\\nNumber of clusters =\", num_clusters)\n",
    "    print(\"Silhouette score =\", score)\n",
    "                    \n",
    "    scores.append(score)"
   ]
  },
  {
   "cell_type": "code",
   "execution_count": 38,
   "id": "03172981",
   "metadata": {},
   "outputs": [
    {
     "name": "stdout",
     "output_type": "stream",
     "text": [
      "\n",
      "Optimal number of clusters = 2\n"
     ]
    },
    {
     "data": {
      "image/png": "[encoded data removed]",
      "text/plain": [
       "<Figure size 432x288 with 1 Axes>"
      ]
     },
     "metadata": {
      "needs_background": "light"
     },
     "output_type": "display_data"
    }
   ],
   "source": [
    "# Plot silhouette scores\n",
    "plt.figure()\n",
    "plt.bar(values, scores, width=0.7, color='blue', align='center')\n",
    "plt.title('Silhouette score vs number of clusters')\n",
    "\n",
    "# Extract best score and optimal number of clusters\n",
    "num_clusters = np.argmax(scores) + values[0]\n",
    "print('\\nOptimal number of clusters =', num_clusters)\n",
    "\n",
    "plt.show()"
   ]
  },
  {
   "cell_type": "markdown",
   "id": "a639e38d",
   "metadata": {},
   "source": [
    "2 класетера или 4 "
   ]
  },
  {
   "cell_type": "code",
   "execution_count": 34,
   "id": "4a3444ce",
   "metadata": {},
   "outputs": [],
   "source": [
    "# заново обучим модель с тремя кластерами\n",
    "kmeans = KMeans(n_clusters = 2, init = 'k-means++', max_iter = 300, n_init = 10, random_state = 42)\n"
   ]
  },
  {
   "cell_type": "code",
   "execution_count": 35,
   "id": "31e62e36",
   "metadata": {},
   "outputs": [
    {
     "data": {
      "text/plain": [
       "<matplotlib.collections.PathCollection at 0x1dcd80bf970>"
      ]
     },
     "execution_count": 35,
     "metadata": {},
     "output_type": "execute_result"
    },
    {
     "data": {
      "image/png": "[encoded data removed]",
      "text/plain": [
       "<Figure size 720x432 with 1 Axes>"
      ]
     },
     "metadata": {
      "needs_background": "light"
     },
     "output_type": "display_data"
    }
   ],
   "source": [
    "# зададим размер\n",
    "plt.figure(figsize = (10,6))\n",
    " \n",
    "# возьмем первый и второй столбцы с помощью функции iloc()\n",
    "# параметр с задаст каждой точке определенный код (0, 1, 2), а\n",
    "# camp определит цвет каждой из точек\n",
    "plt.scatter(X.iloc[:,0], X.iloc[:,1],  cmap = 'Paired')"
   ]
  },
  {
   "cell_type": "code",
   "execution_count": 41,
   "id": "0a44ad5b",
   "metadata": {},
   "outputs": [],
   "source": [
    "import numpy as np\n",
    "import matplotlib.pyplot as plt\n",
    "from sklearn.cluster import MeanShift, estimate_bandwidth\n",
    "from itertools import cycle"
   ]
  },
  {
   "cell_type": "code",
   "execution_count": 45,
   "id": "0d28d635",
   "metadata": {},
   "outputs": [],
   "source": [
    "bandwidth_X = estimate_bandwidth(X, quantile=0.1, n_samples=len(X))"
   ]
  },
  {
   "cell_type": "code",
   "execution_count": 46,
   "id": "51be404b",
   "metadata": {},
   "outputs": [
    {
     "data": {
      "text/plain": [
       "MeanShift(bandwidth=30.88802908776477, bin_seeding=True)"
      ]
     },
     "execution_count": 46,
     "metadata": {},
     "output_type": "execute_result"
    }
   ],
   "source": [
    "meanshift_model = MeanShift(bandwidth=bandwidth_X, bin_seeding=True)\n",
    "meanshift_model.fit(X)"
   ]
  },
  {
   "cell_type": "code",
   "execution_count": 47,
   "id": "087c5dde",
   "metadata": {},
   "outputs": [
    {
     "name": "stdout",
     "output_type": "stream",
     "text": [
      "\n",
      "Centers of clusters:\n",
      " [[ 99.85106383   0.59574468  40.65957447  60.53191489  49.44680851]\n",
      " [ 67.13333333   0.55555556  45.77777778  48.28888889  50.48888889]\n",
      " [150.           0.55555556  33.          77.66666667  82.37037037]\n",
      " [153.           0.43478261  38.39130435  78.95652174  16.69565217]\n",
      " [ 24.           0.60869565  25.52173913  26.30434783  78.56521739]\n",
      " [ 26.           0.6         48.5         27.85        19.8       ]\n",
      " [180.           0.5         44.125       95.9375      19.5       ]]\n"
     ]
    }
   ],
   "source": [
    "# Извлечь центры кластеров\n",
    "cluster_centers = meanshift_model.cluster_centers_\n",
    "print('\\nCenters of clusters:\\n', cluster_centers)"
   ]
  },
  {
   "cell_type": "code",
   "execution_count": 48,
   "id": "c8b18a27",
   "metadata": {},
   "outputs": [
    {
     "name": "stdout",
     "output_type": "stream",
     "text": [
      "\n",
      "Number of clusters in input data = 7\n"
     ]
    }
   ],
   "source": [
    "labels = meanshift_model.labels_\n",
    "num_clusters = len(np.unique(labels))\n",
    "print(\"\\nNumber of clusters in input data =\", num_clusters)"
   ]
  },
  {
   "cell_type": "code",
   "execution_count": 69,
   "id": "02ae8d7b",
   "metadata": {},
   "outputs": [],
   "source": [
    "X_trean = pd.DataFrame(X[\"Age\"])\n",
    "X_trean[\"Spending Score (1-100)\"] = pd.DataFrame(X[\"Spending Score (1-100)\"])"
   ]
  },
  {
   "cell_type": "code",
   "execution_count": 92,
   "id": "c8a3b95a",
   "metadata": {},
   "outputs": [
    {
     "data": {
      "text/html": [
       "<div>\n",
       "<style scoped>\n",
       "    .dataframe tbody tr th:only-of-type {\n",
       "        vertical-align: middle;\n",
       "    }\n",
       "\n",
       "    .dataframe tbody tr th {\n",
       "        vertical-align: top;\n",
       "    }\n",
       "\n",
       "    .dataframe thead th {\n",
       "        text-align: right;\n",
       "    }\n",
       "</style>\n",
       "<table border=\"1\" class=\"dataframe\">\n",
       "  <thead>\n",
       "    <tr style=\"text-align: right;\">\n",
       "      <th></th>\n",
       "      <th>Age</th>\n",
       "      <th>Spending Score (1-100)</th>\n",
       "      <th>Target</th>\n",
       "    </tr>\n",
       "  </thead>\n",
       "  <tbody>\n",
       "    <tr>\n",
       "      <th>0</th>\n",
       "      <td>19</td>\n",
       "      <td>39</td>\n",
       "      <td>3</td>\n",
       "    </tr>\n",
       "    <tr>\n",
       "      <th>1</th>\n",
       "      <td>21</td>\n",
       "      <td>81</td>\n",
       "      <td>2</td>\n",
       "    </tr>\n",
       "    <tr>\n",
       "      <th>2</th>\n",
       "      <td>20</td>\n",
       "      <td>6</td>\n",
       "      <td>1</td>\n",
       "    </tr>\n",
       "    <tr>\n",
       "      <th>3</th>\n",
       "      <td>23</td>\n",
       "      <td>77</td>\n",
       "      <td>2</td>\n",
       "    </tr>\n",
       "    <tr>\n",
       "      <th>4</th>\n",
       "      <td>31</td>\n",
       "      <td>40</td>\n",
       "      <td>3</td>\n",
       "    </tr>\n",
       "    <tr>\n",
       "      <th>...</th>\n",
       "      <td>...</td>\n",
       "      <td>...</td>\n",
       "      <td>...</td>\n",
       "    </tr>\n",
       "    <tr>\n",
       "      <th>195</th>\n",
       "      <td>35</td>\n",
       "      <td>79</td>\n",
       "      <td>2</td>\n",
       "    </tr>\n",
       "    <tr>\n",
       "      <th>196</th>\n",
       "      <td>45</td>\n",
       "      <td>28</td>\n",
       "      <td>1</td>\n",
       "    </tr>\n",
       "    <tr>\n",
       "      <th>197</th>\n",
       "      <td>32</td>\n",
       "      <td>74</td>\n",
       "      <td>2</td>\n",
       "    </tr>\n",
       "    <tr>\n",
       "      <th>198</th>\n",
       "      <td>32</td>\n",
       "      <td>18</td>\n",
       "      <td>1</td>\n",
       "    </tr>\n",
       "    <tr>\n",
       "      <th>199</th>\n",
       "      <td>30</td>\n",
       "      <td>83</td>\n",
       "      <td>2</td>\n",
       "    </tr>\n",
       "  </tbody>\n",
       "</table>\n",
       "<p>200 rows × 3 columns</p>\n",
       "</div>"
      ],
      "text/plain": [
       "     Age  Spending Score (1-100)  Target\n",
       "0     19                      39       3\n",
       "1     21                      81       2\n",
       "2     20                       6       1\n",
       "3     23                      77       2\n",
       "4     31                      40       3\n",
       "..   ...                     ...     ...\n",
       "195   35                      79       2\n",
       "196   45                      28       1\n",
       "197   32                      74       2\n",
       "198   32                      18       1\n",
       "199   30                      83       2\n",
       "\n",
       "[200 rows x 3 columns]"
      ]
     },
     "execution_count": 92,
     "metadata": {},
     "output_type": "execute_result"
    }
   ],
   "source": [
    "X_trean"
   ]
  },
  {
   "cell_type": "code",
   "execution_count": 93,
   "id": "87e38d60",
   "metadata": {},
   "outputs": [],
   "source": [
    "x1 = X_trean.to_numpy()"
   ]
  },
  {
   "cell_type": "code",
   "execution_count": 94,
   "id": "c3ca476b",
   "metadata": {},
   "outputs": [
    {
     "data": {
      "text/plain": [
       "array([[19, 39,  3],\n",
       "       [21, 81,  2],\n",
       "       [20,  6,  1],\n",
       "       [23, 77,  2],\n",
       "       [31, 40,  3],\n",
       "       [22, 76,  2],\n",
       "       [35,  6,  1],\n",
       "       [23, 94,  2],\n",
       "       [64,  3,  1],\n",
       "       [30, 72,  2],\n",
       "       [67, 14,  1],\n",
       "       [35, 99,  2],\n",
       "       [58, 15,  1],\n",
       "       [24, 77,  2],\n",
       "       [37, 13,  1],\n",
       "       [22, 79,  2],\n",
       "       [35, 35,  3],\n",
       "       [20, 66,  3],\n",
       "       [52, 29,  1],\n",
       "       [35, 98,  2],\n",
       "       [35, 35,  3],\n",
       "       [25, 73,  2],\n",
       "       [46,  5,  1],\n",
       "       [31, 73,  2],\n",
       "       [54, 14,  1],\n",
       "       [29, 82,  2],\n",
       "       [45, 32,  1],\n",
       "       [35, 61,  3],\n",
       "       [40, 31,  1],\n",
       "       [23, 87,  2],\n",
       "       [60,  4,  1],\n",
       "       [21, 73,  2],\n",
       "       [53,  4,  1],\n",
       "       [18, 92,  2],\n",
       "       [49, 14,  1],\n",
       "       [21, 81,  2],\n",
       "       [42, 17,  1],\n",
       "       [30, 73,  2],\n",
       "       [36, 26,  1],\n",
       "       [20, 75,  2],\n",
       "       [65, 35,  0],\n",
       "       [24, 92,  2],\n",
       "       [48, 36,  0],\n",
       "       [31, 61,  3],\n",
       "       [49, 28,  1],\n",
       "       [24, 65,  3],\n",
       "       [50, 55,  0],\n",
       "       [27, 47,  3],\n",
       "       [29, 42,  3],\n",
       "       [31, 42,  3],\n",
       "       [49, 52,  0],\n",
       "       [33, 60,  3],\n",
       "       [31, 54,  3],\n",
       "       [59, 60,  0],\n",
       "       [50, 45,  0],\n",
       "       [47, 41,  0],\n",
       "       [51, 50,  0],\n",
       "       [69, 46,  0],\n",
       "       [27, 51,  3],\n",
       "       [53, 46,  0],\n",
       "       [70, 56,  0],\n",
       "       [19, 55,  3],\n",
       "       [67, 52,  0],\n",
       "       [54, 59,  0],\n",
       "       [63, 51,  0],\n",
       "       [18, 59,  3],\n",
       "       [43, 50,  0],\n",
       "       [68, 48,  0],\n",
       "       [19, 59,  3],\n",
       "       [32, 47,  3],\n",
       "       [70, 55,  0],\n",
       "       [47, 42,  0],\n",
       "       [60, 49,  0],\n",
       "       [60, 56,  0],\n",
       "       [59, 47,  0],\n",
       "       [26, 54,  3],\n",
       "       [45, 53,  0],\n",
       "       [40, 48,  3],\n",
       "       [23, 52,  3],\n",
       "       [49, 42,  0],\n",
       "       [57, 51,  0],\n",
       "       [38, 55,  3],\n",
       "       [67, 41,  0],\n",
       "       [46, 44,  0],\n",
       "       [21, 57,  3],\n",
       "       [48, 46,  0],\n",
       "       [55, 58,  0],\n",
       "       [22, 55,  3],\n",
       "       [34, 60,  3],\n",
       "       [50, 46,  0],\n",
       "       [68, 55,  0],\n",
       "       [18, 41,  3],\n",
       "       [48, 49,  0],\n",
       "       [40, 40,  3],\n",
       "       [32, 42,  3],\n",
       "       [24, 52,  3],\n",
       "       [47, 47,  0],\n",
       "       [27, 50,  3],\n",
       "       [48, 42,  0],\n",
       "       [20, 49,  3],\n",
       "       [23, 41,  3],\n",
       "       [49, 48,  0],\n",
       "       [67, 59,  0],\n",
       "       [26, 55,  3],\n",
       "       [49, 56,  0],\n",
       "       [21, 42,  3],\n",
       "       [66, 50,  0],\n",
       "       [54, 46,  0],\n",
       "       [68, 43,  0],\n",
       "       [66, 48,  0],\n",
       "       [65, 52,  0],\n",
       "       [19, 54,  3],\n",
       "       [38, 42,  3],\n",
       "       [19, 46,  3],\n",
       "       [18, 48,  3],\n",
       "       [19, 50,  3],\n",
       "       [63, 43,  0],\n",
       "       [49, 59,  0],\n",
       "       [51, 43,  0],\n",
       "       [50, 57,  0],\n",
       "       [27, 56,  3],\n",
       "       [38, 40,  3],\n",
       "       [40, 58,  3],\n",
       "       [39, 91,  2],\n",
       "       [23, 29,  3],\n",
       "       [31, 77,  2],\n",
       "       [43, 35,  0],\n",
       "       [40, 95,  2],\n",
       "       [59, 11,  1],\n",
       "       [38, 75,  2],\n",
       "       [47,  9,  1],\n",
       "       [39, 75,  2],\n",
       "       [25, 34,  3],\n",
       "       [31, 71,  2],\n",
       "       [20,  5,  1],\n",
       "       [29, 88,  2],\n",
       "       [44,  7,  1],\n",
       "       [32, 73,  2],\n",
       "       [19, 10,  1],\n",
       "       [35, 72,  2],\n",
       "       [57,  5,  1],\n",
       "       [32, 93,  2],\n",
       "       [28, 40,  3],\n",
       "       [32, 87,  2],\n",
       "       [25, 12,  1],\n",
       "       [28, 97,  2],\n",
       "       [48, 36,  0],\n",
       "       [32, 74,  2],\n",
       "       [34, 22,  1],\n",
       "       [34, 90,  2],\n",
       "       [43, 17,  1],\n",
       "       [39, 88,  2],\n",
       "       [44, 20,  1],\n",
       "       [38, 76,  2],\n",
       "       [47, 16,  1],\n",
       "       [27, 89,  2],\n",
       "       [37,  1,  1],\n",
       "       [30, 78,  2],\n",
       "       [34,  1,  1],\n",
       "       [30, 73,  2],\n",
       "       [56, 35,  0],\n",
       "       [29, 83,  2],\n",
       "       [19,  5,  1],\n",
       "       [31, 93,  2],\n",
       "       [50, 26,  1],\n",
       "       [36, 75,  2],\n",
       "       [42, 20,  1],\n",
       "       [33, 95,  2],\n",
       "       [36, 27,  1],\n",
       "       [32, 63,  3],\n",
       "       [40, 13,  1],\n",
       "       [28, 75,  2],\n",
       "       [36, 10,  1],\n",
       "       [36, 92,  2],\n",
       "       [52, 13,  1],\n",
       "       [30, 86,  2],\n",
       "       [58, 15,  1],\n",
       "       [27, 69,  2],\n",
       "       [59, 14,  1],\n",
       "       [35, 90,  2],\n",
       "       [37, 32,  1],\n",
       "       [32, 86,  2],\n",
       "       [46, 15,  1],\n",
       "       [29, 88,  2],\n",
       "       [41, 39,  3],\n",
       "       [30, 97,  2],\n",
       "       [54, 24,  1],\n",
       "       [28, 68,  2],\n",
       "       [41, 17,  1],\n",
       "       [36, 85,  2],\n",
       "       [34, 23,  1],\n",
       "       [32, 69,  2],\n",
       "       [33,  8,  1],\n",
       "       [38, 91,  2],\n",
       "       [47, 16,  1],\n",
       "       [35, 79,  2],\n",
       "       [45, 28,  1],\n",
       "       [32, 74,  2],\n",
       "       [32, 18,  1],\n",
       "       [30, 83,  2]], dtype=int64)"
      ]
     },
     "execution_count": 94,
     "metadata": {},
     "output_type": "execute_result"
    }
   ],
   "source": [
    "x1"
   ]
  },
  {
   "cell_type": "code",
   "execution_count": 95,
   "id": "f8983ade",
   "metadata": {},
   "outputs": [
    {
     "data": {
      "text/plain": [
       "([], [])"
      ]
     },
     "execution_count": 95,
     "metadata": {},
     "output_type": "execute_result"
    },
    {
     "data": {
      "image/png": "[encoded data removed]",
      "text/plain": [
       "<Figure size 432x288 with 1 Axes>"
      ]
     },
     "metadata": {},
     "output_type": "display_data"
    }
   ],
   "source": [
    "plt.figure()\n",
    "plt.scatter(x1[:,0], x1[:,1], color='black', s=80, marker='o', facecolors='none')\n",
    "x_min, x_max = x1[:, 0].min() - 1, x1[:, 0].max() + 1\n",
    "y_min, y_max = x1[:, 1].min() - 1, x1[:, 1].max() + 1\n",
    "plt.title('Input data')\n",
    "plt.xlim(x_min, x_max)\n",
    "plt.ylim(y_min, y_max)\n",
    "plt.xticks(())\n",
    "plt.yticks(())"
   ]
  },
  {
   "cell_type": "code",
   "execution_count": 96,
   "id": "204be54b",
   "metadata": {},
   "outputs": [],
   "source": [
    "scores = []\n",
    "values = np.arange(2, 10)"
   ]
  },
  {
   "cell_type": "code",
   "execution_count": 97,
   "id": "3676cb47",
   "metadata": {},
   "outputs": [
    {
     "name": "stdout",
     "output_type": "stream",
     "text": [
      "\n",
      "Number of clusters = 2\n",
      "Silhouette score = 0.4691265279380666\n",
      "\n",
      "Number of clusters = 3\n",
      "Silhouette score = 0.45224748456174896\n",
      "\n",
      "Number of clusters = 4\n",
      "Silhouette score = 0.5014655901371472\n",
      "\n",
      "Number of clusters = 5\n",
      "Silhouette score = 0.43453434314072814\n",
      "\n",
      "Number of clusters = 6\n",
      "Silhouette score = 0.44206348015683067\n",
      "\n",
      "Number of clusters = 7\n",
      "Silhouette score = 0.4221940708806092\n",
      "\n",
      "Number of clusters = 8\n",
      "Silhouette score = 0.43014207113394165\n",
      "\n",
      "Number of clusters = 9\n",
      "Silhouette score = 0.41400446674878194\n"
     ]
    }
   ],
   "source": [
    "for num_clusters in values:\n",
    "    # Train the KMeans clustering model\n",
    "    kmeans = KMeans(init='k-means++', n_clusters=num_clusters, n_init=10)\n",
    "    kmeans.fit(x1)\n",
    "    score = metrics.silhouette_score(x1, kmeans.labels_, \n",
    "                metric='euclidean', sample_size=len(X))\n",
    "\n",
    "    print(\"\\nNumber of clusters =\", num_clusters)\n",
    "    print(\"Silhouette score =\", score)\n",
    "                    \n",
    "    scores.append(score)"
   ]
  },
  {
   "cell_type": "code",
   "execution_count": 98,
   "id": "4f7ad472",
   "metadata": {},
   "outputs": [
    {
     "name": "stdout",
     "output_type": "stream",
     "text": [
      "\n",
      "Optimal number of clusters = 4\n"
     ]
    },
    {
     "data": {
      "image/png": "[encoded data removed]",
      "text/plain": [
       "<Figure size 432x288 with 1 Axes>"
      ]
     },
     "metadata": {
      "needs_background": "light"
     },
     "output_type": "display_data"
    }
   ],
   "source": [
    "# Plot silhouette scores\n",
    "plt.figure()\n",
    "plt.bar(values, scores, width=0.7, color='blue', align='center')\n",
    "plt.title('Silhouette score vs number of clusters')\n",
    "\n",
    "# Extract best score and optimal number of clusters\n",
    "num_clusters = np.argmax(scores) + values[0]\n",
    "print('\\nOptimal number of clusters =', num_clusters)\n",
    "\n",
    "plt.show()"
   ]
  },
  {
   "cell_type": "markdown",
   "id": "1e700d1e",
   "metadata": {},
   "source": [
    "4 кластера "
   ]
  },
  {
   "cell_type": "code",
   "execution_count": 99,
   "id": "fb8f9660",
   "metadata": {},
   "outputs": [],
   "source": [
    "kmeans = KMeans(n_clusters = 4, init = 'k-means++', max_iter = 300, n_init = 10, random_state = 42)"
   ]
  },
  {
   "cell_type": "code",
   "execution_count": 100,
   "id": "24ea5ae8",
   "metadata": {},
   "outputs": [],
   "source": [
    "y_pred = kmeans.fit_predict(x1)"
   ]
  },
  {
   "cell_type": "code",
   "execution_count": 101,
   "id": "0278b5f6",
   "metadata": {},
   "outputs": [],
   "source": [
    "X_trean[\"Target\"] = y_pred"
   ]
  },
  {
   "cell_type": "code",
   "execution_count": 102,
   "id": "4ff2b70a",
   "metadata": {},
   "outputs": [
    {
     "data": {
      "text/html": [
       "<div>\n",
       "<style scoped>\n",
       "    .dataframe tbody tr th:only-of-type {\n",
       "        vertical-align: middle;\n",
       "    }\n",
       "\n",
       "    .dataframe tbody tr th {\n",
       "        vertical-align: top;\n",
       "    }\n",
       "\n",
       "    .dataframe thead th {\n",
       "        text-align: right;\n",
       "    }\n",
       "</style>\n",
       "<table border=\"1\" class=\"dataframe\">\n",
       "  <thead>\n",
       "    <tr style=\"text-align: right;\">\n",
       "      <th></th>\n",
       "      <th>Age</th>\n",
       "      <th>Spending Score (1-100)</th>\n",
       "      <th>Target</th>\n",
       "    </tr>\n",
       "  </thead>\n",
       "  <tbody>\n",
       "    <tr>\n",
       "      <th>0</th>\n",
       "      <td>19</td>\n",
       "      <td>39</td>\n",
       "      <td>3</td>\n",
       "    </tr>\n",
       "    <tr>\n",
       "      <th>1</th>\n",
       "      <td>21</td>\n",
       "      <td>81</td>\n",
       "      <td>2</td>\n",
       "    </tr>\n",
       "    <tr>\n",
       "      <th>2</th>\n",
       "      <td>20</td>\n",
       "      <td>6</td>\n",
       "      <td>1</td>\n",
       "    </tr>\n",
       "    <tr>\n",
       "      <th>3</th>\n",
       "      <td>23</td>\n",
       "      <td>77</td>\n",
       "      <td>2</td>\n",
       "    </tr>\n",
       "    <tr>\n",
       "      <th>4</th>\n",
       "      <td>31</td>\n",
       "      <td>40</td>\n",
       "      <td>3</td>\n",
       "    </tr>\n",
       "    <tr>\n",
       "      <th>...</th>\n",
       "      <td>...</td>\n",
       "      <td>...</td>\n",
       "      <td>...</td>\n",
       "    </tr>\n",
       "    <tr>\n",
       "      <th>195</th>\n",
       "      <td>35</td>\n",
       "      <td>79</td>\n",
       "      <td>2</td>\n",
       "    </tr>\n",
       "    <tr>\n",
       "      <th>196</th>\n",
       "      <td>45</td>\n",
       "      <td>28</td>\n",
       "      <td>1</td>\n",
       "    </tr>\n",
       "    <tr>\n",
       "      <th>197</th>\n",
       "      <td>32</td>\n",
       "      <td>74</td>\n",
       "      <td>2</td>\n",
       "    </tr>\n",
       "    <tr>\n",
       "      <th>198</th>\n",
       "      <td>32</td>\n",
       "      <td>18</td>\n",
       "      <td>1</td>\n",
       "    </tr>\n",
       "    <tr>\n",
       "      <th>199</th>\n",
       "      <td>30</td>\n",
       "      <td>83</td>\n",
       "      <td>2</td>\n",
       "    </tr>\n",
       "  </tbody>\n",
       "</table>\n",
       "<p>200 rows × 3 columns</p>\n",
       "</div>"
      ],
      "text/plain": [
       "     Age  Spending Score (1-100)  Target\n",
       "0     19                      39       3\n",
       "1     21                      81       2\n",
       "2     20                       6       1\n",
       "3     23                      77       2\n",
       "4     31                      40       3\n",
       "..   ...                     ...     ...\n",
       "195   35                      79       2\n",
       "196   45                      28       1\n",
       "197   32                      74       2\n",
       "198   32                      18       1\n",
       "199   30                      83       2\n",
       "\n",
       "[200 rows x 3 columns]"
      ]
     },
     "execution_count": 102,
     "metadata": {},
     "output_type": "execute_result"
    }
   ],
   "source": [
    "X_trean"
   ]
  },
  {
   "cell_type": "code",
   "execution_count": 103,
   "id": "93d06aca",
   "metadata": {},
   "outputs": [
    {
     "data": {
      "image/png": "[encoded data removed]",
      "text/plain": [
       "<Figure size 432x288 with 1 Axes>"
      ]
     },
     "metadata": {
      "needs_background": "light"
     },
     "output_type": "display_data"
    }
   ],
   "source": [
    "plt.scatter(X_trean[X_trean[\"Target\"]==0][\"Age\"], X_trean[X_trean[\"Target\"]==0][\"Spending Score (1-100)\"], c = \"r\");\n",
    "plt.scatter(X_trean[X_trean[\"Target\"]==1][\"Age\"], X_trean[X_trean[\"Target\"]==1][\"Spending Score (1-100)\"], c = \"b\");\n",
    "plt.scatter(X_trean[X_trean[\"Target\"]==2][\"Age\"], X_trean[X_trean[\"Target\"]==2][\"Spending Score (1-100)\"], c = \"y\");\n",
    "plt.scatter(X_trean[X_trean[\"Target\"]==3][\"Age\"], X_trean[X_trean[\"Target\"]==3][\"Spending Score (1-100)\"], c = \"g\");\n",
    "\n"
   ]
  },
  {
   "cell_type": "code",
   "execution_count": null,
   "id": "60fa635a",
   "metadata": {},
   "outputs": [],
   "source": [
    "Синии молодые всяобразные - уникумы\n",
    "Зеленый среднего возроста малый зароботок - средний класс\n",
    "Красные среднего возроста большой заработок - багачи\n",
    "Желтые пожеленые малый заработок - пенсионры "
   ]
  }
 ],
 "metadata": {
  "kernelspec": {
   "display_name": "Python 3 (ipykernel)",
   "language": "python",
   "name": "python3"
  },
  "language_info": {
   "codemirror_mode": {
    "name": "ipython",
    "version": 3
   },
   "file_extension": ".py",
   "mimetype": "text/x-python",
   "name": "python",
   "nbconvert_exporter": "python",
   "pygments_lexer": "ipython3",
   "version": "3.10.10"
  }
 },
 "nbformat": 4,
 "nbformat_minor": 5
}
