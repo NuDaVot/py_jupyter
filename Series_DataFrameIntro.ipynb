{
 "cells": [
  {
   "cell_type": "markdown",
   "id": "82537cb2",
   "metadata": {},
   "source": [
    "#### 1 Создание фрейма данных"
   ]
  },
  {
   "cell_type": "code",
   "execution_count": 4,
   "id": "7a9a2407",
   "metadata": {},
   "outputs": [],
   "source": [
    "import numpy as np\n",
    "import pandas as pd"
   ]
  },
  {
   "cell_type": "markdown",
   "id": "eb44f8a9",
   "metadata": {},
   "source": [
    "Ядром pandas являются две структуры данных, в которых происходят все операции: Series и DataFrames."
   ]
  },
  {
   "cell_type": "markdown",
   "id": "0895f83a",
   "metadata": {},
   "source": [
    "Series — это объект библиотеки pandas, спроектированный для представления одномерных структур данных, похожих на массивы, но с дополнительными возможностями. Его структура проста, ведь он состоит из двух связанных между собой массивов. Основной содержит данные (данные любого типа NumPy), а в дополнительном, index, хранятся метки."
   ]
  },
  {
   "cell_type": "markdown",
   "id": "ea6912a9",
   "metadata": {},
   "source": [
    "#### Создание объекта Series"
   ]
  },
  {
   "cell_type": "markdown",
   "id": "ed4927e3",
   "metadata": {},
   "source": [
    "Для создания объекта Series необходимо вызвать конструктор Series() и передать в качестве аргумента массив, содержащий значения, которые необходимо включить."
   ]
  },
  {
   "cell_type": "code",
   "execution_count": 15,
   "id": "e4a1e3a3",
   "metadata": {},
   "outputs": [],
   "source": [
    "letters = ['a', 'b', 'c']\n",
    "numbers = [1, 2, 3]\n",
    "arr = np.array(numbers)\n",
    "dict = {'a':1, 'b':2, 'c':3}"
   ]
  },
  {
   "cell_type": "code",
   "execution_count": 16,
   "id": "663fc825",
   "metadata": {},
   "outputs": [
    {
     "data": {
      "text/plain": [
       "0    1\n",
       "1    2\n",
       "2    3\n",
       "dtype: int64"
      ]
     },
     "execution_count": 16,
     "metadata": {},
     "output_type": "execute_result"
    }
   ],
   "source": [
    "pd.Series(numbers)"
   ]
  },
  {
   "cell_type": "code",
   "execution_count": 17,
   "id": "a6d6bfbd",
   "metadata": {},
   "outputs": [
    {
     "data": {
      "text/plain": [
       "a    1\n",
       "b    2\n",
       "c    3\n",
       "dtype: int64"
      ]
     },
     "execution_count": 17,
     "metadata": {},
     "output_type": "execute_result"
    }
   ],
   "source": [
    "pd.Series(data=numbers, index=letters)"
   ]
  },
  {
   "cell_type": "code",
   "execution_count": 19,
   "id": "3f71ff3f",
   "metadata": {},
   "outputs": [
    {
     "data": {
      "text/plain": [
       "a    1\n",
       "b    2\n",
       "c    3\n",
       "dtype: int64"
      ]
     },
     "execution_count": 19,
     "metadata": {},
     "output_type": "execute_result"
    }
   ],
   "source": [
    "pd.Series(numbers, letters)"
   ]
  },
  {
   "cell_type": "code",
   "execution_count": 20,
   "id": "dad5c987",
   "metadata": {},
   "outputs": [
    {
     "data": {
      "text/plain": [
       "a    1\n",
       "b    2\n",
       "c    3\n",
       "dtype: int64"
      ]
     },
     "execution_count": 20,
     "metadata": {},
     "output_type": "execute_result"
    }
   ],
   "source": [
    "pd.Series(dict)"
   ]
  },
  {
   "cell_type": "markdown",
   "id": "42f7401f",
   "metadata": {},
   "source": [
    "Если объект Series — аналог одномерного массива с гибкими индексами, объект DataFrame — аналог двумерного массива с гибкими индексами строк и гибкими именами столбцов. Аналогично тому, что двумерный массив можно рассматривать как упорядоченную последовательность выровненных столбцов, объект DataFrame можно рассматривать как упорядоченную последовательность выровненных объектов Series. Под «выровненными» имеется в виду то, что они используют один и тот же индекс."
   ]
  },
  {
   "cell_type": "markdown",
   "id": "9411ba5f",
   "metadata": {},
   "source": [
    "#### Создание объекта DataFrame"
   ]
  },
  {
   "cell_type": "code",
   "execution_count": 97,
   "id": "5be0ce50",
   "metadata": {},
   "outputs": [],
   "source": [
    "df = pd.DataFrame(np.random.randn(4, 5), [1, 2, 3, 4], ['red', 'orange', 'yellow', 'green', 'blue'])"
   ]
  },
  {
   "cell_type": "code",
   "execution_count": 43,
   "id": "163fcf8b",
   "metadata": {},
   "outputs": [
    {
     "data": {
      "text/html": [
       "<div>\n",
       "<style scoped>\n",
       "    .dataframe tbody tr th:only-of-type {\n",
       "        vertical-align: middle;\n",
       "    }\n",
       "\n",
       "    .dataframe tbody tr th {\n",
       "        vertical-align: top;\n",
       "    }\n",
       "\n",
       "    .dataframe thead th {\n",
       "        text-align: right;\n",
       "    }\n",
       "</style>\n",
       "<table border=\"1\" class=\"dataframe\">\n",
       "  <thead>\n",
       "    <tr style=\"text-align: right;\">\n",
       "      <th></th>\n",
       "      <th>red</th>\n",
       "      <th>orange</th>\n",
       "      <th>yellow</th>\n",
       "      <th>green</th>\n",
       "      <th>blue</th>\n",
       "    </tr>\n",
       "  </thead>\n",
       "  <tbody>\n",
       "    <tr>\n",
       "      <th>1</th>\n",
       "      <td>0.116024</td>\n",
       "      <td>-0.786372</td>\n",
       "      <td>-1.284341</td>\n",
       "      <td>-0.042862</td>\n",
       "      <td>-0.186641</td>\n",
       "    </tr>\n",
       "    <tr>\n",
       "      <th>2</th>\n",
       "      <td>0.343671</td>\n",
       "      <td>1.666220</td>\n",
       "      <td>0.553122</td>\n",
       "      <td>-0.388060</td>\n",
       "      <td>-0.766553</td>\n",
       "    </tr>\n",
       "    <tr>\n",
       "      <th>3</th>\n",
       "      <td>-1.055049</td>\n",
       "      <td>0.014146</td>\n",
       "      <td>0.920138</td>\n",
       "      <td>0.614982</td>\n",
       "      <td>-0.031516</td>\n",
       "    </tr>\n",
       "    <tr>\n",
       "      <th>4</th>\n",
       "      <td>-1.357240</td>\n",
       "      <td>-1.503856</td>\n",
       "      <td>-0.489248</td>\n",
       "      <td>1.498177</td>\n",
       "      <td>1.391979</td>\n",
       "    </tr>\n",
       "  </tbody>\n",
       "</table>\n",
       "</div>"
      ],
      "text/plain": [
       "        red    orange    yellow     green      blue\n",
       "1  0.116024 -0.786372 -1.284341 -0.042862 -0.186641\n",
       "2  0.343671  1.666220  0.553122 -0.388060 -0.766553\n",
       "3 -1.055049  0.014146  0.920138  0.614982 -0.031516\n",
       "4 -1.357240 -1.503856 -0.489248  1.498177  1.391979"
      ]
     },
     "execution_count": 43,
     "metadata": {},
     "output_type": "execute_result"
    }
   ],
   "source": [
    "df"
   ]
  },
  {
   "cell_type": "code",
   "execution_count": 98,
   "id": "4d2aa1d7",
   "metadata": {},
   "outputs": [
    {
     "data": {
      "text/plain": [
       "Index(['red', 'orange', 'yellow', 'green', 'blue'], dtype='object')"
      ]
     },
     "execution_count": 98,
     "metadata": {},
     "output_type": "execute_result"
    }
   ],
   "source": [
    "df.columns"
   ]
  },
  {
   "cell_type": "code",
   "execution_count": 99,
   "id": "fded4e61",
   "metadata": {},
   "outputs": [
    {
     "data": {
      "text/plain": [
       "Int64Index([1, 2, 3, 4], dtype='int64')"
      ]
     },
     "execution_count": 99,
     "metadata": {},
     "output_type": "execute_result"
    }
   ],
   "source": [
    "df.index"
   ]
  },
  {
   "cell_type": "code",
   "execution_count": 100,
   "id": "c934689b",
   "metadata": {},
   "outputs": [
    {
     "data": {
      "text/plain": [
       "1   -0.524522\n",
       "2    0.356713\n",
       "3    0.063581\n",
       "4   -0.804173\n",
       "Name: orange, dtype: float64"
      ]
     },
     "execution_count": 100,
     "metadata": {},
     "output_type": "execute_result"
    }
   ],
   "source": [
    "df['orange']"
   ]
  },
  {
   "cell_type": "code",
   "execution_count": 45,
   "id": "d36b3a85",
   "metadata": {},
   "outputs": [
    {
     "data": {
      "text/plain": [
       "pandas.core.frame.DataFrame"
      ]
     },
     "execution_count": 45,
     "metadata": {},
     "output_type": "execute_result"
    }
   ],
   "source": [
    "type(df)"
   ]
  },
  {
   "cell_type": "code",
   "execution_count": 46,
   "id": "36c4c418",
   "metadata": {},
   "outputs": [
    {
     "data": {
      "text/plain": [
       "pandas.core.series.Series"
      ]
     },
     "execution_count": 46,
     "metadata": {},
     "output_type": "execute_result"
    }
   ],
   "source": [
    "type(df['orange'])"
   ]
  },
  {
   "cell_type": "code",
   "execution_count": 47,
   "id": "9b5fef4a",
   "metadata": {},
   "outputs": [
    {
     "data": {
      "text/html": [
       "<div>\n",
       "<style scoped>\n",
       "    .dataframe tbody tr th:only-of-type {\n",
       "        vertical-align: middle;\n",
       "    }\n",
       "\n",
       "    .dataframe tbody tr th {\n",
       "        vertical-align: top;\n",
       "    }\n",
       "\n",
       "    .dataframe thead th {\n",
       "        text-align: right;\n",
       "    }\n",
       "</style>\n",
       "<table border=\"1\" class=\"dataframe\">\n",
       "  <thead>\n",
       "    <tr style=\"text-align: right;\">\n",
       "      <th></th>\n",
       "      <th>yellow</th>\n",
       "      <th>blue</th>\n",
       "    </tr>\n",
       "  </thead>\n",
       "  <tbody>\n",
       "    <tr>\n",
       "      <th>1</th>\n",
       "      <td>-1.284341</td>\n",
       "      <td>-0.186641</td>\n",
       "    </tr>\n",
       "    <tr>\n",
       "      <th>2</th>\n",
       "      <td>0.553122</td>\n",
       "      <td>-0.766553</td>\n",
       "    </tr>\n",
       "    <tr>\n",
       "      <th>3</th>\n",
       "      <td>0.920138</td>\n",
       "      <td>-0.031516</td>\n",
       "    </tr>\n",
       "    <tr>\n",
       "      <th>4</th>\n",
       "      <td>-0.489248</td>\n",
       "      <td>1.391979</td>\n",
       "    </tr>\n",
       "  </tbody>\n",
       "</table>\n",
       "</div>"
      ],
      "text/plain": [
       "     yellow      blue\n",
       "1 -1.284341 -0.186641\n",
       "2  0.553122 -0.766553\n",
       "3  0.920138 -0.031516\n",
       "4 -0.489248  1.391979"
      ]
     },
     "execution_count": 47,
     "metadata": {},
     "output_type": "execute_result"
    }
   ],
   "source": [
    "df[['yellow', 'blue']]"
   ]
  },
  {
   "cell_type": "code",
   "execution_count": 48,
   "id": "c603c5f2",
   "metadata": {},
   "outputs": [],
   "source": [
    "df['indigo'] = df['blue']"
   ]
  },
  {
   "cell_type": "code",
   "execution_count": 49,
   "id": "ace71bd8",
   "metadata": {},
   "outputs": [
    {
     "data": {
      "text/html": [
       "<div>\n",
       "<style scoped>\n",
       "    .dataframe tbody tr th:only-of-type {\n",
       "        vertical-align: middle;\n",
       "    }\n",
       "\n",
       "    .dataframe tbody tr th {\n",
       "        vertical-align: top;\n",
       "    }\n",
       "\n",
       "    .dataframe thead th {\n",
       "        text-align: right;\n",
       "    }\n",
       "</style>\n",
       "<table border=\"1\" class=\"dataframe\">\n",
       "  <thead>\n",
       "    <tr style=\"text-align: right;\">\n",
       "      <th></th>\n",
       "      <th>red</th>\n",
       "      <th>orange</th>\n",
       "      <th>yellow</th>\n",
       "      <th>green</th>\n",
       "      <th>blue</th>\n",
       "      <th>indigo</th>\n",
       "    </tr>\n",
       "  </thead>\n",
       "  <tbody>\n",
       "    <tr>\n",
       "      <th>1</th>\n",
       "      <td>0.116024</td>\n",
       "      <td>-0.786372</td>\n",
       "      <td>-1.284341</td>\n",
       "      <td>-0.042862</td>\n",
       "      <td>-0.186641</td>\n",
       "      <td>-0.186641</td>\n",
       "    </tr>\n",
       "    <tr>\n",
       "      <th>2</th>\n",
       "      <td>0.343671</td>\n",
       "      <td>1.666220</td>\n",
       "      <td>0.553122</td>\n",
       "      <td>-0.388060</td>\n",
       "      <td>-0.766553</td>\n",
       "      <td>-0.766553</td>\n",
       "    </tr>\n",
       "    <tr>\n",
       "      <th>3</th>\n",
       "      <td>-1.055049</td>\n",
       "      <td>0.014146</td>\n",
       "      <td>0.920138</td>\n",
       "      <td>0.614982</td>\n",
       "      <td>-0.031516</td>\n",
       "      <td>-0.031516</td>\n",
       "    </tr>\n",
       "    <tr>\n",
       "      <th>4</th>\n",
       "      <td>-1.357240</td>\n",
       "      <td>-1.503856</td>\n",
       "      <td>-0.489248</td>\n",
       "      <td>1.498177</td>\n",
       "      <td>1.391979</td>\n",
       "      <td>1.391979</td>\n",
       "    </tr>\n",
       "  </tbody>\n",
       "</table>\n",
       "</div>"
      ],
      "text/plain": [
       "        red    orange    yellow     green      blue    indigo\n",
       "1  0.116024 -0.786372 -1.284341 -0.042862 -0.186641 -0.186641\n",
       "2  0.343671  1.666220  0.553122 -0.388060 -0.766553 -0.766553\n",
       "3 -1.055049  0.014146  0.920138  0.614982 -0.031516 -0.031516\n",
       "4 -1.357240 -1.503856 -0.489248  1.498177  1.391979  1.391979"
      ]
     },
     "execution_count": 49,
     "metadata": {},
     "output_type": "execute_result"
    }
   ],
   "source": [
    "df"
   ]
  },
  {
   "cell_type": "code",
   "execution_count": 50,
   "id": "a84076c4",
   "metadata": {},
   "outputs": [],
   "source": [
    "df['violet'] = df['blue'] + df['indigo']"
   ]
  },
  {
   "cell_type": "code",
   "execution_count": 51,
   "id": "a3519989",
   "metadata": {},
   "outputs": [
    {
     "data": {
      "text/html": [
       "<div>\n",
       "<style scoped>\n",
       "    .dataframe tbody tr th:only-of-type {\n",
       "        vertical-align: middle;\n",
       "    }\n",
       "\n",
       "    .dataframe tbody tr th {\n",
       "        vertical-align: top;\n",
       "    }\n",
       "\n",
       "    .dataframe thead th {\n",
       "        text-align: right;\n",
       "    }\n",
       "</style>\n",
       "<table border=\"1\" class=\"dataframe\">\n",
       "  <thead>\n",
       "    <tr style=\"text-align: right;\">\n",
       "      <th></th>\n",
       "      <th>red</th>\n",
       "      <th>orange</th>\n",
       "      <th>yellow</th>\n",
       "      <th>green</th>\n",
       "      <th>blue</th>\n",
       "      <th>indigo</th>\n",
       "      <th>violet</th>\n",
       "    </tr>\n",
       "  </thead>\n",
       "  <tbody>\n",
       "    <tr>\n",
       "      <th>1</th>\n",
       "      <td>0.116024</td>\n",
       "      <td>-0.786372</td>\n",
       "      <td>-1.284341</td>\n",
       "      <td>-0.042862</td>\n",
       "      <td>-0.186641</td>\n",
       "      <td>-0.186641</td>\n",
       "      <td>-0.373282</td>\n",
       "    </tr>\n",
       "    <tr>\n",
       "      <th>2</th>\n",
       "      <td>0.343671</td>\n",
       "      <td>1.666220</td>\n",
       "      <td>0.553122</td>\n",
       "      <td>-0.388060</td>\n",
       "      <td>-0.766553</td>\n",
       "      <td>-0.766553</td>\n",
       "      <td>-1.533105</td>\n",
       "    </tr>\n",
       "    <tr>\n",
       "      <th>3</th>\n",
       "      <td>-1.055049</td>\n",
       "      <td>0.014146</td>\n",
       "      <td>0.920138</td>\n",
       "      <td>0.614982</td>\n",
       "      <td>-0.031516</td>\n",
       "      <td>-0.031516</td>\n",
       "      <td>-0.063032</td>\n",
       "    </tr>\n",
       "    <tr>\n",
       "      <th>4</th>\n",
       "      <td>-1.357240</td>\n",
       "      <td>-1.503856</td>\n",
       "      <td>-0.489248</td>\n",
       "      <td>1.498177</td>\n",
       "      <td>1.391979</td>\n",
       "      <td>1.391979</td>\n",
       "      <td>2.783958</td>\n",
       "    </tr>\n",
       "  </tbody>\n",
       "</table>\n",
       "</div>"
      ],
      "text/plain": [
       "        red    orange    yellow     green      blue    indigo    violet\n",
       "1  0.116024 -0.786372 -1.284341 -0.042862 -0.186641 -0.186641 -0.373282\n",
       "2  0.343671  1.666220  0.553122 -0.388060 -0.766553 -0.766553 -1.533105\n",
       "3 -1.055049  0.014146  0.920138  0.614982 -0.031516 -0.031516 -0.063032\n",
       "4 -1.357240 -1.503856 -0.489248  1.498177  1.391979  1.391979  2.783958"
      ]
     },
     "execution_count": 51,
     "metadata": {},
     "output_type": "execute_result"
    }
   ],
   "source": [
    "df"
   ]
  },
  {
   "cell_type": "markdown",
   "id": "6df1fe8a",
   "metadata": {},
   "source": [
    "#### Навигация по фреймам данных"
   ]
  },
  {
   "cell_type": "markdown",
   "id": "2832dd48",
   "metadata": {},
   "source": [
    "Для выбора одной или нескольких строк либо значений использовать методы lос или iloc. Все строки во фрейме данных pandas имеют уникальное индексное значение. По умолчанию этот индекс является целым числом, указывающим на положение строки во фрейме данных; однако это не обязательно. Метод lос полезен, когда индекс фрейма является меткой (например, строковым значением). Метод iloc работает, отыскивая позицию во фрейме данных (по номеру индекса)."
   ]
  },
  {
   "cell_type": "code",
   "execution_count": 52,
   "id": "b044f5c7",
   "metadata": {},
   "outputs": [
    {
     "data": {
      "text/plain": [
       "red       0.343671\n",
       "orange    1.666220\n",
       "yellow    0.553122\n",
       "green    -0.388060\n",
       "blue     -0.766553\n",
       "indigo   -0.766553\n",
       "violet   -1.533105\n",
       "Name: 2, dtype: float64"
      ]
     },
     "execution_count": 52,
     "metadata": {},
     "output_type": "execute_result"
    }
   ],
   "source": [
    "df.loc[2]"
   ]
  },
  {
   "cell_type": "code",
   "execution_count": 53,
   "id": "1dd989df",
   "metadata": {},
   "outputs": [
    {
     "data": {
      "text/plain": [
       "red       0.343671\n",
       "orange    1.666220\n",
       "yellow    0.553122\n",
       "green    -0.388060\n",
       "blue     -0.766553\n",
       "indigo   -0.766553\n",
       "violet   -1.533105\n",
       "Name: 2, dtype: float64"
      ]
     },
     "execution_count": 53,
     "metadata": {},
     "output_type": "execute_result"
    }
   ],
   "source": [
    "df.iloc[1]"
   ]
  },
  {
   "cell_type": "code",
   "execution_count": 102,
   "id": "358659e1",
   "metadata": {},
   "outputs": [],
   "source": [
    "df.iloc[2] = df.iloc[1]"
   ]
  },
  {
   "cell_type": "code",
   "execution_count": 55,
   "id": "974019aa",
   "metadata": {},
   "outputs": [
    {
     "data": {
      "text/html": [
       "<div>\n",
       "<style scoped>\n",
       "    .dataframe tbody tr th:only-of-type {\n",
       "        vertical-align: middle;\n",
       "    }\n",
       "\n",
       "    .dataframe tbody tr th {\n",
       "        vertical-align: top;\n",
       "    }\n",
       "\n",
       "    .dataframe thead th {\n",
       "        text-align: right;\n",
       "    }\n",
       "</style>\n",
       "<table border=\"1\" class=\"dataframe\">\n",
       "  <thead>\n",
       "    <tr style=\"text-align: right;\">\n",
       "      <th></th>\n",
       "      <th>red</th>\n",
       "      <th>orange</th>\n",
       "      <th>yellow</th>\n",
       "      <th>green</th>\n",
       "      <th>blue</th>\n",
       "      <th>indigo</th>\n",
       "      <th>violet</th>\n",
       "    </tr>\n",
       "  </thead>\n",
       "  <tbody>\n",
       "    <tr>\n",
       "      <th>1</th>\n",
       "      <td>0.116024</td>\n",
       "      <td>-0.786372</td>\n",
       "      <td>-1.284341</td>\n",
       "      <td>-0.042862</td>\n",
       "      <td>-0.186641</td>\n",
       "      <td>-0.186641</td>\n",
       "      <td>-0.373282</td>\n",
       "    </tr>\n",
       "    <tr>\n",
       "      <th>2</th>\n",
       "      <td>0.343671</td>\n",
       "      <td>1.666220</td>\n",
       "      <td>0.553122</td>\n",
       "      <td>-0.388060</td>\n",
       "      <td>-0.766553</td>\n",
       "      <td>-0.766553</td>\n",
       "      <td>-1.533105</td>\n",
       "    </tr>\n",
       "    <tr>\n",
       "      <th>3</th>\n",
       "      <td>0.343671</td>\n",
       "      <td>1.666220</td>\n",
       "      <td>0.553122</td>\n",
       "      <td>-0.388060</td>\n",
       "      <td>-0.766553</td>\n",
       "      <td>-0.766553</td>\n",
       "      <td>-1.533105</td>\n",
       "    </tr>\n",
       "    <tr>\n",
       "      <th>4</th>\n",
       "      <td>-1.357240</td>\n",
       "      <td>-1.503856</td>\n",
       "      <td>-0.489248</td>\n",
       "      <td>1.498177</td>\n",
       "      <td>1.391979</td>\n",
       "      <td>1.391979</td>\n",
       "      <td>2.783958</td>\n",
       "    </tr>\n",
       "  </tbody>\n",
       "</table>\n",
       "</div>"
      ],
      "text/plain": [
       "        red    orange    yellow     green      blue    indigo    violet\n",
       "1  0.116024 -0.786372 -1.284341 -0.042862 -0.186641 -0.186641 -0.373282\n",
       "2  0.343671  1.666220  0.553122 -0.388060 -0.766553 -0.766553 -1.533105\n",
       "3  0.343671  1.666220  0.553122 -0.388060 -0.766553 -0.766553 -1.533105\n",
       "4 -1.357240 -1.503856 -0.489248  1.498177  1.391979  1.391979  2.783958"
      ]
     },
     "execution_count": 55,
     "metadata": {},
     "output_type": "execute_result"
    }
   ],
   "source": [
    "df"
   ]
  },
  {
   "cell_type": "code",
   "execution_count": 56,
   "id": "08fba328",
   "metadata": {},
   "outputs": [
    {
     "data": {
      "text/plain": [
       "1.6662203911880225"
      ]
     },
     "execution_count": 56,
     "metadata": {},
     "output_type": "execute_result"
    }
   ],
   "source": [
    "df.loc[3, 'orange']"
   ]
  },
  {
   "cell_type": "code",
   "execution_count": 57,
   "id": "43837894",
   "metadata": {},
   "outputs": [
    {
     "data": {
      "text/plain": [
       "1.6662203911880225"
      ]
     },
     "execution_count": 57,
     "metadata": {},
     "output_type": "execute_result"
    }
   ],
   "source": [
    "df.iloc[2, 1]"
   ]
  },
  {
   "cell_type": "code",
   "execution_count": 58,
   "id": "0d01763c",
   "metadata": {},
   "outputs": [
    {
     "data": {
      "text/html": [
       "<div>\n",
       "<style scoped>\n",
       "    .dataframe tbody tr th:only-of-type {\n",
       "        vertical-align: middle;\n",
       "    }\n",
       "\n",
       "    .dataframe tbody tr th {\n",
       "        vertical-align: top;\n",
       "    }\n",
       "\n",
       "    .dataframe thead th {\n",
       "        text-align: right;\n",
       "    }\n",
       "</style>\n",
       "<table border=\"1\" class=\"dataframe\">\n",
       "  <thead>\n",
       "    <tr style=\"text-align: right;\">\n",
       "      <th></th>\n",
       "      <th>blue</th>\n",
       "      <th>violet</th>\n",
       "    </tr>\n",
       "  </thead>\n",
       "  <tbody>\n",
       "    <tr>\n",
       "      <th>1</th>\n",
       "      <td>-0.186641</td>\n",
       "      <td>-0.373282</td>\n",
       "    </tr>\n",
       "    <tr>\n",
       "      <th>3</th>\n",
       "      <td>-0.766553</td>\n",
       "      <td>-1.533105</td>\n",
       "    </tr>\n",
       "  </tbody>\n",
       "</table>\n",
       "</div>"
      ],
      "text/plain": [
       "       blue    violet\n",
       "1 -0.186641 -0.373282\n",
       "3 -0.766553 -1.533105"
      ]
     },
     "execution_count": 58,
     "metadata": {},
     "output_type": "execute_result"
    }
   ],
   "source": [
    "df.loc[[1,3], ['blue', 'violet']]"
   ]
  },
  {
   "cell_type": "markdown",
   "id": "d59a39cd",
   "metadata": {},
   "source": [
    "#### Выбор строк на основе условных конструкций"
   ]
  },
  {
   "cell_type": "code",
   "execution_count": 59,
   "id": "36440374",
   "metadata": {},
   "outputs": [
    {
     "data": {
      "text/html": [
       "<div>\n",
       "<style scoped>\n",
       "    .dataframe tbody tr th:only-of-type {\n",
       "        vertical-align: middle;\n",
       "    }\n",
       "\n",
       "    .dataframe tbody tr th {\n",
       "        vertical-align: top;\n",
       "    }\n",
       "\n",
       "    .dataframe thead th {\n",
       "        text-align: right;\n",
       "    }\n",
       "</style>\n",
       "<table border=\"1\" class=\"dataframe\">\n",
       "  <thead>\n",
       "    <tr style=\"text-align: right;\">\n",
       "      <th></th>\n",
       "      <th>red</th>\n",
       "      <th>orange</th>\n",
       "      <th>yellow</th>\n",
       "      <th>green</th>\n",
       "      <th>blue</th>\n",
       "      <th>indigo</th>\n",
       "      <th>violet</th>\n",
       "    </tr>\n",
       "  </thead>\n",
       "  <tbody>\n",
       "    <tr>\n",
       "      <th>1</th>\n",
       "      <td>0.116024</td>\n",
       "      <td>NaN</td>\n",
       "      <td>NaN</td>\n",
       "      <td>NaN</td>\n",
       "      <td>NaN</td>\n",
       "      <td>NaN</td>\n",
       "      <td>NaN</td>\n",
       "    </tr>\n",
       "    <tr>\n",
       "      <th>2</th>\n",
       "      <td>0.343671</td>\n",
       "      <td>1.66622</td>\n",
       "      <td>0.553122</td>\n",
       "      <td>NaN</td>\n",
       "      <td>NaN</td>\n",
       "      <td>NaN</td>\n",
       "      <td>NaN</td>\n",
       "    </tr>\n",
       "    <tr>\n",
       "      <th>3</th>\n",
       "      <td>0.343671</td>\n",
       "      <td>1.66622</td>\n",
       "      <td>0.553122</td>\n",
       "      <td>NaN</td>\n",
       "      <td>NaN</td>\n",
       "      <td>NaN</td>\n",
       "      <td>NaN</td>\n",
       "    </tr>\n",
       "    <tr>\n",
       "      <th>4</th>\n",
       "      <td>NaN</td>\n",
       "      <td>NaN</td>\n",
       "      <td>NaN</td>\n",
       "      <td>1.498177</td>\n",
       "      <td>1.391979</td>\n",
       "      <td>1.391979</td>\n",
       "      <td>2.783958</td>\n",
       "    </tr>\n",
       "  </tbody>\n",
       "</table>\n",
       "</div>"
      ],
      "text/plain": [
       "        red   orange    yellow     green      blue    indigo    violet\n",
       "1  0.116024      NaN       NaN       NaN       NaN       NaN       NaN\n",
       "2  0.343671  1.66622  0.553122       NaN       NaN       NaN       NaN\n",
       "3  0.343671  1.66622  0.553122       NaN       NaN       NaN       NaN\n",
       "4       NaN      NaN       NaN  1.498177  1.391979  1.391979  2.783958"
      ]
     },
     "execution_count": 59,
     "metadata": {},
     "output_type": "execute_result"
    }
   ],
   "source": [
    "df[df > 0]"
   ]
  },
  {
   "cell_type": "code",
   "execution_count": 60,
   "id": "266a0023",
   "metadata": {},
   "outputs": [
    {
     "data": {
      "text/plain": [
       "1    False\n",
       "2     True\n",
       "3     True\n",
       "4    False\n",
       "Name: yellow, dtype: bool"
      ]
     },
     "execution_count": 60,
     "metadata": {},
     "output_type": "execute_result"
    }
   ],
   "source": [
    "df['yellow'] > 0"
   ]
  },
  {
   "cell_type": "code",
   "execution_count": 61,
   "id": "ad59585f",
   "metadata": {},
   "outputs": [
    {
     "data": {
      "text/html": [
       "<div>\n",
       "<style scoped>\n",
       "    .dataframe tbody tr th:only-of-type {\n",
       "        vertical-align: middle;\n",
       "    }\n",
       "\n",
       "    .dataframe tbody tr th {\n",
       "        vertical-align: top;\n",
       "    }\n",
       "\n",
       "    .dataframe thead th {\n",
       "        text-align: right;\n",
       "    }\n",
       "</style>\n",
       "<table border=\"1\" class=\"dataframe\">\n",
       "  <thead>\n",
       "    <tr style=\"text-align: right;\">\n",
       "      <th></th>\n",
       "      <th>red</th>\n",
       "      <th>orange</th>\n",
       "      <th>yellow</th>\n",
       "      <th>green</th>\n",
       "      <th>blue</th>\n",
       "      <th>indigo</th>\n",
       "      <th>violet</th>\n",
       "    </tr>\n",
       "  </thead>\n",
       "  <tbody>\n",
       "    <tr>\n",
       "      <th>2</th>\n",
       "      <td>0.343671</td>\n",
       "      <td>1.66622</td>\n",
       "      <td>0.553122</td>\n",
       "      <td>-0.38806</td>\n",
       "      <td>-0.766553</td>\n",
       "      <td>-0.766553</td>\n",
       "      <td>-1.533105</td>\n",
       "    </tr>\n",
       "    <tr>\n",
       "      <th>3</th>\n",
       "      <td>0.343671</td>\n",
       "      <td>1.66622</td>\n",
       "      <td>0.553122</td>\n",
       "      <td>-0.38806</td>\n",
       "      <td>-0.766553</td>\n",
       "      <td>-0.766553</td>\n",
       "      <td>-1.533105</td>\n",
       "    </tr>\n",
       "  </tbody>\n",
       "</table>\n",
       "</div>"
      ],
      "text/plain": [
       "        red   orange    yellow    green      blue    indigo    violet\n",
       "2  0.343671  1.66622  0.553122 -0.38806 -0.766553 -0.766553 -1.533105\n",
       "3  0.343671  1.66622  0.553122 -0.38806 -0.766553 -0.766553 -1.533105"
      ]
     },
     "execution_count": 61,
     "metadata": {},
     "output_type": "execute_result"
    }
   ],
   "source": [
    "df[df['yellow']>0]"
   ]
  },
  {
   "cell_type": "code",
   "execution_count": 62,
   "id": "27bbfeee",
   "metadata": {},
   "outputs": [
    {
     "data": {
      "text/plain": [
       "2   -0.38806\n",
       "3   -0.38806\n",
       "Name: green, dtype: float64"
      ]
     },
     "execution_count": 62,
     "metadata": {},
     "output_type": "execute_result"
    }
   ],
   "source": [
    "df[df['yellow']>0]['green']"
   ]
  },
  {
   "cell_type": "code",
   "execution_count": 64,
   "id": "0e627dfa",
   "metadata": {},
   "outputs": [
    {
     "data": {
      "text/html": [
       "<div>\n",
       "<style scoped>\n",
       "    .dataframe tbody tr th:only-of-type {\n",
       "        vertical-align: middle;\n",
       "    }\n",
       "\n",
       "    .dataframe tbody tr th {\n",
       "        vertical-align: top;\n",
       "    }\n",
       "\n",
       "    .dataframe thead th {\n",
       "        text-align: right;\n",
       "    }\n",
       "</style>\n",
       "<table border=\"1\" class=\"dataframe\">\n",
       "  <thead>\n",
       "    <tr style=\"text-align: right;\">\n",
       "      <th></th>\n",
       "      <th>green</th>\n",
       "      <th>blue</th>\n",
       "    </tr>\n",
       "  </thead>\n",
       "  <tbody>\n",
       "    <tr>\n",
       "      <th>2</th>\n",
       "      <td>-0.38806</td>\n",
       "      <td>-0.766553</td>\n",
       "    </tr>\n",
       "    <tr>\n",
       "      <th>3</th>\n",
       "      <td>-0.38806</td>\n",
       "      <td>-0.766553</td>\n",
       "    </tr>\n",
       "  </tbody>\n",
       "</table>\n",
       "</div>"
      ],
      "text/plain": [
       "     green      blue\n",
       "2 -0.38806 -0.766553\n",
       "3 -0.38806 -0.766553"
      ]
     },
     "execution_count": 64,
     "metadata": {},
     "output_type": "execute_result"
    }
   ],
   "source": [
    "df[df['yellow']>0][['green','blue']]"
   ]
  },
  {
   "cell_type": "code",
   "execution_count": 66,
   "id": "d7bf042f",
   "metadata": {},
   "outputs": [
    {
     "data": {
      "text/html": [
       "<div>\n",
       "<style scoped>\n",
       "    .dataframe tbody tr th:only-of-type {\n",
       "        vertical-align: middle;\n",
       "    }\n",
       "\n",
       "    .dataframe tbody tr th {\n",
       "        vertical-align: top;\n",
       "    }\n",
       "\n",
       "    .dataframe thead th {\n",
       "        text-align: right;\n",
       "    }\n",
       "</style>\n",
       "<table border=\"1\" class=\"dataframe\">\n",
       "  <thead>\n",
       "    <tr style=\"text-align: right;\">\n",
       "      <th></th>\n",
       "      <th>red</th>\n",
       "      <th>orange</th>\n",
       "      <th>yellow</th>\n",
       "      <th>green</th>\n",
       "      <th>blue</th>\n",
       "      <th>indigo</th>\n",
       "      <th>violet</th>\n",
       "    </tr>\n",
       "  </thead>\n",
       "  <tbody>\n",
       "    <tr>\n",
       "      <th>1</th>\n",
       "      <td>0.116024</td>\n",
       "      <td>-0.786372</td>\n",
       "      <td>-1.284341</td>\n",
       "      <td>-0.042862</td>\n",
       "      <td>-0.186641</td>\n",
       "      <td>-0.186641</td>\n",
       "      <td>-0.373282</td>\n",
       "    </tr>\n",
       "  </tbody>\n",
       "</table>\n",
       "</div>"
      ],
      "text/plain": [
       "        red    orange    yellow     green      blue    indigo    violet\n",
       "1  0.116024 -0.786372 -1.284341 -0.042862 -0.186641 -0.186641 -0.373282"
      ]
     },
     "execution_count": 66,
     "metadata": {},
     "output_type": "execute_result"
    }
   ],
   "source": [
    "df[(df['red']>0) & (df['yellow']<0)]"
   ]
  },
  {
   "cell_type": "code",
   "execution_count": 67,
   "id": "7a134242",
   "metadata": {},
   "outputs": [
    {
     "data": {
      "text/html": [
       "<div>\n",
       "<style scoped>\n",
       "    .dataframe tbody tr th:only-of-type {\n",
       "        vertical-align: middle;\n",
       "    }\n",
       "\n",
       "    .dataframe tbody tr th {\n",
       "        vertical-align: top;\n",
       "    }\n",
       "\n",
       "    .dataframe thead th {\n",
       "        text-align: right;\n",
       "    }\n",
       "</style>\n",
       "<table border=\"1\" class=\"dataframe\">\n",
       "  <thead>\n",
       "    <tr style=\"text-align: right;\">\n",
       "      <th></th>\n",
       "      <th>red</th>\n",
       "      <th>orange</th>\n",
       "      <th>yellow</th>\n",
       "      <th>green</th>\n",
       "      <th>blue</th>\n",
       "      <th>indigo</th>\n",
       "      <th>violet</th>\n",
       "    </tr>\n",
       "  </thead>\n",
       "  <tbody>\n",
       "    <tr>\n",
       "      <th>1</th>\n",
       "      <td>0.116024</td>\n",
       "      <td>-0.786372</td>\n",
       "      <td>-1.284341</td>\n",
       "      <td>-0.042862</td>\n",
       "      <td>-0.186641</td>\n",
       "      <td>-0.186641</td>\n",
       "      <td>-0.373282</td>\n",
       "    </tr>\n",
       "    <tr>\n",
       "      <th>2</th>\n",
       "      <td>0.343671</td>\n",
       "      <td>1.666220</td>\n",
       "      <td>0.553122</td>\n",
       "      <td>-0.388060</td>\n",
       "      <td>-0.766553</td>\n",
       "      <td>-0.766553</td>\n",
       "      <td>-1.533105</td>\n",
       "    </tr>\n",
       "    <tr>\n",
       "      <th>3</th>\n",
       "      <td>0.343671</td>\n",
       "      <td>1.666220</td>\n",
       "      <td>0.553122</td>\n",
       "      <td>-0.388060</td>\n",
       "      <td>-0.766553</td>\n",
       "      <td>-0.766553</td>\n",
       "      <td>-1.533105</td>\n",
       "    </tr>\n",
       "    <tr>\n",
       "      <th>4</th>\n",
       "      <td>-1.357240</td>\n",
       "      <td>-1.503856</td>\n",
       "      <td>-0.489248</td>\n",
       "      <td>1.498177</td>\n",
       "      <td>1.391979</td>\n",
       "      <td>1.391979</td>\n",
       "      <td>2.783958</td>\n",
       "    </tr>\n",
       "  </tbody>\n",
       "</table>\n",
       "</div>"
      ],
      "text/plain": [
       "        red    orange    yellow     green      blue    indigo    violet\n",
       "1  0.116024 -0.786372 -1.284341 -0.042862 -0.186641 -0.186641 -0.373282\n",
       "2  0.343671  1.666220  0.553122 -0.388060 -0.766553 -0.766553 -1.533105\n",
       "3  0.343671  1.666220  0.553122 -0.388060 -0.766553 -0.766553 -1.533105\n",
       "4 -1.357240 -1.503856 -0.489248  1.498177  1.391979  1.391979  2.783958"
      ]
     },
     "execution_count": 67,
     "metadata": {},
     "output_type": "execute_result"
    }
   ],
   "source": [
    "df[(df['red']>0) | (df['yellow']<0)]"
   ]
  },
  {
   "cell_type": "markdown",
   "id": "a79de35d",
   "metadata": {},
   "source": [
    "#### Удаление строк"
   ]
  },
  {
   "cell_type": "code",
   "execution_count": 68,
   "id": "55dafcf5",
   "metadata": {},
   "outputs": [
    {
     "data": {
      "text/html": [
       "<div>\n",
       "<style scoped>\n",
       "    .dataframe tbody tr th:only-of-type {\n",
       "        vertical-align: middle;\n",
       "    }\n",
       "\n",
       "    .dataframe tbody tr th {\n",
       "        vertical-align: top;\n",
       "    }\n",
       "\n",
       "    .dataframe thead th {\n",
       "        text-align: right;\n",
       "    }\n",
       "</style>\n",
       "<table border=\"1\" class=\"dataframe\">\n",
       "  <thead>\n",
       "    <tr style=\"text-align: right;\">\n",
       "      <th></th>\n",
       "      <th>red</th>\n",
       "      <th>orange</th>\n",
       "      <th>yellow</th>\n",
       "      <th>green</th>\n",
       "      <th>blue</th>\n",
       "      <th>indigo</th>\n",
       "      <th>violet</th>\n",
       "    </tr>\n",
       "  </thead>\n",
       "  <tbody>\n",
       "    <tr>\n",
       "      <th>1</th>\n",
       "      <td>0.116024</td>\n",
       "      <td>-0.786372</td>\n",
       "      <td>-1.284341</td>\n",
       "      <td>-0.042862</td>\n",
       "      <td>-0.186641</td>\n",
       "      <td>-0.186641</td>\n",
       "      <td>-0.373282</td>\n",
       "    </tr>\n",
       "    <tr>\n",
       "      <th>2</th>\n",
       "      <td>0.343671</td>\n",
       "      <td>1.666220</td>\n",
       "      <td>0.553122</td>\n",
       "      <td>-0.388060</td>\n",
       "      <td>-0.766553</td>\n",
       "      <td>-0.766553</td>\n",
       "      <td>-1.533105</td>\n",
       "    </tr>\n",
       "    <tr>\n",
       "      <th>4</th>\n",
       "      <td>-1.357240</td>\n",
       "      <td>-1.503856</td>\n",
       "      <td>-0.489248</td>\n",
       "      <td>1.498177</td>\n",
       "      <td>1.391979</td>\n",
       "      <td>1.391979</td>\n",
       "      <td>2.783958</td>\n",
       "    </tr>\n",
       "  </tbody>\n",
       "</table>\n",
       "</div>"
      ],
      "text/plain": [
       "        red    orange    yellow     green      blue    indigo    violet\n",
       "1  0.116024 -0.786372 -1.284341 -0.042862 -0.186641 -0.186641 -0.373282\n",
       "2  0.343671  1.666220  0.553122 -0.388060 -0.766553 -0.766553 -1.533105\n",
       "4 -1.357240 -1.503856 -0.489248  1.498177  1.391979  1.391979  2.783958"
      ]
     },
     "execution_count": 68,
     "metadata": {},
     "output_type": "execute_result"
    }
   ],
   "source": [
    "# удаление строк axis = 0 строку axis = 1 столбец inplace=False без удаления из датафрейма, inplace=True с удалением\n",
    "df.drop(3)"
   ]
  },
  {
   "cell_type": "code",
   "execution_count": 69,
   "id": "4a5e50ca",
   "metadata": {},
   "outputs": [
    {
     "data": {
      "text/html": [
       "<div>\n",
       "<style scoped>\n",
       "    .dataframe tbody tr th:only-of-type {\n",
       "        vertical-align: middle;\n",
       "    }\n",
       "\n",
       "    .dataframe tbody tr th {\n",
       "        vertical-align: top;\n",
       "    }\n",
       "\n",
       "    .dataframe thead th {\n",
       "        text-align: right;\n",
       "    }\n",
       "</style>\n",
       "<table border=\"1\" class=\"dataframe\">\n",
       "  <thead>\n",
       "    <tr style=\"text-align: right;\">\n",
       "      <th></th>\n",
       "      <th>red</th>\n",
       "      <th>orange</th>\n",
       "      <th>yellow</th>\n",
       "      <th>green</th>\n",
       "      <th>blue</th>\n",
       "      <th>indigo</th>\n",
       "      <th>violet</th>\n",
       "    </tr>\n",
       "  </thead>\n",
       "  <tbody>\n",
       "    <tr>\n",
       "      <th>1</th>\n",
       "      <td>0.116024</td>\n",
       "      <td>-0.786372</td>\n",
       "      <td>-1.284341</td>\n",
       "      <td>-0.042862</td>\n",
       "      <td>-0.186641</td>\n",
       "      <td>-0.186641</td>\n",
       "      <td>-0.373282</td>\n",
       "    </tr>\n",
       "    <tr>\n",
       "      <th>2</th>\n",
       "      <td>0.343671</td>\n",
       "      <td>1.666220</td>\n",
       "      <td>0.553122</td>\n",
       "      <td>-0.388060</td>\n",
       "      <td>-0.766553</td>\n",
       "      <td>-0.766553</td>\n",
       "      <td>-1.533105</td>\n",
       "    </tr>\n",
       "    <tr>\n",
       "      <th>3</th>\n",
       "      <td>0.343671</td>\n",
       "      <td>1.666220</td>\n",
       "      <td>0.553122</td>\n",
       "      <td>-0.388060</td>\n",
       "      <td>-0.766553</td>\n",
       "      <td>-0.766553</td>\n",
       "      <td>-1.533105</td>\n",
       "    </tr>\n",
       "    <tr>\n",
       "      <th>4</th>\n",
       "      <td>-1.357240</td>\n",
       "      <td>-1.503856</td>\n",
       "      <td>-0.489248</td>\n",
       "      <td>1.498177</td>\n",
       "      <td>1.391979</td>\n",
       "      <td>1.391979</td>\n",
       "      <td>2.783958</td>\n",
       "    </tr>\n",
       "  </tbody>\n",
       "</table>\n",
       "</div>"
      ],
      "text/plain": [
       "        red    orange    yellow     green      blue    indigo    violet\n",
       "1  0.116024 -0.786372 -1.284341 -0.042862 -0.186641 -0.186641 -0.373282\n",
       "2  0.343671  1.666220  0.553122 -0.388060 -0.766553 -0.766553 -1.533105\n",
       "3  0.343671  1.666220  0.553122 -0.388060 -0.766553 -0.766553 -1.533105\n",
       "4 -1.357240 -1.503856 -0.489248  1.498177  1.391979  1.391979  2.783958"
      ]
     },
     "execution_count": 69,
     "metadata": {},
     "output_type": "execute_result"
    }
   ],
   "source": [
    "df"
   ]
  },
  {
   "cell_type": "code",
   "execution_count": 70,
   "id": "47bfe272",
   "metadata": {},
   "outputs": [],
   "source": [
    "df.drop(3, inplace = True)"
   ]
  },
  {
   "cell_type": "code",
   "execution_count": 71,
   "id": "dba7fa06",
   "metadata": {},
   "outputs": [
    {
     "data": {
      "text/html": [
       "<div>\n",
       "<style scoped>\n",
       "    .dataframe tbody tr th:only-of-type {\n",
       "        vertical-align: middle;\n",
       "    }\n",
       "\n",
       "    .dataframe tbody tr th {\n",
       "        vertical-align: top;\n",
       "    }\n",
       "\n",
       "    .dataframe thead th {\n",
       "        text-align: right;\n",
       "    }\n",
       "</style>\n",
       "<table border=\"1\" class=\"dataframe\">\n",
       "  <thead>\n",
       "    <tr style=\"text-align: right;\">\n",
       "      <th></th>\n",
       "      <th>red</th>\n",
       "      <th>orange</th>\n",
       "      <th>yellow</th>\n",
       "      <th>green</th>\n",
       "      <th>blue</th>\n",
       "      <th>indigo</th>\n",
       "      <th>violet</th>\n",
       "    </tr>\n",
       "  </thead>\n",
       "  <tbody>\n",
       "    <tr>\n",
       "      <th>1</th>\n",
       "      <td>0.116024</td>\n",
       "      <td>-0.786372</td>\n",
       "      <td>-1.284341</td>\n",
       "      <td>-0.042862</td>\n",
       "      <td>-0.186641</td>\n",
       "      <td>-0.186641</td>\n",
       "      <td>-0.373282</td>\n",
       "    </tr>\n",
       "    <tr>\n",
       "      <th>2</th>\n",
       "      <td>0.343671</td>\n",
       "      <td>1.666220</td>\n",
       "      <td>0.553122</td>\n",
       "      <td>-0.388060</td>\n",
       "      <td>-0.766553</td>\n",
       "      <td>-0.766553</td>\n",
       "      <td>-1.533105</td>\n",
       "    </tr>\n",
       "    <tr>\n",
       "      <th>4</th>\n",
       "      <td>-1.357240</td>\n",
       "      <td>-1.503856</td>\n",
       "      <td>-0.489248</td>\n",
       "      <td>1.498177</td>\n",
       "      <td>1.391979</td>\n",
       "      <td>1.391979</td>\n",
       "      <td>2.783958</td>\n",
       "    </tr>\n",
       "  </tbody>\n",
       "</table>\n",
       "</div>"
      ],
      "text/plain": [
       "        red    orange    yellow     green      blue    indigo    violet\n",
       "1  0.116024 -0.786372 -1.284341 -0.042862 -0.186641 -0.186641 -0.373282\n",
       "2  0.343671  1.666220  0.553122 -0.388060 -0.766553 -0.766553 -1.533105\n",
       "4 -1.357240 -1.503856 -0.489248  1.498177  1.391979  1.391979  2.783958"
      ]
     },
     "execution_count": 71,
     "metadata": {},
     "output_type": "execute_result"
    }
   ],
   "source": [
    "df"
   ]
  },
  {
   "cell_type": "code",
   "execution_count": 72,
   "id": "a51907d3",
   "metadata": {},
   "outputs": [],
   "source": [
    "df.drop('indigo', axis = 1, inplace = True)"
   ]
  },
  {
   "cell_type": "code",
   "execution_count": 103,
   "id": "82486fdd",
   "metadata": {},
   "outputs": [
    {
     "data": {
      "text/html": [
       "<div>\n",
       "<style scoped>\n",
       "    .dataframe tbody tr th:only-of-type {\n",
       "        vertical-align: middle;\n",
       "    }\n",
       "\n",
       "    .dataframe tbody tr th {\n",
       "        vertical-align: top;\n",
       "    }\n",
       "\n",
       "    .dataframe thead th {\n",
       "        text-align: right;\n",
       "    }\n",
       "</style>\n",
       "<table border=\"1\" class=\"dataframe\">\n",
       "  <thead>\n",
       "    <tr style=\"text-align: right;\">\n",
       "      <th></th>\n",
       "      <th>red</th>\n",
       "      <th>orange</th>\n",
       "      <th>yellow</th>\n",
       "      <th>green</th>\n",
       "      <th>blue</th>\n",
       "    </tr>\n",
       "  </thead>\n",
       "  <tbody>\n",
       "    <tr>\n",
       "      <th>1</th>\n",
       "      <td>0.727848</td>\n",
       "      <td>-0.524522</td>\n",
       "      <td>0.972548</td>\n",
       "      <td>-0.010875</td>\n",
       "      <td>0.828137</td>\n",
       "    </tr>\n",
       "    <tr>\n",
       "      <th>2</th>\n",
       "      <td>-1.767393</td>\n",
       "      <td>0.356713</td>\n",
       "      <td>0.206534</td>\n",
       "      <td>1.802974</td>\n",
       "      <td>0.267233</td>\n",
       "    </tr>\n",
       "    <tr>\n",
       "      <th>3</th>\n",
       "      <td>-1.767393</td>\n",
       "      <td>0.356713</td>\n",
       "      <td>0.206534</td>\n",
       "      <td>1.802974</td>\n",
       "      <td>0.267233</td>\n",
       "    </tr>\n",
       "    <tr>\n",
       "      <th>4</th>\n",
       "      <td>0.911813</td>\n",
       "      <td>-0.804173</td>\n",
       "      <td>-0.061718</td>\n",
       "      <td>-0.364975</td>\n",
       "      <td>-1.316943</td>\n",
       "    </tr>\n",
       "  </tbody>\n",
       "</table>\n",
       "</div>"
      ],
      "text/plain": [
       "        red    orange    yellow     green      blue\n",
       "1  0.727848 -0.524522  0.972548 -0.010875  0.828137\n",
       "2 -1.767393  0.356713  0.206534  1.802974  0.267233\n",
       "3 -1.767393  0.356713  0.206534  1.802974  0.267233\n",
       "4  0.911813 -0.804173 -0.061718 -0.364975 -1.316943"
      ]
     },
     "execution_count": 103,
     "metadata": {},
     "output_type": "execute_result"
    }
   ],
   "source": [
    "df"
   ]
  },
  {
   "cell_type": "markdown",
   "id": "81016231",
   "metadata": {},
   "source": [
    "####  Удаление повторяющихся строк"
   ]
  },
  {
   "cell_type": "markdown",
   "id": "9b56a9bd",
   "metadata": {},
   "source": [
    "Метод drop_duplicates() по умолчанию отбрасывает только те строки, которые идеально совпадают по всем столбцам. "
   ]
  },
  {
   "cell_type": "code",
   "execution_count": 104,
   "id": "51c21dae",
   "metadata": {},
   "outputs": [
    {
     "data": {
      "text/html": [
       "<div>\n",
       "<style scoped>\n",
       "    .dataframe tbody tr th:only-of-type {\n",
       "        vertical-align: middle;\n",
       "    }\n",
       "\n",
       "    .dataframe tbody tr th {\n",
       "        vertical-align: top;\n",
       "    }\n",
       "\n",
       "    .dataframe thead th {\n",
       "        text-align: right;\n",
       "    }\n",
       "</style>\n",
       "<table border=\"1\" class=\"dataframe\">\n",
       "  <thead>\n",
       "    <tr style=\"text-align: right;\">\n",
       "      <th></th>\n",
       "      <th>red</th>\n",
       "      <th>orange</th>\n",
       "      <th>yellow</th>\n",
       "      <th>green</th>\n",
       "      <th>blue</th>\n",
       "    </tr>\n",
       "  </thead>\n",
       "  <tbody>\n",
       "    <tr>\n",
       "      <th>1</th>\n",
       "      <td>0.727848</td>\n",
       "      <td>-0.524522</td>\n",
       "      <td>0.972548</td>\n",
       "      <td>-0.010875</td>\n",
       "      <td>0.828137</td>\n",
       "    </tr>\n",
       "    <tr>\n",
       "      <th>2</th>\n",
       "      <td>-1.767393</td>\n",
       "      <td>0.356713</td>\n",
       "      <td>0.206534</td>\n",
       "      <td>1.802974</td>\n",
       "      <td>0.267233</td>\n",
       "    </tr>\n",
       "    <tr>\n",
       "      <th>4</th>\n",
       "      <td>0.911813</td>\n",
       "      <td>-0.804173</td>\n",
       "      <td>-0.061718</td>\n",
       "      <td>-0.364975</td>\n",
       "      <td>-1.316943</td>\n",
       "    </tr>\n",
       "  </tbody>\n",
       "</table>\n",
       "</div>"
      ],
      "text/plain": [
       "        red    orange    yellow     green      blue\n",
       "1  0.727848 -0.524522  0.972548 -0.010875  0.828137\n",
       "2 -1.767393  0.356713  0.206534  1.802974  0.267233\n",
       "4  0.911813 -0.804173 -0.061718 -0.364975 -1.316943"
      ]
     },
     "execution_count": 104,
     "metadata": {},
     "output_type": "execute_result"
    }
   ],
   "source": [
    "# Удалить дубликаты, показать строки  \n",
    "df.drop_duplicates().head()"
   ]
  },
  {
   "cell_type": "markdown",
   "id": "d6f28889",
   "metadata": {},
   "source": [
    "Чтобы выполнить проверку на наличие повторяющихся строк, нередко требуется рассмотреть только подмножество столбцов. Это можно сделать с помощью параметра subset. Метод drop_duplicates по умолчанию сохраняет первое появление повторяющейся строки и удаляет остальные"
   ]
  },
  {
   "cell_type": "code",
   "execution_count": 107,
   "id": "8a0a4636",
   "metadata": {},
   "outputs": [],
   "source": [
    "df['red'].loc[4] = df['red'].loc[1]"
   ]
  },
  {
   "cell_type": "code",
   "execution_count": 109,
   "id": "a0181f7a",
   "metadata": {},
   "outputs": [
    {
     "data": {
      "text/html": [
       "<div>\n",
       "<style scoped>\n",
       "    .dataframe tbody tr th:only-of-type {\n",
       "        vertical-align: middle;\n",
       "    }\n",
       "\n",
       "    .dataframe tbody tr th {\n",
       "        vertical-align: top;\n",
       "    }\n",
       "\n",
       "    .dataframe thead th {\n",
       "        text-align: right;\n",
       "    }\n",
       "</style>\n",
       "<table border=\"1\" class=\"dataframe\">\n",
       "  <thead>\n",
       "    <tr style=\"text-align: right;\">\n",
       "      <th></th>\n",
       "      <th>red</th>\n",
       "      <th>orange</th>\n",
       "      <th>yellow</th>\n",
       "      <th>green</th>\n",
       "      <th>blue</th>\n",
       "    </tr>\n",
       "  </thead>\n",
       "  <tbody>\n",
       "    <tr>\n",
       "      <th>1</th>\n",
       "      <td>0.727848</td>\n",
       "      <td>-0.524522</td>\n",
       "      <td>0.972548</td>\n",
       "      <td>-0.010875</td>\n",
       "      <td>0.828137</td>\n",
       "    </tr>\n",
       "    <tr>\n",
       "      <th>2</th>\n",
       "      <td>-1.767393</td>\n",
       "      <td>0.356713</td>\n",
       "      <td>0.206534</td>\n",
       "      <td>1.802974</td>\n",
       "      <td>0.267233</td>\n",
       "    </tr>\n",
       "    <tr>\n",
       "      <th>3</th>\n",
       "      <td>-1.767393</td>\n",
       "      <td>0.356713</td>\n",
       "      <td>0.206534</td>\n",
       "      <td>1.802974</td>\n",
       "      <td>0.267233</td>\n",
       "    </tr>\n",
       "    <tr>\n",
       "      <th>4</th>\n",
       "      <td>0.727848</td>\n",
       "      <td>-0.804173</td>\n",
       "      <td>-0.061718</td>\n",
       "      <td>-0.364975</td>\n",
       "      <td>-1.316943</td>\n",
       "    </tr>\n",
       "  </tbody>\n",
       "</table>\n",
       "</div>"
      ],
      "text/plain": [
       "        red    orange    yellow     green      blue\n",
       "1  0.727848 -0.524522  0.972548 -0.010875  0.828137\n",
       "2 -1.767393  0.356713  0.206534  1.802974  0.267233\n",
       "3 -1.767393  0.356713  0.206534  1.802974  0.267233\n",
       "4  0.727848 -0.804173 -0.061718 -0.364975 -1.316943"
      ]
     },
     "execution_count": 109,
     "metadata": {},
     "output_type": "execute_result"
    }
   ],
   "source": [
    "df"
   ]
  },
  {
   "cell_type": "code",
   "execution_count": 108,
   "id": "75012e0a",
   "metadata": {},
   "outputs": [
    {
     "data": {
      "text/html": [
       "<div>\n",
       "<style scoped>\n",
       "    .dataframe tbody tr th:only-of-type {\n",
       "        vertical-align: middle;\n",
       "    }\n",
       "\n",
       "    .dataframe tbody tr th {\n",
       "        vertical-align: top;\n",
       "    }\n",
       "\n",
       "    .dataframe thead th {\n",
       "        text-align: right;\n",
       "    }\n",
       "</style>\n",
       "<table border=\"1\" class=\"dataframe\">\n",
       "  <thead>\n",
       "    <tr style=\"text-align: right;\">\n",
       "      <th></th>\n",
       "      <th>red</th>\n",
       "      <th>orange</th>\n",
       "      <th>yellow</th>\n",
       "      <th>green</th>\n",
       "      <th>blue</th>\n",
       "    </tr>\n",
       "  </thead>\n",
       "  <tbody>\n",
       "    <tr>\n",
       "      <th>1</th>\n",
       "      <td>0.727848</td>\n",
       "      <td>-0.524522</td>\n",
       "      <td>0.972548</td>\n",
       "      <td>-0.010875</td>\n",
       "      <td>0.828137</td>\n",
       "    </tr>\n",
       "    <tr>\n",
       "      <th>2</th>\n",
       "      <td>-1.767393</td>\n",
       "      <td>0.356713</td>\n",
       "      <td>0.206534</td>\n",
       "      <td>1.802974</td>\n",
       "      <td>0.267233</td>\n",
       "    </tr>\n",
       "  </tbody>\n",
       "</table>\n",
       "</div>"
      ],
      "text/plain": [
       "        red    orange    yellow     green      blue\n",
       "1  0.727848 -0.524522  0.972548 -0.010875  0.828137\n",
       "2 -1.767393  0.356713  0.206534  1.802974  0.267233"
      ]
     },
     "execution_count": 108,
     "metadata": {},
     "output_type": "execute_result"
    }
   ],
   "source": [
    "df.drop_duplicates(subset=['red'])"
   ]
  },
  {
   "cell_type": "markdown",
   "id": "2707870f",
   "metadata": {},
   "source": [
    "#### Замена значений"
   ]
  },
  {
   "cell_type": "code",
   "execution_count": 84,
   "id": "8845716f",
   "metadata": {},
   "outputs": [],
   "source": [
    "# Заменить значения \n",
    "df['red'].replace(df['red'].iloc[0],df['red'].mean(), inplace=True)"
   ]
  },
  {
   "cell_type": "code",
   "execution_count": 85,
   "id": "b4d1bf41",
   "metadata": {},
   "outputs": [
    {
     "data": {
      "text/html": [
       "<div>\n",
       "<style scoped>\n",
       "    .dataframe tbody tr th:only-of-type {\n",
       "        vertical-align: middle;\n",
       "    }\n",
       "\n",
       "    .dataframe tbody tr th {\n",
       "        vertical-align: top;\n",
       "    }\n",
       "\n",
       "    .dataframe thead th {\n",
       "        text-align: right;\n",
       "    }\n",
       "</style>\n",
       "<table border=\"1\" class=\"dataframe\">\n",
       "  <thead>\n",
       "    <tr style=\"text-align: right;\">\n",
       "      <th></th>\n",
       "      <th>red</th>\n",
       "      <th>orange</th>\n",
       "      <th>yellow</th>\n",
       "      <th>green</th>\n",
       "      <th>blue</th>\n",
       "      <th>violet</th>\n",
       "    </tr>\n",
       "  </thead>\n",
       "  <tbody>\n",
       "    <tr>\n",
       "      <th>1</th>\n",
       "      <td>-0.437584</td>\n",
       "      <td>-0.786372</td>\n",
       "      <td>-1.284341</td>\n",
       "      <td>-0.042862</td>\n",
       "      <td>-0.186641</td>\n",
       "      <td>-0.373282</td>\n",
       "    </tr>\n",
       "    <tr>\n",
       "      <th>2</th>\n",
       "      <td>0.343671</td>\n",
       "      <td>1.666220</td>\n",
       "      <td>0.553122</td>\n",
       "      <td>-0.388060</td>\n",
       "      <td>-0.766553</td>\n",
       "      <td>-1.533105</td>\n",
       "    </tr>\n",
       "    <tr>\n",
       "      <th>4</th>\n",
       "      <td>-1.357240</td>\n",
       "      <td>-1.503856</td>\n",
       "      <td>-0.489248</td>\n",
       "      <td>1.498177</td>\n",
       "      <td>1.391979</td>\n",
       "      <td>2.783958</td>\n",
       "    </tr>\n",
       "  </tbody>\n",
       "</table>\n",
       "</div>"
      ],
      "text/plain": [
       "        red    orange    yellow     green      blue    violet\n",
       "1 -0.437584 -0.786372 -1.284341 -0.042862 -0.186641 -0.373282\n",
       "2  0.343671  1.666220  0.553122 -0.388060 -0.766553 -1.533105\n",
       "4 -1.357240 -1.503856 -0.489248  1.498177  1.391979  2.783958"
      ]
     },
     "execution_count": 85,
     "metadata": {},
     "output_type": "execute_result"
    }
   ],
   "source": [
    "df"
   ]
  },
  {
   "cell_type": "code",
   "execution_count": 86,
   "id": "f180156f",
   "metadata": {},
   "outputs": [
    {
     "data": {
      "text/plain": [
       "-0.4837175723818099"
      ]
     },
     "execution_count": 86,
     "metadata": {},
     "output_type": "execute_result"
    }
   ],
   "source": [
    "df['red'].mean()"
   ]
  },
  {
   "cell_type": "markdown",
   "id": "74186175",
   "metadata": {},
   "source": [
    "#### Работа с индексами"
   ]
  },
  {
   "cell_type": "markdown",
   "id": "745ad9c3",
   "metadata": {},
   "source": [
    "reset_index() — это метод сброса индекса фрейма данных. Метод .reset_index () задает список целых чисел от 0 до длины данных в качестве индекса."
   ]
  },
  {
   "cell_type": "code",
   "execution_count": 87,
   "id": "82630ecb",
   "metadata": {},
   "outputs": [
    {
     "data": {
      "text/html": [
       "<div>\n",
       "<style scoped>\n",
       "    .dataframe tbody tr th:only-of-type {\n",
       "        vertical-align: middle;\n",
       "    }\n",
       "\n",
       "    .dataframe tbody tr th {\n",
       "        vertical-align: top;\n",
       "    }\n",
       "\n",
       "    .dataframe thead th {\n",
       "        text-align: right;\n",
       "    }\n",
       "</style>\n",
       "<table border=\"1\" class=\"dataframe\">\n",
       "  <thead>\n",
       "    <tr style=\"text-align: right;\">\n",
       "      <th></th>\n",
       "      <th>index</th>\n",
       "      <th>red</th>\n",
       "      <th>orange</th>\n",
       "      <th>yellow</th>\n",
       "      <th>green</th>\n",
       "      <th>blue</th>\n",
       "      <th>violet</th>\n",
       "    </tr>\n",
       "  </thead>\n",
       "  <tbody>\n",
       "    <tr>\n",
       "      <th>0</th>\n",
       "      <td>1</td>\n",
       "      <td>-0.437584</td>\n",
       "      <td>-0.786372</td>\n",
       "      <td>-1.284341</td>\n",
       "      <td>-0.042862</td>\n",
       "      <td>-0.186641</td>\n",
       "      <td>-0.373282</td>\n",
       "    </tr>\n",
       "    <tr>\n",
       "      <th>1</th>\n",
       "      <td>2</td>\n",
       "      <td>0.343671</td>\n",
       "      <td>1.666220</td>\n",
       "      <td>0.553122</td>\n",
       "      <td>-0.388060</td>\n",
       "      <td>-0.766553</td>\n",
       "      <td>-1.533105</td>\n",
       "    </tr>\n",
       "    <tr>\n",
       "      <th>2</th>\n",
       "      <td>4</td>\n",
       "      <td>-1.357240</td>\n",
       "      <td>-1.503856</td>\n",
       "      <td>-0.489248</td>\n",
       "      <td>1.498177</td>\n",
       "      <td>1.391979</td>\n",
       "      <td>2.783958</td>\n",
       "    </tr>\n",
       "  </tbody>\n",
       "</table>\n",
       "</div>"
      ],
      "text/plain": [
       "   index       red    orange    yellow     green      blue    violet\n",
       "0      1 -0.437584 -0.786372 -1.284341 -0.042862 -0.186641 -0.373282\n",
       "1      2  0.343671  1.666220  0.553122 -0.388060 -0.766553 -1.533105\n",
       "2      4 -1.357240 -1.503856 -0.489248  1.498177  1.391979  2.783958"
      ]
     },
     "execution_count": 87,
     "metadata": {},
     "output_type": "execute_result"
    }
   ],
   "source": [
    "df.reset_index()\n",
    "# inplace = True"
   ]
  },
  {
   "cell_type": "code",
   "execution_count": 89,
   "id": "ac17f578",
   "metadata": {},
   "outputs": [],
   "source": [
    "z1 = [2, 3, 4]\n",
    "df['Z1'] = z1"
   ]
  },
  {
   "cell_type": "code",
   "execution_count": 90,
   "id": "a723b8c0",
   "metadata": {},
   "outputs": [
    {
     "data": {
      "text/html": [
       "<div>\n",
       "<style scoped>\n",
       "    .dataframe tbody tr th:only-of-type {\n",
       "        vertical-align: middle;\n",
       "    }\n",
       "\n",
       "    .dataframe tbody tr th {\n",
       "        vertical-align: top;\n",
       "    }\n",
       "\n",
       "    .dataframe thead th {\n",
       "        text-align: right;\n",
       "    }\n",
       "</style>\n",
       "<table border=\"1\" class=\"dataframe\">\n",
       "  <thead>\n",
       "    <tr style=\"text-align: right;\">\n",
       "      <th></th>\n",
       "      <th>red</th>\n",
       "      <th>orange</th>\n",
       "      <th>yellow</th>\n",
       "      <th>green</th>\n",
       "      <th>blue</th>\n",
       "      <th>violet</th>\n",
       "      <th>Z1</th>\n",
       "    </tr>\n",
       "  </thead>\n",
       "  <tbody>\n",
       "    <tr>\n",
       "      <th>1</th>\n",
       "      <td>-0.437584</td>\n",
       "      <td>-0.786372</td>\n",
       "      <td>-1.284341</td>\n",
       "      <td>-0.042862</td>\n",
       "      <td>-0.186641</td>\n",
       "      <td>-0.373282</td>\n",
       "      <td>2</td>\n",
       "    </tr>\n",
       "    <tr>\n",
       "      <th>2</th>\n",
       "      <td>0.343671</td>\n",
       "      <td>1.666220</td>\n",
       "      <td>0.553122</td>\n",
       "      <td>-0.388060</td>\n",
       "      <td>-0.766553</td>\n",
       "      <td>-1.533105</td>\n",
       "      <td>3</td>\n",
       "    </tr>\n",
       "    <tr>\n",
       "      <th>4</th>\n",
       "      <td>-1.357240</td>\n",
       "      <td>-1.503856</td>\n",
       "      <td>-0.489248</td>\n",
       "      <td>1.498177</td>\n",
       "      <td>1.391979</td>\n",
       "      <td>2.783958</td>\n",
       "      <td>4</td>\n",
       "    </tr>\n",
       "  </tbody>\n",
       "</table>\n",
       "</div>"
      ],
      "text/plain": [
       "        red    orange    yellow     green      blue    violet  Z1\n",
       "1 -0.437584 -0.786372 -1.284341 -0.042862 -0.186641 -0.373282   2\n",
       "2  0.343671  1.666220  0.553122 -0.388060 -0.766553 -1.533105   3\n",
       "4 -1.357240 -1.503856 -0.489248  1.498177  1.391979  2.783958   4"
      ]
     },
     "execution_count": 90,
     "metadata": {},
     "output_type": "execute_result"
    }
   ],
   "source": [
    "df"
   ]
  },
  {
   "cell_type": "code",
   "execution_count": 91,
   "id": "6aa90c37",
   "metadata": {},
   "outputs": [
    {
     "data": {
      "text/html": [
       "<div>\n",
       "<style scoped>\n",
       "    .dataframe tbody tr th:only-of-type {\n",
       "        vertical-align: middle;\n",
       "    }\n",
       "\n",
       "    .dataframe tbody tr th {\n",
       "        vertical-align: top;\n",
       "    }\n",
       "\n",
       "    .dataframe thead th {\n",
       "        text-align: right;\n",
       "    }\n",
       "</style>\n",
       "<table border=\"1\" class=\"dataframe\">\n",
       "  <thead>\n",
       "    <tr style=\"text-align: right;\">\n",
       "      <th></th>\n",
       "      <th>red</th>\n",
       "      <th>orange</th>\n",
       "      <th>yellow</th>\n",
       "      <th>green</th>\n",
       "      <th>blue</th>\n",
       "      <th>violet</th>\n",
       "    </tr>\n",
       "    <tr>\n",
       "      <th>Z1</th>\n",
       "      <th></th>\n",
       "      <th></th>\n",
       "      <th></th>\n",
       "      <th></th>\n",
       "      <th></th>\n",
       "      <th></th>\n",
       "    </tr>\n",
       "  </thead>\n",
       "  <tbody>\n",
       "    <tr>\n",
       "      <th>2</th>\n",
       "      <td>-0.437584</td>\n",
       "      <td>-0.786372</td>\n",
       "      <td>-1.284341</td>\n",
       "      <td>-0.042862</td>\n",
       "      <td>-0.186641</td>\n",
       "      <td>-0.373282</td>\n",
       "    </tr>\n",
       "    <tr>\n",
       "      <th>3</th>\n",
       "      <td>0.343671</td>\n",
       "      <td>1.666220</td>\n",
       "      <td>0.553122</td>\n",
       "      <td>-0.388060</td>\n",
       "      <td>-0.766553</td>\n",
       "      <td>-1.533105</td>\n",
       "    </tr>\n",
       "    <tr>\n",
       "      <th>4</th>\n",
       "      <td>-1.357240</td>\n",
       "      <td>-1.503856</td>\n",
       "      <td>-0.489248</td>\n",
       "      <td>1.498177</td>\n",
       "      <td>1.391979</td>\n",
       "      <td>2.783958</td>\n",
       "    </tr>\n",
       "  </tbody>\n",
       "</table>\n",
       "</div>"
      ],
      "text/plain": [
       "         red    orange    yellow     green      blue    violet\n",
       "Z1                                                            \n",
       "2  -0.437584 -0.786372 -1.284341 -0.042862 -0.186641 -0.373282\n",
       "3   0.343671  1.666220  0.553122 -0.388060 -0.766553 -1.533105\n",
       "4  -1.357240 -1.503856 -0.489248  1.498177  1.391979  2.783958"
      ]
     },
     "execution_count": 91,
     "metadata": {},
     "output_type": "execute_result"
    }
   ],
   "source": [
    "df.set_index('Z1')"
   ]
  },
  {
   "cell_type": "markdown",
   "id": "a21fe349",
   "metadata": {},
   "source": [
    "#### Переименование столбцов"
   ]
  },
  {
   "cell_type": "code",
   "execution_count": 93,
   "id": "dbdd7fa1",
   "metadata": {},
   "outputs": [
    {
     "data": {
      "text/html": [
       "<div>\n",
       "<style scoped>\n",
       "    .dataframe tbody tr th:only-of-type {\n",
       "        vertical-align: middle;\n",
       "    }\n",
       "\n",
       "    .dataframe tbody tr th {\n",
       "        vertical-align: top;\n",
       "    }\n",
       "\n",
       "    .dataframe thead th {\n",
       "        text-align: right;\n",
       "    }\n",
       "</style>\n",
       "<table border=\"1\" class=\"dataframe\">\n",
       "  <thead>\n",
       "    <tr style=\"text-align: right;\">\n",
       "      <th></th>\n",
       "      <th>Red</th>\n",
       "      <th>orange</th>\n",
       "      <th>yellow</th>\n",
       "      <th>green</th>\n",
       "      <th>blue</th>\n",
       "      <th>violet</th>\n",
       "      <th>Z1</th>\n",
       "    </tr>\n",
       "  </thead>\n",
       "  <tbody>\n",
       "    <tr>\n",
       "      <th>1</th>\n",
       "      <td>-0.437584</td>\n",
       "      <td>-0.786372</td>\n",
       "      <td>-1.284341</td>\n",
       "      <td>-0.042862</td>\n",
       "      <td>-0.186641</td>\n",
       "      <td>-0.373282</td>\n",
       "      <td>2</td>\n",
       "    </tr>\n",
       "    <tr>\n",
       "      <th>2</th>\n",
       "      <td>0.343671</td>\n",
       "      <td>1.666220</td>\n",
       "      <td>0.553122</td>\n",
       "      <td>-0.388060</td>\n",
       "      <td>-0.766553</td>\n",
       "      <td>-1.533105</td>\n",
       "      <td>3</td>\n",
       "    </tr>\n",
       "    <tr>\n",
       "      <th>4</th>\n",
       "      <td>-1.357240</td>\n",
       "      <td>-1.503856</td>\n",
       "      <td>-0.489248</td>\n",
       "      <td>1.498177</td>\n",
       "      <td>1.391979</td>\n",
       "      <td>2.783958</td>\n",
       "      <td>4</td>\n",
       "    </tr>\n",
       "  </tbody>\n",
       "</table>\n",
       "</div>"
      ],
      "text/plain": [
       "        Red    orange    yellow     green      blue    violet  Z1\n",
       "1 -0.437584 -0.786372 -1.284341 -0.042862 -0.186641 -0.373282   2\n",
       "2  0.343671  1.666220  0.553122 -0.388060 -0.766553 -1.533105   3\n",
       "4 -1.357240 -1.503856 -0.489248  1.498177  1.391979  2.783958   4"
      ]
     },
     "execution_count": 93,
     "metadata": {},
     "output_type": "execute_result"
    }
   ],
   "source": [
    "# Переименовать столбец, показать две строки\n",
    "df.rename(columns={'red': 'Red'}).head()"
   ]
  },
  {
   "cell_type": "code",
   "execution_count": 94,
   "id": "074616fa",
   "metadata": {},
   "outputs": [
    {
     "data": {
      "text/html": [
       "<div>\n",
       "<style scoped>\n",
       "    .dataframe tbody tr th:only-of-type {\n",
       "        vertical-align: middle;\n",
       "    }\n",
       "\n",
       "    .dataframe tbody tr th {\n",
       "        vertical-align: top;\n",
       "    }\n",
       "\n",
       "    .dataframe thead th {\n",
       "        text-align: right;\n",
       "    }\n",
       "</style>\n",
       "<table border=\"1\" class=\"dataframe\">\n",
       "  <thead>\n",
       "    <tr style=\"text-align: right;\">\n",
       "      <th></th>\n",
       "      <th>red</th>\n",
       "      <th>orange</th>\n",
       "      <th>yellow</th>\n",
       "      <th>green</th>\n",
       "      <th>blue</th>\n",
       "      <th>violet</th>\n",
       "      <th>Z1</th>\n",
       "    </tr>\n",
       "  </thead>\n",
       "  <tbody>\n",
       "    <tr>\n",
       "      <th>1</th>\n",
       "      <td>-0.437584</td>\n",
       "      <td>-0.786372</td>\n",
       "      <td>-1.284341</td>\n",
       "      <td>-0.042862</td>\n",
       "      <td>-0.186641</td>\n",
       "      <td>-0.373282</td>\n",
       "      <td>2</td>\n",
       "    </tr>\n",
       "    <tr>\n",
       "      <th>2</th>\n",
       "      <td>0.343671</td>\n",
       "      <td>1.666220</td>\n",
       "      <td>0.553122</td>\n",
       "      <td>-0.388060</td>\n",
       "      <td>-0.766553</td>\n",
       "      <td>-1.533105</td>\n",
       "      <td>3</td>\n",
       "    </tr>\n",
       "    <tr>\n",
       "      <th>4</th>\n",
       "      <td>-1.357240</td>\n",
       "      <td>-1.503856</td>\n",
       "      <td>-0.489248</td>\n",
       "      <td>1.498177</td>\n",
       "      <td>1.391979</td>\n",
       "      <td>2.783958</td>\n",
       "      <td>4</td>\n",
       "    </tr>\n",
       "  </tbody>\n",
       "</table>\n",
       "</div>"
      ],
      "text/plain": [
       "        red    orange    yellow     green      blue    violet  Z1\n",
       "1 -0.437584 -0.786372 -1.284341 -0.042862 -0.186641 -0.373282   2\n",
       "2  0.343671  1.666220  0.553122 -0.388060 -0.766553 -1.533105   3\n",
       "4 -1.357240 -1.503856 -0.489248  1.498177  1.391979  2.783958   4"
      ]
     },
     "execution_count": 94,
     "metadata": {},
     "output_type": "execute_result"
    }
   ],
   "source": [
    "df"
   ]
  },
  {
   "cell_type": "code",
   "execution_count": null,
   "id": "46337bed",
   "metadata": {},
   "outputs": [],
   "source": []
  }
 ],
 "metadata": {
  "kernelspec": {
   "display_name": "Python 3 (ipykernel)",
   "language": "python",
   "name": "python3"
  },
  "language_info": {
   "codemirror_mode": {
    "name": "ipython",
    "version": 3
   },
   "file_extension": ".py",
   "mimetype": "text/x-python",
   "name": "python",
   "nbconvert_exporter": "python",
   "pygments_lexer": "ipython3",
   "version": "3.10.10"
  }
 },
 "nbformat": 4,
 "nbformat_minor": 5
}
