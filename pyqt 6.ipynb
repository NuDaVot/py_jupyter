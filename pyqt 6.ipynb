{
 "cells": [
  {
   "cell_type": "code",
   "execution_count": 1,
   "id": "eb5714a1",
   "metadata": {},
   "outputs": [
    {
     "name": "stdout",
     "output_type": "stream",
     "text": [
      "Collecting pyqt6\n",
      "  Downloading PyQt6-6.5.0-cp37-abi3-win_amd64.whl (6.5 MB)\n",
      "     ---------------------------------------- 6.5/6.5 MB 12.5 MB/s eta 0:00:00\n",
      "Collecting PyQt6-sip<14,>=13.4\n",
      "  Downloading PyQt6_sip-13.5.0-cp310-cp310-win_amd64.whl (72 kB)\n",
      "     ---------------------------------------- 72.7/72.7 kB 4.2 MB/s eta 0:00:00\n",
      "Collecting PyQt6-Qt6>=6.5.0\n",
      "  Downloading PyQt6_Qt6-6.5.0-py3-none-win_amd64.whl (58.7 MB)\n",
      "     ---------------------------------------- 58.7/58.7 MB 6.3 MB/s eta 0:00:00\n",
      "Installing collected packages: PyQt6-Qt6, PyQt6-sip, pyqt6\n",
      "Successfully installed PyQt6-Qt6-6.5.0 PyQt6-sip-13.5.0 pyqt6-6.5.0\n",
      "Note: you may need to restart the kernel to use updated packages.\n"
     ]
    }
   ],
   "source": [
    "pip install pyqt6"
   ]
  },
  {
   "cell_type": "code",
   "execution_count": 2,
   "id": "d09d68e9",
   "metadata": {},
   "outputs": [
    {
     "name": "stdout",
     "output_type": "stream",
     "text": [
      "Collecting pyqt-toolsNote: you may need to restart the kernel to use updated packages.\n",
      "\n",
      "  Downloading pyqt_tools-1.0.0-py3-none-any.whl (4.9 kB)\n",
      "Requirement already satisfied: PyQt5 in c:\\users\\nudan\\anaconda3\\lib\\site-packages (from pyqt-tools) (5.15.7)\n",
      "Collecting guiqwt\n",
      "  Downloading guiqwt-4.3.3-cp310-cp310-win_amd64.whl (4.3 MB)\n",
      "     ---------------------------------------- 4.3/4.3 MB 13.9 MB/s eta 0:00:00\n",
      "Requirement already satisfied: numpy in c:\\users\\nudan\\anaconda3\\lib\\site-packages (from pyqt-tools) (1.23.5)\n",
      "Collecting guidata>=2.3\n",
      "  Downloading guidata-2.3.1-py3-none-any.whl (304 kB)\n",
      "     -------------------------------------- 304.2/304.2 kB 2.1 MB/s eta 0:00:00\n",
      "Requirement already satisfied: Pillow in c:\\users\\nudan\\anaconda3\\lib\\site-packages (from guiqwt->pyqt-tools) (9.4.0)\n",
      "Requirement already satisfied: SciPy>=0.7 in c:\\users\\nudan\\anaconda3\\lib\\site-packages (from guiqwt->pyqt-tools) (1.10.1)\n",
      "Requirement already satisfied: QtPy>=1.3 in c:\\users\\nudan\\anaconda3\\lib\\site-packages (from guiqwt->pyqt-tools) (2.2.0)\n",
      "Collecting PythonQwt>=0.10\n",
      "  Downloading PythonQwt-0.10.2-py2.py3-none-any.whl (869 kB)\n",
      "     ------------------------------------- 869.4/869.4 kB 27.7 MB/s eta 0:00:00\n",
      "Requirement already satisfied: PyQt5-sip<13,>=12.11 in c:\\users\\nudan\\anaconda3\\lib\\site-packages (from PyQt5->pyqt-tools) (12.11.0)\n",
      "Requirement already satisfied: packaging in c:\\users\\nudan\\anaconda3\\lib\\site-packages (from QtPy>=1.3->guiqwt->pyqt-tools) (23.0)\n",
      "Installing collected packages: PythonQwt, guidata, guiqwt, pyqt-tools\n",
      "Successfully installed PythonQwt-0.10.2 guidata-2.3.1 guiqwt-4.3.3 pyqt-tools-1.0.0\n"
     ]
    }
   ],
   "source": [
    "pip install pyqt-tools"
   ]
  },
  {
   "cell_type": "code",
   "execution_count": null,
   "id": "9d527f9a",
   "metadata": {},
   "outputs": [],
   "source": [
    "from PyQt6.QtWidgets import QApplication, QWidget\n",
    "\n",
    "import sys # Только для доступа к аргументам командной строки\n",
    "\n",
    "# Приложению нужен один (и только один) экземпляр QApplication.\n",
    "# Передаём sys.argv, чтобы разрешить аргументы командной строки для приложения.\n",
    "# Если не будете использовать аргументы командной строки, QApplication([]) тоже работает\n",
    "app = QApplication(sys.argv)\n",
    "\n",
    "# Создаём виджет Qt — окно.\n",
    "window = QWidget()\n",
    "window.show()  # Важно: окно по умолчанию скрыто.\n",
    "\n",
    "# Запускаем цикл событий.\n",
    "app.exec()\n",
    "\n",
    "\n",
    "# Приложение не доберётся сюда, пока вы не выйдете и цикл\n",
    "# событий не остановится."
   ]
  },
  {
   "cell_type": "code",
   "execution_count": null,
   "id": "e0f24c6d",
   "metadata": {},
   "outputs": [],
   "source": []
  }
 ],
 "metadata": {
  "kernelspec": {
   "display_name": "Python 3 (ipykernel)",
   "language": "python",
   "name": "python3"
  },
  "language_info": {
   "codemirror_mode": {
    "name": "ipython",
    "version": 3
   },
   "file_extension": ".py",
   "mimetype": "text/x-python",
   "name": "python",
   "nbconvert_exporter": "python",
   "pygments_lexer": "ipython3",
   "version": "3.10.10"
  }
 },
 "nbformat": 4,
 "nbformat_minor": 5
}
