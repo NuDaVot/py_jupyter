{
 "cells": [
  {
   "cell_type": "markdown",
   "metadata": {
    "id": "KRcQXprlWe3D"
   },
   "source": [
    "# Employee Churn Prediction"
   ]
  },
  {
   "cell_type": "markdown",
   "metadata": {},
   "source": [
    "Прогноз оттока сотрудников"
   ]
  },
  {
   "cell_type": "code",
   "execution_count": 20,
   "metadata": {
    "id": "-T9ReH3jWe3O"
   },
   "outputs": [],
   "source": [
    "import matplotlib.pyplot as plt\n",
    "import pandas as pd\n",
    "import numpy as np\n",
    "import seaborn as sns\n",
    "import plotly.express as px"
   ]
  },
  {
   "cell_type": "code",
   "execution_count": 18,
   "metadata": {},
   "outputs": [
    {
     "name": "stdout",
     "output_type": "stream",
     "text": [
      "Collecting plotly\n",
      "  Downloading plotly-5.11.0-py2.py3-none-any.whl (15.3 MB)\n",
      "Collecting tenacity>=6.2.0\n",
      "  Downloading tenacity-8.1.0-py3-none-any.whl (23 kB)\n",
      "Installing collected packages: tenacity, plotly\n",
      "Successfully installed plotly-5.11.0 tenacity-8.1.0\n",
      "Note: you may need to restart the kernel to use updated packages.\n"
     ]
    }
   ],
   "source": [
    "# установка plotly\n",
    "pip install plotly"
   ]
  },
  {
   "cell_type": "markdown",
   "metadata": {
    "id": "arCX8VTbWe3V"
   },
   "source": [
    "## Введение"
   ]
  },
  {
   "cell_type": "markdown",
   "metadata": {
    "id": "7yWyFK4xWe3X"
   },
   "source": [
    "Целью данного исследования является создание модели, которая будет прогнозировать вероятность того, что работник останется в компании или покинет ее, на основе некоторых его или ее характеристик (особенностей). Особенности приведены в кодовой книге.\n",
    "\n",
    "Поскольку переменная ответа является дихотомической категориальной переменной, для прогнозирования результата будут использоваться три модели: линейный дискриминантный анализ (LDA), логистическая регрессия и классификатор случайного леса, а затем производительность этих моделей будет сравниваться."
   ]
  },
  {
   "cell_type": "markdown",
   "metadata": {
    "id": "A2xkIMm1We3Y"
   },
   "source": [
    "### Codebook\n",
    "1. `satisfaction_level` - Уровень удовлетворенности сотрудников\n",
    "1. `Last_evaluation` - Последняя оценочная оценка\n",
    "1. `number_projects` - Количество проектов, назначенных\n",
    "1. `average_monthly_hours` - Среднее количество отработанных часов в месяц\n",
    "1. `time_spend_company` - Время, проведенное в компании\n",
    "1. `work_accident` - Был ли у них несчастный случай на работе\n",
    "1. `left` - Покинул ли сотрудник компанию\n",
    "1. `promotion_last_5years` - Было ли у них продвижение по службе за последние 5 лет\n",
    "1. `department` - Название отдела\n",
    "1. `salary` - Зарплатная категория"
   ]
  },
  {
   "cell_type": "markdown",
   "metadata": {
    "id": "wEP-sAIkWe3a"
   },
   "source": [
    "## EDA и предварительная обработка данных"
   ]
  },
  {
   "cell_type": "markdown",
   "metadata": {
    "id": "BSv0SUAqWe3c"
   },
   "source": [
    "### Загрузка и проверка данных"
   ]
  },
  {
   "cell_type": "code",
   "execution_count": 2,
   "metadata": {},
   "outputs": [
    {
     "data": {
      "text/html": [
       "<div>\n",
       "<style scoped>\n",
       "    .dataframe tbody tr th:only-of-type {\n",
       "        vertical-align: middle;\n",
       "    }\n",
       "\n",
       "    .dataframe tbody tr th {\n",
       "        vertical-align: top;\n",
       "    }\n",
       "\n",
       "    .dataframe thead th {\n",
       "        text-align: right;\n",
       "    }\n",
       "</style>\n",
       "<table border=\"1\" class=\"dataframe\">\n",
       "  <thead>\n",
       "    <tr style=\"text-align: right;\">\n",
       "      <th></th>\n",
       "      <th>satisfaction_level</th>\n",
       "      <th>last_evaluation</th>\n",
       "      <th>number_project</th>\n",
       "      <th>average_montly_hours</th>\n",
       "      <th>time_spend_company</th>\n",
       "      <th>Work_accident</th>\n",
       "      <th>left</th>\n",
       "      <th>promotion_last_5years</th>\n",
       "      <th>sales</th>\n",
       "      <th>salary</th>\n",
       "    </tr>\n",
       "  </thead>\n",
       "  <tbody>\n",
       "    <tr>\n",
       "      <th>0</th>\n",
       "      <td>0.38</td>\n",
       "      <td>0.53</td>\n",
       "      <td>2</td>\n",
       "      <td>157</td>\n",
       "      <td>3</td>\n",
       "      <td>0</td>\n",
       "      <td>1</td>\n",
       "      <td>0</td>\n",
       "      <td>sales</td>\n",
       "      <td>low</td>\n",
       "    </tr>\n",
       "    <tr>\n",
       "      <th>1</th>\n",
       "      <td>0.80</td>\n",
       "      <td>0.86</td>\n",
       "      <td>5</td>\n",
       "      <td>262</td>\n",
       "      <td>6</td>\n",
       "      <td>0</td>\n",
       "      <td>1</td>\n",
       "      <td>0</td>\n",
       "      <td>sales</td>\n",
       "      <td>medium</td>\n",
       "    </tr>\n",
       "    <tr>\n",
       "      <th>2</th>\n",
       "      <td>0.11</td>\n",
       "      <td>0.88</td>\n",
       "      <td>7</td>\n",
       "      <td>272</td>\n",
       "      <td>4</td>\n",
       "      <td>0</td>\n",
       "      <td>1</td>\n",
       "      <td>0</td>\n",
       "      <td>sales</td>\n",
       "      <td>medium</td>\n",
       "    </tr>\n",
       "    <tr>\n",
       "      <th>3</th>\n",
       "      <td>0.72</td>\n",
       "      <td>0.87</td>\n",
       "      <td>5</td>\n",
       "      <td>223</td>\n",
       "      <td>5</td>\n",
       "      <td>0</td>\n",
       "      <td>1</td>\n",
       "      <td>0</td>\n",
       "      <td>sales</td>\n",
       "      <td>low</td>\n",
       "    </tr>\n",
       "    <tr>\n",
       "      <th>4</th>\n",
       "      <td>0.37</td>\n",
       "      <td>0.52</td>\n",
       "      <td>2</td>\n",
       "      <td>159</td>\n",
       "      <td>3</td>\n",
       "      <td>0</td>\n",
       "      <td>1</td>\n",
       "      <td>0</td>\n",
       "      <td>sales</td>\n",
       "      <td>low</td>\n",
       "    </tr>\n",
       "  </tbody>\n",
       "</table>\n",
       "</div>"
      ],
      "text/plain": [
       "   satisfaction_level  last_evaluation  number_project  average_montly_hours  \\\n",
       "0                0.38             0.53               2                   157   \n",
       "1                0.80             0.86               5                   262   \n",
       "2                0.11             0.88               7                   272   \n",
       "3                0.72             0.87               5                   223   \n",
       "4                0.37             0.52               2                   159   \n",
       "\n",
       "   time_spend_company  Work_accident  left  promotion_last_5years  sales  \\\n",
       "0                   3              0     1                      0  sales   \n",
       "1                   6              0     1                      0  sales   \n",
       "2                   4              0     1                      0  sales   \n",
       "3                   5              0     1                      0  sales   \n",
       "4                   3              0     1                      0  sales   \n",
       "\n",
       "   salary  \n",
       "0     low  \n",
       "1  medium  \n",
       "2  medium  \n",
       "3     low  \n",
       "4     low  "
      ]
     },
     "execution_count": 2,
     "metadata": {},
     "output_type": "execute_result"
    }
   ],
   "source": [
    "df = pd.read_csv('HR_comma_sep.csv')\n",
    "df.head()"
   ]
  },
  {
   "cell_type": "code",
   "execution_count": 3,
   "metadata": {},
   "outputs": [
    {
     "name": "stdout",
     "output_type": "stream",
     "text": [
      "<class 'pandas.core.frame.DataFrame'>\n",
      "RangeIndex: 14999 entries, 0 to 14998\n",
      "Data columns (total 10 columns):\n",
      " #   Column                 Non-Null Count  Dtype  \n",
      "---  ------                 --------------  -----  \n",
      " 0   satisfaction_level     14999 non-null  float64\n",
      " 1   last_evaluation        14999 non-null  float64\n",
      " 2   number_project         14999 non-null  int64  \n",
      " 3   average_montly_hours   14999 non-null  int64  \n",
      " 4   time_spend_company     14999 non-null  int64  \n",
      " 5   Work_accident          14999 non-null  int64  \n",
      " 6   left                   14999 non-null  int64  \n",
      " 7   promotion_last_5years  14999 non-null  int64  \n",
      " 8   sales                  14999 non-null  object \n",
      " 9   salary                 14999 non-null  object \n",
      "dtypes: float64(2), int64(6), object(2)\n",
      "memory usage: 1.1+ MB\n"
     ]
    }
   ],
   "source": [
    "df.info()"
   ]
  },
  {
   "cell_type": "code",
   "execution_count": 11,
   "metadata": {},
   "outputs": [],
   "source": [
    "df.rename(columns={'sales': 'department'}, inplace=True)"
   ]
  },
  {
   "cell_type": "code",
   "execution_count": 12,
   "metadata": {},
   "outputs": [
    {
     "data": {
      "text/html": [
       "<div>\n",
       "<style scoped>\n",
       "    .dataframe tbody tr th:only-of-type {\n",
       "        vertical-align: middle;\n",
       "    }\n",
       "\n",
       "    .dataframe tbody tr th {\n",
       "        vertical-align: top;\n",
       "    }\n",
       "\n",
       "    .dataframe thead th {\n",
       "        text-align: right;\n",
       "    }\n",
       "</style>\n",
       "<table border=\"1\" class=\"dataframe\">\n",
       "  <thead>\n",
       "    <tr style=\"text-align: right;\">\n",
       "      <th></th>\n",
       "      <th>satisfaction_level</th>\n",
       "      <th>last_evaluation</th>\n",
       "      <th>number_project</th>\n",
       "      <th>average_montly_hours</th>\n",
       "      <th>time_spend_company</th>\n",
       "      <th>Work_accident</th>\n",
       "      <th>left</th>\n",
       "      <th>promotion_last_5years</th>\n",
       "      <th>department</th>\n",
       "      <th>salary</th>\n",
       "    </tr>\n",
       "  </thead>\n",
       "  <tbody>\n",
       "    <tr>\n",
       "      <th>0</th>\n",
       "      <td>0.38</td>\n",
       "      <td>0.53</td>\n",
       "      <td>2</td>\n",
       "      <td>157</td>\n",
       "      <td>3</td>\n",
       "      <td>0</td>\n",
       "      <td>1</td>\n",
       "      <td>0</td>\n",
       "      <td>sales</td>\n",
       "      <td>low</td>\n",
       "    </tr>\n",
       "    <tr>\n",
       "      <th>1</th>\n",
       "      <td>0.80</td>\n",
       "      <td>0.86</td>\n",
       "      <td>5</td>\n",
       "      <td>262</td>\n",
       "      <td>6</td>\n",
       "      <td>0</td>\n",
       "      <td>1</td>\n",
       "      <td>0</td>\n",
       "      <td>sales</td>\n",
       "      <td>medium</td>\n",
       "    </tr>\n",
       "    <tr>\n",
       "      <th>2</th>\n",
       "      <td>0.11</td>\n",
       "      <td>0.88</td>\n",
       "      <td>7</td>\n",
       "      <td>272</td>\n",
       "      <td>4</td>\n",
       "      <td>0</td>\n",
       "      <td>1</td>\n",
       "      <td>0</td>\n",
       "      <td>sales</td>\n",
       "      <td>medium</td>\n",
       "    </tr>\n",
       "    <tr>\n",
       "      <th>3</th>\n",
       "      <td>0.72</td>\n",
       "      <td>0.87</td>\n",
       "      <td>5</td>\n",
       "      <td>223</td>\n",
       "      <td>5</td>\n",
       "      <td>0</td>\n",
       "      <td>1</td>\n",
       "      <td>0</td>\n",
       "      <td>sales</td>\n",
       "      <td>low</td>\n",
       "    </tr>\n",
       "    <tr>\n",
       "      <th>4</th>\n",
       "      <td>0.37</td>\n",
       "      <td>0.52</td>\n",
       "      <td>2</td>\n",
       "      <td>159</td>\n",
       "      <td>3</td>\n",
       "      <td>0</td>\n",
       "      <td>1</td>\n",
       "      <td>0</td>\n",
       "      <td>sales</td>\n",
       "      <td>low</td>\n",
       "    </tr>\n",
       "  </tbody>\n",
       "</table>\n",
       "</div>"
      ],
      "text/plain": [
       "   satisfaction_level  last_evaluation  number_project  average_montly_hours  \\\n",
       "0                0.38             0.53               2                   157   \n",
       "1                0.80             0.86               5                   262   \n",
       "2                0.11             0.88               7                   272   \n",
       "3                0.72             0.87               5                   223   \n",
       "4                0.37             0.52               2                   159   \n",
       "\n",
       "   time_spend_company  Work_accident  left  promotion_last_5years department  \\\n",
       "0                   3              0     1                      0      sales   \n",
       "1                   6              0     1                      0      sales   \n",
       "2                   4              0     1                      0      sales   \n",
       "3                   5              0     1                      0      sales   \n",
       "4                   3              0     1                      0      sales   \n",
       "\n",
       "   salary  \n",
       "0     low  \n",
       "1  medium  \n",
       "2  medium  \n",
       "3     low  \n",
       "4     low  "
      ]
     },
     "execution_count": 12,
     "metadata": {},
     "output_type": "execute_result"
    }
   ],
   "source": [
    "df.head()"
   ]
  },
  {
   "cell_type": "code",
   "execution_count": 4,
   "metadata": {
    "colab": {
     "base_uri": "https://localhost:8080/"
    },
    "id": "qauYKKGpWe3h",
    "outputId": "c37a64f8-e31c-4318-c770-93d024610991"
   },
   "outputs": [
    {
     "data": {
      "text/plain": [
       "satisfaction_level       0.0\n",
       "last_evaluation          0.0\n",
       "number_project           0.0\n",
       "average_montly_hours     0.0\n",
       "time_spend_company       0.0\n",
       "Work_accident            0.0\n",
       "left                     0.0\n",
       "promotion_last_5years    0.0\n",
       "sales                    0.0\n",
       "salary                   0.0\n",
       "dtype: float64"
      ]
     },
     "execution_count": 4,
     "metadata": {},
     "output_type": "execute_result"
    }
   ],
   "source": [
    "# отсутствующие значения для каждого элемента\n",
    "np.round(df.isna().sum()/len(df), 2)"
   ]
  },
  {
   "cell_type": "markdown",
   "metadata": {},
   "source": [
    "**Заключение**. Этот набор данных содержит 9 признаков и целевую пременную с информацией о 14 999 сотрудниках. В этом наборе данных нет пропущенных значений."
   ]
  },
  {
   "cell_type": "markdown",
   "metadata": {
    "id": "3yIsqkenWe3j"
   },
   "source": [
    "### Категориальные признаки"
   ]
  },
  {
   "cell_type": "markdown",
   "metadata": {
    "id": "zO-P4ug9We3k"
   },
   "source": [
    "#### Work_accident (Несчастный случай на производстве)"
   ]
  },
  {
   "cell_type": "code",
   "execution_count": 5,
   "metadata": {
    "colab": {
     "base_uri": "https://localhost:8080/",
     "height": 112
    },
    "id": "Rv2VT3BFWe3k",
    "outputId": "d24c5754-28c6-4fa5-81e8-fafecf92d405"
   },
   "outputs": [
    {
     "data": {
      "text/html": [
       "<div>\n",
       "<style scoped>\n",
       "    .dataframe tbody tr th:only-of-type {\n",
       "        vertical-align: middle;\n",
       "    }\n",
       "\n",
       "    .dataframe tbody tr th {\n",
       "        vertical-align: top;\n",
       "    }\n",
       "\n",
       "    .dataframe thead th {\n",
       "        text-align: right;\n",
       "    }\n",
       "</style>\n",
       "<table border=\"1\" class=\"dataframe\">\n",
       "  <thead>\n",
       "    <tr style=\"text-align: right;\">\n",
       "      <th>Work_accident</th>\n",
       "      <th>0</th>\n",
       "      <th>1</th>\n",
       "    </tr>\n",
       "  </thead>\n",
       "  <tbody>\n",
       "    <tr>\n",
       "      <th>Did not leave</th>\n",
       "      <td>0.824991</td>\n",
       "      <td>0.175009</td>\n",
       "    </tr>\n",
       "    <tr>\n",
       "      <th>Left</th>\n",
       "      <td>0.952674</td>\n",
       "      <td>0.047326</td>\n",
       "    </tr>\n",
       "  </tbody>\n",
       "</table>\n",
       "</div>"
      ],
      "text/plain": [
       "Work_accident         0         1\n",
       "Did not leave  0.824991  0.175009\n",
       "Left           0.952674  0.047326"
      ]
     },
     "execution_count": 5,
     "metadata": {},
     "output_type": "execute_result"
    }
   ],
   "source": [
    "# Work_accident (Несчастный случай на производстве) vs. left (Покинувших) в процентах\n",
    "outcome_Work_accident = pd.crosstab(index = df['left'],\n",
    "                                    columns = df['Work_accident'], \n",
    "                                    normalize = 'index') # percentages based on index\n",
    "\n",
    "outcome_Work_accident.index= ['Did not leave', 'Left']\n",
    "outcome_Work_accident"
   ]
  },
  {
   "cell_type": "code",
   "execution_count": 6,
   "metadata": {
    "colab": {
     "base_uri": "https://localhost:8080/",
     "height": 295
    },
    "id": "V69VgpTqWe3l",
    "outputId": "d70f8429-138b-4a13-bf02-d68e44df3acf"
   },
   "outputs": [
    {
     "data": {
      "image/png": "[encoded data removed]",
      "text/plain": [
       "<Figure size 432x288 with 1 Axes>"
      ]
     },
     "metadata": {
      "needs_background": "light"
     },
     "output_type": "display_data"
    }
   ],
   "source": [
    "outcome_Work_accident.plot(kind = 'bar', stacked = True)\n",
    "\n",
    "plt.title('Work_accident vs. left')\n",
    "plt.xlabel('Outcome')\n",
    "plt.ylabel('Employees')\n",
    "plt.xticks(rotation = 0, horizontalalignment = 'center')\n",
    "\n",
    "plt.show()"
   ]
  },
  {
   "cell_type": "markdown",
   "metadata": {
    "id": "g54qV3MbWe3m"
   },
   "source": [
    "Меньше несчастных случаев среди покинувших компанию."
   ]
  },
  {
   "cell_type": "markdown",
   "metadata": {
    "id": "OCvQgxXEWe3n"
   },
   "source": [
    "#### promotion_last_5years (Продвижение за последние 5 лет)"
   ]
  },
  {
   "cell_type": "code",
   "execution_count": 8,
   "metadata": {
    "colab": {
     "base_uri": "https://localhost:8080/",
     "height": 112
    },
    "id": "Y7Q7IscMWe3n",
    "outputId": "eec24c91-13f2-4225-f8d1-0bfcd28ba49a"
   },
   "outputs": [
    {
     "data": {
      "text/html": [
       "<div>\n",
       "<style scoped>\n",
       "    .dataframe tbody tr th:only-of-type {\n",
       "        vertical-align: middle;\n",
       "    }\n",
       "\n",
       "    .dataframe tbody tr th {\n",
       "        vertical-align: top;\n",
       "    }\n",
       "\n",
       "    .dataframe thead th {\n",
       "        text-align: right;\n",
       "    }\n",
       "</style>\n",
       "<table border=\"1\" class=\"dataframe\">\n",
       "  <thead>\n",
       "    <tr style=\"text-align: right;\">\n",
       "      <th>promotion_last_5years</th>\n",
       "      <th>0</th>\n",
       "      <th>1</th>\n",
       "    </tr>\n",
       "  </thead>\n",
       "  <tbody>\n",
       "    <tr>\n",
       "      <th>Did not leave</th>\n",
       "      <td>0.973749</td>\n",
       "      <td>0.026251</td>\n",
       "    </tr>\n",
       "    <tr>\n",
       "      <th>Left</th>\n",
       "      <td>0.994679</td>\n",
       "      <td>0.005321</td>\n",
       "    </tr>\n",
       "  </tbody>\n",
       "</table>\n",
       "</div>"
      ],
      "text/plain": [
       "promotion_last_5years         0         1\n",
       "Did not leave          0.973749  0.026251\n",
       "Left                   0.994679  0.005321"
      ]
     },
     "execution_count": 8,
     "metadata": {},
     "output_type": "execute_result"
    }
   ],
   "source": [
    "# promotion_last_5years (Продвижение за последние 5 лет) vs. left (Покинувших) в процентах\n",
    "outcome_promotion_last_5years = pd.crosstab(index = df['left'], \n",
    "                           columns = df['promotion_last_5years'], normalize = 'index')\n",
    "\n",
    "outcome_promotion_last_5years.index= ['Did not leave', 'Left']\n",
    "outcome_promotion_last_5years"
   ]
  },
  {
   "cell_type": "code",
   "execution_count": 9,
   "metadata": {
    "colab": {
     "base_uri": "https://localhost:8080/",
     "height": 295
    },
    "id": "9lAdjeiGWe3o",
    "outputId": "64972dcc-3bbd-421c-913c-d082d4d75677"
   },
   "outputs": [
    {
     "data": {
      "image/png": "[encoded data removed]",
      "text/plain": [
       "<Figure size 432x288 with 1 Axes>"
      ]
     },
     "metadata": {
      "needs_background": "light"
     },
     "output_type": "display_data"
    }
   ],
   "source": [
    "outcome_promotion_last_5years.plot(kind = 'bar', stacked = True)\n",
    "\n",
    "plt.title('promotion_last_5years vs. left')\n",
    "plt.xlabel('Outcome')\n",
    "plt.ylabel('Employees')\n",
    "plt.xticks(rotation = 0, horizontalalignment = 'center')\n",
    "\n",
    "plt.show()"
   ]
  },
  {
   "cell_type": "markdown",
   "metadata": {
    "id": "DwDPckStWe3p"
   },
   "source": [
    "Практически никакого продвижения среди ушедших."
   ]
  },
  {
   "cell_type": "markdown",
   "metadata": {
    "id": "6RTUxg7FWe3p"
   },
   "source": [
    "#### department (Отделы компании)"
   ]
  },
  {
   "cell_type": "code",
   "execution_count": 13,
   "metadata": {
    "colab": {
     "base_uri": "https://localhost:8080/",
     "height": 112
    },
    "id": "RboObA9MWe3q",
    "outputId": "755f6d5f-b4dc-47bc-93cc-441a36cc1da4"
   },
   "outputs": [
    {
     "data": {
      "text/html": [
       "<div>\n",
       "<style scoped>\n",
       "    .dataframe tbody tr th:only-of-type {\n",
       "        vertical-align: middle;\n",
       "    }\n",
       "\n",
       "    .dataframe tbody tr th {\n",
       "        vertical-align: top;\n",
       "    }\n",
       "\n",
       "    .dataframe thead th {\n",
       "        text-align: right;\n",
       "    }\n",
       "</style>\n",
       "<table border=\"1\" class=\"dataframe\">\n",
       "  <thead>\n",
       "    <tr style=\"text-align: right;\">\n",
       "      <th>department</th>\n",
       "      <th>IT</th>\n",
       "      <th>RandD</th>\n",
       "      <th>accounting</th>\n",
       "      <th>hr</th>\n",
       "      <th>management</th>\n",
       "      <th>marketing</th>\n",
       "      <th>product_mng</th>\n",
       "      <th>sales</th>\n",
       "      <th>support</th>\n",
       "      <th>technical</th>\n",
       "    </tr>\n",
       "  </thead>\n",
       "  <tbody>\n",
       "    <tr>\n",
       "      <th>Did not leave</th>\n",
       "      <td>0.083479</td>\n",
       "      <td>0.058278</td>\n",
       "      <td>0.049265</td>\n",
       "      <td>0.045852</td>\n",
       "      <td>0.047165</td>\n",
       "      <td>0.057315</td>\n",
       "      <td>0.061603</td>\n",
       "      <td>0.273539</td>\n",
       "      <td>0.146482</td>\n",
       "      <td>0.177021</td>\n",
       "    </tr>\n",
       "    <tr>\n",
       "      <th>Left</th>\n",
       "      <td>0.076449</td>\n",
       "      <td>0.033884</td>\n",
       "      <td>0.057127</td>\n",
       "      <td>0.060207</td>\n",
       "      <td>0.025483</td>\n",
       "      <td>0.056847</td>\n",
       "      <td>0.055447</td>\n",
       "      <td>0.283954</td>\n",
       "      <td>0.155419</td>\n",
       "      <td>0.195183</td>\n",
       "    </tr>\n",
       "  </tbody>\n",
       "</table>\n",
       "</div>"
      ],
      "text/plain": [
       "department           IT     RandD  accounting        hr  management  \\\n",
       "Did not leave  0.083479  0.058278    0.049265  0.045852    0.047165   \n",
       "Left           0.076449  0.033884    0.057127  0.060207    0.025483   \n",
       "\n",
       "department     marketing  product_mng     sales   support  technical  \n",
       "Did not leave   0.057315     0.061603  0.273539  0.146482   0.177021  \n",
       "Left            0.056847     0.055447  0.283954  0.155419   0.195183  "
      ]
     },
     "execution_count": 13,
     "metadata": {},
     "output_type": "execute_result"
    }
   ],
   "source": [
    "# department vs. left (Покинувших) в процентах\n",
    "outcome_department = pd.crosstab(index = df['left'],\n",
    "                                 columns = df['department'],\n",
    "                                 normalize = 'index')\n",
    "\n",
    "outcome_department.index= ['Did not leave', 'Left']\n",
    "outcome_department"
   ]
  },
  {
   "cell_type": "code",
   "execution_count": 14,
   "metadata": {
    "colab": {
     "base_uri": "https://localhost:8080/",
     "height": 295
    },
    "id": "aU_ek8X6We3r",
    "outputId": "34e69601-da34-4d5e-980e-00a3bf21fbda"
   },
   "outputs": [
    {
     "data": {
      "image/png": "[encoded data removed]",
      "text/plain": [
       "<Figure size 432x288 with 1 Axes>"
      ]
     },
     "metadata": {
      "needs_background": "light"
     },
     "output_type": "display_data"
    }
   ],
   "source": [
    "outcome_department.plot.barh(stacked = True)\n",
    "\n",
    "plt.title('department vs. left')\n",
    "plt.xlabel('Employees')\n",
    "plt.ylabel('Outcome')\n",
    "plt.xticks(rotation = 0, horizontalalignment = 'center')\n",
    "plt.show()"
   ]
  },
  {
   "cell_type": "code",
   "execution_count": 15,
   "metadata": {
    "colab": {
     "base_uri": "https://localhost:8080/"
    },
    "id": "aCc1b6osWe3s",
    "outputId": "1b8ecfc8-7bf9-473a-cd64-4c0db77b8777"
   },
   "outputs": [
    {
     "data": {
      "text/plain": [
       "sales          4140\n",
       "technical      2720\n",
       "support        2229\n",
       "IT             1227\n",
       "product_mng     902\n",
       "marketing       858\n",
       "RandD           787\n",
       "accounting      767\n",
       "hr              739\n",
       "management      630\n",
       "Name: department, dtype: int64"
      ]
     },
     "execution_count": 15,
     "metadata": {},
     "output_type": "execute_result"
    }
   ],
   "source": [
    "# количество сотрудников по отделам\n",
    "df['department'].value_counts()"
   ]
  },
  {
   "cell_type": "code",
   "execution_count": 19,
   "metadata": {
    "colab": {
     "base_uri": "https://localhost:8080/",
     "height": 390
    },
    "id": "YJMBQJZNWe3s",
    "outputId": "749d7159-3b39-4716-8578-943b29b0e1f4"
   },
   "outputs": [
    {
     "data": {
      "image/png": "[encoded data removed]",
      "text/plain": [
       "<Figure size 720x360 with 1 Axes>"
      ]
     },
     "metadata": {
      "needs_background": "light"
     },
     "output_type": "display_data"
    }
   ],
   "source": [
    "plt.figure(figsize = (10,5))\n",
    "\n",
    "chart = sns.countplot(data = df, x = 'department')\n",
    "\n",
    "chart.set_xticklabels(\n",
    "    chart.get_xticklabels(), \n",
    "    rotation = 45, \n",
    "    horizontalalignment = 'right',\n",
    "    fontweight = 'light',\n",
    "    fontsize = 'large'\n",
    ")\n",
    "\n",
    "plt.show()"
   ]
  },
  {
   "cell_type": "markdown",
   "metadata": {
    "id": "LtvM0D8EWe3t"
   },
   "source": [
    "Большинство людей работают в отделах продаж, технической поддержки и поддержки. В разбивке по отделам примерно одинаковое распределение среди уехавших и не уехавших."
   ]
  },
  {
   "cell_type": "markdown",
   "metadata": {
    "id": "f7fiBcdqWe3t"
   },
   "source": [
    "#### salary (Зарплата)"
   ]
  },
  {
   "cell_type": "code",
   "execution_count": 21,
   "metadata": {
    "colab": {
     "base_uri": "https://localhost:8080/"
    },
    "id": "qDgfUPcSWe3u",
    "outputId": "9c3d7b7e-249a-4d97-ce16-34a9435b598a"
   },
   "outputs": [
    {
     "data": {
      "text/plain": [
       "low       7316\n",
       "medium    6446\n",
       "high      1237\n",
       "Name: salary, dtype: int64"
      ]
     },
     "execution_count": 21,
     "metadata": {},
     "output_type": "execute_result"
    }
   ],
   "source": [
    "# salary counts\n",
    "df['salary'].value_counts()"
   ]
  },
  {
   "cell_type": "code",
   "execution_count": 22,
   "metadata": {
    "colab": {
     "base_uri": "https://localhost:8080/",
     "height": 279
    },
    "id": "uYGCUtCnWe3u",
    "outputId": "3519f3d1-7db4-4f33-98d3-5445e59540ba"
   },
   "outputs": [
    {
     "data": {
      "image/png": "[encoded data removed]",
      "text/plain": [
       "<Figure size 432x288 with 1 Axes>"
      ]
     },
     "metadata": {
      "needs_background": "light"
     },
     "output_type": "display_data"
    }
   ],
   "source": [
    "sns.countplot(x = 'salary',  data = df)\n",
    "plt.show()"
   ]
  },
  {
   "cell_type": "code",
   "execution_count": 24,
   "metadata": {
    "colab": {
     "base_uri": "https://localhost:8080/",
     "height": 394
    },
    "id": "liGMqNHuWe3v",
    "outputId": "a9315621-ce6a-40d1-9a1a-1641f6b201c5"
   },
   "outputs": [
    {
     "data": {
      "text/html": [
       "<div>\n",
       "<style scoped>\n",
       "    .dataframe tbody tr th:only-of-type {\n",
       "        vertical-align: middle;\n",
       "    }\n",
       "\n",
       "    .dataframe tbody tr th {\n",
       "        vertical-align: top;\n",
       "    }\n",
       "\n",
       "    .dataframe thead th {\n",
       "        text-align: right;\n",
       "    }\n",
       "</style>\n",
       "<table border=\"1\" class=\"dataframe\">\n",
       "  <thead>\n",
       "    <tr style=\"text-align: right;\">\n",
       "      <th>salary</th>\n",
       "      <th>high</th>\n",
       "      <th>low</th>\n",
       "      <th>medium</th>\n",
       "    </tr>\n",
       "    <tr>\n",
       "      <th>department</th>\n",
       "      <th></th>\n",
       "      <th></th>\n",
       "      <th></th>\n",
       "    </tr>\n",
       "  </thead>\n",
       "  <tbody>\n",
       "    <tr>\n",
       "      <th>IT</th>\n",
       "      <td>0.067645</td>\n",
       "      <td>0.496333</td>\n",
       "      <td>0.436023</td>\n",
       "    </tr>\n",
       "    <tr>\n",
       "      <th>RandD</th>\n",
       "      <td>0.064803</td>\n",
       "      <td>0.462516</td>\n",
       "      <td>0.472681</td>\n",
       "    </tr>\n",
       "    <tr>\n",
       "      <th>accounting</th>\n",
       "      <td>0.096480</td>\n",
       "      <td>0.466754</td>\n",
       "      <td>0.436767</td>\n",
       "    </tr>\n",
       "    <tr>\n",
       "      <th>hr</th>\n",
       "      <td>0.060893</td>\n",
       "      <td>0.453315</td>\n",
       "      <td>0.485792</td>\n",
       "    </tr>\n",
       "    <tr>\n",
       "      <th>management</th>\n",
       "      <td>0.357143</td>\n",
       "      <td>0.285714</td>\n",
       "      <td>0.357143</td>\n",
       "    </tr>\n",
       "    <tr>\n",
       "      <th>marketing</th>\n",
       "      <td>0.093240</td>\n",
       "      <td>0.468531</td>\n",
       "      <td>0.438228</td>\n",
       "    </tr>\n",
       "    <tr>\n",
       "      <th>product_mng</th>\n",
       "      <td>0.075388</td>\n",
       "      <td>0.500000</td>\n",
       "      <td>0.424612</td>\n",
       "    </tr>\n",
       "    <tr>\n",
       "      <th>sales</th>\n",
       "      <td>0.064976</td>\n",
       "      <td>0.507005</td>\n",
       "      <td>0.428019</td>\n",
       "    </tr>\n",
       "    <tr>\n",
       "      <th>support</th>\n",
       "      <td>0.063257</td>\n",
       "      <td>0.514132</td>\n",
       "      <td>0.422611</td>\n",
       "    </tr>\n",
       "    <tr>\n",
       "      <th>technical</th>\n",
       "      <td>0.073897</td>\n",
       "      <td>0.504412</td>\n",
       "      <td>0.421691</td>\n",
       "    </tr>\n",
       "  </tbody>\n",
       "</table>\n",
       "</div>"
      ],
      "text/plain": [
       "salary           high       low    medium\n",
       "department                               \n",
       "IT           0.067645  0.496333  0.436023\n",
       "RandD        0.064803  0.462516  0.472681\n",
       "accounting   0.096480  0.466754  0.436767\n",
       "hr           0.060893  0.453315  0.485792\n",
       "management   0.357143  0.285714  0.357143\n",
       "marketing    0.093240  0.468531  0.438228\n",
       "product_mng  0.075388  0.500000  0.424612\n",
       "sales        0.064976  0.507005  0.428019\n",
       "support      0.063257  0.514132  0.422611\n",
       "technical    0.073897  0.504412  0.421691"
      ]
     },
     "execution_count": 24,
     "metadata": {},
     "output_type": "execute_result"
    }
   ],
   "source": [
    "# salary vs. department в процентах\n",
    "salary_dept = pd.crosstab(index = df['department'],\n",
    "                          columns = df['salary'],\n",
    "                          normalize='index')\n",
    "\n",
    "salary_dept"
   ]
  },
  {
   "cell_type": "code",
   "execution_count": 25,
   "metadata": {
    "colab": {
     "base_uri": "https://localhost:8080/",
     "height": 295
    },
    "id": "QG7HshwUWe3v",
    "outputId": "96bd079e-25fd-4ee6-9a36-ed51c2176239"
   },
   "outputs": [
    {
     "data": {
      "image/png": "[encoded data removed]",
      "text/plain": [
       "<Figure size 432x288 with 1 Axes>"
      ]
     },
     "metadata": {
      "needs_background": "light"
     },
     "output_type": "display_data"
    }
   ],
   "source": [
    "salary_dept.plot.barh(stacked = True)\n",
    "\n",
    "plt.title('salary vs. department')\n",
    "plt.xlabel('Salary')\n",
    "plt.ylabel('Department')\n",
    "plt.xticks(rotation = 0, horizontalalignment = 'center')\n",
    "\n",
    "plt.show()"
   ]
  },
  {
   "cell_type": "code",
   "execution_count": 26,
   "metadata": {
    "colab": {
     "base_uri": "https://localhost:8080/",
     "height": 112
    },
    "id": "pFXnYyfXWe3w",
    "outputId": "6a5b7f46-04b7-4be6-8e6b-6ad535fa6aed"
   },
   "outputs": [
    {
     "data": {
      "text/html": [
       "<div>\n",
       "<style scoped>\n",
       "    .dataframe tbody tr th:only-of-type {\n",
       "        vertical-align: middle;\n",
       "    }\n",
       "\n",
       "    .dataframe tbody tr th {\n",
       "        vertical-align: top;\n",
       "    }\n",
       "\n",
       "    .dataframe thead th {\n",
       "        text-align: right;\n",
       "    }\n",
       "</style>\n",
       "<table border=\"1\" class=\"dataframe\">\n",
       "  <thead>\n",
       "    <tr style=\"text-align: right;\">\n",
       "      <th>salary</th>\n",
       "      <th>high</th>\n",
       "      <th>low</th>\n",
       "      <th>medium</th>\n",
       "    </tr>\n",
       "  </thead>\n",
       "  <tbody>\n",
       "    <tr>\n",
       "      <th>Did not leave</th>\n",
       "      <td>0.101068</td>\n",
       "      <td>0.450123</td>\n",
       "      <td>0.448810</td>\n",
       "    </tr>\n",
       "    <tr>\n",
       "      <th>Left</th>\n",
       "      <td>0.022963</td>\n",
       "      <td>0.608233</td>\n",
       "      <td>0.368804</td>\n",
       "    </tr>\n",
       "  </tbody>\n",
       "</table>\n",
       "</div>"
      ],
      "text/plain": [
       "salary             high       low    medium\n",
       "Did not leave  0.101068  0.450123  0.448810\n",
       "Left           0.022963  0.608233  0.368804"
      ]
     },
     "execution_count": 26,
     "metadata": {},
     "output_type": "execute_result"
    }
   ],
   "source": [
    "# salary vs. left в процентах\n",
    "outcome_salary = pd.crosstab(index = df['left'],\n",
    "                             columns = df['salary'],\n",
    "                             normalize = 'index')\n",
    "\n",
    "outcome_salary.index= ['Did not leave', 'Left']\n",
    "outcome_salary"
   ]
  },
  {
   "cell_type": "code",
   "execution_count": 27,
   "metadata": {
    "colab": {
     "base_uri": "https://localhost:8080/",
     "height": 295
    },
    "id": "UKKotcMmWe3w",
    "outputId": "6c933949-d7e4-4587-8220-34c257af08c1"
   },
   "outputs": [
    {
     "data": {
      "image/png": "[encoded data removed]",
      "text/plain": [
       "<Figure size 432x288 with 1 Axes>"
      ]
     },
     "metadata": {
      "needs_background": "light"
     },
     "output_type": "display_data"
    }
   ],
   "source": [
    "outcome_salary.plot(kind = 'bar', stacked = True)\n",
    "\n",
    "plt.title('salary vs. left')\n",
    "plt.xlabel('Outcome')\n",
    "plt.ylabel('Employees')\n",
    "plt.xticks(rotation = 0, horizontalalignment = 'center')\n",
    "\n",
    "plt.show()"
   ]
  },
  {
   "cell_type": "markdown",
   "metadata": {
    "id": "cAuSuupnWe3x"
   },
   "source": [
    "Работников с низкой и средней зарплатой значительно больше, чем высокооплачиваемых. Более или менее равномерное распределение заработной платы по отделам, за исключением менеджеров, у которых большая доля высоких окладов. Меньше уходят людей с высокой и средней зарплатой."
   ]
  },
  {
   "cell_type": "markdown",
   "metadata": {
    "id": "rxJt3H6JWe3x"
   },
   "source": [
    "#### Time spent in the company (Время, проведенное в компании )"
   ]
  },
  {
   "cell_type": "code",
   "execution_count": 28,
   "metadata": {
    "colab": {
     "base_uri": "https://localhost:8080/",
     "height": 112
    },
    "id": "Ld9q4SZ-We3y",
    "outputId": "d0ab9bc6-f126-4505-dcc9-5c061a7436b2"
   },
   "outputs": [
    {
     "data": {
      "text/html": [
       "<div>\n",
       "<style scoped>\n",
       "    .dataframe tbody tr th:only-of-type {\n",
       "        vertical-align: middle;\n",
       "    }\n",
       "\n",
       "    .dataframe tbody tr th {\n",
       "        vertical-align: top;\n",
       "    }\n",
       "\n",
       "    .dataframe thead th {\n",
       "        text-align: right;\n",
       "    }\n",
       "</style>\n",
       "<table border=\"1\" class=\"dataframe\">\n",
       "  <thead>\n",
       "    <tr style=\"text-align: right;\">\n",
       "      <th>time_spend_company</th>\n",
       "      <th>2</th>\n",
       "      <th>3</th>\n",
       "      <th>4</th>\n",
       "      <th>5</th>\n",
       "      <th>6</th>\n",
       "      <th>7</th>\n",
       "      <th>8</th>\n",
       "      <th>10</th>\n",
       "    </tr>\n",
       "  </thead>\n",
       "  <tbody>\n",
       "    <tr>\n",
       "      <th>Did not leave</th>\n",
       "      <td>0.279226</td>\n",
       "      <td>0.425009</td>\n",
       "      <td>0.14587</td>\n",
       "      <td>0.056003</td>\n",
       "      <td>0.044540</td>\n",
       "      <td>0.016451</td>\n",
       "      <td>0.014176</td>\n",
       "      <td>0.018726</td>\n",
       "    </tr>\n",
       "    <tr>\n",
       "      <th>Left</th>\n",
       "      <td>0.014842</td>\n",
       "      <td>0.444133</td>\n",
       "      <td>0.24923</td>\n",
       "      <td>0.233268</td>\n",
       "      <td>0.058527</td>\n",
       "      <td>0.000000</td>\n",
       "      <td>0.000000</td>\n",
       "      <td>0.000000</td>\n",
       "    </tr>\n",
       "  </tbody>\n",
       "</table>\n",
       "</div>"
      ],
      "text/plain": [
       "time_spend_company        2         3        4         5         6         7   \\\n",
       "Did not leave       0.279226  0.425009  0.14587  0.056003  0.044540  0.016451   \n",
       "Left                0.014842  0.444133  0.24923  0.233268  0.058527  0.000000   \n",
       "\n",
       "time_spend_company        8         10  \n",
       "Did not leave       0.014176  0.018726  \n",
       "Left                0.000000  0.000000  "
      ]
     },
     "execution_count": 28,
     "metadata": {},
     "output_type": "execute_result"
    }
   ],
   "source": [
    "# time_spend_company vs. left в процентах\n",
    "outcome_time_spend_company = pd.crosstab(index = df['left'],\n",
    "                                         columns = df['time_spend_company'],\n",
    "                                         normalize = 'index')\n",
    "\n",
    "outcome_time_spend_company.index = ['Did not leave', 'Left']\n",
    "outcome_time_spend_company"
   ]
  },
  {
   "cell_type": "code",
   "execution_count": 29,
   "metadata": {
    "colab": {
     "base_uri": "https://localhost:8080/",
     "height": 295
    },
    "id": "MgnzzQnSWe3y",
    "outputId": "80300cf8-8008-491d-97f3-50881e4827b6"
   },
   "outputs": [
    {
     "data": {
      "image/png": "[encoded data removed]",
      "text/plain": [
       "<Figure size 432x288 with 1 Axes>"
      ]
     },
     "metadata": {
      "needs_background": "light"
     },
     "output_type": "display_data"
    }
   ],
   "source": [
    "outcome_time_spend_company.plot.barh(stacked = True)\n",
    "\n",
    "plt.title('time_spend_company vs. left')\n",
    "plt.xlabel('Time spent, in years')\n",
    "plt.ylabel('Outcome')\n",
    "\n",
    "plt.show()"
   ]
  },
  {
   "cell_type": "markdown",
   "metadata": {
    "id": "2GXV94GPWe3z"
   },
   "source": [
    "Те, кто работает по 2, 7, 8 и 9 лет, почти всегда остаются."
   ]
  },
  {
   "cell_type": "markdown",
   "metadata": {
    "id": "HwheYzyqWe3z"
   },
   "source": [
    "#### Number of projects (Количество проектов)"
   ]
  },
  {
   "cell_type": "code",
   "execution_count": 30,
   "metadata": {
    "colab": {
     "base_uri": "https://localhost:8080/"
    },
    "id": "IGSXh5HEWe30",
    "outputId": "9001a474-6e5d-4d7b-937e-75adfe2abaf2"
   },
   "outputs": [
    {
     "data": {
      "text/plain": [
       "left\n",
       "0    3.786664\n",
       "1    3.855503\n",
       "Name: number_project, dtype: float64"
      ]
     },
     "execution_count": 30,
     "metadata": {},
     "output_type": "execute_result"
    }
   ],
   "source": [
    "# mean number_project vs. left\n",
    "proj_left = df.groupby('left').number_project.mean()\n",
    "proj_left"
   ]
  },
  {
   "cell_type": "code",
   "execution_count": 31,
   "metadata": {
    "colab": {
     "base_uri": "https://localhost:8080/",
     "height": 295
    },
    "id": "IoLVFXBmWe30",
    "outputId": "cad28061-41e9-4cfc-f06b-670f98c80500"
   },
   "outputs": [
    {
     "data": {
      "image/png": "[encoded data removed]",
      "text/plain": [
       "<Figure size 432x288 with 1 Axes>"
      ]
     },
     "metadata": {
      "needs_background": "light"
     },
     "output_type": "display_data"
    }
   ],
   "source": [
    "proj_left.plot(kind = 'bar', stacked = True)\n",
    "\n",
    "plt.title('number_project vs. left')\n",
    "plt.xlabel('Left')\n",
    "plt.ylabel('number_project')\n",
    "plt.xticks(rotation = 0, horizontalalignment = 'center')\n",
    "\n",
    "plt.show()"
   ]
  },
  {
   "cell_type": "markdown",
   "metadata": {
    "id": "7pdKy4x3We30"
   },
   "source": [
    "Гистограмма среднего числа проектов не очень информативна."
   ]
  },
  {
   "cell_type": "code",
   "execution_count": 32,
   "metadata": {
    "colab": {
     "base_uri": "https://localhost:8080/",
     "height": 112
    },
    "id": "z3_EA75FWe31",
    "outputId": "fd19f0f9-30e9-4cf3-e2d0-252a42102a70"
   },
   "outputs": [
    {
     "data": {
      "text/html": [
       "<div>\n",
       "<style scoped>\n",
       "    .dataframe tbody tr th:only-of-type {\n",
       "        vertical-align: middle;\n",
       "    }\n",
       "\n",
       "    .dataframe tbody tr th {\n",
       "        vertical-align: top;\n",
       "    }\n",
       "\n",
       "    .dataframe thead th {\n",
       "        text-align: right;\n",
       "    }\n",
       "</style>\n",
       "<table border=\"1\" class=\"dataframe\">\n",
       "  <thead>\n",
       "    <tr style=\"text-align: right;\">\n",
       "      <th>number_project</th>\n",
       "      <th>2</th>\n",
       "      <th>3</th>\n",
       "      <th>4</th>\n",
       "      <th>5</th>\n",
       "      <th>6</th>\n",
       "      <th>7</th>\n",
       "    </tr>\n",
       "  </thead>\n",
       "  <tbody>\n",
       "    <tr>\n",
       "      <th>Did not leave</th>\n",
       "      <td>0.071841</td>\n",
       "      <td>0.348530</td>\n",
       "      <td>0.346167</td>\n",
       "      <td>0.188047</td>\n",
       "      <td>0.045415</td>\n",
       "      <td>0.000000</td>\n",
       "    </tr>\n",
       "    <tr>\n",
       "      <th>Left</th>\n",
       "      <td>0.438813</td>\n",
       "      <td>0.020162</td>\n",
       "      <td>0.114534</td>\n",
       "      <td>0.171381</td>\n",
       "      <td>0.183422</td>\n",
       "      <td>0.071689</td>\n",
       "    </tr>\n",
       "  </tbody>\n",
       "</table>\n",
       "</div>"
      ],
      "text/plain": [
       "number_project         2         3         4         5         6         7\n",
       "Did not leave   0.071841  0.348530  0.346167  0.188047  0.045415  0.000000\n",
       "Left            0.438813  0.020162  0.114534  0.171381  0.183422  0.071689"
      ]
     },
     "execution_count": 32,
     "metadata": {},
     "output_type": "execute_result"
    }
   ],
   "source": [
    "# number_project vs. left в процентах\n",
    "outcome_number_project = pd.crosstab(index = df['left'],\n",
    "                                     columns = df['number_project'],\n",
    "                                     normalize='index')\n",
    "\n",
    "outcome_number_project.index = ['Did not leave', 'Left']\n",
    "outcome_number_project"
   ]
  },
  {
   "cell_type": "code",
   "execution_count": 33,
   "metadata": {
    "colab": {
     "base_uri": "https://localhost:8080/",
     "height": 295
    },
    "id": "r607KxrGWe31",
    "outputId": "e9d17dfb-63e0-40be-d6d8-10878b7071ac"
   },
   "outputs": [
    {
     "data": {
      "image/png": "[encoded data removed]",
      "text/plain": [
       "<Figure size 432x288 with 1 Axes>"
      ]
     },
     "metadata": {
      "needs_background": "light"
     },
     "output_type": "display_data"
    }
   ],
   "source": [
    "outcome_number_project.plot.barh(stacked = True)\n",
    "\n",
    "plt.title('number_project vs. left')\n",
    "plt.xlabel('Number of projects')\n",
    "plt.ylabel('Outcome')\n",
    "\n",
    "plt.show()"
   ]
  },
  {
   "cell_type": "markdown",
   "metadata": {
    "id": "yJnu1guhWe32"
   },
   "source": [
    "- Сотрудники с двумя проектами увольняются чаще\n",
    "- Те, у кого 3 проекта, почти никогда не уходят\n",
    "- Те, у кого 4 проекта, остаются чаще\n",
    "- Уходят те, у кого 7 проектов"
   ]
  },
  {
   "cell_type": "markdown",
   "metadata": {
    "id": "bUvJoXBTWe32"
   },
   "source": [
    "**Заключение для категориальных переменных:** среди категориальных переменных `promotion_last_5years`, `salary`, `time_spend_company`, `number_project` могут стать хорошими предикторами для модели. Интересно отметить, что люди, у которых было больше несчастных случаев на производстве, как правило, чаще остаются."
   ]
  },
  {
   "cell_type": "markdown",
   "metadata": {
    "id": "QkzEzx9EWe32"
   },
   "source": [
    "### Числовые признаки"
   ]
  },
  {
   "cell_type": "markdown",
   "metadata": {
    "id": "__Sn3s4dWe33"
   },
   "source": [
    "#### Сводная статистика"
   ]
  },
  {
   "cell_type": "code",
   "execution_count": 34,
   "metadata": {
    "colab": {
     "base_uri": "https://localhost:8080/",
     "height": 300
    },
    "id": "ZTMcpHAGWe33",
    "outputId": "a9184fb8-c98c-4353-bfc4-3e8b963202ce"
   },
   "outputs": [
    {
     "data": {
      "text/html": [
       "<div>\n",
       "<style scoped>\n",
       "    .dataframe tbody tr th:only-of-type {\n",
       "        vertical-align: middle;\n",
       "    }\n",
       "\n",
       "    .dataframe tbody tr th {\n",
       "        vertical-align: top;\n",
       "    }\n",
       "\n",
       "    .dataframe thead th {\n",
       "        text-align: right;\n",
       "    }\n",
       "</style>\n",
       "<table border=\"1\" class=\"dataframe\">\n",
       "  <thead>\n",
       "    <tr style=\"text-align: right;\">\n",
       "      <th></th>\n",
       "      <th>satisfaction_level</th>\n",
       "      <th>last_evaluation</th>\n",
       "      <th>average_montly_hours</th>\n",
       "    </tr>\n",
       "  </thead>\n",
       "  <tbody>\n",
       "    <tr>\n",
       "      <th>count</th>\n",
       "      <td>14999.000000</td>\n",
       "      <td>14999.000000</td>\n",
       "      <td>14999.000000</td>\n",
       "    </tr>\n",
       "    <tr>\n",
       "      <th>mean</th>\n",
       "      <td>0.612834</td>\n",
       "      <td>0.716102</td>\n",
       "      <td>201.050337</td>\n",
       "    </tr>\n",
       "    <tr>\n",
       "      <th>std</th>\n",
       "      <td>0.248631</td>\n",
       "      <td>0.171169</td>\n",
       "      <td>49.943099</td>\n",
       "    </tr>\n",
       "    <tr>\n",
       "      <th>min</th>\n",
       "      <td>0.090000</td>\n",
       "      <td>0.360000</td>\n",
       "      <td>96.000000</td>\n",
       "    </tr>\n",
       "    <tr>\n",
       "      <th>25%</th>\n",
       "      <td>0.440000</td>\n",
       "      <td>0.560000</td>\n",
       "      <td>156.000000</td>\n",
       "    </tr>\n",
       "    <tr>\n",
       "      <th>50%</th>\n",
       "      <td>0.640000</td>\n",
       "      <td>0.720000</td>\n",
       "      <td>200.000000</td>\n",
       "    </tr>\n",
       "    <tr>\n",
       "      <th>75%</th>\n",
       "      <td>0.820000</td>\n",
       "      <td>0.870000</td>\n",
       "      <td>245.000000</td>\n",
       "    </tr>\n",
       "    <tr>\n",
       "      <th>max</th>\n",
       "      <td>1.000000</td>\n",
       "      <td>1.000000</td>\n",
       "      <td>310.000000</td>\n",
       "    </tr>\n",
       "  </tbody>\n",
       "</table>\n",
       "</div>"
      ],
      "text/plain": [
       "       satisfaction_level  last_evaluation  average_montly_hours\n",
       "count        14999.000000     14999.000000          14999.000000\n",
       "mean             0.612834         0.716102            201.050337\n",
       "std              0.248631         0.171169             49.943099\n",
       "min              0.090000         0.360000             96.000000\n",
       "25%              0.440000         0.560000            156.000000\n",
       "50%              0.640000         0.720000            200.000000\n",
       "75%              0.820000         0.870000            245.000000\n",
       "max              1.000000         1.000000            310.000000"
      ]
     },
     "execution_count": 34,
     "metadata": {},
     "output_type": "execute_result"
    }
   ],
   "source": [
    "df[['satisfaction_level', 'last_evaluation', 'average_montly_hours']].describe()"
   ]
  },
  {
   "cell_type": "markdown",
   "metadata": {
    "id": "pdEIhZW7We34"
   },
   "source": [
    "Среднее и медиана довольно близки. Похоже, что в распределениях нет значительного перекоса или выбросов."
   ]
  },
  {
   "cell_type": "markdown",
   "metadata": {
    "id": "8Tw7Lx3bWe34"
   },
   "source": [
    "#### Satisfaction level (Уровень удовлетворенности)"
   ]
  },
  {
   "cell_type": "code",
   "execution_count": 35,
   "metadata": {
    "colab": {
     "base_uri": "https://localhost:8080/",
     "height": 280
    },
    "id": "1j7cWnFPWe34",
    "outputId": "f242d40c-e51e-45fd-973b-b308890645c9"
   },
   "outputs": [
    {
     "data": {
      "image/png": "[encoded data removed]",
      "text/plain": [
       "<Figure size 432x288 with 2 Axes>"
      ]
     },
     "metadata": {
      "needs_background": "light"
     },
     "output_type": "display_data"
    }
   ],
   "source": [
    "f, (ax_box, ax_hist) = plt.subplots(2, sharex = True, gridspec_kw = {'height_ratios': (.15, .85)})\n",
    "\n",
    "sns.boxplot(x = df['satisfaction_level'], ax = ax_box)\n",
    "sns.histplot(x = df['satisfaction_level'], ax = ax_hist, bins = 10, kde = True)\n",
    "\n",
    "ax_box.set(xlabel = '')\n",
    "ax_hist.set(xlabel = 'satisfaction_level distribution')\n",
    "ax_hist.set(ylabel = 'frequency')\n",
    "\n",
    "plt.show()"
   ]
  },
  {
   "cell_type": "markdown",
   "metadata": {
    "id": "KoXs0OyFWe35"
   },
   "source": [
    "Довольно много недовольных сотрудников."
   ]
  },
  {
   "cell_type": "code",
   "execution_count": 36,
   "metadata": {
    "colab": {
     "base_uri": "https://localhost:8080/",
     "height": 280
    },
    "id": "VkeUu_JnWe35",
    "outputId": "45cce08a-170d-4630-c550-01e339658bc0"
   },
   "outputs": [
    {
     "data": {
      "image/png": "[encoded data removed]",
      "text/plain": [
       "<Figure size 432x288 with 2 Axes>"
      ]
     },
     "metadata": {
      "needs_background": "light"
     },
     "output_type": "display_data"
    }
   ],
   "source": [
    "# пытаемся преобразовать log\n",
    "f, (ax_box, ax_hist) = plt.subplots(2, sharex = True, gridspec_kw = {'height_ratios': (.15, .85)})\n",
    "\n",
    "sns.boxplot(x = df['satisfaction_level'], ax = ax_box)\n",
    "sns.histplot(x = df['satisfaction_level'], ax = ax_hist, bins = 10, kde = True).set_yscale('log')\n",
    "\n",
    "ax_box.set(xlabel = '')\n",
    "ax_hist.set(xlabel = 'satisfaction_level distribution (log)')\n",
    "ax_hist.set(ylabel = 'frequency')\n",
    "\n",
    "plt.show()"
   ]
  },
  {
   "cell_type": "code",
   "execution_count": 37,
   "metadata": {
    "colab": {
     "base_uri": "https://localhost:8080/",
     "height": 281
    },
    "id": "bDpAZxUQWe36",
    "outputId": "7535cbfb-453f-4aac-e048-65584abf30f3"
   },
   "outputs": [
    {
     "data": {
      "image/png": "[encoded data removed]",
      "text/plain": [
       "<Figure size 432x288 with 1 Axes>"
      ]
     },
     "metadata": {
      "needs_background": "light"
     },
     "output_type": "display_data"
    }
   ],
   "source": [
    "# trying Yeo-Johnson transformation\n",
    "from sklearn.preprocessing import PowerTransformer\n",
    "\n",
    "power = PowerTransformer(method = 'yeo-johnson', standardize = True)\n",
    "sat_trans = power.fit_transform(df[['satisfaction_level']])\n",
    "sat_trans = pd.DataFrame(sat_trans)\n",
    "sat_trans.hist(bins = 20)\n",
    "\n",
    "plt.show()"
   ]
  },
  {
   "cell_type": "code",
   "execution_count": 38,
   "metadata": {
    "colab": {
     "base_uri": "https://localhost:8080/"
    },
    "id": "auPtlQaZWe36",
    "outputId": "75cad1e6-510d-4583-a879-72afe4f7b2d7"
   },
   "outputs": [
    {
     "data": {
      "text/plain": [
       "left\n",
       "0    0.666810\n",
       "1    0.440098\n",
       "Name: satisfaction_level, dtype: float64"
      ]
     },
     "execution_count": 38,
     "metadata": {},
     "output_type": "execute_result"
    }
   ],
   "source": [
    "# satisfaction level vs. left\n",
    "sat_left = df.groupby('left').satisfaction_level.mean()\n",
    "sat_left"
   ]
  },
  {
   "cell_type": "code",
   "execution_count": 39,
   "metadata": {
    "colab": {
     "base_uri": "https://localhost:8080/",
     "height": 295
    },
    "id": "JKQ0Oq1bWe37",
    "outputId": "db673206-c2e6-46be-b136-3037646fd3e5"
   },
   "outputs": [
    {
     "data": {
      "image/png": "[encoded data removed]",
      "text/plain": [
       "<Figure size 432x288 with 1 Axes>"
      ]
     },
     "metadata": {
      "needs_background": "light"
     },
     "output_type": "display_data"
    }
   ],
   "source": [
    "sat_left.plot(kind = 'bar', stacked = True)\n",
    "\n",
    "plt.title('satisfaction_level vs. left')\n",
    "plt.xlabel('Left')\n",
    "plt.ylabel('satisfaction_level')\n",
    "plt.xticks(rotation = 0, horizontalalignment = 'center')\n",
    "\n",
    "plt.show()"
   ]
  },
  {
   "cell_type": "markdown",
   "metadata": {
    "id": "Ky_xwBRPWe37"
   },
   "source": [
    "Те, кто покинули компанию, удовлетворены значительно меньше."
   ]
  },
  {
   "cell_type": "code",
   "execution_count": 40,
   "metadata": {
    "colab": {
     "base_uri": "https://localhost:8080/"
    },
    "id": "Qt-YkQWPWe38",
    "outputId": "077cdcc3-3ab9-4655-c0a0-fd16fe0444ab"
   },
   "outputs": [
    {
     "data": {
      "text/plain": [
       "department\n",
       "accounting     0.582151\n",
       "hr             0.598809\n",
       "technical      0.607897\n",
       "sales          0.614447\n",
       "IT             0.618142\n",
       "support        0.618300\n",
       "marketing      0.618601\n",
       "product_mng    0.619634\n",
       "RandD          0.619822\n",
       "management     0.621349\n",
       "Name: satisfaction_level, dtype: float64"
      ]
     },
     "execution_count": 40,
     "metadata": {},
     "output_type": "execute_result"
    }
   ],
   "source": [
    "# satisfaction level by department\n",
    "sat_dept = df.groupby('department').satisfaction_level.mean().sort_values()\n",
    "sat_dept"
   ]
  },
  {
   "cell_type": "code",
   "execution_count": 41,
   "metadata": {
    "colab": {
     "base_uri": "https://localhost:8080/",
     "height": 296
    },
    "id": "zbJbCJZYWe38",
    "outputId": "3533dc37-237c-45c3-f73b-27f329045d9e"
   },
   "outputs": [
    {
     "data": {
      "image/png": "[encoded data removed]",
      "text/plain": [
       "<Figure size 432x288 with 1 Axes>"
      ]
     },
     "metadata": {
      "needs_background": "light"
     },
     "output_type": "display_data"
    }
   ],
   "source": [
    "sat_dept.plot.barh(stacked = True)\n",
    "plt.title('satisfaction_level by department')\n",
    "plt.xlabel('satisfaction_level')\n",
    "plt.ylabel('department')\n",
    "plt.xticks(rotation = 0, horizontalalignment = 'center')\n",
    "plt.xlim(0.55, 0.65)\n",
    "plt.show()"
   ]
  },
  {
   "cell_type": "markdown",
   "metadata": {
    "id": "FietGuo9We39"
   },
   "source": [
    "Бухгалтеры, HR и технические специалисты явно менее удовлетворены."
   ]
  },
  {
   "cell_type": "markdown",
   "metadata": {
    "id": "1MYRuwqNWe39"
   },
   "source": [
    "#### Last evaluation (Последняя оценка)"
   ]
  },
  {
   "cell_type": "code",
   "execution_count": 42,
   "metadata": {
    "colab": {
     "base_uri": "https://localhost:8080/",
     "height": 280
    },
    "id": "HsV6uGfFWe39",
    "outputId": "280ff738-0a45-42ed-bc77-f849ffea6168"
   },
   "outputs": [
    {
     "data": {
      "image/png": "[encoded data removed]",
      "text/plain": [
       "<Figure size 432x288 with 2 Axes>"
      ]
     },
     "metadata": {
      "needs_background": "light"
     },
     "output_type": "display_data"
    }
   ],
   "source": [
    "f, (ax_box, ax_hist) = plt.subplots(2, sharex = True, gridspec_kw = {'height_ratios': (.15, .85)})\n",
    "\n",
    "sns.boxplot(x = df['last_evaluation'], ax = ax_box)\n",
    "sns.histplot(x = df['last_evaluation'], ax = ax_hist, bins = 15, kde = True)\n",
    "\n",
    "ax_box.set(xlabel = '')\n",
    "ax_hist.set(xlabel = 'last_evaluation distribution')\n",
    "ax_hist.set(ylabel = 'frequency')\n",
    "\n",
    "plt.show()"
   ]
  },
  {
   "cell_type": "markdown",
   "metadata": {
    "id": "HUK5nk15We3-"
   },
   "source": [
    "Бимодальное распределение."
   ]
  },
  {
   "cell_type": "code",
   "execution_count": 43,
   "metadata": {
    "colab": {
     "base_uri": "https://localhost:8080/",
     "height": 280
    },
    "id": "4Lv1Mb6PWe3-",
    "outputId": "227ba1fa-ba7c-4db4-a712-82c5799fd4a2"
   },
   "outputs": [
    {
     "data": {
      "image/png": "[encoded data removed]",
      "text/plain": [
       "<Figure size 432x288 with 2 Axes>"
      ]
     },
     "metadata": {
      "needs_background": "light"
     },
     "output_type": "display_data"
    }
   ],
   "source": [
    "# trying log transformation\n",
    "f, (ax_box, ax_hist) = plt.subplots(2, sharex = True, gridspec_kw = {'height_ratios': (.15, .85)})\n",
    "\n",
    "sns.boxplot(x = df['last_evaluation'], ax = ax_box)\n",
    "sns.histplot(x = df['last_evaluation'], ax = ax_hist, bins = 15, kde = True).set_yscale('log')\n",
    "\n",
    "ax_box.set(xlabel = '')\n",
    "ax_hist.set(xlabel = 'last_evaluation distribution (log)')\n",
    "ax_hist.set(ylabel = 'frequency')\n",
    "\n",
    "plt.show()"
   ]
  },
  {
   "cell_type": "code",
   "execution_count": 44,
   "metadata": {
    "colab": {
     "base_uri": "https://localhost:8080/",
     "height": 281
    },
    "id": "5cZy4BmNWe3_",
    "outputId": "84d772b0-15d1-4b49-cf2c-837fd58f7fc0"
   },
   "outputs": [
    {
     "data": {
      "image/png": "[encoded data removed]",
      "text/plain": [
       "<Figure size 432x288 with 1 Axes>"
      ]
     },
     "metadata": {
      "needs_background": "light"
     },
     "output_type": "display_data"
    }
   ],
   "source": [
    "# trying Yeo-Johnson transformation\n",
    "power = PowerTransformer(method = 'yeo-johnson', standardize = True)\n",
    "\n",
    "eval_trans = power.fit_transform(df[['last_evaluation']])\n",
    "eval_trans = pd.DataFrame(eval_trans)\n",
    "eval_trans.hist(bins = 20)\n",
    "\n",
    "plt.show()"
   ]
  },
  {
   "cell_type": "code",
   "execution_count": 45,
   "metadata": {
    "colab": {
     "base_uri": "https://localhost:8080/"
    },
    "id": "IpHWxkTrWe3_",
    "outputId": "cc7285e7-917f-4fb5-b4aa-9dc4a6ffe7fb"
   },
   "outputs": [
    {
     "data": {
      "text/plain": [
       "left\n",
       "0    0.715473\n",
       "1    0.718113\n",
       "Name: last_evaluation, dtype: float64"
      ]
     },
     "execution_count": 45,
     "metadata": {},
     "output_type": "execute_result"
    }
   ],
   "source": [
    "# last_evaluation vs. left\n",
    "eval_left = df.groupby('left').last_evaluation.mean()\n",
    "eval_left"
   ]
  },
  {
   "cell_type": "code",
   "execution_count": 46,
   "metadata": {
    "colab": {
     "base_uri": "https://localhost:8080/",
     "height": 295
    },
    "id": "0-9ov6sLWe4A",
    "outputId": "7bc21e08-122e-4b85-930b-da3947400956"
   },
   "outputs": [
    {
     "data": {
      "image/png": "[encoded data removed]",
      "text/plain": [
       "<Figure size 432x288 with 1 Axes>"
      ]
     },
     "metadata": {
      "needs_background": "light"
     },
     "output_type": "display_data"
    }
   ],
   "source": [
    "eval_left.plot(kind = 'bar', stacked = True)\n",
    "\n",
    "plt.title('last_evaluation  vs. left')\n",
    "plt.xlabel('left')\n",
    "plt.ylabel('last_evaluation')\n",
    "plt.xticks(rotation = 0, horizontalalignment = 'center')\n",
    "plt.ylim(0.7, 0.74)\n",
    "\n",
    "plt.show()"
   ]
  },
  {
   "cell_type": "markdown",
   "metadata": {
    "id": "8IhRFTiUWe4A"
   },
   "source": [
    "Разница крайне мала."
   ]
  },
  {
   "cell_type": "markdown",
   "metadata": {
    "id": "9zAjA03hWe4A"
   },
   "source": [
    "#### Average monthly hours (Среднее количество часов в месяц )"
   ]
  },
  {
   "cell_type": "code",
   "execution_count": 47,
   "metadata": {
    "colab": {
     "base_uri": "https://localhost:8080/",
     "height": 280
    },
    "id": "MZg2jhMgWe4B",
    "outputId": "166ef2ff-003e-4f01-a464-c4b6398d31a7"
   },
   "outputs": [
    {
     "data": {
      "image/png": "[encoded data removed]",
      "text/plain": [
       "<Figure size 432x288 with 2 Axes>"
      ]
     },
     "metadata": {
      "needs_background": "light"
     },
     "output_type": "display_data"
    }
   ],
   "source": [
    "f, (ax_box, ax_hist) = plt.subplots(2, sharex = True, gridspec_kw = {'height_ratios': (.15, .85)})\n",
    "\n",
    "sns.boxplot(x = df['average_montly_hours'], ax = ax_box)\n",
    "sns.histplot(x = df['average_montly_hours'], ax = ax_hist, bins = 15, kde = True)\n",
    "\n",
    "ax_box.set(xlabel = '')\n",
    "ax_hist.set(xlabel = 'average_montly_hours distribution')\n",
    "ax_hist.set(ylabel = 'frequency')\n",
    "\n",
    "plt.show()"
   ]
  },
  {
   "cell_type": "markdown",
   "metadata": {
    "id": "ZqbEVjCmWe4B"
   },
   "source": [
    "Бимодальное распределение."
   ]
  },
  {
   "cell_type": "code",
   "execution_count": 49,
   "metadata": {
    "colab": {
     "base_uri": "https://localhost:8080/",
     "height": 280
    },
    "id": "2SjmAqHQWe4B",
    "outputId": "b4c73c8c-4c68-4fc3-b804-b1137d77d625"
   },
   "outputs": [
    {
     "data": {
      "image/png": "[encoded data removed]",
      "text/plain": [
       "<Figure size 432x288 with 2 Axes>"
      ]
     },
     "metadata": {
      "needs_background": "light"
     },
     "output_type": "display_data"
    }
   ],
   "source": [
    "# trying log transformation\n",
    "f, (ax_box, ax_hist) = plt.subplots(2, sharex = True, gridspec_kw = {'height_ratios': (.15, .85)})\n",
    "\n",
    "sns.boxplot(x = df['average_montly_hours'], ax = ax_box)\n",
    "sns.histplot(x = df['average_montly_hours'], ax = ax_hist, bins = 15, kde = True).set_yscale('log')\n",
    "\n",
    "ax_box.set(xlabel = '')\n",
    "ax_hist.set(xlabel = 'average_montly_hours distribution (log)')\n",
    "ax_hist.set(ylabel = 'frequency')\n",
    "\n",
    "plt.show()"
   ]
  },
  {
   "cell_type": "code",
   "execution_count": 50,
   "metadata": {
    "colab": {
     "base_uri": "https://localhost:8080/",
     "height": 281
    },
    "id": "n-mwNM3bWe4C",
    "outputId": "80c03651-5de1-43d7-fc1b-65f0f5f82c2f"
   },
   "outputs": [
    {
     "data": {
      "image/png": "[encoded data removed]",
      "text/plain": [
       "<Figure size 432x288 with 1 Axes>"
      ]
     },
     "metadata": {
      "needs_background": "light"
     },
     "output_type": "display_data"
    }
   ],
   "source": [
    "# trying Yeo-Johnson transformation\n",
    "power = PowerTransformer(method = 'yeo-johnson', standardize = True)\n",
    "\n",
    "hours_trans = power.fit_transform(df[['average_montly_hours']])\n",
    "hours_trans = pd.DataFrame(hours_trans)\n",
    "hours_trans.hist(bins = 20)\n",
    "\n",
    "plt.show()"
   ]
  },
  {
   "cell_type": "code",
   "execution_count": 51,
   "metadata": {
    "colab": {
     "base_uri": "https://localhost:8080/"
    },
    "id": "BC6UVmMAWe4C",
    "outputId": "5fb36e86-934e-46ae-aebc-700f155b01e2"
   },
   "outputs": [
    {
     "data": {
      "text/plain": [
       "left\n",
       "0    199.060203\n",
       "1    207.419210\n",
       "Name: average_montly_hours, dtype: float64"
      ]
     },
     "execution_count": 51,
     "metadata": {},
     "output_type": "execute_result"
    }
   ],
   "source": [
    "# average_montly_hours vs. left\n",
    "hours_left = df.groupby('left').average_montly_hours.mean()\n",
    "hours_left"
   ]
  },
  {
   "cell_type": "code",
   "execution_count": 52,
   "metadata": {
    "colab": {
     "base_uri": "https://localhost:8080/",
     "height": 295
    },
    "id": "tbjgDzPmWe4D",
    "outputId": "cb3a0719-1c34-4965-e968-ff07c6ae9a16"
   },
   "outputs": [
    {
     "data": {
      "image/png": "[encoded data removed]",
      "text/plain": [
       "<Figure size 432x288 with 1 Axes>"
      ]
     },
     "metadata": {
      "needs_background": "light"
     },
     "output_type": "display_data"
    }
   ],
   "source": [
    "hours_left.plot(kind = 'bar', stacked = True)\n",
    "\n",
    "plt.title('average_montly_hours vs. left')\n",
    "plt.xlabel('left')\n",
    "plt.ylabel('average_montly_hours')\n",
    "plt.xticks(rotation = 0, horizontalalignment = 'center')\n",
    "plt.ylim(150, 220)\n",
    "\n",
    "plt.show()"
   ]
  },
  {
   "cell_type": "markdown",
   "metadata": {
    "id": "OsmPgoTaWe4D"
   },
   "source": [
    "**Вывод для числовых переменных:** Числовые переменные требуют логарифмического преобразования для лучшего прогнозирования. Преобразование Йео-Джонсона не дало хороших результатов. `satisfaction_level` и `average_montly_hours` вполне может быть использован в модели."
   ]
  },
  {
   "cell_type": "markdown",
   "metadata": {
    "id": "9QdI4UxaWe4D"
   },
   "source": [
    "#### Выбросы"
   ]
  },
  {
   "cell_type": "code",
   "execution_count": 53,
   "metadata": {
    "colab": {
     "base_uri": "https://localhost:8080/",
     "height": 130
    },
    "id": "-wn-9pYGWe4E",
    "outputId": "a7892a76-be67-43e9-927b-8b3218e19055"
   },
   "outputs": [
    {
     "name": "stdout",
     "output_type": "stream",
     "text": [
      "-0.12999999999999995 1.39\n"
     ]
    },
    {
     "data": {
      "text/html": [
       "<div>\n",
       "<style scoped>\n",
       "    .dataframe tbody tr th:only-of-type {\n",
       "        vertical-align: middle;\n",
       "    }\n",
       "\n",
       "    .dataframe tbody tr th {\n",
       "        vertical-align: top;\n",
       "    }\n",
       "\n",
       "    .dataframe thead th {\n",
       "        text-align: right;\n",
       "    }\n",
       "</style>\n",
       "<table border=\"1\" class=\"dataframe\">\n",
       "  <thead>\n",
       "    <tr style=\"text-align: right;\">\n",
       "      <th></th>\n",
       "      <th>satisfaction_level</th>\n",
       "      <th>last_evaluation</th>\n",
       "      <th>number_project</th>\n",
       "      <th>average_montly_hours</th>\n",
       "      <th>time_spend_company</th>\n",
       "      <th>Work_accident</th>\n",
       "      <th>left</th>\n",
       "      <th>promotion_last_5years</th>\n",
       "      <th>department</th>\n",
       "      <th>salary</th>\n",
       "    </tr>\n",
       "  </thead>\n",
       "  <tbody>\n",
       "  </tbody>\n",
       "</table>\n",
       "</div>"
      ],
      "text/plain": [
       "Empty DataFrame\n",
       "Columns: [satisfaction_level, last_evaluation, number_project, average_montly_hours, time_spend_company, Work_accident, left, promotion_last_5years, department, salary]\n",
       "Index: []"
      ]
     },
     "execution_count": 53,
     "metadata": {},
     "output_type": "execute_result"
    }
   ],
   "source": [
    "# satisfaction_level outliers\n",
    "q1 = df.satisfaction_level.quantile(0.25)\n",
    "q3 = df.satisfaction_level.quantile(0.75)\n",
    "iqr = q3 - q1\n",
    "lower_bound = q1 - (1.5 * iqr) \n",
    "upper_bound = q3 + (1.5 * iqr)\n",
    "print(lower_bound, upper_bound)\n",
    "\n",
    "outliers_sat = df[(df.satisfaction_level < lower_bound) | (df.satisfaction_level > upper_bound)]\n",
    "outliers_sat.head()"
   ]
  },
  {
   "cell_type": "markdown",
   "metadata": {
    "id": "VfbsblCdWe4E"
   },
   "source": [
    "Выбросов нет, поскольку границы превышают минимальное и максимальное значения."
   ]
  },
  {
   "cell_type": "code",
   "execution_count": null,
   "metadata": {
    "colab": {
     "base_uri": "https://localhost:8080/",
     "height": 130
    },
    "id": "gd28auN8We4F",
    "outputId": "d05b3b29-340f-43e8-e35a-6fe93ed8fc59"
   },
   "outputs": [
    {
     "name": "stdout",
     "output_type": "stream",
     "text": [
      "0.09500000000000014 1.335\n"
     ]
    },
    {
     "data": {
      "text/html": [
       "\n",
       "  <div id=\"df-50489eff-6886-479a-91a4-b1915f00942b\">\n",
       "    <div class=\"colab-df-container\">\n",
       "      <div>\n",
       "<style scoped>\n",
       "    .dataframe tbody tr th:only-of-type {\n",
       "        vertical-align: middle;\n",
       "    }\n",
       "\n",
       "    .dataframe tbody tr th {\n",
       "        vertical-align: top;\n",
       "    }\n",
       "\n",
       "    .dataframe thead th {\n",
       "        text-align: right;\n",
       "    }\n",
       "</style>\n",
       "<table border=\"1\" class=\"dataframe\">\n",
       "  <thead>\n",
       "    <tr style=\"text-align: right;\">\n",
       "      <th></th>\n",
       "      <th>satisfaction_level</th>\n",
       "      <th>last_evaluation</th>\n",
       "      <th>number_project</th>\n",
       "      <th>average_montly_hours</th>\n",
       "      <th>time_spend_company</th>\n",
       "      <th>Work_accident</th>\n",
       "      <th>left</th>\n",
       "      <th>promotion_last_5years</th>\n",
       "      <th>department</th>\n",
       "      <th>salary</th>\n",
       "    </tr>\n",
       "  </thead>\n",
       "  <tbody>\n",
       "  </tbody>\n",
       "</table>\n",
       "</div>\n",
       "      <button class=\"colab-df-convert\" onclick=\"convertToInteractive('df-50489eff-6886-479a-91a4-b1915f00942b')\"\n",
       "              title=\"Convert this dataframe to an interactive table.\"\n",
       "              style=\"display:none;\">\n",
       "        \n",
       "  <svg xmlns=\"http://www.w3.org/2000/svg\" height=\"24px\"viewBox=\"0 0 24 24\"\n",
       "       width=\"24px\">\n",
       "    <path d=\"M0 0h24v24H0V0z\" fill=\"none\"/>\n",
       "    <path d=\"M18.56 5.44l.94 2.06.94-2.06 2.06-.94-2.06-.94-.94-2.06-.94 2.06-2.06.94zm-11 1L8.5 8.5l.94-2.06 2.06-.94-2.06-.94L8.5 2.5l-.94 2.06-2.06.94zm10 10l.94 2.06.94-2.06 2.06-.94-2.06-.94-.94-2.06-.94 2.06-2.06.94z\"/><path d=\"M17.41 7.96l-1.37-1.37c-.4-.4-.92-.59-1.43-.59-.52 0-1.04.2-1.43.59L10.3 9.45l-7.72 7.72c-.78.78-.78 2.05 0 2.83L4 21.41c.39.39.9.59 1.41.59.51 0 1.02-.2 1.41-.59l7.78-7.78 2.81-2.81c.8-.78.8-2.07 0-2.86zM5.41 20L4 18.59l7.72-7.72 1.47 1.35L5.41 20z\"/>\n",
       "  </svg>\n",
       "      </button>\n",
       "      \n",
       "  <style>\n",
       "    .colab-df-container {\n",
       "      display:flex;\n",
       "      flex-wrap:wrap;\n",
       "      gap: 12px;\n",
       "    }\n",
       "\n",
       "    .colab-df-convert {\n",
       "      background-color: #E8F0FE;\n",
       "      border: none;\n",
       "      border-radius: 50%;\n",
       "      cursor: pointer;\n",
       "      display: none;\n",
       "      fill: #1967D2;\n",
       "      height: 32px;\n",
       "      padding: 0 0 0 0;\n",
       "      width: 32px;\n",
       "    }\n",
       "\n",
       "    .colab-df-convert:hover {\n",
       "      background-color: #E2EBFA;\n",
       "      box-shadow: 0px 1px 2px rgba(60, 64, 67, 0.3), 0px 1px 3px 1px rgba(60, 64, 67, 0.15);\n",
       "      fill: #174EA6;\n",
       "    }\n",
       "\n",
       "    [theme=dark] .colab-df-convert {\n",
       "      background-color: #3B4455;\n",
       "      fill: #D2E3FC;\n",
       "    }\n",
       "\n",
       "    [theme=dark] .colab-df-convert:hover {\n",
       "      background-color: #434B5C;\n",
       "      box-shadow: 0px 1px 3px 1px rgba(0, 0, 0, 0.15);\n",
       "      filter: drop-shadow(0px 1px 2px rgba(0, 0, 0, 0.3));\n",
       "      fill: #FFFFFF;\n",
       "    }\n",
       "  </style>\n",
       "\n",
       "      <script>\n",
       "        const buttonEl =\n",
       "          document.querySelector('#df-50489eff-6886-479a-91a4-b1915f00942b button.colab-df-convert');\n",
       "        buttonEl.style.display =\n",
       "          google.colab.kernel.accessAllowed ? 'block' : 'none';\n",
       "\n",
       "        async function convertToInteractive(key) {\n",
       "          const element = document.querySelector('#df-50489eff-6886-479a-91a4-b1915f00942b');\n",
       "          const dataTable =\n",
       "            await google.colab.kernel.invokeFunction('convertToInteractive',\n",
       "                                                     [key], {});\n",
       "          if (!dataTable) return;\n",
       "\n",
       "          const docLinkHtml = 'Like what you see? Visit the ' +\n",
       "            '<a target=\"_blank\" href=https://colab.research.google.com/notebooks/data_table.ipynb>data table notebook</a>'\n",
       "            + ' to learn more about interactive tables.';\n",
       "          element.innerHTML = '';\n",
       "          dataTable['output_type'] = 'display_data';\n",
       "          await google.colab.output.renderOutput(dataTable, element);\n",
       "          const docLink = document.createElement('div');\n",
       "          docLink.innerHTML = docLinkHtml;\n",
       "          element.appendChild(docLink);\n",
       "        }\n",
       "      </script>\n",
       "    </div>\n",
       "  </div>\n",
       "  "
      ],
      "text/plain": [
       "Empty DataFrame\n",
       "Columns: [satisfaction_level, last_evaluation, number_project, average_montly_hours, time_spend_company, Work_accident, left, promotion_last_5years, department, salary]\n",
       "Index: []"
      ]
     },
     "execution_count": 44,
     "metadata": {},
     "output_type": "execute_result"
    }
   ],
   "source": [
    "# last_evaluation outliers\n",
    "q1 = df.last_evaluation.quantile(0.25)\n",
    "q3 = df.last_evaluation.quantile(0.75)\n",
    "iqr = q3 - q1\n",
    "lower_bound = q1 - (1.5 * iqr) \n",
    "upper_bound = q3 + (1.5 * iqr)\n",
    "print(lower_bound, upper_bound)\n",
    "\n",
    "eval = df[(df.last_evaluation < lower_bound) | (df.last_evaluation > upper_bound)]\n",
    "eval.head()"
   ]
  },
  {
   "cell_type": "markdown",
   "metadata": {
    "id": "wcKTcwXxWe4F"
   },
   "source": [
    "Выбросов нет, поскольку границы превышают минимальное и максимальное значения."
   ]
  },
  {
   "cell_type": "code",
   "execution_count": null,
   "metadata": {
    "colab": {
     "base_uri": "https://localhost:8080/",
     "height": 130
    },
    "id": "4tkit6QYWe4F",
    "outputId": "65235974-0f22-48f5-f49a-9d4a6cd3cb3b"
   },
   "outputs": [
    {
     "name": "stdout",
     "output_type": "stream",
     "text": [
      "22.5 378.5\n"
     ]
    },
    {
     "data": {
      "text/html": [
       "\n",
       "  <div id=\"df-60536136-7740-4222-b911-c142cea69961\">\n",
       "    <div class=\"colab-df-container\">\n",
       "      <div>\n",
       "<style scoped>\n",
       "    .dataframe tbody tr th:only-of-type {\n",
       "        vertical-align: middle;\n",
       "    }\n",
       "\n",
       "    .dataframe tbody tr th {\n",
       "        vertical-align: top;\n",
       "    }\n",
       "\n",
       "    .dataframe thead th {\n",
       "        text-align: right;\n",
       "    }\n",
       "</style>\n",
       "<table border=\"1\" class=\"dataframe\">\n",
       "  <thead>\n",
       "    <tr style=\"text-align: right;\">\n",
       "      <th></th>\n",
       "      <th>satisfaction_level</th>\n",
       "      <th>last_evaluation</th>\n",
       "      <th>number_project</th>\n",
       "      <th>average_montly_hours</th>\n",
       "      <th>time_spend_company</th>\n",
       "      <th>Work_accident</th>\n",
       "      <th>left</th>\n",
       "      <th>promotion_last_5years</th>\n",
       "      <th>department</th>\n",
       "      <th>salary</th>\n",
       "    </tr>\n",
       "  </thead>\n",
       "  <tbody>\n",
       "  </tbody>\n",
       "</table>\n",
       "</div>\n",
       "      <button class=\"colab-df-convert\" onclick=\"convertToInteractive('df-60536136-7740-4222-b911-c142cea69961')\"\n",
       "              title=\"Convert this dataframe to an interactive table.\"\n",
       "              style=\"display:none;\">\n",
       "        \n",
       "  <svg xmlns=\"http://www.w3.org/2000/svg\" height=\"24px\"viewBox=\"0 0 24 24\"\n",
       "       width=\"24px\">\n",
       "    <path d=\"M0 0h24v24H0V0z\" fill=\"none\"/>\n",
       "    <path d=\"M18.56 5.44l.94 2.06.94-2.06 2.06-.94-2.06-.94-.94-2.06-.94 2.06-2.06.94zm-11 1L8.5 8.5l.94-2.06 2.06-.94-2.06-.94L8.5 2.5l-.94 2.06-2.06.94zm10 10l.94 2.06.94-2.06 2.06-.94-2.06-.94-.94-2.06-.94 2.06-2.06.94z\"/><path d=\"M17.41 7.96l-1.37-1.37c-.4-.4-.92-.59-1.43-.59-.52 0-1.04.2-1.43.59L10.3 9.45l-7.72 7.72c-.78.78-.78 2.05 0 2.83L4 21.41c.39.39.9.59 1.41.59.51 0 1.02-.2 1.41-.59l7.78-7.78 2.81-2.81c.8-.78.8-2.07 0-2.86zM5.41 20L4 18.59l7.72-7.72 1.47 1.35L5.41 20z\"/>\n",
       "  </svg>\n",
       "      </button>\n",
       "      \n",
       "  <style>\n",
       "    .colab-df-container {\n",
       "      display:flex;\n",
       "      flex-wrap:wrap;\n",
       "      gap: 12px;\n",
       "    }\n",
       "\n",
       "    .colab-df-convert {\n",
       "      background-color: #E8F0FE;\n",
       "      border: none;\n",
       "      border-radius: 50%;\n",
       "      cursor: pointer;\n",
       "      display: none;\n",
       "      fill: #1967D2;\n",
       "      height: 32px;\n",
       "      padding: 0 0 0 0;\n",
       "      width: 32px;\n",
       "    }\n",
       "\n",
       "    .colab-df-convert:hover {\n",
       "      background-color: #E2EBFA;\n",
       "      box-shadow: 0px 1px 2px rgba(60, 64, 67, 0.3), 0px 1px 3px 1px rgba(60, 64, 67, 0.15);\n",
       "      fill: #174EA6;\n",
       "    }\n",
       "\n",
       "    [theme=dark] .colab-df-convert {\n",
       "      background-color: #3B4455;\n",
       "      fill: #D2E3FC;\n",
       "    }\n",
       "\n",
       "    [theme=dark] .colab-df-convert:hover {\n",
       "      background-color: #434B5C;\n",
       "      box-shadow: 0px 1px 3px 1px rgba(0, 0, 0, 0.15);\n",
       "      filter: drop-shadow(0px 1px 2px rgba(0, 0, 0, 0.3));\n",
       "      fill: #FFFFFF;\n",
       "    }\n",
       "  </style>\n",
       "\n",
       "      <script>\n",
       "        const buttonEl =\n",
       "          document.querySelector('#df-60536136-7740-4222-b911-c142cea69961 button.colab-df-convert');\n",
       "        buttonEl.style.display =\n",
       "          google.colab.kernel.accessAllowed ? 'block' : 'none';\n",
       "\n",
       "        async function convertToInteractive(key) {\n",
       "          const element = document.querySelector('#df-60536136-7740-4222-b911-c142cea69961');\n",
       "          const dataTable =\n",
       "            await google.colab.kernel.invokeFunction('convertToInteractive',\n",
       "                                                     [key], {});\n",
       "          if (!dataTable) return;\n",
       "\n",
       "          const docLinkHtml = 'Like what you see? Visit the ' +\n",
       "            '<a target=\"_blank\" href=https://colab.research.google.com/notebooks/data_table.ipynb>data table notebook</a>'\n",
       "            + ' to learn more about interactive tables.';\n",
       "          element.innerHTML = '';\n",
       "          dataTable['output_type'] = 'display_data';\n",
       "          await google.colab.output.renderOutput(dataTable, element);\n",
       "          const docLink = document.createElement('div');\n",
       "          docLink.innerHTML = docLinkHtml;\n",
       "          element.appendChild(docLink);\n",
       "        }\n",
       "      </script>\n",
       "    </div>\n",
       "  </div>\n",
       "  "
      ],
      "text/plain": [
       "Empty DataFrame\n",
       "Columns: [satisfaction_level, last_evaluation, number_project, average_montly_hours, time_spend_company, Work_accident, left, promotion_last_5years, department, salary]\n",
       "Index: []"
      ]
     },
     "execution_count": 45,
     "metadata": {},
     "output_type": "execute_result"
    }
   ],
   "source": [
    "# average_montly_hours outliers\n",
    "q1 = df.average_montly_hours.quantile(0.25)\n",
    "q3 = df.average_montly_hours.quantile(0.75)\n",
    "iqr = q3 - q1\n",
    "lower_bound = q1 - (1.5 * iqr) \n",
    "upper_bound = q3 + (1.5 * iqr)\n",
    "print(lower_bound, upper_bound)\n",
    "\n",
    "hours = df[(df.average_montly_hours < lower_bound) | (df.average_montly_hours > upper_bound)]\n",
    "hours.head()"
   ]
  },
  {
   "cell_type": "markdown",
   "metadata": {
    "id": "USx71w_vWe4G"
   },
   "source": [
    "Выбросов нет, поскольку границы превышают минимальное и максимальное значения."
   ]
  },
  {
   "cell_type": "markdown",
   "metadata": {
    "id": "RZd8mj1hWe4G"
   },
   "source": [
    "### Исследование данных"
   ]
  },
  {
   "cell_type": "markdown",
   "metadata": {
    "id": "Icfy9YBmWe4G"
   },
   "source": [
    "#### Гипотеза 1\n",
    "\n",
    "Мы проверим гипотезу о том, что люди с высоким `salary` имеют более высокий `average_montly_hours`."
   ]
  },
  {
   "cell_type": "code",
   "execution_count": 54,
   "metadata": {
    "colab": {
     "base_uri": "https://localhost:8080/"
    },
    "id": "tsd2PxB4We4H",
    "outputId": "9439746a-6b3e-4f6d-feff-525c1a045872"
   },
   "outputs": [
    {
     "data": {
      "text/plain": [
       "salary\n",
       "high      199.867421\n",
       "low       200.996583\n",
       "medium    201.338349\n",
       "Name: average_montly_hours, dtype: float64"
      ]
     },
     "execution_count": 54,
     "metadata": {},
     "output_type": "execute_result"
    }
   ],
   "source": [
    "# looking at the means\n",
    "sal_hours = df.groupby('salary').average_montly_hours.mean().sort_values()\n",
    "sal_hours"
   ]
  },
  {
   "cell_type": "code",
   "execution_count": 55,
   "metadata": {
    "colab": {
     "base_uri": "https://localhost:8080/",
     "height": 296
    },
    "id": "Pmc_IGUiWe4H",
    "outputId": "75ced741-da5b-4e85-bd37-1b5adabdd370"
   },
   "outputs": [
    {
     "data": {
      "image/png": "[encoded data removed]",
      "text/plain": [
       "<Figure size 432x288 with 1 Axes>"
      ]
     },
     "metadata": {
      "needs_background": "light"
     },
     "output_type": "display_data"
    }
   ],
   "source": [
    "sal_hours.plot.barh(stacked = True)\n",
    "\n",
    "plt.title('average_montly_hours by salary')\n",
    "plt.xlabel('average_montly_hours')\n",
    "plt.ylabel('salary')\n",
    "plt.xticks(rotation = 0, horizontalalignment = 'center')\n",
    "plt.xlim(190, 208)\n",
    "\n",
    "plt.show()"
   ]
  },
  {
   "cell_type": "markdown",
   "metadata": {
    "id": "yGojBPApWe4I"
   },
   "source": [
    "На самом деле те, у кого средняя зарплата, похоже, работают немного дольше, разница хоть и невелика. Мы можем проверить, есть ли статистически значимая разница с помощью ANOVA."
   ]
  },
  {
   "cell_type": "code",
   "execution_count": 56,
   "metadata": {
    "id": "gfAgAQc6We4I"
   },
   "outputs": [],
   "source": [
    "# splitting data into three samples\n",
    "low = df[df['salary'] == 'low']\n",
    "low = low[['average_montly_hours']]\n",
    "\n",
    "medium = df[df['salary'] == 'medium']\n",
    "medium = medium[['average_montly_hours']]\n",
    "\n",
    "high = df[df['salary'] == 'high']\n",
    "high = high[['average_montly_hours']]"
   ]
  },
  {
   "cell_type": "code",
   "execution_count": 57,
   "metadata": {
    "colab": {
     "base_uri": "https://localhost:8080/"
    },
    "id": "sJwEe8T-We4I",
    "outputId": "34288d30-0685-48da-cc46-3ddb9ecab6dc"
   },
   "outputs": [
    {
     "name": "stdout",
     "output_type": "stream",
     "text": [
      "7316 6446 1237\n"
     ]
    }
   ],
   "source": [
    "# size of each sample\n",
    "print(len(low), len(medium), len(high))"
   ]
  },
  {
   "cell_type": "code",
   "execution_count": 58,
   "metadata": {
    "colab": {
     "base_uri": "https://localhost:8080/"
    },
    "id": "6sIHnm0XWe4J",
    "outputId": "ac42014e-b7d1-4dc8-95c8-bf17c984d375"
   },
   "outputs": [
    {
     "data": {
      "text/plain": [
       "F_onewayResult(statistic=array([0.45836244]), pvalue=array([0.63232712]))"
      ]
     },
     "execution_count": 58,
     "metadata": {},
     "output_type": "execute_result"
    }
   ],
   "source": [
    "from scipy.stats import f_oneway\n",
    "f_oneway(low, medium, high)"
   ]
  },
  {
   "cell_type": "markdown",
   "metadata": {
    "id": "hXgZy5HsWe4J"
   },
   "source": [
    "Размер выборки довольно значителен, поэтому мы ожидаем, что тест обнаружит даже небольшие различия. Тем не менее, p-значение по-прежнему превышает 0,05, и, таким образом, дисперсионный анализ показывает, что между ними нет существенной разницы с `average_montly_hours` точки зрения заработной платы `salary`."
   ]
  },
  {
   "cell_type": "markdown",
   "metadata": {
    "id": "D4Xsjg17We4K"
   },
   "source": [
    "### Преобразование данных "
   ]
  },
  {
   "cell_type": "code",
   "execution_count": 59,
   "metadata": {
    "id": "HYiFgtvnWe4K"
   },
   "outputs": [],
   "source": [
    "# основное предположение для LDA заключается в том, что числовые переменные должны быть нормальными\n",
    "# log преобразование числовых переменных\n",
    "df['sat_level_log'] = np.log(df['satisfaction_level'])\n",
    "df['last_eval_log'] = np.log(df['last_evaluation'])\n",
    "df['av_hours_log'] = np.log(df['average_montly_hours'])\n",
    "\n",
    "# изменение порядка столбцов\n",
    "columnsTitles = ['satisfaction_level', 'sat_level_log', 'last_evaluation', 'last_eval_log', 'number_project', 'average_montly_hours', 'av_hours_log', 'time_spend_company', 'Work_accident', 'promotion_last_5years', 'department', 'salary', 'left']\n",
    "df = df.reindex(columns = columnsTitles)"
   ]
  },
  {
   "cell_type": "code",
   "execution_count": 60,
   "metadata": {
    "id": "2mjKLL4-We4K"
   },
   "outputs": [],
   "source": [
    "# преобразование категории 'salary' в 'int'\n",
    "from sklearn.preprocessing import LabelEncoder\n",
    "\n",
    "labelencoder = LabelEncoder()\n",
    "df['salary'] = labelencoder.fit_transform(df['salary'])"
   ]
  },
  {
   "cell_type": "code",
   "execution_count": 61,
   "metadata": {
    "id": "3NDmu85YWe4L"
   },
   "outputs": [],
   "source": [
    "# преобразование категории 'deparment' в 'int'\n",
    "labelencoder = LabelEncoder()\n",
    "df['department'] = labelencoder.fit_transform(df['department'])"
   ]
  },
  {
   "cell_type": "code",
   "execution_count": 62,
   "metadata": {
    "colab": {
     "base_uri": "https://localhost:8080/",
     "height": 270
    },
    "id": "0ZSyvixmWe4L",
    "outputId": "ddffa604-abab-4594-e1b4-781feaf74b66"
   },
   "outputs": [
    {
     "data": {
      "text/html": [
       "<div>\n",
       "<style scoped>\n",
       "    .dataframe tbody tr th:only-of-type {\n",
       "        vertical-align: middle;\n",
       "    }\n",
       "\n",
       "    .dataframe tbody tr th {\n",
       "        vertical-align: top;\n",
       "    }\n",
       "\n",
       "    .dataframe thead th {\n",
       "        text-align: right;\n",
       "    }\n",
       "</style>\n",
       "<table border=\"1\" class=\"dataframe\">\n",
       "  <thead>\n",
       "    <tr style=\"text-align: right;\">\n",
       "      <th></th>\n",
       "      <th>satisfaction_level</th>\n",
       "      <th>sat_level_log</th>\n",
       "      <th>last_evaluation</th>\n",
       "      <th>last_eval_log</th>\n",
       "      <th>number_project</th>\n",
       "      <th>average_montly_hours</th>\n",
       "      <th>av_hours_log</th>\n",
       "      <th>time_spend_company</th>\n",
       "      <th>Work_accident</th>\n",
       "      <th>promotion_last_5years</th>\n",
       "      <th>department</th>\n",
       "      <th>salary</th>\n",
       "      <th>left</th>\n",
       "    </tr>\n",
       "  </thead>\n",
       "  <tbody>\n",
       "    <tr>\n",
       "      <th>0</th>\n",
       "      <td>0.38</td>\n",
       "      <td>-0.967584</td>\n",
       "      <td>0.53</td>\n",
       "      <td>-0.634878</td>\n",
       "      <td>2</td>\n",
       "      <td>157</td>\n",
       "      <td>5.056246</td>\n",
       "      <td>3</td>\n",
       "      <td>0</td>\n",
       "      <td>0</td>\n",
       "      <td>7</td>\n",
       "      <td>1</td>\n",
       "      <td>1</td>\n",
       "    </tr>\n",
       "    <tr>\n",
       "      <th>1</th>\n",
       "      <td>0.80</td>\n",
       "      <td>-0.223144</td>\n",
       "      <td>0.86</td>\n",
       "      <td>-0.150823</td>\n",
       "      <td>5</td>\n",
       "      <td>262</td>\n",
       "      <td>5.568345</td>\n",
       "      <td>6</td>\n",
       "      <td>0</td>\n",
       "      <td>0</td>\n",
       "      <td>7</td>\n",
       "      <td>2</td>\n",
       "      <td>1</td>\n",
       "    </tr>\n",
       "    <tr>\n",
       "      <th>2</th>\n",
       "      <td>0.11</td>\n",
       "      <td>-2.207275</td>\n",
       "      <td>0.88</td>\n",
       "      <td>-0.127833</td>\n",
       "      <td>7</td>\n",
       "      <td>272</td>\n",
       "      <td>5.605802</td>\n",
       "      <td>4</td>\n",
       "      <td>0</td>\n",
       "      <td>0</td>\n",
       "      <td>7</td>\n",
       "      <td>2</td>\n",
       "      <td>1</td>\n",
       "    </tr>\n",
       "    <tr>\n",
       "      <th>3</th>\n",
       "      <td>0.72</td>\n",
       "      <td>-0.328504</td>\n",
       "      <td>0.87</td>\n",
       "      <td>-0.139262</td>\n",
       "      <td>5</td>\n",
       "      <td>223</td>\n",
       "      <td>5.407172</td>\n",
       "      <td>5</td>\n",
       "      <td>0</td>\n",
       "      <td>0</td>\n",
       "      <td>7</td>\n",
       "      <td>1</td>\n",
       "      <td>1</td>\n",
       "    </tr>\n",
       "    <tr>\n",
       "      <th>4</th>\n",
       "      <td>0.37</td>\n",
       "      <td>-0.994252</td>\n",
       "      <td>0.52</td>\n",
       "      <td>-0.653926</td>\n",
       "      <td>2</td>\n",
       "      <td>159</td>\n",
       "      <td>5.068904</td>\n",
       "      <td>3</td>\n",
       "      <td>0</td>\n",
       "      <td>0</td>\n",
       "      <td>7</td>\n",
       "      <td>1</td>\n",
       "      <td>1</td>\n",
       "    </tr>\n",
       "  </tbody>\n",
       "</table>\n",
       "</div>"
      ],
      "text/plain": [
       "   satisfaction_level  sat_level_log  last_evaluation  last_eval_log  \\\n",
       "0                0.38      -0.967584             0.53      -0.634878   \n",
       "1                0.80      -0.223144             0.86      -0.150823   \n",
       "2                0.11      -2.207275             0.88      -0.127833   \n",
       "3                0.72      -0.328504             0.87      -0.139262   \n",
       "4                0.37      -0.994252             0.52      -0.653926   \n",
       "\n",
       "   number_project  average_montly_hours  av_hours_log  time_spend_company  \\\n",
       "0               2                   157      5.056246                   3   \n",
       "1               5                   262      5.568345                   6   \n",
       "2               7                   272      5.605802                   4   \n",
       "3               5                   223      5.407172                   5   \n",
       "4               2                   159      5.068904                   3   \n",
       "\n",
       "   Work_accident  promotion_last_5years  department  salary  left  \n",
       "0              0                      0           7       1     1  \n",
       "1              0                      0           7       2     1  \n",
       "2              0                      0           7       2     1  \n",
       "3              0                      0           7       1     1  \n",
       "4              0                      0           7       1     1  "
      ]
     },
     "execution_count": 62,
     "metadata": {},
     "output_type": "execute_result"
    }
   ],
   "source": [
    "df.head()"
   ]
  },
  {
   "cell_type": "markdown",
   "metadata": {
    "id": "Kv0jhJw6We4L"
   },
   "source": [
    "### Корреляционный анализ"
   ]
  },
  {
   "cell_type": "markdown",
   "metadata": {
    "id": "Nb90LnjpWe4M"
   },
   "source": [
    "Для корреляционного анализа будет использоваться метод корреляции Кендалла."
   ]
  },
  {
   "cell_type": "code",
   "execution_count": 63,
   "metadata": {
    "id": "4W4Ue0LdWe4M"
   },
   "outputs": [],
   "source": [
    "df_c = df[\n",
    "    ['satisfaction_level', \n",
    "    'sat_level_log',\n",
    "    'last_evaluation',\n",
    "    'last_eval_log',\n",
    "    'number_project', \n",
    "    'average_montly_hours',\n",
    "    'av_hours_log',\n",
    "    'time_spend_company',\n",
    "    'Work_accident',\n",
    "    'promotion_last_5years',\n",
    "    'salary'\n",
    "    ]\n",
    "  ]\n",
    "\n",
    "# df_c.corr()"
   ]
  },
  {
   "cell_type": "code",
   "execution_count": 64,
   "metadata": {
    "colab": {
     "base_uri": "https://localhost:8080/",
     "height": 674
    },
    "id": "eYhX4BcXWe4N",
    "outputId": "76bb6c30-84ed-4c09-a2bd-986e932c250e"
   },
   "outputs": [
    {
     "data": {
      "image/png": "[encoded data removed]",
      "text/plain": [
       "<Figure size 864x720 with 2 Axes>"
      ]
     },
     "metadata": {
      "needs_background": "light"
     },
     "output_type": "display_data"
    }
   ],
   "source": [
    "# Kendall Correlation matrix\n",
    "plt.figure(figsize = (12,10))\n",
    "\n",
    "cor = df_c.corr(method = 'kendall')\n",
    "\n",
    "ax = sns.heatmap(cor, \n",
    "                 annot = True, \n",
    "                 vmin = -1, \n",
    "                 vmax = 1, \n",
    "                 center = 0, \n",
    "                 cmap = plt.cm.Reds) # cmap = sns.diverging_palette(20, 220, n = 200)\n",
    "\n",
    "ax.set_xticklabels(ax.get_xticklabels(),\n",
    "                   rotation = 45,\n",
    "                   horizontalalignment = 'right')\n",
    "\n",
    "plt.show()"
   ]
  },
  {
   "cell_type": "code",
   "execution_count": 65,
   "metadata": {
    "id": "twxr8wYgWe4N"
   },
   "outputs": [],
   "source": [
    "# наибольшая и наименьшая корреляция\n",
    "c = df_c.corr(method = 'kendall').abs()\n",
    "s = c.unstack()\n",
    "so = s.sort_values(kind = 'quicksort')"
   ]
  },
  {
   "cell_type": "code",
   "execution_count": 66,
   "metadata": {
    "colab": {
     "base_uri": "https://localhost:8080/"
    },
    "id": "6ZHChUOjWe4N",
    "outputId": "f9fad0cb-1d48-4f4c-efea-5c177da1e7b9"
   },
   "outputs": [
    {
     "name": "stdout",
     "output_type": "stream",
     "text": [
      "last_evaluation       number_project          0.266267\n",
      "number_project        av_hours_log            0.306987\n",
      "av_hours_log          number_project          0.306987\n",
      "number_project        average_montly_hours    0.306987\n",
      "average_montly_hours  number_project          0.306987\n",
      "dtype: float64\n"
     ]
    }
   ],
   "source": [
    "print(so[-22:-17])"
   ]
  },
  {
   "cell_type": "markdown",
   "metadata": {
    "id": "w_OGRObkWe4O"
   },
   "source": [
    "Две самые высокие корреляции включают `number_project` и `average_montly_hours`, и `number_project` и `last_evaluation`. Однако корреляция слабо положительная."
   ]
  },
  {
   "cell_type": "code",
   "execution_count": 67,
   "metadata": {
    "colab": {
     "base_uri": "https://localhost:8080/"
    },
    "id": "nUpzzN9JWe4O",
    "outputId": "7c081e79-f3f3-4cfe-bbd2-2a035b778e4e"
   },
   "outputs": [
    {
     "name": "stdout",
     "output_type": "stream",
     "text": [
      "salary          Work_accident     0.001077\n",
      "Work_accident   salary            0.001077\n",
      "number_project  Work_accident     0.002096\n",
      "Work_accident   number_project    0.002096\n",
      "dtype: float64\n"
     ]
    }
   ],
   "source": [
    "print(so[:4])"
   ]
  },
  {
   "cell_type": "markdown",
   "metadata": {
    "id": "jcV_zISxWe4P"
   },
   "source": [
    "Две самые низкие корреляции включают `salary` и `Work_accident`, и `number_project` и `Work_accident`."
   ]
  },
  {
   "cell_type": "markdown",
   "metadata": {
    "id": "SZtPCEy5We4P"
   },
   "source": [
    "### Мультиколлинеарный анализ"
   ]
  },
  {
   "cell_type": "code",
   "execution_count": 68,
   "metadata": {
    "id": "kWDaKw_NWe4Q"
   },
   "outputs": [],
   "source": [
    "import warnings\n",
    "warnings.filterwarnings('ignore')\n",
    "\n",
    "# Getting variables for which to compute VIF and adding intercept term\n",
    "X = df[\n",
    "    ['satisfaction_level',\n",
    "    'last_eval_log',\n",
    "    'number_project', \n",
    "    'average_montly_hours',\n",
    "    'time_spend_company',\n",
    "    'Work_accident',\n",
    "    'promotion_last_5years'\n",
    "    ]\n",
    "  ]\n",
    "\n",
    "X['Intercept'] = 1"
   ]
  },
  {
   "cell_type": "code",
   "execution_count": 69,
   "metadata": {
    "id": "SWpGJpTYWe4Q"
   },
   "outputs": [
    {
     "data": {
      "text/html": [
       "<div>\n",
       "<style scoped>\n",
       "    .dataframe tbody tr th:only-of-type {\n",
       "        vertical-align: middle;\n",
       "    }\n",
       "\n",
       "    .dataframe tbody tr th {\n",
       "        vertical-align: top;\n",
       "    }\n",
       "\n",
       "    .dataframe thead th {\n",
       "        text-align: right;\n",
       "    }\n",
       "</style>\n",
       "<table border=\"1\" class=\"dataframe\">\n",
       "  <thead>\n",
       "    <tr style=\"text-align: right;\">\n",
       "      <th></th>\n",
       "      <th>satisfaction_level</th>\n",
       "      <th>last_eval_log</th>\n",
       "      <th>number_project</th>\n",
       "      <th>average_montly_hours</th>\n",
       "      <th>time_spend_company</th>\n",
       "      <th>Work_accident</th>\n",
       "      <th>promotion_last_5years</th>\n",
       "      <th>Intercept</th>\n",
       "    </tr>\n",
       "  </thead>\n",
       "  <tbody>\n",
       "    <tr>\n",
       "      <th>0</th>\n",
       "      <td>0.38</td>\n",
       "      <td>-0.634878</td>\n",
       "      <td>2</td>\n",
       "      <td>157</td>\n",
       "      <td>3</td>\n",
       "      <td>0</td>\n",
       "      <td>0</td>\n",
       "      <td>1</td>\n",
       "    </tr>\n",
       "    <tr>\n",
       "      <th>1</th>\n",
       "      <td>0.80</td>\n",
       "      <td>-0.150823</td>\n",
       "      <td>5</td>\n",
       "      <td>262</td>\n",
       "      <td>6</td>\n",
       "      <td>0</td>\n",
       "      <td>0</td>\n",
       "      <td>1</td>\n",
       "    </tr>\n",
       "    <tr>\n",
       "      <th>2</th>\n",
       "      <td>0.11</td>\n",
       "      <td>-0.127833</td>\n",
       "      <td>7</td>\n",
       "      <td>272</td>\n",
       "      <td>4</td>\n",
       "      <td>0</td>\n",
       "      <td>0</td>\n",
       "      <td>1</td>\n",
       "    </tr>\n",
       "    <tr>\n",
       "      <th>3</th>\n",
       "      <td>0.72</td>\n",
       "      <td>-0.139262</td>\n",
       "      <td>5</td>\n",
       "      <td>223</td>\n",
       "      <td>5</td>\n",
       "      <td>0</td>\n",
       "      <td>0</td>\n",
       "      <td>1</td>\n",
       "    </tr>\n",
       "    <tr>\n",
       "      <th>4</th>\n",
       "      <td>0.37</td>\n",
       "      <td>-0.653926</td>\n",
       "      <td>2</td>\n",
       "      <td>159</td>\n",
       "      <td>3</td>\n",
       "      <td>0</td>\n",
       "      <td>0</td>\n",
       "      <td>1</td>\n",
       "    </tr>\n",
       "  </tbody>\n",
       "</table>\n",
       "</div>"
      ],
      "text/plain": [
       "   satisfaction_level  last_eval_log  number_project  average_montly_hours  \\\n",
       "0                0.38      -0.634878               2                   157   \n",
       "1                0.80      -0.150823               5                   262   \n",
       "2                0.11      -0.127833               7                   272   \n",
       "3                0.72      -0.139262               5                   223   \n",
       "4                0.37      -0.653926               2                   159   \n",
       "\n",
       "   time_spend_company  Work_accident  promotion_last_5years  Intercept  \n",
       "0                   3              0                      0          1  \n",
       "1                   6              0                      0          1  \n",
       "2                   4              0                      0          1  \n",
       "3                   5              0                      0          1  \n",
       "4                   3              0                      0          1  "
      ]
     },
     "execution_count": 69,
     "metadata": {},
     "output_type": "execute_result"
    }
   ],
   "source": [
    "X.head()"
   ]
  },
  {
   "cell_type": "code",
   "execution_count": 70,
   "metadata": {
    "colab": {
     "base_uri": "https://localhost:8080/"
    },
    "id": "JHsErlfdWe4Q",
    "outputId": "9d358bec-5107-4db3-fe19-e3e0d1df6033"
   },
   "outputs": [
    {
     "name": "stdout",
     "output_type": "stream",
     "text": [
      "               variables        VIF\n",
      "0     satisfaction_level   1.067160\n",
      "1          last_eval_log   1.246795\n",
      "2         number_project   1.355188\n",
      "3   average_montly_hours   1.281311\n",
      "4     time_spend_company   1.058839\n",
      "5          Work_accident   1.005208\n",
      "6  promotion_last_5years   1.007573\n",
      "7              Intercept  48.504410\n"
     ]
    }
   ],
   "source": [
    "from statsmodels.stats.outliers_influence import variance_inflation_factor \n",
    "\n",
    "# Compute and view VIF\n",
    "vif = pd.DataFrame()\n",
    "vif['variables'] = X.columns\n",
    "vif['VIF'] = [variance_inflation_factor(X.values, i) for i in range(X.shape[1])]\n",
    "\n",
    "# View results using print\n",
    "print(vif)"
   ]
  },
  {
   "cell_type": "markdown",
   "metadata": {
    "id": "rMj5_g7MWe4R"
   },
   "source": [
    "Поскольку VIF ближе к 1, мы можем говорить об умеренной корреляции между независимыми переменными."
   ]
  },
  {
   "cell_type": "markdown",
   "metadata": {
    "id": "mhjU6zr8We4J"
   },
   "source": [
    "## Modelling"
   ]
  },
  {
   "cell_type": "markdown",
   "metadata": {
    "id": "slsOfTu1We4S"
   },
   "source": [
    "### Linear Discriminant Analysis (Линейный дискриминантный анализ)"
   ]
  },
  {
   "cell_type": "code",
   "execution_count": 71,
   "metadata": {
    "id": "cTlpvWr3We4S"
   },
   "outputs": [],
   "source": [
    "# trying different features\n",
    "df_model = df[\n",
    "    ['satisfaction_level',\n",
    "    'last_eval_log',\n",
    "    'number_project', \n",
    "    'average_montly_hours',\n",
    "    'time_spend_company',\n",
    "    'Work_accident',\n",
    "    'promotion_last_5years'\n",
    "    ]\n",
    "  ]"
   ]
  },
  {
   "cell_type": "code",
   "execution_count": 72,
   "metadata": {
    "id": "tn5AvL33We4S"
   },
   "outputs": [],
   "source": [
    "from sklearn.model_selection import train_test_split\n",
    "X_train, X_test, y_train, y_test = train_test_split(df_model, df['left'], test_size = 0.30, random_state = 42)"
   ]
  },
  {
   "cell_type": "code",
   "execution_count": 73,
   "metadata": {
    "id": "8yPeZqFSWe4T"
   },
   "outputs": [],
   "source": [
    "# масштабирование функции\n",
    "from sklearn.preprocessing import StandardScaler\n",
    "\n",
    "sc = StandardScaler()\n",
    "X_train = sc.fit_transform(X_train)\n",
    "X_test = sc.transform(X_test)"
   ]
  },
  {
   "cell_type": "code",
   "execution_count": 74,
   "metadata": {
    "colab": {
     "base_uri": "https://localhost:8080/"
    },
    "id": "NKm4FWwLWe4T",
    "outputId": "16ce6a1c-d85b-4b2c-9c91-6fda141e12a6"
   },
   "outputs": [
    {
     "data": {
      "text/plain": [
       "LinearDiscriminantAnalysis()"
      ]
     },
     "execution_count": 74,
     "metadata": {},
     "output_type": "execute_result"
    }
   ],
   "source": [
    "# LDA model\n",
    "from sklearn.discriminant_analysis import LinearDiscriminantAnalysis\n",
    "lda = LinearDiscriminantAnalysis()\n",
    "lda.fit(X_train, y_train)"
   ]
  },
  {
   "cell_type": "code",
   "execution_count": 75,
   "metadata": {
    "colab": {
     "base_uri": "https://localhost:8080/"
    },
    "id": "E0aFEiYyWe4T",
    "outputId": "08941584-3428-43ae-9c49-88ae8119535e"
   },
   "outputs": [
    {
     "data": {
      "text/plain": [
       "array([0, 0, 0, ..., 0, 0, 0], dtype=int64)"
      ]
     },
     "execution_count": 75,
     "metadata": {},
     "output_type": "execute_result"
    }
   ],
   "source": [
    "# making prediction\n",
    "lda.predict(X_test)"
   ]
  },
  {
   "cell_type": "code",
   "execution_count": 76,
   "metadata": {
    "colab": {
     "base_uri": "https://localhost:8080/"
    },
    "id": "sXfSbilxWe4U",
    "outputId": "06d26ed1-9a39-455c-bdd5-9a7929fcb790"
   },
   "outputs": [
    {
     "data": {
      "text/plain": [
       "0.7557777777777778"
      ]
     },
     "execution_count": 76,
     "metadata": {},
     "output_type": "execute_result"
    }
   ],
   "source": [
    "# performance measurement\n",
    "from sklearn.metrics import accuracy_score\n",
    "accuracy_score(y_test, lda.predict(X_test))"
   ]
  },
  {
   "cell_type": "markdown",
   "metadata": {
    "id": "2iqo4mncWe4U"
   },
   "source": [
    "### Logistic Regression"
   ]
  },
  {
   "cell_type": "code",
   "execution_count": 77,
   "metadata": {
    "id": "rX_Q6OTgWe4V"
   },
   "outputs": [],
   "source": [
    "# trying different features\n",
    "df_model_2 = df[\n",
    "    ['satisfaction_level',\n",
    "    'last_eval_log',\n",
    "    'number_project', \n",
    "    'average_montly_hours',\n",
    "    'time_spend_company',\n",
    "    'Work_accident',\n",
    "    'promotion_last_5years'\n",
    "    ]\n",
    "  ]"
   ]
  },
  {
   "cell_type": "code",
   "execution_count": 78,
   "metadata": {
    "id": "bt9FiLYlWe4V"
   },
   "outputs": [],
   "source": [
    "X_train, X_test, y_train, y_test = train_test_split(df_model_2, df['left'], test_size = 0.30, random_state = 42)"
   ]
  },
  {
   "cell_type": "code",
   "execution_count": 79,
   "metadata": {
    "id": "BgsTM8tAWe4V"
   },
   "outputs": [],
   "source": [
    "sc = StandardScaler()\n",
    "X_train = sc.fit_transform(X_train)\n",
    "X_test = sc.transform(X_test)"
   ]
  },
  {
   "cell_type": "code",
   "execution_count": 80,
   "metadata": {
    "colab": {
     "base_uri": "https://localhost:8080/"
    },
    "id": "o5aNwBmkWe4W",
    "outputId": "544e1736-2c57-4d28-b907-68dc4d47df5a"
   },
   "outputs": [
    {
     "data": {
      "text/plain": [
       "LogisticRegression(random_state=42)"
      ]
     },
     "execution_count": 80,
     "metadata": {},
     "output_type": "execute_result"
    }
   ],
   "source": [
    "# Logistic Regression\n",
    "from sklearn.linear_model import LogisticRegression\n",
    "lr = LogisticRegression(random_state = 42)\n",
    "lr.fit(X_train, y_train)"
   ]
  },
  {
   "cell_type": "code",
   "execution_count": 81,
   "metadata": {
    "colab": {
     "base_uri": "https://localhost:8080/"
    },
    "id": "jFDq6AQ3We4W",
    "outputId": "781fc4b8-028b-49ca-eb90-44fb390cebce"
   },
   "outputs": [
    {
     "name": "stdout",
     "output_type": "stream",
     "text": [
      "[[3160  268]\n",
      " [ 816  256]]\n",
      "0.7591111111111111\n"
     ]
    }
   ],
   "source": [
    "# performance measurement\n",
    "from sklearn.metrics import confusion_matrix\n",
    "print(confusion_matrix(y_test, lr.predict(X_test)))\n",
    "print(accuracy_score(y_test, lr.predict(X_test)))"
   ]
  },
  {
   "cell_type": "markdown",
   "metadata": {
    "id": "CFY8hrrGWe4X"
   },
   "source": [
    "### Random Forest Classifier"
   ]
  },
  {
   "cell_type": "code",
   "execution_count": 82,
   "metadata": {
    "id": "6S68CvZPWe4X"
   },
   "outputs": [],
   "source": [
    "# trying different features\n",
    "df_model_3 = df[\n",
    "    ['satisfaction_level',\n",
    "    'last_eval_log',\n",
    "    'number_project', \n",
    "    'average_montly_hours',\n",
    "    'time_spend_company',\n",
    "    'Work_accident',\n",
    "    'promotion_last_5years',\n",
    "    'department',\n",
    "    'salary'\n",
    "    ]\n",
    "  ]"
   ]
  },
  {
   "cell_type": "code",
   "execution_count": 83,
   "metadata": {
    "id": "vCid6rJNWe4X"
   },
   "outputs": [],
   "source": [
    "X_train, X_test, y_train, y_test = train_test_split(df_model_3, df['left'], test_size = 0.30, random_state = 42)"
   ]
  },
  {
   "cell_type": "code",
   "execution_count": 84,
   "metadata": {
    "id": "pFJBxn5IWe4Y"
   },
   "outputs": [],
   "source": [
    "sc = StandardScaler()\n",
    "X_train = sc.fit_transform(X_train)\n",
    "X_test = sc.transform(X_test)"
   ]
  },
  {
   "cell_type": "code",
   "execution_count": 85,
   "metadata": {
    "id": "9vbI7voNWe4Y"
   },
   "outputs": [],
   "source": [
    "# RandomForestClassifier\n",
    "from sklearn.ensemble import RandomForestClassifier\n",
    "\n",
    "classifier = RandomForestClassifier(criterion = 'gini',\n",
    "                                    n_estimators = 100,\n",
    "                                    max_depth = 9,\n",
    "                                    random_state = 42,\n",
    "                                    n_jobs = -1)\n",
    "\n",
    "classifier.fit(X_train, y_train)\n",
    "y_pred = classifier.predict(X_test)"
   ]
  },
  {
   "cell_type": "code",
   "execution_count": 86,
   "metadata": {
    "colab": {
     "base_uri": "https://localhost:8080/"
    },
    "id": "eVL1DjjaWe4Z",
    "outputId": "17e2e6e3-882c-49ed-c7c4-9ae6e556d612"
   },
   "outputs": [
    {
     "name": "stdout",
     "output_type": "stream",
     "text": [
      "[[3418   10]\n",
      " [  95  977]]\n",
      "0.9766666666666667\n"
     ]
    }
   ],
   "source": [
    "# test performance measurement\n",
    "print(confusion_matrix(y_test, y_pred))\n",
    "print(accuracy_score(y_test, y_pred))"
   ]
  },
  {
   "cell_type": "markdown",
   "metadata": {
    "id": "D3Zfy2NcWe4Z"
   },
   "source": [
    "Попытка **выбора признаков** уменьшить дисперсию модели и, следовательно, переобучение."
   ]
  },
  {
   "cell_type": "code",
   "execution_count": 87,
   "metadata": {
    "id": "YcbCpKdlWe4Z"
   },
   "outputs": [],
   "source": [
    "feat_labels = ['satisfaction_level',\n",
    "    'last_eval_log',\n",
    "    'number_project', \n",
    "    'average_montly_hours',\n",
    "    'time_spend_company',\n",
    "    'Work_accident',\n",
    "    'promotion_last_5years',\n",
    "    'department',\n",
    "    'salary'\n",
    "    ]"
   ]
  },
  {
   "cell_type": "code",
   "execution_count": 88,
   "metadata": {
    "colab": {
     "base_uri": "https://localhost:8080/"
    },
    "id": "mHtOKZdYWe4a",
    "outputId": "986b9065-fbae-4023-92ee-188c15270774"
   },
   "outputs": [
    {
     "name": "stdout",
     "output_type": "stream",
     "text": [
      "('satisfaction_level', 0.33518238819427854)\n",
      "('last_eval_log', 0.11467868669774808)\n",
      "('number_project', 0.19991554815436824)\n",
      "('average_montly_hours', 0.15054996293765044)\n",
      "('time_spend_company', 0.1849053997672037)\n",
      "('Work_accident', 0.0043681189902708825)\n",
      "('promotion_last_5years', 0.0007858384076546757)\n",
      "('department', 0.004841179779207061)\n",
      "('salary', 0.004772877071618341)\n"
     ]
    }
   ],
   "source": [
    "# name and gini importance of each feature\n",
    "for feature in zip(feat_labels, classifier.feature_importances_):\n",
    "    print(feature)"
   ]
  },
  {
   "cell_type": "code",
   "execution_count": 89,
   "metadata": {
    "colab": {
     "base_uri": "https://localhost:8080/"
    },
    "id": "kYmoyXMIWe4a",
    "outputId": "605cd52e-f551-4cb1-fb49-ebe09d3851a0"
   },
   "outputs": [
    {
     "data": {
      "text/plain": [
       "SelectFromModel(estimator=RandomForestClassifier(max_depth=9, n_jobs=-1,\n",
       "                                                 random_state=42),\n",
       "                threshold=0.1)"
      ]
     },
     "execution_count": 89,
     "metadata": {},
     "output_type": "execute_result"
    }
   ],
   "source": [
    "# selector object that will use the random forest classifier to identify feature importance > 0.10\n",
    "from sklearn.feature_selection import SelectFromModel\n",
    "sfm = SelectFromModel(classifier, threshold = 0.10)\n",
    "\n",
    "# training the selector\n",
    "sfm.fit(X_train, y_train)"
   ]
  },
  {
   "cell_type": "code",
   "execution_count": 90,
   "metadata": {
    "colab": {
     "base_uri": "https://localhost:8080/"
    },
    "id": "AetgcdqSWe4b",
    "outputId": "5bab2ed2-e48c-446e-b2b5-0f95cc51ba51"
   },
   "outputs": [
    {
     "name": "stdout",
     "output_type": "stream",
     "text": [
      "satisfaction_level\n",
      "last_eval_log\n",
      "number_project\n",
      "average_montly_hours\n",
      "time_spend_company\n"
     ]
    }
   ],
   "source": [
    "# names of the most important features\n",
    "for feature_list_index in sfm.get_support(indices = True):\n",
    "    print(feat_labels[feature_list_index])"
   ]
  },
  {
   "cell_type": "code",
   "execution_count": 91,
   "metadata": {
    "id": "SjEvfBv9We4b"
   },
   "outputs": [],
   "source": [
    "# transforming the data to create a new dataset containing only the most important features\n",
    "X_important_train = sfm.transform(X_train)\n",
    "X_important_test = sfm.transform(X_test)"
   ]
  },
  {
   "cell_type": "code",
   "execution_count": 92,
   "metadata": {
    "colab": {
     "base_uri": "https://localhost:8080/"
    },
    "id": "89tF-9-NWe4b",
    "outputId": "70b074c2-fbc0-4f43-c30f-ec3d5544addc"
   },
   "outputs": [
    {
     "data": {
      "text/plain": [
       "RandomForestClassifier(n_jobs=-1, random_state=42)"
      ]
     },
     "execution_count": 92,
     "metadata": {},
     "output_type": "execute_result"
    }
   ],
   "source": [
    "# new random forest classifier for the most important features\n",
    "clf_important = RandomForestClassifier(n_estimators = 100, random_state = 42, n_jobs = -1)\n",
    "\n",
    "# new classifier on the new dataset containing the most important features\n",
    "clf_important.fit(X_important_train, y_train)"
   ]
  },
  {
   "cell_type": "code",
   "execution_count": 93,
   "metadata": {
    "colab": {
     "base_uri": "https://localhost:8080/"
    },
    "id": "nptH37cvWe4c",
    "outputId": "013cf6d3-2141-486b-ce90-27a3d4c54574"
   },
   "outputs": [
    {
     "data": {
      "text/plain": [
       "0.9886666666666667"
      ]
     },
     "execution_count": 93,
     "metadata": {},
     "output_type": "execute_result"
    }
   ],
   "source": [
    "# applying the full featured classifier to the test data\n",
    "y_important_pred = clf_important.predict(X_important_test)\n",
    "\n",
    "# view the accuracy of limited feature model\n",
    "accuracy_score(y_test, y_important_pred)"
   ]
  },
  {
   "cell_type": "markdown",
   "metadata": {
    "id": "B_uKfWgPWe4c"
   },
   "source": [
    "## Вывод"
   ]
  },
  {
   "cell_type": "markdown",
   "metadata": {
    "id": "2R6WF9i5We4d"
   },
   "source": [
    "В этом исследовании мы решили сравнить модели LDA, логистической регрессии и классификатора случайного леса. Поскольку данные сильно искажены, иногда бимодальны и включают категориальные переменные, модель классификатора случайного леса показала лучшие результаты с точностью 97,7%. Выбор важности признаков позволил повысить точность до 98,9% и одновременно снизить сложность модели."
   ]
  },
  {
   "cell_type": "code",
   "execution_count": null,
   "metadata": {},
   "outputs": [],
   "source": []
  }
 ],
 "metadata": {
  "colab": {
   "collapsed_sections": [
    "f7fiBcdqWe3t",
    "rxJt3H6JWe3x",
    "HwheYzyqWe3z",
    "__Sn3s4dWe33",
    "8Tw7Lx3bWe34",
    "1MYRuwqNWe39",
    "9zAjA03hWe4A",
    "9QdI4UxaWe4D",
    "Icfy9YBmWe4G",
    "slsOfTu1We4S",
    "2iqo4mncWe4U",
    "CFY8hrrGWe4X"
   ],
   "provenance": [],
   "toc_visible": true
  },
  "kernelspec": {
   "display_name": "Python 3 (ipykernel)",
   "language": "python",
   "name": "python3"
  },
  "language_info": {
   "codemirror_mode": {
    "name": "ipython",
    "version": 3
   },
   "file_extension": ".py",
   "mimetype": "text/x-python",
   "name": "python",
   "nbconvert_exporter": "python",
   "pygments_lexer": "ipython3",
   "version": "3.10.10"
  }
 },
 "nbformat": 4,
 "nbformat_minor": 4
}
