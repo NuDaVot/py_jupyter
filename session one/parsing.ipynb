{
 "cells": [
  {
   "cell_type": "markdown",
   "id": "ca150661",
   "metadata": {},
   "source": [
    "# 1.1 Парсинг данных"
   ]
  },
  {
   "cell_type": "markdown",
   "id": "a667e4bc",
   "metadata": {},
   "source": [
    "### 1.1.* Парсинг статаей с веб-ресурсов "
   ]
  },
  {
   "cell_type": "markdown",
   "id": "477216b9",
   "metadata": {},
   "source": [
    "Подключение библиотек"
   ]
  },
  {
   "cell_type": "code",
   "execution_count": 1,
   "id": "434c67e6",
   "metadata": {},
   "outputs": [],
   "source": [
    "from bs4 import BeautifulSoup as bs\n",
    "import requests"
   ]
  },
  {
   "cell_type": "code",
   "execution_count": 3,
   "id": "c894b3f3",
   "metadata": {},
   "outputs": [
    {
     "name": "stdout",
     "output_type": "stream",
     "text": [
      "200\n"
     ]
    }
   ],
   "source": [
    "uri = \"https://habr.com/ru/all/\"\n",
    "page = requests.get(uri) \n",
    "print(page.status_code)"
   ]
  },
  {
   "cell_type": "markdown",
   "id": "e4b6aa90",
   "metadata": {},
   "source": [
    "Создание словаря\n",
    "- name - назваение статьи \n",
    "- name_company - кампания-автор\n",
    "- date - дата пуьликации\n",
    "- note - текст статьи"
   ]
  },
  {
   "cell_type": "code",
   "execution_count": null,
   "id": "4bc9962d",
   "metadata": {},
   "outputs": [],
   "source": [
    "article = {\"name\":[],\"name_company\":[], \"date\":[], \"note\":[]}"
   ]
  },
  {
   "cell_type": "code",
   "execution_count": null,
   "id": "e8832e9c",
   "metadata": {},
   "outputs": [],
   "source": [
    "# пребор страниц Habr от первойдо третей \n",
    "for i in range(1, 3):\n",
    "    \n",
    "    # переход на i-ю страницу \n",
    "    uri_page = \"{0}page{1}/\".format(uri, i)\n",
    "    page = requests.get(uri_page)\n",
    "    print(\"Страница: \", i, page)\n",
    "    soup = bs(page.text,  'html.parser')\n",
    "    snippetsoup_name = soup.find_all('h2', class_='tm-title tm-title_h2')\n",
    "    \n",
    "    for i in snippetsoup_name:\n",
    "        \n",
    "        # переход на i-ю статью страници\n",
    "        uri_article = \"https://habr.com\" + str(i.a.get(\"href\"))\n",
    "        page_article = requests.get(uri_article)\n",
    "        \n",
    "        soup_article = bs(page_article.text,  'html.parser')\n",
    "        descriptions_article = soup_article.find_all('a', class_='tm-article-snippet__hubs-item-link')\n",
    "        \n",
    "        for description in descriptions_article:\n",
    "            for j in description.span.text.split():\n",
    "                # проверка на компанию-автора статьи\n",
    "                if (companies_df['name_company'].eq(j)).any():\n",
    "                    print(\"    Мы взяли статью с странице: \", uri_article)\n",
    "                    h1 = soup_article.find('h1', class_='tm-title tm-title_h1')\n",
    "                    article[\"name\"].append(h1.span.text)\n",
    "                    article[\"name_company\"].append(j)\n",
    "                    date = soup_article.find('span', class_='tm-article-datetime-published')\n",
    "                    article[\"date\"].append(date.time.get(\"title\"))\n",
    "                    time = soup_article.find('span', class_='tm-article-reading-time__label')\n",
    "                    # две реализачии HTML структуры документа\n",
    "                    try:\n",
    "                        note = soup_article.find('div', class_='article-formatted-body article-formatted-body article-formatted-body_version-1')\n",
    "                        article[\"note\"].append(note.div.text.replace(\"\\n\", \" \").replace(\"\\r\", \" \").replace(\"  \", \" \").replace(\"\\xa0\", \" \"))\n",
    "                    except:\n",
    "                        note = soup_article.find('div', class_='article-formatted-body article-formatted-body article-formatted-body_version-2')\n",
    "                        article[\"note\"].append(note.div.text.replace(\"\\n\", \" \").replace(\"\\r\", \" \").replace(\"  \", \" \").replace(\"\\xa0\", \" \"))"
   ]
  },
  {
   "cell_type": "code",
   "execution_count": null,
   "id": "d39256a9",
   "metadata": {},
   "outputs": [],
   "source": [
    "articles_df = pd.DataFrame(article)\n",
    "articles_df"
   ]
  },
  {
   "cell_type": "markdown",
   "id": "11e3fc92",
   "metadata": {},
   "source": [
    "Сохранить в сsv формате"
   ]
  },
  {
   "cell_type": "code",
   "execution_count": null,
   "id": "cfdad072",
   "metadata": {},
   "outputs": [],
   "source": [
    "file_name = \"Статьи.csv\"\n",
    "articles_df.to_csv(file_name, encoding=\"utf-8-sig\")"
   ]
  },
  {
   "cell_type": "markdown",
   "id": "db37140d",
   "metadata": {},
   "source": [
    "Мы получили файл \"Статьи.csv\" cо статьями с сайта  habr.com - название, компания-автор, дата публикации, текст статиь "
   ]
  },
  {
   "cell_type": "code",
   "execution_count": null,
   "id": "679886f8",
   "metadata": {},
   "outputs": [],
   "source": []
  },
  {
   "cell_type": "markdown",
   "id": "c2b7d5a7",
   "metadata": {},
   "source": [
    "### 1.1.* Парсинг данных c PDF документа(ов)"
   ]
  },
  {
   "cell_type": "markdown",
   "id": "91c5948c",
   "metadata": {},
   "source": [
    "Установка нужных библиотек"
   ]
  },
  {
   "cell_type": "code",
   "execution_count": null,
   "id": "f65efc8a",
   "metadata": {},
   "outputs": [],
   "source": [
    "pip install PyMuPDF"
   ]
  },
  {
   "cell_type": "code",
   "execution_count": null,
   "id": "c4d24ab5",
   "metadata": {},
   "outputs": [],
   "source": [
    "pip install fitz "
   ]
  },
  {
   "cell_type": "markdown",
   "id": "9902157f",
   "metadata": {},
   "source": [
    "Подключение библиотек"
   ]
  },
  {
   "cell_type": "code",
   "execution_count": null,
   "id": "574f3982",
   "metadata": {},
   "outputs": [],
   "source": [
    "import glob \n",
    "import fitz \n",
    "import pandas as pd "
   ]
  },
  {
   "cell_type": "markdown",
   "id": "373bcfe7",
   "metadata": {},
   "source": [
    "all_documents = glob.glob(r\"C:\\Users\\nudan\\Спец курс\\Pdf parsing\\*.pdf\")"
   ]
  },
  {
   "cell_type": "code",
   "execution_count": null,
   "id": "0a2164b1",
   "metadata": {},
   "outputs": [],
   "source": [
    "for i in range(len(all_documents)):\n",
    "    print(\"{0}: {1}\".format(i, all_documents[i]))"
   ]
  },
  {
   "cell_type": "code",
   "execution_count": null,
   "id": "51841aa6",
   "metadata": {},
   "outputs": [],
   "source": [
    "companies_path_doc = all_documents[3]\n",
    "companies_doc = fitz.open(companies_path_doc)\n",
    "print(\"Открытый документ: \", companies_doc)\n",
    "print(\"Число страниц: \",companies_doc.page_count)\n",
    "text = \"\"\n",
    "for page_doc in range(len(companies_doc)):\n",
    "    page = companies_doc.load_page(page_doc)\n",
    "    text += page.get_text(\"text\")\n",
    "text = text.split(\"\\n\")\n",
    "for i in text:\n",
    "    print(i)"
   ]
  },
  {
   "cell_type": "code",
   "execution_count": null,
   "id": "be83c0e7",
   "metadata": {},
   "outputs": [],
   "source": [
    "company_columns = {\"name_company\":[], \"description\":[], \"activity\":[], \"rating\":[]}"
   ]
  },
  {
   "cell_type": "code",
   "execution_count": null,
   "id": "740173b1",
   "metadata": {},
   "outputs": [],
   "source": [
    "for i in range(0, len(text), 6):\n",
    "    company_columns[\"name_company\"].append(text[i])\n",
    "    company_columns[\"description\"].append(text[i+1])\n",
    "    company_columns[\"rating\"].append(text[i + 4])\n",
    "    # удаления в начаое строки патерна \"Пишет в хабы:\" и добавления второй строки \n",
    "    text_new = text[i+2][text[i+2].index(\":\")+1:] + text[i+3]\n",
    "    \n",
    "    # удаление неизвестный символов, перед описанием сферы деятельность\n",
    "    text_new = text_new.split(\",\")\n",
    "    text_new[0] = text_new[0] + \" \"\n",
    "    for i in range(1, len(text_new)):\n",
    "        text_new[i] = text_new[i][1:]\n",
    "    text_new = ''.join(text_new) \n",
    "    \n",
    "    company_columns[\"activity\"].append(text_new) "
   ]
  },
  {
   "cell_type": "code",
   "execution_count": null,
   "id": "1ce814f5",
   "metadata": {},
   "outputs": [],
   "source": [
    "companies_df = pd.DataFrame(company_columns)\n",
    "companies_df"
   ]
  },
  {
   "cell_type": "markdown",
   "id": "3a62d6bf",
   "metadata": {},
   "source": [
    "Соединение статей и описание компании"
   ]
  },
  {
   "cell_type": "code",
   "execution_count": null,
   "id": "43737327",
   "metadata": {},
   "outputs": [],
   "source": [
    "df = articles_df.merge(companies_df, on='name_company', how='left')"
   ]
  },
  {
   "cell_type": "markdown",
   "id": "e0047190",
   "metadata": {},
   "source": [
    "# 1.2 Формирование структуры набора данных"
   ]
  },
  {
   "cell_type": "markdown",
   "id": "5d851ce4",
   "metadata": {},
   "source": [
    "Подключение библиотек"
   ]
  },
  {
   "cell_type": "code",
   "execution_count": null,
   "id": "a4b05887",
   "metadata": {},
   "outputs": [],
   "source": [
    "import numpy as np\n",
    "import pandas as pd\n",
    "import matplotlib.pyplot as plt\n",
    "import seaborn as sns"
   ]
  },
  {
   "cell_type": "code",
   "execution_count": null,
   "id": "ea594743",
   "metadata": {},
   "outputs": [],
   "source": [
    "df.head()"
   ]
  },
  {
   "cell_type": "markdown",
   "id": "9d78c514",
   "metadata": {},
   "source": [
    "#### Описание данных"
   ]
  },
  {
   "cell_type": "code",
   "execution_count": null,
   "id": "ae147a34",
   "metadata": {},
   "outputs": [],
   "source": []
  },
  {
   "cell_type": "code",
   "execution_count": null,
   "id": "1a3b729c",
   "metadata": {},
   "outputs": [],
   "source": [
    "df.info()"
   ]
  },
  {
   "cell_type": "code",
   "execution_count": null,
   "id": "b7b115b4",
   "metadata": {},
   "outputs": [],
   "source": [
    "# объём данных (строк и столбцов - объектов и признаков)\n",
    "df.shape"
   ]
  },
  {
   "cell_type": "code",
   "execution_count": null,
   "id": "b37bb5c4",
   "metadata": {},
   "outputs": [],
   "source": [
    "df.describe()"
   ]
  },
  {
   "cell_type": "code",
   "execution_count": null,
   "id": "768c7418",
   "metadata": {},
   "outputs": [],
   "source": [
    "df.hist(figsize = (15,10), bins = 50)"
   ]
  },
  {
   "cell_type": "code",
   "execution_count": null,
   "id": "c502d3b1",
   "metadata": {},
   "outputs": [],
   "source": [
    "for col in df.columns:\n",
    "    print(f'Процент пропусков в колонке {col} = {df[col].isna().sum() / df.shape[0] * 100: .2f}')"
   ]
  },
  {
   "cell_type": "code",
   "execution_count": null,
   "id": "0b29cd5b",
   "metadata": {},
   "outputs": [],
   "source": [
    "plt.figure(figsize=(10,6))\n",
    "sns.heatmap(df.isna())"
   ]
  },
  {
   "cell_type": "code",
   "execution_count": null,
   "id": "5e04f78a",
   "metadata": {},
   "outputs": [],
   "source": [
    "# Удалим переменную Cabin (номер каюты)\n",
    "df.drop(columns = 'Cabin', axis = 1, inplace = True)"
   ]
  },
  {
   "cell_type": "code",
   "execution_count": null,
   "id": "fa4acbfc",
   "metadata": {},
   "outputs": [],
   "source": []
  },
  {
   "cell_type": "code",
   "execution_count": null,
   "id": "a88c407f",
   "metadata": {},
   "outputs": [],
   "source": [
    "Отчет, то то сделано, те то и то то признаки взяты "
   ]
  },
  {
   "cell_type": "markdown",
   "id": "1f100fc6",
   "metadata": {},
   "source": [
    "# 1.3 Предварительная обработка текстовых данных  "
   ]
  },
  {
   "cell_type": "code",
   "execution_count": null,
   "id": "89518361",
   "metadata": {},
   "outputs": [],
   "source": [
    "df.info()"
   ]
  },
  {
   "cell_type": "code",
   "execution_count": null,
   "id": "31cde5e0",
   "metadata": {},
   "outputs": [],
   "source": [
    "df.shape"
   ]
  },
  {
   "cell_type": "code",
   "execution_count": null,
   "id": "7750bb03",
   "metadata": {},
   "outputs": [],
   "source": [
    "df.describe()"
   ]
  },
  {
   "cell_type": "code",
   "execution_count": null,
   "id": "47ccede1",
   "metadata": {},
   "outputs": [],
   "source": [
    "covid2_drop[covid2_drop[\"continent\"].isnull()][\"location\"].value_counts()"
   ]
  },
  {
   "cell_type": "code",
   "execution_count": 6,
   "id": "972ac396",
   "metadata": {},
   "outputs": [],
   "source": [
    "def edit_text(text):\n",
    "    text = ' '.join([i if len(i) >= 3 else ' ' for i in text.split(\" \")])\n",
    "    text = ''.join([i if i.isalpha() else ' ' for i in text])\n",
    "    text = text.lower()\n",
    "    text = text.replace('ё', 'е')\n",
    "    text = text.replace('й', 'и')   \n",
    "    text = re.sub('[a-z]','', text, flags=re.I)\n",
    "    text = re.sub(r'\\s+',' ', text, flags=re.I)\n",
    "    return text"
   ]
  },
  {
   "cell_type": "code",
   "execution_count": null,
   "id": "12e2e3d6",
   "metadata": {},
   "outputs": [],
   "source": [
    "prep_text3 = [edit_text(text) for text in df['text_article'] ]"
   ]
  },
  {
   "cell_type": "code",
   "execution_count": null,
   "id": "be836f9f",
   "metadata": {},
   "outputs": [],
   "source": [
    "df['prep_text2'] = prep_text3"
   ]
  },
  {
   "cell_type": "code",
   "execution_count": null,
   "id": "3425b402",
   "metadata": {},
   "outputs": [],
   "source": []
  },
  {
   "cell_type": "code",
   "execution_count": null,
   "id": "e4439dd2",
   "metadata": {},
   "outputs": [],
   "source": []
  },
  {
   "cell_type": "code",
   "execution_count": null,
   "id": "06ccf466",
   "metadata": {},
   "outputs": [],
   "source": []
  },
  {
   "cell_type": "code",
   "execution_count": null,
   "id": "e7c1e22b",
   "metadata": {},
   "outputs": [],
   "source": []
  },
  {
   "cell_type": "code",
   "execution_count": null,
   "id": "79f0d233",
   "metadata": {},
   "outputs": [],
   "source": []
  },
  {
   "cell_type": "code",
   "execution_count": null,
   "id": "632758e7",
   "metadata": {},
   "outputs": [],
   "source": []
  },
  {
   "cell_type": "markdown",
   "id": "f3958bfb",
   "metadata": {},
   "source": [
    "# 1.4  Отчет"
   ]
  },
  {
   "cell_type": "code",
   "execution_count": null,
   "id": "5b8854b3",
   "metadata": {},
   "outputs": [],
   "source": []
  }
 ],
 "metadata": {
  "kernelspec": {
   "display_name": "Python 3 (ipykernel)",
   "language": "python",
   "name": "python3"
  },
  "language_info": {
   "codemirror_mode": {
    "name": "ipython",
    "version": 3
   },
   "file_extension": ".py",
   "mimetype": "text/x-python",
   "name": "python",
   "nbconvert_exporter": "python",
   "pygments_lexer": "ipython3",
   "version": "3.10.10"
  }
 },
 "nbformat": 4,
 "nbformat_minor": 5
}
