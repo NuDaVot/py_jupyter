{
 "cells": [
  {
   "cell_type": "markdown",
   "id": "ff366c42",
   "metadata": {},
   "source": [
    "# 1.1 Парсинг"
   ]
  },
  {
   "cell_type": "markdown",
   "id": "42f04163",
   "metadata": {},
   "source": [
    "Подключение библиотек "
   ]
  },
  {
   "cell_type": "code",
   "execution_count": 6,
   "id": "17c60fbb",
   "metadata": {},
   "outputs": [],
   "source": [
    "import pandas as pd\n",
    "import numpy as np\n",
    "import requests\n",
    "from bs4 import BeautifulSoup as bs"
   ]
  },
  {
   "cell_type": "code",
   "execution_count": 10,
   "id": "aa8daf22",
   "metadata": {},
   "outputs": [
    {
     "data": {
      "text/plain": [
       "200"
      ]
     },
     "execution_count": 10,
     "metadata": {},
     "output_type": "execute_result"
    }
   ],
   "source": [
    "url = \"https://lenta.ru/rubrics/science/\"\n",
    "page = requests.get(url)\n",
    "page.status_code"
   ]
  },
  {
   "cell_type": "code",
   "execution_count": 11,
   "id": "d9a3ac3a",
   "metadata": {},
   "outputs": [],
   "source": [
    "soup = bs(page.text, \"html.parser\")\n",
    "div_box = soup.find_all(\"div\", class_=\"longgrid-feature-list__box _feature-box\")"
   ]
  },
  {
   "cell_type": "code",
   "execution_count": 12,
   "id": "5967c1d7",
   "metadata": {},
   "outputs": [
    {
     "data": {
      "text/plain": [
       "[<div class=\"longgrid-feature-list__box _feature-box\"><a class=\"card-feature\" href=\"/articles/2023/04/13/kornilov/\"><div class=\"card-feature__image-wrap\"><img alt=\"Генерал Лавр Корнилов прибыл в Москву на Государственное совещание, август 1917 года\" class=\"card-feature__image\" height=\"386\" loading=\"auto\" src=\"https://icdn.lenta.ru/images/2023/04/12/15/20230412153315175/owl_feature_580_970e643c7c1c1c3507a0095ca0be76da.jpeg\" width=\"580\"/></div><div class=\"card-feature__topic\"><h3 class=\"card-feature__title\">«Суровый, честный воин с отчаянием в душе»</h3><span class=\"card-feature__rightcol\"> 105 лет назад был убит генерал Корнилов. За что его обожали и люто ненавидели?</span><div class=\"card-feature__info\"><time class=\"card-feature__date\">00:01, 13 апреля 2023</time></div></div></a></div>]"
      ]
     },
     "execution_count": 12,
     "metadata": {},
     "output_type": "execute_result"
    }
   ],
   "source": [
    "div_box"
   ]
  },
  {
   "cell_type": "code",
   "execution_count": null,
   "id": "9249006f",
   "metadata": {},
   "outputs": [],
   "source": []
  }
 ],
 "metadata": {
  "kernelspec": {
   "display_name": "Python 3 (ipykernel)",
   "language": "python",
   "name": "python3"
  },
  "language_info": {
   "codemirror_mode": {
    "name": "ipython",
    "version": 3
   },
   "file_extension": ".py",
   "mimetype": "text/x-python",
   "name": "python",
   "nbconvert_exporter": "python",
   "pygments_lexer": "ipython3",
   "version": "3.10.10"
  }
 },
 "nbformat": 4,
 "nbformat_minor": 5
}
