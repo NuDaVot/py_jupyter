{
 "cells": [
  {
   "cell_type": "markdown",
   "id": "d43c608a",
   "metadata": {},
   "source": [
    "подключение библеотек "
   ]
  },
  {
   "cell_type": "code",
   "execution_count": 1,
   "id": "41b7975f",
   "metadata": {},
   "outputs": [],
   "source": [
    "from bs4 import  as bs \n",
    "import requests \n",
    "import pandas as pd "
   ]
  },
  {
   "cell_type": "code",
   "execution_count": 43,
   "id": "9cad9bc0",
   "metadata": {},
   "outputs": [],
   "source": [
    "films_data = {\"name\":[], \"date\":[], \"rating\": [], \"author\":[]}"
   ]
  },
  {
   "cell_type": "code",
   "execution_count": 44,
   "id": "0b56ce36",
   "metadata": {},
   "outputs": [
    {
     "name": "stdout",
     "output_type": "stream",
     "text": [
      "250\n",
      "250\n"
     ]
    }
   ],
   "source": [
    "uri = \"https://www.imdb.com/chart/top/?ref_=nv_mv_250\"\n",
    "page = requests.get(uri)\n",
    "soup = bs(page.text, 'html.parser')\n",
    "films_name = soup.find_all('td', class_ = \"titleColumn\" )\n",
    "films_ratings = soup.find_all('td', class_ = \"ratingColumn imdbRating\" )\n",
    "\n",
    "for i in range(len(films_name)):\n",
    "    films_data[\"name\"].append(films_name[i].a.text)\n",
    "    films_data[\"date\"].append(films_name[i].span.text)\n",
    "    films_data[\"author\"].append(films_name[i].a.get(\"title\"))\n",
    "    films_data[\"rating\"].append(films_ratings[i].strong.text)\n",
    "    \n",
    "    \n",
    "#     uri_about_film = \"https://www.imdb.com\" + films_name[i].a.get(\"href\")\n",
    "#     page_about = requests.get(uri_about_film)\n",
    "#     soup_about = bs(page.text, 'html.parser')\n",
    "#     films_genre = soup_about.find_all('div', class_ = \"ipc-chip-list__scroller\" )\n",
    "   \n",
    "    \n",
    "print(len(films_data[\"name\"]))\n",
    "print(len(films_data[\"rating\"]))"
   ]
  },
  {
   "cell_type": "code",
   "execution_count": 45,
   "id": "3bc850c0",
   "metadata": {},
   "outputs": [],
   "source": [
    "df = pd.DataFrame(data=films_data)"
   ]
  },
  {
   "cell_type": "code",
   "execution_count": 46,
   "id": "15d21fb3",
   "metadata": {},
   "outputs": [
    {
     "data": {
      "text/html": [
       "<div>\n",
       "<style scoped>\n",
       "    .dataframe tbody tr th:only-of-type {\n",
       "        vertical-align: middle;\n",
       "    }\n",
       "\n",
       "    .dataframe tbody tr th {\n",
       "        vertical-align: top;\n",
       "    }\n",
       "\n",
       "    .dataframe thead th {\n",
       "        text-align: right;\n",
       "    }\n",
       "</style>\n",
       "<table border=\"1\" class=\"dataframe\">\n",
       "  <thead>\n",
       "    <tr style=\"text-align: right;\">\n",
       "      <th></th>\n",
       "      <th>name</th>\n",
       "      <th>date</th>\n",
       "      <th>rating</th>\n",
       "      <th>author</th>\n",
       "    </tr>\n",
       "  </thead>\n",
       "  <tbody>\n",
       "    <tr>\n",
       "      <th>0</th>\n",
       "      <td>Побег из Шоушенка</td>\n",
       "      <td>(1994)</td>\n",
       "      <td>9.2</td>\n",
       "      <td>Frank Darabont (dir.), Tim Robbins, Morgan Fre...</td>\n",
       "    </tr>\n",
       "    <tr>\n",
       "      <th>1</th>\n",
       "      <td>Крёстный отец</td>\n",
       "      <td>(1972)</td>\n",
       "      <td>9.2</td>\n",
       "      <td>Francis Ford Coppola (dir.), Marlon Brando, Al...</td>\n",
       "    </tr>\n",
       "    <tr>\n",
       "      <th>2</th>\n",
       "      <td>Темный рыцарь</td>\n",
       "      <td>(2008)</td>\n",
       "      <td>9.0</td>\n",
       "      <td>Christopher Nolan (dir.), Christian Bale, Heat...</td>\n",
       "    </tr>\n",
       "    <tr>\n",
       "      <th>3</th>\n",
       "      <td>Крёстный отец 2</td>\n",
       "      <td>(1974)</td>\n",
       "      <td>9.0</td>\n",
       "      <td>Francis Ford Coppola (dir.), Al Pacino, Robert...</td>\n",
       "    </tr>\n",
       "    <tr>\n",
       "      <th>4</th>\n",
       "      <td>12 рaзгневанных мужчин</td>\n",
       "      <td>(1957)</td>\n",
       "      <td>9.0</td>\n",
       "      <td>Sidney Lumet (dir.), Henry Fonda, Lee J. Cobb</td>\n",
       "    </tr>\n",
       "    <tr>\n",
       "      <th>...</th>\n",
       "      <td>...</td>\n",
       "      <td>...</td>\n",
       "      <td>...</td>\n",
       "      <td>...</td>\n",
       "    </tr>\n",
       "    <tr>\n",
       "      <th>245</th>\n",
       "      <td>Прислуга</td>\n",
       "      <td>(2011)</td>\n",
       "      <td>8.0</td>\n",
       "      <td>Tate Taylor (dir.), Viola Davis, Emma Stone</td>\n",
       "    </tr>\n",
       "    <tr>\n",
       "      <th>246</th>\n",
       "      <td>Дерсу Узала</td>\n",
       "      <td>(1975)</td>\n",
       "      <td>8.0</td>\n",
       "      <td>Akira Kurosawa (dir.), Maksim Munzuk, Yuriy So...</td>\n",
       "    </tr>\n",
       "    <tr>\n",
       "      <th>247</th>\n",
       "      <td>Аладдин</td>\n",
       "      <td>(1992)</td>\n",
       "      <td>8.0</td>\n",
       "      <td>Ron Clements (dir.), Scott Weinger, Robin Will...</td>\n",
       "    </tr>\n",
       "    <tr>\n",
       "      <th>248</th>\n",
       "      <td>Танцующий с волками</td>\n",
       "      <td>(1990)</td>\n",
       "      <td>8.0</td>\n",
       "      <td>Kevin Costner (dir.), Kevin Costner, Mary McDo...</td>\n",
       "    </tr>\n",
       "    <tr>\n",
       "      <th>249</th>\n",
       "      <td>Ганди</td>\n",
       "      <td>(1982)</td>\n",
       "      <td>8.0</td>\n",
       "      <td>Richard Attenborough (dir.), Ben Kingsley, Joh...</td>\n",
       "    </tr>\n",
       "  </tbody>\n",
       "</table>\n",
       "<p>250 rows × 4 columns</p>\n",
       "</div>"
      ],
      "text/plain": [
       "                       name    date rating  \\\n",
       "0         Побег из Шоушенка  (1994)    9.2   \n",
       "1             Крёстный отец  (1972)    9.2   \n",
       "2             Темный рыцарь  (2008)    9.0   \n",
       "3           Крёстный отец 2  (1974)    9.0   \n",
       "4    12 рaзгневанных мужчин  (1957)    9.0   \n",
       "..                      ...     ...    ...   \n",
       "245                Прислуга  (2011)    8.0   \n",
       "246             Дерсу Узала  (1975)    8.0   \n",
       "247                 Аладдин  (1992)    8.0   \n",
       "248     Танцующий с волками  (1990)    8.0   \n",
       "249                   Ганди  (1982)    8.0   \n",
       "\n",
       "                                                author  \n",
       "0    Frank Darabont (dir.), Tim Robbins, Morgan Fre...  \n",
       "1    Francis Ford Coppola (dir.), Marlon Brando, Al...  \n",
       "2    Christopher Nolan (dir.), Christian Bale, Heat...  \n",
       "3    Francis Ford Coppola (dir.), Al Pacino, Robert...  \n",
       "4        Sidney Lumet (dir.), Henry Fonda, Lee J. Cobb  \n",
       "..                                                 ...  \n",
       "245        Tate Taylor (dir.), Viola Davis, Emma Stone  \n",
       "246  Akira Kurosawa (dir.), Maksim Munzuk, Yuriy So...  \n",
       "247  Ron Clements (dir.), Scott Weinger, Robin Will...  \n",
       "248  Kevin Costner (dir.), Kevin Costner, Mary McDo...  \n",
       "249  Richard Attenborough (dir.), Ben Kingsley, Joh...  \n",
       "\n",
       "[250 rows x 4 columns]"
      ]
     },
     "execution_count": 46,
     "metadata": {},
     "output_type": "execute_result"
    }
   ],
   "source": [
    "df"
   ]
  },
  {
   "cell_type": "code",
   "execution_count": 92,
   "id": "62ae58bb",
   "metadata": {},
   "outputs": [],
   "source": [
    "FILE_NAME = \"films.csv\"\n",
    "df.to_csv(FILE_NAME)"
   ]
  },
  {
   "cell_type": "code",
   "execution_count": null,
   "id": "65e786b2",
   "metadata": {},
   "outputs": [],
   "source": []
  }
 ],
 "metadata": {
  "kernelspec": {
   "display_name": "Python 3 (ipykernel)",
   "language": "python",
   "name": "python3"
  },
  "language_info": {
   "codemirror_mode": {
    "name": "ipython",
    "version": 3
   },
   "file_extension": ".py",
   "mimetype": "text/x-python",
   "name": "python",
   "nbconvert_exporter": "python",
   "pygments_lexer": "ipython3",
   "version": "3.10.10"
  }
 },
 "nbformat": 4,
 "nbformat_minor": 5
}
