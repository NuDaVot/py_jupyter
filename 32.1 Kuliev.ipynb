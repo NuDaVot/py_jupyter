{
 "cells": [
  {
   "cell_type": "markdown",
   "id": "9b4a0ed6",
   "metadata": {},
   "source": [
    "# Анализ даных людей больных диабитом \n"
   ]
  },
  {
   "cell_type": "markdown",
   "id": "a8d7abd8",
   "metadata": {},
   "source": [
    " ## 1. Описание  набора данных и признаков \n",
    " "
   ]
  },
  {
   "cell_type": "markdown",
   "id": "8f4ba02a",
   "metadata": {},
   "source": [
    "**Цель исследования**. Определить количественный показатель прогрессирования заболевания через год после исходного уровня.\n"
   ]
  },
  {
   "cell_type": "markdown",
   "id": "ae2eace3",
   "metadata": {},
   "source": [
    "**Данные.** Данные взяты с учебного пособия https://scikit-learn.ru/7-1-toy-datasets/ "
   ]
  },
  {
   "cell_type": "markdown",
   "id": "981448a2",
   "metadata": {},
   "source": [
    "**Целевая переменая.** Характириска уровня прогресии заболевания поциента через год."
   ]
  },
  {
   "cell_type": "markdown",
   "id": "51db4383",
   "metadata": {},
   "source": [
    "**Характеристики набора данных.** Для каждого из n = 442 пациентов с диабетом были получены десять исходных переменных, возраст, пол, индекс массы тела, среднее артериальное давление и шесть измерений сыворотки крови, а также интересующий ответ — количественный показатель прогрессирования заболевания через год после исходного уровня."
   ]
  },
  {
   "cell_type": "markdown",
   "id": "07669f50",
   "metadata": {},
   "source": [
    "## 2. Первичный анализ данных"
   ]
  },
  {
   "cell_type": "code",
   "execution_count": 42,
   "id": "67404a4a",
   "metadata": {},
   "outputs": [],
   "source": [
    "import pandas as pd\n",
    "import numpy as np\n",
    "import seaborn as sns\n",
    "import matplotlib.pyplot as plt\n",
    "%matplotlib inline\n",
    "import sklearn\n",
    "from sklearn import datasets"
   ]
  },
  {
   "cell_type": "code",
   "execution_count": 43,
   "id": "bd87d249",
   "metadata": {},
   "outputs": [],
   "source": [
    "date = sklearn.datasets.load_diabetes()"
   ]
  },
  {
   "cell_type": "markdown",
   "id": "5fabdde0",
   "metadata": {},
   "source": [
    "Посмотрим на данные."
   ]
  },
  {
   "cell_type": "code",
   "execution_count": 44,
   "id": "3c246f95",
   "metadata": {},
   "outputs": [
    {
     "data": {
      "text/plain": [
       "{'data': array([[ 0.03807591,  0.05068012,  0.06169621, ..., -0.00259226,\n",
       "          0.01990842, -0.01764613],\n",
       "        [-0.00188202, -0.04464164, -0.05147406, ..., -0.03949338,\n",
       "         -0.06832974, -0.09220405],\n",
       "        [ 0.08529891,  0.05068012,  0.04445121, ..., -0.00259226,\n",
       "          0.00286377, -0.02593034],\n",
       "        ...,\n",
       "        [ 0.04170844,  0.05068012, -0.01590626, ..., -0.01107952,\n",
       "         -0.04687948,  0.01549073],\n",
       "        [-0.04547248, -0.04464164,  0.03906215, ...,  0.02655962,\n",
       "          0.04452837, -0.02593034],\n",
       "        [-0.04547248, -0.04464164, -0.0730303 , ..., -0.03949338,\n",
       "         -0.00421986,  0.00306441]]),\n",
       " 'target': array([151.,  75., 141., 206., 135.,  97., 138.,  63., 110., 310., 101.,\n",
       "         69., 179., 185., 118., 171., 166., 144.,  97., 168.,  68.,  49.,\n",
       "         68., 245., 184., 202., 137.,  85., 131., 283., 129.,  59., 341.,\n",
       "         87.,  65., 102., 265., 276., 252.,  90., 100.,  55.,  61.,  92.,\n",
       "        259.,  53., 190., 142.,  75., 142., 155., 225.,  59., 104., 182.,\n",
       "        128.,  52.,  37., 170., 170.,  61., 144.,  52., 128.,  71., 163.,\n",
       "        150.,  97., 160., 178.,  48., 270., 202., 111.,  85.,  42., 170.,\n",
       "        200., 252., 113., 143.,  51.,  52., 210.,  65., 141.,  55., 134.,\n",
       "         42., 111.,  98., 164.,  48.,  96.,  90., 162., 150., 279.,  92.,\n",
       "         83., 128., 102., 302., 198.,  95.,  53., 134., 144., 232.,  81.,\n",
       "        104.,  59., 246., 297., 258., 229., 275., 281., 179., 200., 200.,\n",
       "        173., 180.,  84., 121., 161.,  99., 109., 115., 268., 274., 158.,\n",
       "        107.,  83., 103., 272.,  85., 280., 336., 281., 118., 317., 235.,\n",
       "         60., 174., 259., 178., 128.,  96., 126., 288.,  88., 292.,  71.,\n",
       "        197., 186.,  25.,  84.,  96., 195.,  53., 217., 172., 131., 214.,\n",
       "         59.,  70., 220., 268., 152.,  47.,  74., 295., 101., 151., 127.,\n",
       "        237., 225.,  81., 151., 107.,  64., 138., 185., 265., 101., 137.,\n",
       "        143., 141.,  79., 292., 178.,  91., 116.,  86., 122.,  72., 129.,\n",
       "        142.,  90., 158.,  39., 196., 222., 277.,  99., 196., 202., 155.,\n",
       "         77., 191.,  70.,  73.,  49.,  65., 263., 248., 296., 214., 185.,\n",
       "         78.,  93., 252., 150.,  77., 208.,  77., 108., 160.,  53., 220.,\n",
       "        154., 259.,  90., 246., 124.,  67.,  72., 257., 262., 275., 177.,\n",
       "         71.,  47., 187., 125.,  78.,  51., 258., 215., 303., 243.,  91.,\n",
       "        150., 310., 153., 346.,  63.,  89.,  50.,  39., 103., 308., 116.,\n",
       "        145.,  74.,  45., 115., 264.,  87., 202., 127., 182., 241.,  66.,\n",
       "         94., 283.,  64., 102., 200., 265.,  94., 230., 181., 156., 233.,\n",
       "         60., 219.,  80.,  68., 332., 248.,  84., 200.,  55.,  85.,  89.,\n",
       "         31., 129.,  83., 275.,  65., 198., 236., 253., 124.,  44., 172.,\n",
       "        114., 142., 109., 180., 144., 163., 147.,  97., 220., 190., 109.,\n",
       "        191., 122., 230., 242., 248., 249., 192., 131., 237.,  78., 135.,\n",
       "        244., 199., 270., 164.,  72.,  96., 306.,  91., 214.,  95., 216.,\n",
       "        263., 178., 113., 200., 139., 139.,  88., 148.,  88., 243.,  71.,\n",
       "         77., 109., 272.,  60.,  54., 221.,  90., 311., 281., 182., 321.,\n",
       "         58., 262., 206., 233., 242., 123., 167.,  63., 197.,  71., 168.,\n",
       "        140., 217., 121., 235., 245.,  40.,  52., 104., 132.,  88.,  69.,\n",
       "        219.,  72., 201., 110.,  51., 277.,  63., 118.,  69., 273., 258.,\n",
       "         43., 198., 242., 232., 175.,  93., 168., 275., 293., 281.,  72.,\n",
       "        140., 189., 181., 209., 136., 261., 113., 131., 174., 257.,  55.,\n",
       "         84.,  42., 146., 212., 233.,  91., 111., 152., 120.,  67., 310.,\n",
       "         94., 183.,  66., 173.,  72.,  49.,  64.,  48., 178., 104., 132.,\n",
       "        220.,  57.]),\n",
       " 'frame': None,\n",
       " 'DESCR': '.. _diabetes_dataset:\\n\\nDiabetes dataset\\n----------------\\n\\nTen baseline variables, age, sex, body mass index, average blood\\npressure, and six blood serum measurements were obtained for each of n =\\n442 diabetes patients, as well as the response of interest, a\\nquantitative measure of disease progression one year after baseline.\\n\\n**Data Set Characteristics:**\\n\\n  :Number of Instances: 442\\n\\n  :Number of Attributes: First 10 columns are numeric predictive values\\n\\n  :Target: Column 11 is a quantitative measure of disease progression one year after baseline\\n\\n  :Attribute Information:\\n      - age     age in years\\n      - sex\\n      - bmi     body mass index\\n      - bp      average blood pressure\\n      - s1      tc, total serum cholesterol\\n      - s2      ldl, low-density lipoproteins\\n      - s3      hdl, high-density lipoproteins\\n      - s4      tch, total cholesterol / HDL\\n      - s5      ltg, possibly log of serum triglycerides level\\n      - s6      glu, blood sugar level\\n\\nNote: Each of these 10 feature variables have been mean centered and scaled by the standard deviation times `n_samples` (i.e. the sum of squares of each column totals 1).\\n\\nSource URL:\\nhttps://www4.stat.ncsu.edu/~boos/var.select/diabetes.html\\n\\nFor more information see:\\nBradley Efron, Trevor Hastie, Iain Johnstone and Robert Tibshirani (2004) \"Least Angle Regression,\" Annals of Statistics (with discussion), 407-499.\\n(https://web.stanford.edu/~hastie/Papers/LARS/LeastAngle_2002.pdf)',\n",
       " 'feature_names': ['age',\n",
       "  'sex',\n",
       "  'bmi',\n",
       "  'bp',\n",
       "  's1',\n",
       "  's2',\n",
       "  's3',\n",
       "  's4',\n",
       "  's5',\n",
       "  's6'],\n",
       " 'data_filename': 'diabetes_data.csv.gz',\n",
       " 'target_filename': 'diabetes_target.csv.gz',\n",
       " 'data_module': 'sklearn.datasets.data'}"
      ]
     },
     "execution_count": 44,
     "metadata": {},
     "output_type": "execute_result"
    }
   ],
   "source": [
    "date"
   ]
  },
  {
   "cell_type": "markdown",
   "id": "163606cf",
   "metadata": {},
   "source": [
    "Данные представлены словарем. \n",
    "Преобразуем в DataFrame"
   ]
  },
  {
   "cell_type": "code",
   "execution_count": 45,
   "id": "06662c7d",
   "metadata": {},
   "outputs": [
    {
     "data": {
      "text/html": [
       "<div>\n",
       "<style scoped>\n",
       "    .dataframe tbody tr th:only-of-type {\n",
       "        vertical-align: middle;\n",
       "    }\n",
       "\n",
       "    .dataframe tbody tr th {\n",
       "        vertical-align: top;\n",
       "    }\n",
       "\n",
       "    .dataframe thead th {\n",
       "        text-align: right;\n",
       "    }\n",
       "</style>\n",
       "<table border=\"1\" class=\"dataframe\">\n",
       "  <thead>\n",
       "    <tr style=\"text-align: right;\">\n",
       "      <th></th>\n",
       "      <th>age</th>\n",
       "      <th>sex</th>\n",
       "      <th>bmi</th>\n",
       "      <th>bp</th>\n",
       "      <th>s1</th>\n",
       "      <th>s2</th>\n",
       "      <th>s3</th>\n",
       "      <th>s4</th>\n",
       "      <th>s5</th>\n",
       "      <th>s6</th>\n",
       "      <th>target</th>\n",
       "    </tr>\n",
       "  </thead>\n",
       "  <tbody>\n",
       "    <tr>\n",
       "      <th>0</th>\n",
       "      <td>0.0381</td>\n",
       "      <td>0.0507</td>\n",
       "      <td>0.0617</td>\n",
       "      <td>0.0219</td>\n",
       "      <td>-0.0442</td>\n",
       "      <td>-0.0348</td>\n",
       "      <td>-0.0434</td>\n",
       "      <td>-0.0026</td>\n",
       "      <td>0.0199</td>\n",
       "      <td>-0.0176</td>\n",
       "      <td>151.0000</td>\n",
       "    </tr>\n",
       "    <tr>\n",
       "      <th>1</th>\n",
       "      <td>-0.0019</td>\n",
       "      <td>-0.0446</td>\n",
       "      <td>-0.0515</td>\n",
       "      <td>-0.0263</td>\n",
       "      <td>-0.0084</td>\n",
       "      <td>-0.0192</td>\n",
       "      <td>0.0744</td>\n",
       "      <td>-0.0395</td>\n",
       "      <td>-0.0683</td>\n",
       "      <td>-0.0922</td>\n",
       "      <td>75.0000</td>\n",
       "    </tr>\n",
       "    <tr>\n",
       "      <th>2</th>\n",
       "      <td>0.0853</td>\n",
       "      <td>0.0507</td>\n",
       "      <td>0.0445</td>\n",
       "      <td>-0.0057</td>\n",
       "      <td>-0.0456</td>\n",
       "      <td>-0.0342</td>\n",
       "      <td>-0.0324</td>\n",
       "      <td>-0.0026</td>\n",
       "      <td>0.0029</td>\n",
       "      <td>-0.0259</td>\n",
       "      <td>141.0000</td>\n",
       "    </tr>\n",
       "    <tr>\n",
       "      <th>3</th>\n",
       "      <td>-0.0891</td>\n",
       "      <td>-0.0446</td>\n",
       "      <td>-0.0116</td>\n",
       "      <td>-0.0367</td>\n",
       "      <td>0.0122</td>\n",
       "      <td>0.0250</td>\n",
       "      <td>-0.0360</td>\n",
       "      <td>0.0343</td>\n",
       "      <td>0.0227</td>\n",
       "      <td>-0.0094</td>\n",
       "      <td>206.0000</td>\n",
       "    </tr>\n",
       "    <tr>\n",
       "      <th>4</th>\n",
       "      <td>0.0054</td>\n",
       "      <td>-0.0446</td>\n",
       "      <td>-0.0364</td>\n",
       "      <td>0.0219</td>\n",
       "      <td>0.0039</td>\n",
       "      <td>0.0156</td>\n",
       "      <td>0.0081</td>\n",
       "      <td>-0.0026</td>\n",
       "      <td>-0.0320</td>\n",
       "      <td>-0.0466</td>\n",
       "      <td>135.0000</td>\n",
       "    </tr>\n",
       "    <tr>\n",
       "      <th>...</th>\n",
       "      <td>...</td>\n",
       "      <td>...</td>\n",
       "      <td>...</td>\n",
       "      <td>...</td>\n",
       "      <td>...</td>\n",
       "      <td>...</td>\n",
       "      <td>...</td>\n",
       "      <td>...</td>\n",
       "      <td>...</td>\n",
       "      <td>...</td>\n",
       "      <td>...</td>\n",
       "    </tr>\n",
       "    <tr>\n",
       "      <th>437</th>\n",
       "      <td>0.0417</td>\n",
       "      <td>0.0507</td>\n",
       "      <td>0.0197</td>\n",
       "      <td>0.0597</td>\n",
       "      <td>-0.0057</td>\n",
       "      <td>-0.0026</td>\n",
       "      <td>-0.0287</td>\n",
       "      <td>-0.0026</td>\n",
       "      <td>0.0312</td>\n",
       "      <td>0.0072</td>\n",
       "      <td>178.0000</td>\n",
       "    </tr>\n",
       "    <tr>\n",
       "      <th>438</th>\n",
       "      <td>-0.0055</td>\n",
       "      <td>0.0507</td>\n",
       "      <td>-0.0159</td>\n",
       "      <td>-0.0676</td>\n",
       "      <td>0.0493</td>\n",
       "      <td>0.0792</td>\n",
       "      <td>-0.0287</td>\n",
       "      <td>0.0343</td>\n",
       "      <td>-0.0181</td>\n",
       "      <td>0.0445</td>\n",
       "      <td>104.0000</td>\n",
       "    </tr>\n",
       "    <tr>\n",
       "      <th>439</th>\n",
       "      <td>0.0417</td>\n",
       "      <td>0.0507</td>\n",
       "      <td>-0.0159</td>\n",
       "      <td>0.0173</td>\n",
       "      <td>-0.0373</td>\n",
       "      <td>-0.0138</td>\n",
       "      <td>-0.0250</td>\n",
       "      <td>-0.0111</td>\n",
       "      <td>-0.0469</td>\n",
       "      <td>0.0155</td>\n",
       "      <td>132.0000</td>\n",
       "    </tr>\n",
       "    <tr>\n",
       "      <th>440</th>\n",
       "      <td>-0.0455</td>\n",
       "      <td>-0.0446</td>\n",
       "      <td>0.0391</td>\n",
       "      <td>0.0012</td>\n",
       "      <td>0.0163</td>\n",
       "      <td>0.0153</td>\n",
       "      <td>-0.0287</td>\n",
       "      <td>0.0266</td>\n",
       "      <td>0.0445</td>\n",
       "      <td>-0.0259</td>\n",
       "      <td>220.0000</td>\n",
       "    </tr>\n",
       "    <tr>\n",
       "      <th>441</th>\n",
       "      <td>-0.0455</td>\n",
       "      <td>-0.0446</td>\n",
       "      <td>-0.0730</td>\n",
       "      <td>-0.0814</td>\n",
       "      <td>0.0837</td>\n",
       "      <td>0.0278</td>\n",
       "      <td>0.1738</td>\n",
       "      <td>-0.0395</td>\n",
       "      <td>-0.0042</td>\n",
       "      <td>0.0031</td>\n",
       "      <td>57.0000</td>\n",
       "    </tr>\n",
       "  </tbody>\n",
       "</table>\n",
       "<p>442 rows × 11 columns</p>\n",
       "</div>"
      ],
      "text/plain": [
       "        age     sex     bmi      bp      s1      s2      s3      s4      s5  \\\n",
       "0    0.0381  0.0507  0.0617  0.0219 -0.0442 -0.0348 -0.0434 -0.0026  0.0199   \n",
       "1   -0.0019 -0.0446 -0.0515 -0.0263 -0.0084 -0.0192  0.0744 -0.0395 -0.0683   \n",
       "2    0.0853  0.0507  0.0445 -0.0057 -0.0456 -0.0342 -0.0324 -0.0026  0.0029   \n",
       "3   -0.0891 -0.0446 -0.0116 -0.0367  0.0122  0.0250 -0.0360  0.0343  0.0227   \n",
       "4    0.0054 -0.0446 -0.0364  0.0219  0.0039  0.0156  0.0081 -0.0026 -0.0320   \n",
       "..      ...     ...     ...     ...     ...     ...     ...     ...     ...   \n",
       "437  0.0417  0.0507  0.0197  0.0597 -0.0057 -0.0026 -0.0287 -0.0026  0.0312   \n",
       "438 -0.0055  0.0507 -0.0159 -0.0676  0.0493  0.0792 -0.0287  0.0343 -0.0181   \n",
       "439  0.0417  0.0507 -0.0159  0.0173 -0.0373 -0.0138 -0.0250 -0.0111 -0.0469   \n",
       "440 -0.0455 -0.0446  0.0391  0.0012  0.0163  0.0153 -0.0287  0.0266  0.0445   \n",
       "441 -0.0455 -0.0446 -0.0730 -0.0814  0.0837  0.0278  0.1738 -0.0395 -0.0042   \n",
       "\n",
       "         s6   target  \n",
       "0   -0.0176 151.0000  \n",
       "1   -0.0922  75.0000  \n",
       "2   -0.0259 141.0000  \n",
       "3   -0.0094 206.0000  \n",
       "4   -0.0466 135.0000  \n",
       "..      ...      ...  \n",
       "437  0.0072 178.0000  \n",
       "438  0.0445 104.0000  \n",
       "439  0.0155 132.0000  \n",
       "440 -0.0259 220.0000  \n",
       "441  0.0031  57.0000  \n",
       "\n",
       "[442 rows x 11 columns]"
      ]
     },
     "execution_count": 45,
     "metadata": {},
     "output_type": "execute_result"
    }
   ],
   "source": [
    "df = pd.DataFrame(data = date.data, columns=date.feature_names)\n",
    "df[\"target\"] = date[\"target\"]\n",
    "df"
   ]
  },
  {
   "cell_type": "code",
   "execution_count": 46,
   "id": "1aaa2eb5",
   "metadata": {},
   "outputs": [],
   "source": [
    "#df['sex'] = df['sex'].apply(lambda x: 0 if x == 0.0507 else 1 )\n",
    "#df"
   ]
  },
  {
   "cell_type": "markdown",
   "id": "2667ee92",
   "metadata": {},
   "source": [
    "    .возраст возраст в годах\n",
    "    .пол\n",
    "    .индекс массы тела bmi\n",
    "    .среднее артериальное давление bp\n",
    "    .s1 tc, общий холестерин сыворотки\n",
    "    .s2 ldl, липопротеины низкой плотности\n",
    "    .s3 hdl, липопротеины высокой плотности\n",
    "    .s4 tch, общий холестерин / ЛПВП\n",
    "    .s5 ltg, возможно логарифм уровня триглицеридов в сыворотке\n",
    "    .s6 glu, уровень сахара в крови\n",
    "    количественный показатель прогрессирования заболевания через год после исходного уровня"
   ]
  },
  {
   "cell_type": "markdown",
   "id": "923aaa5d",
   "metadata": {},
   "source": [
    "Даынные не целые числа, для удобного просмотра будем выводить первые 4 числа после запятой "
   ]
  },
  {
   "cell_type": "code",
   "execution_count": 47,
   "id": "264d623c",
   "metadata": {},
   "outputs": [],
   "source": [
    "pd.set_option('display.float_format', lambda x: '%0.4f' % x)"
   ]
  },
  {
   "cell_type": "markdown",
   "id": "a4bc8946",
   "metadata": {},
   "source": [
    "Общие, статистичесике даннные "
   ]
  },
  {
   "cell_type": "code",
   "execution_count": 48,
   "id": "416fd1e9",
   "metadata": {},
   "outputs": [
    {
     "data": {
      "text/html": [
       "<div>\n",
       "<style scoped>\n",
       "    .dataframe tbody tr th:only-of-type {\n",
       "        vertical-align: middle;\n",
       "    }\n",
       "\n",
       "    .dataframe tbody tr th {\n",
       "        vertical-align: top;\n",
       "    }\n",
       "\n",
       "    .dataframe thead th {\n",
       "        text-align: right;\n",
       "    }\n",
       "</style>\n",
       "<table border=\"1\" class=\"dataframe\">\n",
       "  <thead>\n",
       "    <tr style=\"text-align: right;\">\n",
       "      <th></th>\n",
       "      <th>age</th>\n",
       "      <th>sex</th>\n",
       "      <th>bmi</th>\n",
       "      <th>bp</th>\n",
       "      <th>s1</th>\n",
       "      <th>s2</th>\n",
       "      <th>s3</th>\n",
       "      <th>s4</th>\n",
       "      <th>s5</th>\n",
       "      <th>s6</th>\n",
       "      <th>target</th>\n",
       "    </tr>\n",
       "  </thead>\n",
       "  <tbody>\n",
       "    <tr>\n",
       "      <th>count</th>\n",
       "      <td>442.0000</td>\n",
       "      <td>442.0000</td>\n",
       "      <td>442.0000</td>\n",
       "      <td>442.0000</td>\n",
       "      <td>442.0000</td>\n",
       "      <td>442.0000</td>\n",
       "      <td>442.0000</td>\n",
       "      <td>442.0000</td>\n",
       "      <td>442.0000</td>\n",
       "      <td>442.0000</td>\n",
       "      <td>442.0000</td>\n",
       "    </tr>\n",
       "    <tr>\n",
       "      <th>mean</th>\n",
       "      <td>-0.0000</td>\n",
       "      <td>0.0000</td>\n",
       "      <td>-0.0000</td>\n",
       "      <td>0.0000</td>\n",
       "      <td>-0.0000</td>\n",
       "      <td>0.0000</td>\n",
       "      <td>-0.0000</td>\n",
       "      <td>0.0000</td>\n",
       "      <td>-0.0000</td>\n",
       "      <td>-0.0000</td>\n",
       "      <td>152.1335</td>\n",
       "    </tr>\n",
       "    <tr>\n",
       "      <th>std</th>\n",
       "      <td>0.0476</td>\n",
       "      <td>0.0476</td>\n",
       "      <td>0.0476</td>\n",
       "      <td>0.0476</td>\n",
       "      <td>0.0476</td>\n",
       "      <td>0.0476</td>\n",
       "      <td>0.0476</td>\n",
       "      <td>0.0476</td>\n",
       "      <td>0.0476</td>\n",
       "      <td>0.0476</td>\n",
       "      <td>77.0930</td>\n",
       "    </tr>\n",
       "    <tr>\n",
       "      <th>min</th>\n",
       "      <td>-0.1072</td>\n",
       "      <td>-0.0446</td>\n",
       "      <td>-0.0903</td>\n",
       "      <td>-0.1124</td>\n",
       "      <td>-0.1268</td>\n",
       "      <td>-0.1156</td>\n",
       "      <td>-0.1023</td>\n",
       "      <td>-0.0764</td>\n",
       "      <td>-0.1261</td>\n",
       "      <td>-0.1378</td>\n",
       "      <td>25.0000</td>\n",
       "    </tr>\n",
       "    <tr>\n",
       "      <th>25%</th>\n",
       "      <td>-0.0373</td>\n",
       "      <td>-0.0446</td>\n",
       "      <td>-0.0342</td>\n",
       "      <td>-0.0367</td>\n",
       "      <td>-0.0342</td>\n",
       "      <td>-0.0304</td>\n",
       "      <td>-0.0351</td>\n",
       "      <td>-0.0395</td>\n",
       "      <td>-0.0332</td>\n",
       "      <td>-0.0332</td>\n",
       "      <td>87.0000</td>\n",
       "    </tr>\n",
       "    <tr>\n",
       "      <th>50%</th>\n",
       "      <td>0.0054</td>\n",
       "      <td>-0.0446</td>\n",
       "      <td>-0.0073</td>\n",
       "      <td>-0.0057</td>\n",
       "      <td>-0.0043</td>\n",
       "      <td>-0.0038</td>\n",
       "      <td>-0.0066</td>\n",
       "      <td>-0.0026</td>\n",
       "      <td>-0.0019</td>\n",
       "      <td>-0.0011</td>\n",
       "      <td>140.5000</td>\n",
       "    </tr>\n",
       "    <tr>\n",
       "      <th>75%</th>\n",
       "      <td>0.0381</td>\n",
       "      <td>0.0507</td>\n",
       "      <td>0.0312</td>\n",
       "      <td>0.0356</td>\n",
       "      <td>0.0284</td>\n",
       "      <td>0.0298</td>\n",
       "      <td>0.0293</td>\n",
       "      <td>0.0343</td>\n",
       "      <td>0.0324</td>\n",
       "      <td>0.0279</td>\n",
       "      <td>211.5000</td>\n",
       "    </tr>\n",
       "    <tr>\n",
       "      <th>max</th>\n",
       "      <td>0.1107</td>\n",
       "      <td>0.0507</td>\n",
       "      <td>0.1706</td>\n",
       "      <td>0.1320</td>\n",
       "      <td>0.1539</td>\n",
       "      <td>0.1988</td>\n",
       "      <td>0.1812</td>\n",
       "      <td>0.1852</td>\n",
       "      <td>0.1336</td>\n",
       "      <td>0.1356</td>\n",
       "      <td>346.0000</td>\n",
       "    </tr>\n",
       "  </tbody>\n",
       "</table>\n",
       "</div>"
      ],
      "text/plain": [
       "           age      sex      bmi       bp       s1       s2       s3       s4  \\\n",
       "count 442.0000 442.0000 442.0000 442.0000 442.0000 442.0000 442.0000 442.0000   \n",
       "mean   -0.0000   0.0000  -0.0000   0.0000  -0.0000   0.0000  -0.0000   0.0000   \n",
       "std     0.0476   0.0476   0.0476   0.0476   0.0476   0.0476   0.0476   0.0476   \n",
       "min    -0.1072  -0.0446  -0.0903  -0.1124  -0.1268  -0.1156  -0.1023  -0.0764   \n",
       "25%    -0.0373  -0.0446  -0.0342  -0.0367  -0.0342  -0.0304  -0.0351  -0.0395   \n",
       "50%     0.0054  -0.0446  -0.0073  -0.0057  -0.0043  -0.0038  -0.0066  -0.0026   \n",
       "75%     0.0381   0.0507   0.0312   0.0356   0.0284   0.0298   0.0293   0.0343   \n",
       "max     0.1107   0.0507   0.1706   0.1320   0.1539   0.1988   0.1812   0.1852   \n",
       "\n",
       "            s5       s6   target  \n",
       "count 442.0000 442.0000 442.0000  \n",
       "mean   -0.0000  -0.0000 152.1335  \n",
       "std     0.0476   0.0476  77.0930  \n",
       "min    -0.1261  -0.1378  25.0000  \n",
       "25%    -0.0332  -0.0332  87.0000  \n",
       "50%    -0.0019  -0.0011 140.5000  \n",
       "75%     0.0324   0.0279 211.5000  \n",
       "max     0.1336   0.1356 346.0000  "
      ]
     },
     "execution_count": 48,
     "metadata": {},
     "output_type": "execute_result"
    }
   ],
   "source": [
    "df.describe()"
   ]
  },
  {
   "cell_type": "markdown",
   "id": "c35fa2ef",
   "metadata": {},
   "source": [
    "Данные не содрежат пропусков, данные расположенны от -0.14 до  0.2\n",
    "Странно что возротс отрицателен и дробный "
   ]
  },
  {
   "cell_type": "markdown",
   "id": "5865addb",
   "metadata": {},
   "source": [
    "## 3. Первичный визуальный анализ данных¶"
   ]
  },
  {
   "cell_type": "code",
   "execution_count": null,
   "id": "34206603",
   "metadata": {},
   "outputs": [],
   "source": [
    "plt.figure(figsize=(8,6))\n",
    "sns.pairplot(df)"
   ]
  },
  {
   "cell_type": "markdown",
   "id": "95b914b8",
   "metadata": {},
   "source": [
    "Посмотрим распределение целевого признока"
   ]
  },
  {
   "cell_type": "code",
   "execution_count": 19,
   "id": "65d2714b",
   "metadata": {},
   "outputs": [
    {
     "name": "stderr",
     "output_type": "stream",
     "text": [
      "C:\\Users\\nudan\\anaconda3\\lib\\site-packages\\seaborn\\distributions.py:2619: FutureWarning: `distplot` is a deprecated function and will be removed in a future version. Please adapt your code to use either `displot` (a figure-level function with similar flexibility) or `histplot` (an axes-level function for histograms).\n",
      "  warnings.warn(msg, FutureWarning)\n"
     ]
    },
    {
     "data": {
      "text/plain": [
       "<AxesSubplot:xlabel='target', ylabel='Density'>"
      ]
     },
     "execution_count": 19,
     "metadata": {},
     "output_type": "execute_result"
    },
    {
     "data": {
      "image/png": "[encoded data removed]",
      "text/plain": [
       "<Figure size 432x288 with 1 Axes>"
      ]
     },
     "metadata": {
      "needs_background": "light"
     },
     "output_type": "display_data"
    }
   ],
   "source": [
    "sns.distplot(df['target'])"
   ]
  },
  {
   "cell_type": "markdown",
   "id": "ef33788d",
   "metadata": {},
   "source": [
    "Наибоьный всплекс от 0 до 100, после снижение. Как понимаю это на сколько прогресирует заболевание, у большиства это на 100 пунктов "
   ]
  },
  {
   "cell_type": "code",
   "execution_count": 20,
   "id": "b200cf59",
   "metadata": {},
   "outputs": [
    {
     "data": {
      "text/plain": [
       "<AxesSubplot:>"
      ]
     },
     "execution_count": 20,
     "metadata": {},
     "output_type": "execute_result"
    },
    {
     "data": {
      "image/png": "[encoded data removed]",
      "text/plain": [
       "<Figure size 432x288 with 2 Axes>"
      ]
     },
     "metadata": {
      "needs_background": "light"
     },
     "output_type": "display_data"
    }
   ],
   "source": [
    "sns.heatmap(df.corr(), annot=True)"
   ]
  },
  {
   "cell_type": "markdown",
   "id": "408de1bd",
   "metadata": {},
   "source": [
    "Видна хорошая зависемость у признаокв s1(общий холестерин сыворотки) и s2(липопротеины низкой плотности)"
   ]
  },
  {
   "cell_type": "markdown",
   "id": "4cdb30c7",
   "metadata": {},
   "source": [
    "## 4 Подготовка тестовых и тренировочных данных  "
   ]
  },
  {
   "cell_type": "code",
   "execution_count": 25,
   "id": "3ec8b1fd",
   "metadata": {},
   "outputs": [
    {
     "data": {
      "text/plain": [
       "Index(['age', 'sex', 'bmi', 'bp', 's1', 's2', 's3', 's4', 's5', 's6',\n",
       "       'target'],\n",
       "      dtype='object')"
      ]
     },
     "execution_count": 25,
     "metadata": {},
     "output_type": "execute_result"
    }
   ],
   "source": [
    "df.columns"
   ]
  },
  {
   "cell_type": "code",
   "execution_count": 13,
   "id": "563088de",
   "metadata": {},
   "outputs": [],
   "source": [
    "X = df[['age', 'sex', 'bmi', 'bp', 's1', 's2', 's3', 's4', 's5', 's6']]"
   ]
  },
  {
   "cell_type": "code",
   "execution_count": 14,
   "id": "2c79fd6e",
   "metadata": {},
   "outputs": [],
   "source": [
    "y = df['target']"
   ]
  },
  {
   "cell_type": "code",
   "execution_count": 15,
   "id": "7f6a9481",
   "metadata": {},
   "outputs": [],
   "source": [
    "from sklearn.model_selection import train_test_split"
   ]
  },
  {
   "cell_type": "code",
   "execution_count": 16,
   "id": "061245e7",
   "metadata": {},
   "outputs": [],
   "source": [
    "X_train, X_test, y_train, y_test = train_test_split(X, y, test_size=0.33, random_state=101)"
   ]
  },
  {
   "cell_type": "markdown",
   "id": "cfff25dd",
   "metadata": {},
   "source": [
    "Ленейная регресия, количесвенный признок "
   ]
  },
  {
   "cell_type": "code",
   "execution_count": 17,
   "id": "6065db87",
   "metadata": {},
   "outputs": [],
   "source": [
    "from sklearn.linear_model import LinearRegression"
   ]
  },
  {
   "cell_type": "code",
   "execution_count": 18,
   "id": "efb1e505",
   "metadata": {},
   "outputs": [],
   "source": [
    "lrm = LinearRegression()\n",
    "lrm.fit(X_train, y_train)\n",
    "predictions = lrm.predict(X_test)\n",
    "\n",
    "predictions1 = lrm.predict(X_train)"
   ]
  },
  {
   "cell_type": "markdown",
   "id": "d98976b7",
   "metadata": {},
   "source": [
    "Отображение линейно регресиси на тренировчных данных "
   ]
  },
  {
   "cell_type": "code",
   "execution_count": 19,
   "id": "f7e723b2",
   "metadata": {},
   "outputs": [
    {
     "data": {
      "text/plain": [
       "<matplotlib.collections.PathCollection at 0x1b3854b2130>"
      ]
     },
     "execution_count": 19,
     "metadata": {},
     "output_type": "execute_result"
    },
    {
     "data": {
      "image/png": "[encoded data removed]",
      "text/plain": [
       "<Figure size 432x288 with 1 Axes>"
      ]
     },
     "metadata": {
      "needs_background": "light"
     },
     "output_type": "display_data"
    }
   ],
   "source": [
    "plt.scatter(y_train, predictions1)"
   ]
  },
  {
   "cell_type": "markdown",
   "id": "450d9218",
   "metadata": {},
   "source": [
    "Общая тенеденция наблидаеться, но данные довльно сильно разняться "
   ]
  },
  {
   "cell_type": "code",
   "execution_count": 20,
   "id": "87677042",
   "metadata": {},
   "outputs": [
    {
     "data": {
      "text/plain": [
       "<matplotlib.collections.PathCollection at 0x1b385593580>"
      ]
     },
     "execution_count": 20,
     "metadata": {},
     "output_type": "execute_result"
    },
    {
     "data": {
      "image/png": "[encoded data removed]",
      "text/plain": [
       "<Figure size 432x288 with 1 Axes>"
      ]
     },
     "metadata": {
      "needs_background": "light"
     },
     "output_type": "display_data"
    }
   ],
   "source": [
    "plt.scatter(y_test, predictions)"
   ]
  },
  {
   "cell_type": "markdown",
   "id": "1957510f",
   "metadata": {},
   "source": [
    "Отображения линейно регресиис на тестовых данных, данные сильно разбросанны"
   ]
  },
  {
   "cell_type": "code",
   "execution_count": 22,
   "id": "f9370090",
   "metadata": {},
   "outputs": [
    {
     "name": "stderr",
     "output_type": "stream",
     "text": [
      "C:\\Users\\nudan\\anaconda3\\lib\\site-packages\\seaborn\\distributions.py:2619: FutureWarning: `distplot` is a deprecated function and will be removed in a future version. Please adapt your code to use either `displot` (a figure-level function with similar flexibility) or `histplot` (an axes-level function for histograms).\n",
      "  warnings.warn(msg, FutureWarning)\n"
     ]
    },
    {
     "data": {
      "text/plain": [
       "<AxesSubplot:xlabel='target', ylabel='Density'>"
      ]
     },
     "execution_count": 22,
     "metadata": {},
     "output_type": "execute_result"
    },
    {
     "data": {
      "image/png": "[encoded data removed]",
      "text/plain": [
       "<Figure size 432x288 with 1 Axes>"
      ]
     },
     "metadata": {
      "needs_background": "light"
     },
     "output_type": "display_data"
    }
   ],
   "source": [
    "sns.distplot((y_train - predictions1))"
   ]
  },
  {
   "cell_type": "code",
   "execution_count": 35,
   "id": "cf810d97",
   "metadata": {},
   "outputs": [
    {
     "name": "stderr",
     "output_type": "stream",
     "text": [
      "C:\\Users\\nudan\\anaconda3\\lib\\site-packages\\seaborn\\distributions.py:2619: FutureWarning: `distplot` is a deprecated function and will be removed in a future version. Please adapt your code to use either `displot` (a figure-level function with similar flexibility) or `histplot` (an axes-level function for histograms).\n",
      "  warnings.warn(msg, FutureWarning)\n"
     ]
    },
    {
     "data": {
      "text/plain": [
       "<AxesSubplot:xlabel='target', ylabel='Density'>"
      ]
     },
     "execution_count": 35,
     "metadata": {},
     "output_type": "execute_result"
    },
    {
     "data": {
      "image/png": "[encoded data removed]",
      "text/plain": [
       "<Figure size 432x288 with 1 Axes>"
      ]
     },
     "metadata": {
      "needs_background": "light"
     },
     "output_type": "display_data"
    }
   ],
   "source": [
    "sns.distplot((y_test - predictions))"
   ]
  },
  {
   "cell_type": "markdown",
   "id": "06671ea4",
   "metadata": {},
   "source": [
    "Тестовые данные давльно \"резко\" пердсталыенны, в отлиии от тренироваынх данных "
   ]
  },
  {
   "cell_type": "code",
   "execution_count": 24,
   "id": "c12759ec",
   "metadata": {},
   "outputs": [],
   "source": [
    "from sklearn import metrics"
   ]
  },
  {
   "cell_type": "code",
   "execution_count": 25,
   "id": "d657b6bc",
   "metadata": {},
   "outputs": [
    {
     "data": {
      "text/plain": [
       "0.4710893320468663"
      ]
     },
     "execution_count": 25,
     "metadata": {},
     "output_type": "execute_result"
    }
   ],
   "source": [
    "metrics.r2_score(y_test, predictions)"
   ]
  },
  {
   "cell_type": "markdown",
   "id": "a23dfa9e",
   "metadata": {},
   "source": [
    "Метрики точности оценки довольно малы "
   ]
  },
  {
   "cell_type": "code",
   "execution_count": 26,
   "id": "14c311b3",
   "metadata": {},
   "outputs": [],
   "source": [
    "from sklearn.neighbors import KNeighborsRegressor\n",
    "\n",
    "knn = KNeighborsRegressor()"
   ]
  },
  {
   "cell_type": "markdown",
   "id": "fdf3ccb5",
   "metadata": {},
   "source": [
    "Обробуем KN регресию "
   ]
  },
  {
   "cell_type": "code",
   "execution_count": 27,
   "id": "e4dc7d80",
   "metadata": {},
   "outputs": [
    {
     "data": {
      "text/plain": [
       "KNeighborsRegressor()"
      ]
     },
     "execution_count": 27,
     "metadata": {},
     "output_type": "execute_result"
    }
   ],
   "source": [
    "knn.fit(X_train, y_train)"
   ]
  },
  {
   "cell_type": "code",
   "execution_count": 28,
   "id": "e406efe8",
   "metadata": {},
   "outputs": [
    {
     "name": "stdout",
     "output_type": "stream",
     "text": [
      "Train R2 0.58\n",
      "Test R2 0.47\n"
     ]
    }
   ],
   "source": [
    "from sklearn.metrics import r2_score\n",
    "\n",
    "pred_train = knn.predict(X_train)\n",
    "pred_test = knn.predict(X_test)\n",
    "\n",
    "print(f'Train R2 {r2_score(y_train, pred_train):.2f}')\n",
    "print(f'Test R2 {r2_score(y_test, pred_test):.2f}')"
   ]
  },
  {
   "cell_type": "markdown",
   "id": "1d3e204d",
   "metadata": {},
   "source": [
    "Рузультаты такие как в линейной регресии "
   ]
  },
  {
   "cell_type": "code",
   "execution_count": 52,
   "id": "ebb0109d",
   "metadata": {},
   "outputs": [
    {
     "data": {
      "text/plain": [
       "DecisionTreeRegressor(max_depth=9, random_state=1)"
      ]
     },
     "execution_count": 52,
     "metadata": {},
     "output_type": "execute_result"
    }
   ],
   "source": [
    "from sklearn.tree import DecisionTreeRegressor\n",
    "\n",
    "tree_1 = DecisionTreeRegressor(random_state=1, max_depth=9)\n",
    "tree_1.fit(X_train, y_train)"
   ]
  },
  {
   "cell_type": "code",
   "execution_count": 53,
   "id": "526f6156",
   "metadata": {},
   "outputs": [
    {
     "name": "stdout",
     "output_type": "stream",
     "text": [
      "Train R2 0.97\n",
      "Test R2 0.00\n"
     ]
    }
   ],
   "source": [
    "pred_train = tree_1.predict(X_train)\n",
    "pred_test = tree_1.predict(X_test)\n",
    "\n",
    "print(f'Train R2 {r2_score(y_train, pred_train):.2f}')\n",
    "print(f'Test R2 {r2_score(y_test, pred_test):.2f}')"
   ]
  },
  {
   "cell_type": "markdown",
   "id": "78b12fc2",
   "metadata": {},
   "source": [
    "Лес деревье преобучился на тренированчх данных, и на тестовых не показал значеммовго результата \n"
   ]
  },
  {
   "cell_type": "code",
   "execution_count": 31,
   "id": "13f57320",
   "metadata": {},
   "outputs": [
    {
     "data": {
      "text/plain": [
       "MinMaxScaler()"
      ]
     },
     "execution_count": 31,
     "metadata": {},
     "output_type": "execute_result"
    }
   ],
   "source": [
    "from sklearn.preprocessing import MinMaxScaler\n",
    "\n",
    "mms = MinMaxScaler()\n",
    "mms.fit(X_train)"
   ]
  },
  {
   "cell_type": "markdown",
   "id": "736182ae",
   "metadata": {},
   "source": [
    "Нормализация данных "
   ]
  },
  {
   "cell_type": "code",
   "execution_count": 32,
   "id": "f98bdd1a",
   "metadata": {},
   "outputs": [
    {
     "data": {
      "text/plain": [
       "array([[0.76666667, 1.        , 0.64049587, ..., 0.42313117, 0.60082872,\n",
       "        0.66666667],\n",
       "       [0.38333333, 0.        , 0.28512397, ..., 0.42313117, 0.53974509,\n",
       "        0.46969697],\n",
       "       [0.58333333, 0.        , 0.12396694, ..., 0.14104372, 0.24998729,\n",
       "        0.22727273],\n",
       "       ...,\n",
       "       [0.58333333, 1.        , 0.29752066, ..., 0.42313117, 0.50629032,\n",
       "        0.51515152],\n",
       "       [0.61666667, 1.        , 0.41322314, ..., 0.56417489, 0.11422633,\n",
       "        0.28787879],\n",
       "       [0.1       , 1.        , 0.19008264, ..., 0.14104372, 0.26298912,\n",
       "        0.34848485]])"
      ]
     },
     "execution_count": 32,
     "metadata": {},
     "output_type": "execute_result"
    }
   ],
   "source": [
    "mms.transform(X_train)"
   ]
  },
  {
   "cell_type": "code",
   "execution_count": 33,
   "id": "77f671f7",
   "metadata": {},
   "outputs": [
    {
     "data": {
      "text/html": [
       "<div>\n",
       "<style scoped>\n",
       "    .dataframe tbody tr th:only-of-type {\n",
       "        vertical-align: middle;\n",
       "    }\n",
       "\n",
       "    .dataframe tbody tr th {\n",
       "        vertical-align: top;\n",
       "    }\n",
       "\n",
       "    .dataframe thead th {\n",
       "        text-align: right;\n",
       "    }\n",
       "</style>\n",
       "<table border=\"1\" class=\"dataframe\">\n",
       "  <thead>\n",
       "    <tr style=\"text-align: right;\">\n",
       "      <th></th>\n",
       "      <th>age</th>\n",
       "      <th>sex</th>\n",
       "      <th>bmi</th>\n",
       "      <th>bp</th>\n",
       "      <th>s1</th>\n",
       "      <th>s2</th>\n",
       "      <th>s3</th>\n",
       "      <th>s4</th>\n",
       "      <th>s5</th>\n",
       "      <th>s6</th>\n",
       "    </tr>\n",
       "  </thead>\n",
       "  <tbody>\n",
       "    <tr>\n",
       "      <th>0</th>\n",
       "      <td>0.7667</td>\n",
       "      <td>1.0000</td>\n",
       "      <td>0.6405</td>\n",
       "      <td>0.5419</td>\n",
       "      <td>0.4559</td>\n",
       "      <td>0.4213</td>\n",
       "      <td>0.1579</td>\n",
       "      <td>0.4231</td>\n",
       "      <td>0.6008</td>\n",
       "      <td>0.6667</td>\n",
       "    </tr>\n",
       "    <tr>\n",
       "      <th>1</th>\n",
       "      <td>0.3833</td>\n",
       "      <td>0.0000</td>\n",
       "      <td>0.2851</td>\n",
       "      <td>0.3793</td>\n",
       "      <td>0.5245</td>\n",
       "      <td>0.4990</td>\n",
       "      <td>0.1974</td>\n",
       "      <td>0.4231</td>\n",
       "      <td>0.5397</td>\n",
       "      <td>0.4697</td>\n",
       "    </tr>\n",
       "    <tr>\n",
       "      <th>2</th>\n",
       "      <td>0.5833</td>\n",
       "      <td>0.0000</td>\n",
       "      <td>0.1240</td>\n",
       "      <td>0.1872</td>\n",
       "      <td>0.4461</td>\n",
       "      <td>0.3277</td>\n",
       "      <td>0.6184</td>\n",
       "      <td>0.1410</td>\n",
       "      <td>0.2500</td>\n",
       "      <td>0.2273</td>\n",
       "    </tr>\n",
       "    <tr>\n",
       "      <th>3</th>\n",
       "      <td>0.8333</td>\n",
       "      <td>0.0000</td>\n",
       "      <td>0.4174</td>\n",
       "      <td>0.7044</td>\n",
       "      <td>0.6716</td>\n",
       "      <td>0.5040</td>\n",
       "      <td>0.3816</td>\n",
       "      <td>0.2821</td>\n",
       "      <td>0.7090</td>\n",
       "      <td>0.2879</td>\n",
       "    </tr>\n",
       "    <tr>\n",
       "      <th>4</th>\n",
       "      <td>0.3000</td>\n",
       "      <td>0.0000</td>\n",
       "      <td>0.0950</td>\n",
       "      <td>0.2611</td>\n",
       "      <td>0.4314</td>\n",
       "      <td>0.4133</td>\n",
       "      <td>0.1974</td>\n",
       "      <td>0.4231</td>\n",
       "      <td>0.5126</td>\n",
       "      <td>0.4545</td>\n",
       "    </tr>\n",
       "    <tr>\n",
       "      <th>...</th>\n",
       "      <td>...</td>\n",
       "      <td>...</td>\n",
       "      <td>...</td>\n",
       "      <td>...</td>\n",
       "      <td>...</td>\n",
       "      <td>...</td>\n",
       "      <td>...</td>\n",
       "      <td>...</td>\n",
       "      <td>...</td>\n",
       "      <td>...</td>\n",
       "    </tr>\n",
       "    <tr>\n",
       "      <th>291</th>\n",
       "      <td>0.3333</td>\n",
       "      <td>0.0000</td>\n",
       "      <td>0.2025</td>\n",
       "      <td>0.1724</td>\n",
       "      <td>0.5245</td>\n",
       "      <td>0.5060</td>\n",
       "      <td>0.3026</td>\n",
       "      <td>0.2821</td>\n",
       "      <td>0.3671</td>\n",
       "      <td>0.2424</td>\n",
       "    </tr>\n",
       "    <tr>\n",
       "      <th>292</th>\n",
       "      <td>0.7000</td>\n",
       "      <td>1.0000</td>\n",
       "      <td>0.3140</td>\n",
       "      <td>0.2906</td>\n",
       "      <td>0.4265</td>\n",
       "      <td>0.3715</td>\n",
       "      <td>0.2105</td>\n",
       "      <td>0.4231</td>\n",
       "      <td>0.6008</td>\n",
       "      <td>0.6061</td>\n",
       "    </tr>\n",
       "    <tr>\n",
       "      <th>293</th>\n",
       "      <td>0.5833</td>\n",
       "      <td>1.0000</td>\n",
       "      <td>0.2975</td>\n",
       "      <td>0.7340</td>\n",
       "      <td>0.4118</td>\n",
       "      <td>0.3904</td>\n",
       "      <td>0.2105</td>\n",
       "      <td>0.4231</td>\n",
       "      <td>0.5063</td>\n",
       "      <td>0.5152</td>\n",
       "    </tr>\n",
       "    <tr>\n",
       "      <th>294</th>\n",
       "      <td>0.6167</td>\n",
       "      <td>1.0000</td>\n",
       "      <td>0.4132</td>\n",
       "      <td>0.2906</td>\n",
       "      <td>0.4265</td>\n",
       "      <td>0.5139</td>\n",
       "      <td>0.1184</td>\n",
       "      <td>0.5642</td>\n",
       "      <td>0.1142</td>\n",
       "      <td>0.2879</td>\n",
       "    </tr>\n",
       "    <tr>\n",
       "      <th>295</th>\n",
       "      <td>0.1000</td>\n",
       "      <td>1.0000</td>\n",
       "      <td>0.1901</td>\n",
       "      <td>0.2906</td>\n",
       "      <td>0.1618</td>\n",
       "      <td>0.1464</td>\n",
       "      <td>0.3289</td>\n",
       "      <td>0.1410</td>\n",
       "      <td>0.2630</td>\n",
       "      <td>0.3485</td>\n",
       "    </tr>\n",
       "  </tbody>\n",
       "</table>\n",
       "<p>296 rows × 10 columns</p>\n",
       "</div>"
      ],
      "text/plain": [
       "       age    sex    bmi     bp     s1     s2     s3     s4     s5     s6\n",
       "0   0.7667 1.0000 0.6405 0.5419 0.4559 0.4213 0.1579 0.4231 0.6008 0.6667\n",
       "1   0.3833 0.0000 0.2851 0.3793 0.5245 0.4990 0.1974 0.4231 0.5397 0.4697\n",
       "2   0.5833 0.0000 0.1240 0.1872 0.4461 0.3277 0.6184 0.1410 0.2500 0.2273\n",
       "3   0.8333 0.0000 0.4174 0.7044 0.6716 0.5040 0.3816 0.2821 0.7090 0.2879\n",
       "4   0.3000 0.0000 0.0950 0.2611 0.4314 0.4133 0.1974 0.4231 0.5126 0.4545\n",
       "..     ...    ...    ...    ...    ...    ...    ...    ...    ...    ...\n",
       "291 0.3333 0.0000 0.2025 0.1724 0.5245 0.5060 0.3026 0.2821 0.3671 0.2424\n",
       "292 0.7000 1.0000 0.3140 0.2906 0.4265 0.3715 0.2105 0.4231 0.6008 0.6061\n",
       "293 0.5833 1.0000 0.2975 0.7340 0.4118 0.3904 0.2105 0.4231 0.5063 0.5152\n",
       "294 0.6167 1.0000 0.4132 0.2906 0.4265 0.5139 0.1184 0.5642 0.1142 0.2879\n",
       "295 0.1000 1.0000 0.1901 0.2906 0.1618 0.1464 0.3289 0.1410 0.2630 0.3485\n",
       "\n",
       "[296 rows x 10 columns]"
      ]
     },
     "execution_count": 33,
     "metadata": {},
     "output_type": "execute_result"
    }
   ],
   "source": [
    "X_train_norm = pd.DataFrame(mms.transform(X_train), columns=X_train.columns)\n",
    "X_train_norm"
   ]
  },
  {
   "cell_type": "markdown",
   "id": "f3a00605",
   "metadata": {},
   "source": [
    "Пол стал банарным, возрораст от 0 до 1 "
   ]
  },
  {
   "cell_type": "code",
   "execution_count": 34,
   "id": "a3ae3fe5",
   "metadata": {},
   "outputs": [
    {
     "data": {
      "text/html": [
       "<div>\n",
       "<style scoped>\n",
       "    .dataframe tbody tr th:only-of-type {\n",
       "        vertical-align: middle;\n",
       "    }\n",
       "\n",
       "    .dataframe tbody tr th {\n",
       "        vertical-align: top;\n",
       "    }\n",
       "\n",
       "    .dataframe thead th {\n",
       "        text-align: right;\n",
       "    }\n",
       "</style>\n",
       "<table border=\"1\" class=\"dataframe\">\n",
       "  <thead>\n",
       "    <tr style=\"text-align: right;\">\n",
       "      <th></th>\n",
       "      <th>age</th>\n",
       "      <th>sex</th>\n",
       "      <th>bmi</th>\n",
       "      <th>bp</th>\n",
       "      <th>s1</th>\n",
       "      <th>s2</th>\n",
       "      <th>s3</th>\n",
       "      <th>s4</th>\n",
       "      <th>s5</th>\n",
       "      <th>s6</th>\n",
       "    </tr>\n",
       "  </thead>\n",
       "  <tbody>\n",
       "    <tr>\n",
       "      <th>count</th>\n",
       "      <td>296.0000</td>\n",
       "      <td>296.0000</td>\n",
       "      <td>296.0000</td>\n",
       "      <td>296.0000</td>\n",
       "      <td>296.0000</td>\n",
       "      <td>296.0000</td>\n",
       "      <td>296.0000</td>\n",
       "      <td>296.0000</td>\n",
       "      <td>296.0000</td>\n",
       "      <td>296.0000</td>\n",
       "    </tr>\n",
       "    <tr>\n",
       "      <th>mean</th>\n",
       "      <td>0.4805</td>\n",
       "      <td>0.4730</td>\n",
       "      <td>0.3481</td>\n",
       "      <td>0.4310</td>\n",
       "      <td>0.4489</td>\n",
       "      <td>0.3667</td>\n",
       "      <td>0.3476</td>\n",
       "      <td>0.2934</td>\n",
       "      <td>0.4852</td>\n",
       "      <td>0.5025</td>\n",
       "    </tr>\n",
       "    <tr>\n",
       "      <th>std</th>\n",
       "      <td>0.2136</td>\n",
       "      <td>0.5001</td>\n",
       "      <td>0.1777</td>\n",
       "      <td>0.2005</td>\n",
       "      <td>0.1700</td>\n",
       "      <td>0.1538</td>\n",
       "      <td>0.1660</td>\n",
       "      <td>0.1824</td>\n",
       "      <td>0.1853</td>\n",
       "      <td>0.1755</td>\n",
       "    </tr>\n",
       "    <tr>\n",
       "      <th>min</th>\n",
       "      <td>0.0000</td>\n",
       "      <td>0.0000</td>\n",
       "      <td>0.0000</td>\n",
       "      <td>0.0000</td>\n",
       "      <td>0.0000</td>\n",
       "      <td>0.0000</td>\n",
       "      <td>0.0000</td>\n",
       "      <td>0.0000</td>\n",
       "      <td>0.0000</td>\n",
       "      <td>0.0000</td>\n",
       "    </tr>\n",
       "    <tr>\n",
       "      <th>25%</th>\n",
       "      <td>0.3167</td>\n",
       "      <td>0.0000</td>\n",
       "      <td>0.2190</td>\n",
       "      <td>0.2759</td>\n",
       "      <td>0.3284</td>\n",
       "      <td>0.2717</td>\n",
       "      <td>0.2237</td>\n",
       "      <td>0.1410</td>\n",
       "      <td>0.3514</td>\n",
       "      <td>0.3788</td>\n",
       "    </tr>\n",
       "    <tr>\n",
       "      <th>50%</th>\n",
       "      <td>0.5083</td>\n",
       "      <td>0.0000</td>\n",
       "      <td>0.3223</td>\n",
       "      <td>0.4089</td>\n",
       "      <td>0.4314</td>\n",
       "      <td>0.3591</td>\n",
       "      <td>0.3289</td>\n",
       "      <td>0.2821</td>\n",
       "      <td>0.4832</td>\n",
       "      <td>0.5000</td>\n",
       "    </tr>\n",
       "    <tr>\n",
       "      <th>75%</th>\n",
       "      <td>0.6375</td>\n",
       "      <td>1.0000</td>\n",
       "      <td>0.4628</td>\n",
       "      <td>0.5727</td>\n",
       "      <td>0.5588</td>\n",
       "      <td>0.4567</td>\n",
       "      <td>0.4474</td>\n",
       "      <td>0.4231</td>\n",
       "      <td>0.6104</td>\n",
       "      <td>0.6212</td>\n",
       "    </tr>\n",
       "    <tr>\n",
       "      <th>max</th>\n",
       "      <td>1.0000</td>\n",
       "      <td>1.0000</td>\n",
       "      <td>1.0000</td>\n",
       "      <td>1.0000</td>\n",
       "      <td>1.0000</td>\n",
       "      <td>1.0000</td>\n",
       "      <td>1.0000</td>\n",
       "      <td>1.0000</td>\n",
       "      <td>1.0000</td>\n",
       "      <td>1.0000</td>\n",
       "    </tr>\n",
       "  </tbody>\n",
       "</table>\n",
       "</div>"
      ],
      "text/plain": [
       "           age      sex      bmi       bp       s1       s2       s3       s4  \\\n",
       "count 296.0000 296.0000 296.0000 296.0000 296.0000 296.0000 296.0000 296.0000   \n",
       "mean    0.4805   0.4730   0.3481   0.4310   0.4489   0.3667   0.3476   0.2934   \n",
       "std     0.2136   0.5001   0.1777   0.2005   0.1700   0.1538   0.1660   0.1824   \n",
       "min     0.0000   0.0000   0.0000   0.0000   0.0000   0.0000   0.0000   0.0000   \n",
       "25%     0.3167   0.0000   0.2190   0.2759   0.3284   0.2717   0.2237   0.1410   \n",
       "50%     0.5083   0.0000   0.3223   0.4089   0.4314   0.3591   0.3289   0.2821   \n",
       "75%     0.6375   1.0000   0.4628   0.5727   0.5588   0.4567   0.4474   0.4231   \n",
       "max     1.0000   1.0000   1.0000   1.0000   1.0000   1.0000   1.0000   1.0000   \n",
       "\n",
       "            s5       s6  \n",
       "count 296.0000 296.0000  \n",
       "mean    0.4852   0.5025  \n",
       "std     0.1853   0.1755  \n",
       "min     0.0000   0.0000  \n",
       "25%     0.3514   0.3788  \n",
       "50%     0.4832   0.5000  \n",
       "75%     0.6104   0.6212  \n",
       "max     1.0000   1.0000  "
      ]
     },
     "execution_count": 34,
     "metadata": {},
     "output_type": "execute_result"
    }
   ],
   "source": [
    "X_train_norm.describe()"
   ]
  },
  {
   "cell_type": "code",
   "execution_count": 35,
   "id": "dd226eaf",
   "metadata": {},
   "outputs": [
    {
     "data": {
      "text/html": [
       "<div>\n",
       "<style scoped>\n",
       "    .dataframe tbody tr th:only-of-type {\n",
       "        vertical-align: middle;\n",
       "    }\n",
       "\n",
       "    .dataframe tbody tr th {\n",
       "        vertical-align: top;\n",
       "    }\n",
       "\n",
       "    .dataframe thead th {\n",
       "        text-align: right;\n",
       "    }\n",
       "</style>\n",
       "<table border=\"1\" class=\"dataframe\">\n",
       "  <thead>\n",
       "    <tr style=\"text-align: right;\">\n",
       "      <th></th>\n",
       "      <th>age</th>\n",
       "      <th>sex</th>\n",
       "      <th>bmi</th>\n",
       "      <th>bp</th>\n",
       "      <th>s1</th>\n",
       "      <th>s2</th>\n",
       "      <th>s3</th>\n",
       "      <th>s4</th>\n",
       "      <th>s5</th>\n",
       "      <th>s6</th>\n",
       "    </tr>\n",
       "  </thead>\n",
       "  <tbody>\n",
       "    <tr>\n",
       "      <th>count</th>\n",
       "      <td>146.0000</td>\n",
       "      <td>146.0000</td>\n",
       "      <td>146.0000</td>\n",
       "      <td>146.0000</td>\n",
       "      <td>146.0000</td>\n",
       "      <td>146.0000</td>\n",
       "      <td>146.0000</td>\n",
       "      <td>146.0000</td>\n",
       "      <td>146.0000</td>\n",
       "      <td>146.0000</td>\n",
       "    </tr>\n",
       "    <tr>\n",
       "      <th>mean</th>\n",
       "      <td>0.5152</td>\n",
       "      <td>0.4589</td>\n",
       "      <td>0.3421</td>\n",
       "      <td>0.4378</td>\n",
       "      <td>0.4573</td>\n",
       "      <td>0.3698</td>\n",
       "      <td>0.3625</td>\n",
       "      <td>0.2891</td>\n",
       "      <td>0.4863</td>\n",
       "      <td>0.5068</td>\n",
       "    </tr>\n",
       "    <tr>\n",
       "      <th>std</th>\n",
       "      <td>0.2270</td>\n",
       "      <td>0.5000</td>\n",
       "      <td>0.1925</td>\n",
       "      <td>0.2128</td>\n",
       "      <td>0.1693</td>\n",
       "      <td>0.1471</td>\n",
       "      <td>0.1784</td>\n",
       "      <td>0.1818</td>\n",
       "      <td>0.1800</td>\n",
       "      <td>0.1721</td>\n",
       "    </tr>\n",
       "    <tr>\n",
       "      <th>min</th>\n",
       "      <td>0.0000</td>\n",
       "      <td>0.0000</td>\n",
       "      <td>0.0041</td>\n",
       "      <td>-0.0493</td>\n",
       "      <td>0.0784</td>\n",
       "      <td>0.0359</td>\n",
       "      <td>-0.0132</td>\n",
       "      <td>0.0000</td>\n",
       "      <td>0.1142</td>\n",
       "      <td>0.1212</td>\n",
       "    </tr>\n",
       "    <tr>\n",
       "      <th>25%</th>\n",
       "      <td>0.3375</td>\n",
       "      <td>0.0000</td>\n",
       "      <td>0.2076</td>\n",
       "      <td>0.2796</td>\n",
       "      <td>0.3346</td>\n",
       "      <td>0.2717</td>\n",
       "      <td>0.2368</td>\n",
       "      <td>0.1410</td>\n",
       "      <td>0.3671</td>\n",
       "      <td>0.3939</td>\n",
       "    </tr>\n",
       "    <tr>\n",
       "      <th>50%</th>\n",
       "      <td>0.5333</td>\n",
       "      <td>0.0000</td>\n",
       "      <td>0.3079</td>\n",
       "      <td>0.4089</td>\n",
       "      <td>0.4412</td>\n",
       "      <td>0.3362</td>\n",
       "      <td>0.3421</td>\n",
       "      <td>0.2821</td>\n",
       "      <td>0.4675</td>\n",
       "      <td>0.5000</td>\n",
       "    </tr>\n",
       "    <tr>\n",
       "      <th>75%</th>\n",
       "      <td>0.6833</td>\n",
       "      <td>1.0000</td>\n",
       "      <td>0.4866</td>\n",
       "      <td>0.5936</td>\n",
       "      <td>0.5392</td>\n",
       "      <td>0.4679</td>\n",
       "      <td>0.4737</td>\n",
       "      <td>0.4231</td>\n",
       "      <td>0.6099</td>\n",
       "      <td>0.5909</td>\n",
       "    </tr>\n",
       "    <tr>\n",
       "      <th>max</th>\n",
       "      <td>1.0000</td>\n",
       "      <td>1.0000</td>\n",
       "      <td>0.9628</td>\n",
       "      <td>0.8966</td>\n",
       "      <td>0.9265</td>\n",
       "      <td>0.7859</td>\n",
       "      <td>0.9868</td>\n",
       "      <td>0.8858</td>\n",
       "      <td>1.0000</td>\n",
       "      <td>1.0000</td>\n",
       "    </tr>\n",
       "  </tbody>\n",
       "</table>\n",
       "</div>"
      ],
      "text/plain": [
       "           age      sex      bmi       bp       s1       s2       s3       s4  \\\n",
       "count 146.0000 146.0000 146.0000 146.0000 146.0000 146.0000 146.0000 146.0000   \n",
       "mean    0.5152   0.4589   0.3421   0.4378   0.4573   0.3698   0.3625   0.2891   \n",
       "std     0.2270   0.5000   0.1925   0.2128   0.1693   0.1471   0.1784   0.1818   \n",
       "min     0.0000   0.0000   0.0041  -0.0493   0.0784   0.0359  -0.0132   0.0000   \n",
       "25%     0.3375   0.0000   0.2076   0.2796   0.3346   0.2717   0.2368   0.1410   \n",
       "50%     0.5333   0.0000   0.3079   0.4089   0.4412   0.3362   0.3421   0.2821   \n",
       "75%     0.6833   1.0000   0.4866   0.5936   0.5392   0.4679   0.4737   0.4231   \n",
       "max     1.0000   1.0000   0.9628   0.8966   0.9265   0.7859   0.9868   0.8858   \n",
       "\n",
       "            s5       s6  \n",
       "count 146.0000 146.0000  \n",
       "mean    0.4863   0.5068  \n",
       "std     0.1800   0.1721  \n",
       "min     0.1142   0.1212  \n",
       "25%     0.3671   0.3939  \n",
       "50%     0.4675   0.5000  \n",
       "75%     0.6099   0.5909  \n",
       "max     1.0000   1.0000  "
      ]
     },
     "execution_count": 35,
     "metadata": {},
     "output_type": "execute_result"
    }
   ],
   "source": [
    "X_test_norm = pd.DataFrame(mms.transform(X_test), columns=X_train.columns)\n",
    "X_test_norm.describe()"
   ]
  },
  {
   "cell_type": "code",
   "execution_count": 36,
   "id": "f9bfceea",
   "metadata": {},
   "outputs": [
    {
     "data": {
      "text/plain": [
       "KNeighborsRegressor()"
      ]
     },
     "execution_count": 36,
     "metadata": {},
     "output_type": "execute_result"
    }
   ],
   "source": [
    "knn.fit(X_train_norm, y_train)"
   ]
  },
  {
   "cell_type": "code",
   "execution_count": 37,
   "id": "e3ecbb11",
   "metadata": {},
   "outputs": [
    {
     "name": "stdout",
     "output_type": "stream",
     "text": [
      "Train R2 0.57\n",
      "Test R2 0.48\n"
     ]
    }
   ],
   "source": [
    "pred_train = knn.predict(X_train_norm)\n",
    "pred_test = knn.predict(X_test_norm)\n",
    "\n",
    "print(f'Train R2 {r2_score(y_train, pred_train):.2f}')\n",
    "print(f'Test R2 {r2_score(y_test, pred_test):.2f}')"
   ]
  },
  {
   "cell_type": "markdown",
   "id": "ab306392",
   "metadata": {},
   "source": [
    "Обучуние на ноомральзоавнных данных KN регресия показала не заначительный прирост "
   ]
  },
  {
   "cell_type": "code",
   "execution_count": 50,
   "id": "31a059d9",
   "metadata": {},
   "outputs": [
    {
     "data": {
      "text/plain": [
       "DecisionTreeRegressor(max_depth=9, random_state=1)"
      ]
     },
     "execution_count": 50,
     "metadata": {},
     "output_type": "execute_result"
    }
   ],
   "source": [
    "tree_1.fit(X_train_norm, y_train)"
   ]
  },
  {
   "cell_type": "code",
   "execution_count": 51,
   "id": "6f7f6cf6",
   "metadata": {},
   "outputs": [
    {
     "name": "stdout",
     "output_type": "stream",
     "text": [
      "Train R2 0.97\n",
      "Test R2 -0.00\n"
     ]
    }
   ],
   "source": [
    "pred_train = tree_1.predict(X_train_norm)\n",
    "pred_test = tree_1.predict(X_test_norm)\n",
    "\n",
    "print(f'Train R2 {r2_score(y_train, pred_train):.2f}')\n",
    "print(f'Test R2 {r2_score(y_test, pred_test):.2f}')"
   ]
  },
  {
   "cell_type": "markdown",
   "id": "9e869f1f",
   "metadata": {},
   "source": [
    "Лес деревья показал старныне данных, думаю он переобучился, запомнив все тренировачные данны, думаю стоит уменьшить глубину "
   ]
  },
  {
   "cell_type": "code",
   "execution_count": 71,
   "id": "301e480f",
   "metadata": {},
   "outputs": [
    {
     "name": "stdout",
     "output_type": "stream",
     "text": [
      "Train R2 0.54\n",
      "Test R2 0.36\n",
      "Train R2 -1.77\n",
      "Test R2 -1.85\n"
     ]
    }
   ],
   "source": [
    "from sklearn.tree import DecisionTreeRegressor\n",
    "\n",
    "tree_2 = DecisionTreeRegressor(random_state=1, max_depth=3)\n",
    "tree_2.fit(X_train, y_train)\n",
    "pred_train1 = tree_2.predict(X_train)\n",
    "pred_test1 = tree_2.predict(X_test)\n",
    "\n",
    "print(f'Train R2 {r2_score(y_train, pred_train1):.2f}')\n",
    "print(f'Test R2 {r2_score(y_test, pred_test1):.2f}')\n",
    "\n",
    "pred_train11 = tree_2.predict(X_train_norm)\n",
    "pred_test11 = tree_2.predict(X_test_norm)\n",
    "\n",
    "print(f'Train R2 {r2_score(y_train, pred_train11):.2f}')\n",
    "print(f'Test R2 {r2_score(y_test, pred_test11):.2f}')"
   ]
  },
  {
   "cell_type": "markdown",
   "id": "d7be4f68",
   "metadata": {},
   "source": [
    "Уменьшив глубину мы получилу лучшеи рузультат на не нормальзававнных тестовыых данных "
   ]
  },
  {
   "cell_type": "code",
   "execution_count": 72,
   "id": "b8c50d49",
   "metadata": {},
   "outputs": [
    {
     "data": {
      "text/plain": [
       "LinearRegression()"
      ]
     },
     "execution_count": 72,
     "metadata": {},
     "output_type": "execute_result"
    }
   ],
   "source": [
    "lrm.fit(X_train_norm, y_train)"
   ]
  },
  {
   "cell_type": "code",
   "execution_count": 73,
   "id": "df18620d",
   "metadata": {},
   "outputs": [
    {
     "name": "stdout",
     "output_type": "stream",
     "text": [
      "Train R2 0.53\n",
      "Test R2 0.47\n"
     ]
    }
   ],
   "source": [
    "pred_train = lrm.predict(X_train_norm)\n",
    "pred_test = lrm.predict(X_test_norm)\n",
    "\n",
    "print(f'Train R2 {r2_score(y_train, pred_train):.2f}')\n",
    "print(f'Test R2 {r2_score(y_test, pred_test):.2f}')"
   ]
  },
  {
   "cell_type": "markdown",
   "id": "72125943",
   "metadata": {},
   "source": [
    "Нормалтзация не линейно регресии сказалось не большим увеличеним рещультата "
   ]
  },
  {
   "cell_type": "code",
   "execution_count": 55,
   "id": "906a899d",
   "metadata": {},
   "outputs": [
    {
     "data": {
      "text/plain": [
       "StandardScaler()"
      ]
     },
     "execution_count": 55,
     "metadata": {},
     "output_type": "execute_result"
    }
   ],
   "source": [
    "from sklearn.preprocessing import StandardScaler\n",
    "\n",
    "scaler = StandardScaler()\n",
    "scaler.fit(X_train)"
   ]
  },
  {
   "cell_type": "code",
   "execution_count": 56,
   "id": "05411aba",
   "metadata": {},
   "outputs": [
    {
     "data": {
      "text/html": [
       "<div>\n",
       "<style scoped>\n",
       "    .dataframe tbody tr th:only-of-type {\n",
       "        vertical-align: middle;\n",
       "    }\n",
       "\n",
       "    .dataframe tbody tr th {\n",
       "        vertical-align: top;\n",
       "    }\n",
       "\n",
       "    .dataframe thead th {\n",
       "        text-align: right;\n",
       "    }\n",
       "</style>\n",
       "<table border=\"1\" class=\"dataframe\">\n",
       "  <thead>\n",
       "    <tr style=\"text-align: right;\">\n",
       "      <th></th>\n",
       "      <th>age</th>\n",
       "      <th>sex</th>\n",
       "      <th>bmi</th>\n",
       "      <th>bp</th>\n",
       "      <th>s1</th>\n",
       "      <th>s2</th>\n",
       "      <th>s3</th>\n",
       "      <th>s4</th>\n",
       "      <th>s5</th>\n",
       "      <th>s6</th>\n",
       "    </tr>\n",
       "  </thead>\n",
       "  <tbody>\n",
       "    <tr>\n",
       "      <th>0</th>\n",
       "      <td>1.3417</td>\n",
       "      <td>1.0556</td>\n",
       "      <td>1.6479</td>\n",
       "      <td>0.5542</td>\n",
       "      <td>0.0412</td>\n",
       "      <td>0.3558</td>\n",
       "      <td>-1.1441</td>\n",
       "      <td>0.7123</td>\n",
       "      <td>0.6253</td>\n",
       "      <td>0.9370</td>\n",
       "    </tr>\n",
       "    <tr>\n",
       "      <th>1</th>\n",
       "      <td>-0.4557</td>\n",
       "      <td>-0.9473</td>\n",
       "      <td>-0.3548</td>\n",
       "      <td>-0.2580</td>\n",
       "      <td>0.4454</td>\n",
       "      <td>0.8618</td>\n",
       "      <td>-0.9060</td>\n",
       "      <td>0.7123</td>\n",
       "      <td>0.2951</td>\n",
       "      <td>-0.1873</td>\n",
       "    </tr>\n",
       "    <tr>\n",
       "      <th>2</th>\n",
       "      <td>0.4821</td>\n",
       "      <td>-0.9473</td>\n",
       "      <td>-1.2630</td>\n",
       "      <td>-1.2179</td>\n",
       "      <td>-0.0166</td>\n",
       "      <td>-0.2540</td>\n",
       "      <td>1.6340</td>\n",
       "      <td>-0.8367</td>\n",
       "      <td>-1.2714</td>\n",
       "      <td>-1.5710</td>\n",
       "    </tr>\n",
       "    <tr>\n",
       "      <th>3</th>\n",
       "      <td>1.6542</td>\n",
       "      <td>-0.9473</td>\n",
       "      <td>0.3904</td>\n",
       "      <td>1.3664</td>\n",
       "      <td>1.3117</td>\n",
       "      <td>0.8942</td>\n",
       "      <td>0.2053</td>\n",
       "      <td>-0.0622</td>\n",
       "      <td>1.2103</td>\n",
       "      <td>-1.2251</td>\n",
       "    </tr>\n",
       "    <tr>\n",
       "      <th>4</th>\n",
       "      <td>-0.8464</td>\n",
       "      <td>-0.9473</td>\n",
       "      <td>-1.4260</td>\n",
       "      <td>-0.8487</td>\n",
       "      <td>-0.1032</td>\n",
       "      <td>0.3039</td>\n",
       "      <td>-0.9060</td>\n",
       "      <td>0.7123</td>\n",
       "      <td>0.1484</td>\n",
       "      <td>-0.2738</td>\n",
       "    </tr>\n",
       "    <tr>\n",
       "      <th>...</th>\n",
       "      <td>...</td>\n",
       "      <td>...</td>\n",
       "      <td>...</td>\n",
       "      <td>...</td>\n",
       "      <td>...</td>\n",
       "      <td>...</td>\n",
       "      <td>...</td>\n",
       "      <td>...</td>\n",
       "      <td>...</td>\n",
       "      <td>...</td>\n",
       "    </tr>\n",
       "    <tr>\n",
       "      <th>291</th>\n",
       "      <td>-0.6901</td>\n",
       "      <td>-0.9473</td>\n",
       "      <td>-0.8206</td>\n",
       "      <td>-1.2917</td>\n",
       "      <td>0.4454</td>\n",
       "      <td>0.9072</td>\n",
       "      <td>-0.2710</td>\n",
       "      <td>-0.0622</td>\n",
       "      <td>-0.6381</td>\n",
       "      <td>-1.4845</td>\n",
       "    </tr>\n",
       "    <tr>\n",
       "      <th>292</th>\n",
       "      <td>1.0291</td>\n",
       "      <td>1.0556</td>\n",
       "      <td>-0.1918</td>\n",
       "      <td>-0.7010</td>\n",
       "      <td>-0.1321</td>\n",
       "      <td>0.0315</td>\n",
       "      <td>-0.8266</td>\n",
       "      <td>0.7123</td>\n",
       "      <td>0.6253</td>\n",
       "      <td>0.5911</td>\n",
       "    </tr>\n",
       "    <tr>\n",
       "      <th>293</th>\n",
       "      <td>0.4821</td>\n",
       "      <td>1.0556</td>\n",
       "      <td>-0.2850</td>\n",
       "      <td>1.5141</td>\n",
       "      <td>-0.2187</td>\n",
       "      <td>0.1547</td>\n",
       "      <td>-0.8266</td>\n",
       "      <td>0.7123</td>\n",
       "      <td>0.1142</td>\n",
       "      <td>0.0722</td>\n",
       "    </tr>\n",
       "    <tr>\n",
       "      <th>294</th>\n",
       "      <td>0.6384</td>\n",
       "      <td>1.0556</td>\n",
       "      <td>0.3671</td>\n",
       "      <td>-0.7010</td>\n",
       "      <td>-0.1321</td>\n",
       "      <td>0.9591</td>\n",
       "      <td>-1.3822</td>\n",
       "      <td>1.4869</td>\n",
       "      <td>-2.0054</td>\n",
       "      <td>-1.2251</td>\n",
       "    </tr>\n",
       "    <tr>\n",
       "      <th>295</th>\n",
       "      <td>-1.7841</td>\n",
       "      <td>1.0556</td>\n",
       "      <td>-0.8904</td>\n",
       "      <td>-0.7010</td>\n",
       "      <td>-1.6914</td>\n",
       "      <td>-1.4346</td>\n",
       "      <td>-0.1122</td>\n",
       "      <td>-0.8367</td>\n",
       "      <td>-1.2011</td>\n",
       "      <td>-0.8791</td>\n",
       "    </tr>\n",
       "  </tbody>\n",
       "</table>\n",
       "<p>296 rows × 10 columns</p>\n",
       "</div>"
      ],
      "text/plain": [
       "        age     sex     bmi      bp      s1      s2      s3      s4      s5  \\\n",
       "0    1.3417  1.0556  1.6479  0.5542  0.0412  0.3558 -1.1441  0.7123  0.6253   \n",
       "1   -0.4557 -0.9473 -0.3548 -0.2580  0.4454  0.8618 -0.9060  0.7123  0.2951   \n",
       "2    0.4821 -0.9473 -1.2630 -1.2179 -0.0166 -0.2540  1.6340 -0.8367 -1.2714   \n",
       "3    1.6542 -0.9473  0.3904  1.3664  1.3117  0.8942  0.2053 -0.0622  1.2103   \n",
       "4   -0.8464 -0.9473 -1.4260 -0.8487 -0.1032  0.3039 -0.9060  0.7123  0.1484   \n",
       "..      ...     ...     ...     ...     ...     ...     ...     ...     ...   \n",
       "291 -0.6901 -0.9473 -0.8206 -1.2917  0.4454  0.9072 -0.2710 -0.0622 -0.6381   \n",
       "292  1.0291  1.0556 -0.1918 -0.7010 -0.1321  0.0315 -0.8266  0.7123  0.6253   \n",
       "293  0.4821  1.0556 -0.2850  1.5141 -0.2187  0.1547 -0.8266  0.7123  0.1142   \n",
       "294  0.6384  1.0556  0.3671 -0.7010 -0.1321  0.9591 -1.3822  1.4869 -2.0054   \n",
       "295 -1.7841  1.0556 -0.8904 -0.7010 -1.6914 -1.4346 -0.1122 -0.8367 -1.2011   \n",
       "\n",
       "         s6  \n",
       "0    0.9370  \n",
       "1   -0.1873  \n",
       "2   -1.5710  \n",
       "3   -1.2251  \n",
       "4   -0.2738  \n",
       "..      ...  \n",
       "291 -1.4845  \n",
       "292  0.5911  \n",
       "293  0.0722  \n",
       "294 -1.2251  \n",
       "295 -0.8791  \n",
       "\n",
       "[296 rows x 10 columns]"
      ]
     },
     "execution_count": 56,
     "metadata": {},
     "output_type": "execute_result"
    }
   ],
   "source": [
    "X_train_std = pd.DataFrame(scaler.transform(X_train), columns=X_train.columns)\n",
    "X_train_std"
   ]
  },
  {
   "cell_type": "code",
   "execution_count": 57,
   "id": "44fce1a3",
   "metadata": {},
   "outputs": [
    {
     "data": {
      "text/html": [
       "<div>\n",
       "<style scoped>\n",
       "    .dataframe tbody tr th:only-of-type {\n",
       "        vertical-align: middle;\n",
       "    }\n",
       "\n",
       "    .dataframe tbody tr th {\n",
       "        vertical-align: top;\n",
       "    }\n",
       "\n",
       "    .dataframe thead th {\n",
       "        text-align: right;\n",
       "    }\n",
       "</style>\n",
       "<table border=\"1\" class=\"dataframe\">\n",
       "  <thead>\n",
       "    <tr style=\"text-align: right;\">\n",
       "      <th></th>\n",
       "      <th>age</th>\n",
       "      <th>sex</th>\n",
       "      <th>bmi</th>\n",
       "      <th>bp</th>\n",
       "      <th>s1</th>\n",
       "      <th>s2</th>\n",
       "      <th>s3</th>\n",
       "      <th>s4</th>\n",
       "      <th>s5</th>\n",
       "      <th>s6</th>\n",
       "    </tr>\n",
       "  </thead>\n",
       "  <tbody>\n",
       "    <tr>\n",
       "      <th>count</th>\n",
       "      <td>296.0000</td>\n",
       "      <td>296.0000</td>\n",
       "      <td>296.0000</td>\n",
       "      <td>296.0000</td>\n",
       "      <td>296.0000</td>\n",
       "      <td>296.0000</td>\n",
       "      <td>296.0000</td>\n",
       "      <td>296.0000</td>\n",
       "      <td>296.0000</td>\n",
       "      <td>296.0000</td>\n",
       "    </tr>\n",
       "    <tr>\n",
       "      <th>mean</th>\n",
       "      <td>0.0000</td>\n",
       "      <td>-0.0000</td>\n",
       "      <td>-0.0000</td>\n",
       "      <td>-0.0000</td>\n",
       "      <td>-0.0000</td>\n",
       "      <td>0.0000</td>\n",
       "      <td>-0.0000</td>\n",
       "      <td>-0.0000</td>\n",
       "      <td>0.0000</td>\n",
       "      <td>0.0000</td>\n",
       "    </tr>\n",
       "    <tr>\n",
       "      <th>std</th>\n",
       "      <td>1.0017</td>\n",
       "      <td>1.0017</td>\n",
       "      <td>1.0017</td>\n",
       "      <td>1.0017</td>\n",
       "      <td>1.0017</td>\n",
       "      <td>1.0017</td>\n",
       "      <td>1.0017</td>\n",
       "      <td>1.0017</td>\n",
       "      <td>1.0017</td>\n",
       "      <td>1.0017</td>\n",
       "    </tr>\n",
       "    <tr>\n",
       "      <th>min</th>\n",
       "      <td>-2.2530</td>\n",
       "      <td>-0.9473</td>\n",
       "      <td>-1.9616</td>\n",
       "      <td>-2.1532</td>\n",
       "      <td>-2.6443</td>\n",
       "      <td>-2.3882</td>\n",
       "      <td>-2.0966</td>\n",
       "      <td>-1.6113</td>\n",
       "      <td>-2.6229</td>\n",
       "      <td>-2.8682</td>\n",
       "    </tr>\n",
       "    <tr>\n",
       "      <th>25%</th>\n",
       "      <td>-0.7683</td>\n",
       "      <td>-0.9473</td>\n",
       "      <td>-0.7274</td>\n",
       "      <td>-0.7749</td>\n",
       "      <td>-0.7096</td>\n",
       "      <td>-0.6189</td>\n",
       "      <td>-0.7472</td>\n",
       "      <td>-0.8367</td>\n",
       "      <td>-0.7233</td>\n",
       "      <td>-0.7062</td>\n",
       "    </tr>\n",
       "    <tr>\n",
       "      <th>50%</th>\n",
       "      <td>0.1304</td>\n",
       "      <td>-0.9473</td>\n",
       "      <td>-0.1452</td>\n",
       "      <td>-0.1103</td>\n",
       "      <td>-0.1032</td>\n",
       "      <td>-0.0496</td>\n",
       "      <td>-0.1122</td>\n",
       "      <td>-0.0622</td>\n",
       "      <td>-0.0106</td>\n",
       "      <td>-0.0143</td>\n",
       "    </tr>\n",
       "    <tr>\n",
       "      <th>75%</th>\n",
       "      <td>0.7360</td>\n",
       "      <td>1.0556</td>\n",
       "      <td>0.6465</td>\n",
       "      <td>0.7080</td>\n",
       "      <td>0.6476</td>\n",
       "      <td>0.5861</td>\n",
       "      <td>0.6022</td>\n",
       "      <td>0.7123</td>\n",
       "      <td>0.6773</td>\n",
       "      <td>0.6775</td>\n",
       "    </tr>\n",
       "    <tr>\n",
       "      <th>max</th>\n",
       "      <td>2.4357</td>\n",
       "      <td>1.0556</td>\n",
       "      <td>3.6738</td>\n",
       "      <td>2.8432</td>\n",
       "      <td>3.2464</td>\n",
       "      <td>4.1247</td>\n",
       "      <td>3.9359</td>\n",
       "      <td>3.8802</td>\n",
       "      <td>2.7833</td>\n",
       "      <td>2.8396</td>\n",
       "    </tr>\n",
       "  </tbody>\n",
       "</table>\n",
       "</div>"
      ],
      "text/plain": [
       "           age      sex      bmi       bp       s1       s2       s3       s4  \\\n",
       "count 296.0000 296.0000 296.0000 296.0000 296.0000 296.0000 296.0000 296.0000   \n",
       "mean    0.0000  -0.0000  -0.0000  -0.0000  -0.0000   0.0000  -0.0000  -0.0000   \n",
       "std     1.0017   1.0017   1.0017   1.0017   1.0017   1.0017   1.0017   1.0017   \n",
       "min    -2.2530  -0.9473  -1.9616  -2.1532  -2.6443  -2.3882  -2.0966  -1.6113   \n",
       "25%    -0.7683  -0.9473  -0.7274  -0.7749  -0.7096  -0.6189  -0.7472  -0.8367   \n",
       "50%     0.1304  -0.9473  -0.1452  -0.1103  -0.1032  -0.0496  -0.1122  -0.0622   \n",
       "75%     0.7360   1.0556   0.6465   0.7080   0.6476   0.5861   0.6022   0.7123   \n",
       "max     2.4357   1.0556   3.6738   2.8432   3.2464   4.1247   3.9359   3.8802   \n",
       "\n",
       "            s5       s6  \n",
       "count 296.0000 296.0000  \n",
       "mean    0.0000   0.0000  \n",
       "std     1.0017   1.0017  \n",
       "min    -2.6229  -2.8682  \n",
       "25%    -0.7233  -0.7062  \n",
       "50%    -0.0106  -0.0143  \n",
       "75%     0.6773   0.6775  \n",
       "max     2.7833   2.8396  "
      ]
     },
     "execution_count": 57,
     "metadata": {},
     "output_type": "execute_result"
    }
   ],
   "source": [
    "X_train_std.describe()"
   ]
  },
  {
   "cell_type": "markdown",
   "id": "4047fe35",
   "metadata": {},
   "source": [
    "Стандартицация не сильно изменила данные "
   ]
  },
  {
   "cell_type": "code",
   "execution_count": null,
   "id": "40e424ca",
   "metadata": {},
   "outputs": [],
   "source": []
  }
 ],
 "metadata": {
  "kernelspec": {
   "display_name": "Python 3 (ipykernel)",
   "language": "python",
   "name": "python3"
  },
  "language_info": {
   "codemirror_mode": {
    "name": "ipython",
    "version": 3
   },
   "file_extension": ".py",
   "mimetype": "text/x-python",
   "name": "python",
   "nbconvert_exporter": "python",
   "pygments_lexer": "ipython3",
   "version": "3.10.10"
  }
 },
 "nbformat": 4,
 "nbformat_minor": 5
}
